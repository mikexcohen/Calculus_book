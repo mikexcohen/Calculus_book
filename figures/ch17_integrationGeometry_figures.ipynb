{
  "nbformat": 4,
  "nbformat_minor": 0,
  "metadata": {
    "colab": {
      "private_outputs": true,
      "provenance": [],
      "authorship_tag": "ABX9TyMqYoodY5X710J+liywTk9+"
    },
    "kernelspec": {
      "name": "python3",
      "display_name": "Python 3"
    },
    "language_info": {
      "name": "python"
    }
  },
  "cells": [
    {
      "cell_type": "markdown",
      "metadata": {
        "id": "IMCG77qiecTi"
      },
      "source": [
        "<a href=\"https://colab.research.google.com/github/mikexcohen/Calculus_book/blob/main/figures/ch17_integrationGeometry_figures.ipynb\" target=\"_parent\"><img src=\"https://colab.research.google.com/assets/colab-badge.svg\" alt=\"Open In Colab\"/></a>"
      ]
    },
    {
      "cell_type": "markdown",
      "source": [
        "# **Calculus unraveled: Intuition, Proofs, and Python**\n",
        "### Mike X Cohen (sincxpress.com)\n",
        "#### https://github.com/mikexcohen/calculus_book\n",
        "#### Code for Chapter 17 (Integration applications in geometry)\n",
        "\n",
        "---\n",
        "\n",
        "# About this code file:\n",
        "\n",
        "### This notebook will reproduce the figures in this chapter, and illustrate the mathematical concepts explained in the book. The point of providing the code is not just for you to recreate the figures, but for you to modify, adapt, explore, and experiment with the code.\n",
        "\n",
        "## **Using the code without the book may lead to confusion or errors.**\n",
        "\n",
        "#### This code was written in google-colab. The notebook may require some modifications if you use a different IDE."
      ],
      "metadata": {
        "id": "jb67RuPgecTj"
      }
    },
    {
      "cell_type": "code",
      "source": [],
      "metadata": {
        "id": "q5b4unKcevbz"
      },
      "execution_count": null,
      "outputs": []
    },
    {
      "cell_type": "code",
      "execution_count": null,
      "metadata": {
        "id": "oYWhHwGQ9OdD"
      },
      "outputs": [],
      "source": [
        "# import libraries and define global settings\n",
        "import numpy as np\n",
        "import sympy as sym\n",
        "import scipy.integrate as spi\n",
        "import matplotlib.pyplot as plt\n",
        "from IPython.display import Math\n",
        "\n",
        "# define global figure properties used for publication\n",
        "import matplotlib_inline.backend_inline\n",
        "matplotlib_inline.backend_inline.set_matplotlib_formats('svg') # display figures in vector format\n",
        "plt.rcParams.update({'font.size':14,             # font size\n",
        "                     'savefig.dpi':300,          # output resolution\n",
        "                     'axes.titlelocation':'left',# title location\n",
        "                     'axes.spines.right':False,  # remove axis bounding box\n",
        "                     'axes.spines.top':False,    # remove axis bounding box\n",
        "                     'lines.linewidth':2         # increase default line thickness\n",
        "                     })"
      ]
    },
    {
      "cell_type": "code",
      "source": [],
      "metadata": {
        "id": "8lwxjMICKChw"
      },
      "execution_count": null,
      "outputs": []
    },
    {
      "cell_type": "markdown",
      "source": [
        "# Figure 17.1: Area between two functions"
      ],
      "metadata": {
        "id": "h1i9wYhlKCe5"
      }
    },
    {
      "cell_type": "code",
      "source": [
        "# define the functions\n",
        "x = np.linspace(-2.7,2,402)\n",
        "gx = x - 1\n",
        "fx = -x**2 + 2\n",
        "\n",
        "# draw them\n",
        "plt.figure(figsize=(10,4))\n",
        "plt.plot(x,fx,'k',label=r'$f(x) = x-1$')\n",
        "plt.plot(x,gx,'--',color=[.7,.7,.7],label=r'$g(x) = 2-x^2$')\n",
        "\n",
        "# create a patch indicating the area to calculate\n",
        "x4area = (x>=-2) & (x<=1)\n",
        "plt.fill_between(x[x4area],fx[x4area],gx[x4area],color='k',alpha=.2,label='Area')\n",
        "\n",
        "plt.legend()\n",
        "plt.gca().set(xlim=x[[0,-1]],xlabel='x',ylabel=r'$y = f(x)$ or $g(x)$')\n",
        "\n",
        "plt.tight_layout()\n",
        "plt.savefig('intGeom_areaBetweenCurvesConcept.png')\n",
        "plt.show()"
      ],
      "metadata": {
        "id": "c0Jwpq0Xq8tW"
      },
      "execution_count": null,
      "outputs": []
    },
    {
      "cell_type": "code",
      "source": [],
      "metadata": {
        "id": "AxgmqMgTq8oz"
      },
      "execution_count": null,
      "outputs": []
    },
    {
      "cell_type": "markdown",
      "source": [
        "# Figure 17.2: Area as the function difference"
      ],
      "metadata": {
        "id": "aFfD0fh9q8kc"
      }
    },
    {
      "cell_type": "code",
      "source": [
        "# draw it again\n",
        "_,axs = plt.subplots(1,2,figsize=(12,4))\n",
        "axs[0].plot(x,fx,'k',label=r'$f(x) = x-1$')\n",
        "axs[0].plot(x,gx,'--',color=[.7,.7,.7],label=r'$g(x) = 2-x^2$')\n",
        "axs[0].fill_between(x[x4area],fx[x4area],gx[x4area],color='k',alpha=.2,label='Area')\n",
        "\n",
        "\n",
        "axs[1].plot(x,fx-gx,'k',label=r'$f(x)-g(x) = (x-1) - (2-x^2)$')\n",
        "axs[1].axhline(0,linestyle=':',color=[.8,.8,.8],label=r'$y=0$')\n",
        "axs[1].fill_between(x[x4area],fx[x4area]-gx[x4area],color='k',alpha=.2,label='Area')\n",
        "\n",
        "\n",
        "axs[0].legend()\n",
        "axs[1].legend()\n",
        "axs[0].set(xlim=x[[0,-1]],xlabel='x',ylabel=r'$y = f(x)$ or $g(x)$',title=r'$\\bf{A}$)  The two functions')\n",
        "axs[1].set(xlim=x[[0,-1]],xlabel='x',ylabel=r'$y = f(x)$ or $g(x)$',title=r'$\\bf{B}$)  Function difference')\n",
        "\n",
        "plt.tight_layout()\n",
        "plt.savefig('intGeom_areaBetweenCurvesConceptDiff.png')\n",
        "plt.show()"
      ],
      "metadata": {
        "id": "DuBJbALvvbQI"
      },
      "execution_count": null,
      "outputs": []
    },
    {
      "cell_type": "code",
      "source": [],
      "metadata": {
        "id": "t61Ot8c1q8b7"
      },
      "execution_count": null,
      "outputs": []
    },
    {
      "cell_type": "markdown",
      "source": [
        "# Figures 17.3&5: Area between function pairs"
      ],
      "metadata": {
        "id": "XNTuJRnXdv3o"
      }
    },
    {
      "cell_type": "code",
      "source": [
        "# for example 1 (note: don't run the next cell for example 1)\n",
        "x = sym.symbols('x')\n",
        "\n",
        "# functions\n",
        "fx = sym.exp(-x**2)\n",
        "gx = x**2\n",
        "\n",
        "# bounds\n",
        "a = 0\n",
        "b = 1\n",
        "\n",
        "# used for plotting\n",
        "xx = np.linspace(-.2,1.2,499)"
      ],
      "metadata": {
        "id": "h8aUCR0c_39e"
      },
      "execution_count": null,
      "outputs": []
    },
    {
      "cell_type": "code",
      "source": [
        "# for example 2 (run this code only for example 2)\n",
        "fx = sym.sin(x*10) + sym.log(x) - (x-1)**2 + 3\n",
        "gx = x**2 + sym.cos(x*8)\n",
        "a,b = .5,1.4\n",
        "\n",
        "# for plotting\n",
        "xx = np.linspace(.1,2,499)"
      ],
      "metadata": {
        "id": "2gzxaGV-GZKd"
      },
      "execution_count": null,
      "outputs": []
    },
    {
      "cell_type": "code",
      "source": [
        "# display the integrals\n",
        "display(Math('%s = %s' %(sym.latex(sym.Integral(fx)),sym.latex(sym.integrate(fx)))))\n",
        "print('')\n",
        "display(Math('%s = %s' %(sym.latex(sym.Integral(gx)),sym.latex(sym.integrate(gx)))))"
      ],
      "metadata": {
        "id": "qpv-HPdgCPBT"
      },
      "execution_count": null,
      "outputs": []
    },
    {
      "cell_type": "code",
      "source": [
        "# calculate the definite integral\n",
        "defint_f = sym.integrate(fx,(x,a,b))\n",
        "defint_g = sym.integrate(gx,(x,a,b))\n",
        "defint_h = sym.integrate(fx-gx,(x,a,b))\n",
        "\n",
        "# print the results\n",
        "display(Math('%s = %s \\\\approx %.4f' %(sym.latex(sym.Integral(fx,(x,a,b))),sym.latex(defint_f),defint_f.evalf())))\n",
        "print('')\n",
        "display(Math('%s = %s \\\\approx %.4f' %(sym.latex(sym.Integral(gx,(x,a,b))),sym.latex(defint_g),defint_g.evalf())))\n",
        "print('')\n",
        "print('')\n",
        "display(Math('%s = %s \\\\approx %.4f' %(sym.latex(sym.Integral(fx-gx,(x,a,b))),sym.latex(defint_h),defint_h.evalf())))"
      ],
      "metadata": {
        "id": "7ZVGrjRzCvB4"
      },
      "execution_count": null,
      "outputs": []
    },
    {
      "cell_type": "code",
      "source": [
        "# numerical evaluation\n",
        "y_fx = np.array([fx.subs(x,xi) for xi in xx],dtype=float)\n",
        "y_gx = np.array([gx.subs(x,xi) for xi in xx],dtype=float)\n",
        "\n",
        "# boolean vector of x values within the bounds\n",
        "xInBnds = (xx>=a) & (xx<=b)\n",
        "\n",
        "# draw the figure\n",
        "_,axs = plt.subplots(1,2,figsize=(12,3.5))\n",
        "axs[0].plot(xx,y_fx,'k',label=r'$f(x) = %s$' %sym.latex(fx))\n",
        "axs[0].plot(xx,y_gx,'--',color=[.5,.5,.5],label=r'$g(x) = %s$' %sym.latex(gx))\n",
        "axs[0].fill_between(xx[xInBnds],y_fx[xInBnds],y_gx[xInBnds],color='k',alpha=.2,label='Area')\n",
        "\n",
        "axs[0].legend(loc=(.45,.6))\n",
        "axs[0].set(xlim=xx[[0,-1]],xlabel='x',ylabel=r'$y$',title=r'$\\bf{A}$)  Both functions')\n",
        "\n",
        "axs[1].plot(xx,y_fx-y_gx,'k',label=r'$f(x) - g(x)$')\n",
        "axs[1].fill_between(xx[xInBnds],y_fx[xInBnds]-y_gx[xInBnds],color='k',alpha=.2,label='Area')\n",
        "axs[1].axhline(0,linestyle=':',color=[.8,.8,.8],zorder=-4)\n",
        "\n",
        "axs[1].legend()\n",
        "axs[1].set(xlim=xx[[0,-1]],xlabel='x',ylabel=r'$y_f-y_g$',title=r'$\\bf{B}$)  Function difference')\n",
        "\n",
        "\n",
        "# and save\n",
        "plt.tight_layout()\n",
        "plt.savefig('intGeom_betweenCurvesEx1.png')\n",
        "plt.show()"
      ],
      "metadata": {
        "id": "nSvJJhMV_36r"
      },
      "execution_count": null,
      "outputs": []
    },
    {
      "cell_type": "code",
      "source": [],
      "metadata": {
        "id": "vW-UfY4PkffT"
      },
      "execution_count": null,
      "outputs": []
    },
    {
      "cell_type": "markdown",
      "source": [
        "# Figure 17.4: Gaussian and erf"
      ],
      "metadata": {
        "id": "wfj_JrJcasLa"
      }
    },
    {
      "cell_type": "code",
      "source": [
        "plt.figure(figsize=(4,4))\n",
        "xx = np.linspace(-3,3,101)\n",
        "plt.plot(xx,[sym.exp(-x**2).subs(x,xi) for xi in xx],'k',label='Gaussian')\n",
        "plt.plot(xx,[sym.erf(xi) for xi in xx],'--',color=[.7,.7,.7],label='erf')\n",
        "plt.gca().set(xlim=xx[[0,-1]])\n",
        "plt.legend()\n",
        "plt.tight_layout()\n",
        "plt.savefig('intGeom_gaussian.png')\n",
        "plt.show()"
      ],
      "metadata": {
        "id": "ELlS1-SyatOM"
      },
      "execution_count": null,
      "outputs": []
    },
    {
      "cell_type": "code",
      "source": [],
      "metadata": {
        "id": "myad4XYrEKq9"
      },
      "execution_count": null,
      "outputs": []
    },
    {
      "cell_type": "markdown",
      "source": [
        "# Figure 17.6: Area between functions intersections"
      ],
      "metadata": {
        "id": "QRXVmnYzl9LJ"
      }
    },
    {
      "cell_type": "code",
      "source": [
        "x = sym.symbols('x')\n",
        "\n",
        "# the two functions\n",
        "f1 = sym.sqrt(x)\n",
        "f2 = x + 0 # prevent reassignment\n",
        "\n",
        "# find the x-values where the functions intersect\n",
        "intersection_points = np.array(sym.solve(f1-f2),dtype=float)\n",
        "\n",
        "display(Math('f_1(x) = %s' %sym.latex(f1)))\n",
        "display(Math('f_2(x) = %s' %sym.latex(f2)))\n",
        "print('')\n",
        "display(Math('f_1(x) = f_2(x) \\\\text{ at } x=%s' %intersection_points))"
      ],
      "metadata": {
        "id": "VHNzPF02kSyg"
      },
      "execution_count": null,
      "outputs": []
    },
    {
      "cell_type": "code",
      "source": [
        "# lambdify the functions\n",
        "f1_l = sym.lambdify(x,f1)\n",
        "f2_l = sym.lambdify(x,f2)\n",
        "\n",
        "# evaluate the functions\n",
        "xx = np.linspace(0,1.4,123)\n",
        "\n",
        "x4area = np.linspace(intersection_points[0],intersection_points[1],77)\n",
        "\n",
        "# and draw\n",
        "plt.figure(figsize=(8,3))\n",
        "plt.plot(xx,f1_l(xx),'k',label=r'$f_1(x) = %s$' %sym.latex(f1))\n",
        "plt.plot(xx,f2_l(xx),'--',color=[.7,.7,.7],label=r'$f_2(x) = %s$' %sym.latex(f2))\n",
        "\n",
        "# plot the intersection points\n",
        "for i in intersection_points:\n",
        "  plt.plot(i,f1_l(i),'ko',markersize=7,markerfacecolor='w')\n",
        "\n",
        "plt.fill_between(x4area,f1_l(x4area),f2_l(x4area),color='k',alpha=.2,label='Area')\n",
        "\n",
        "plt.legend()\n",
        "plt.savefig('intGeom_areaBetweenIntsEx1.png')\n",
        "plt.show()"
      ],
      "metadata": {
        "id": "KRwVstRWEKn3"
      },
      "execution_count": null,
      "outputs": []
    },
    {
      "cell_type": "code",
      "source": [
        "# find the area\n",
        "area = sym.integrate(f1-f2,(x,intersection_points[0],intersection_points[1]))\n",
        "area"
      ],
      "metadata": {
        "id": "YaT6Czegju85"
      },
      "execution_count": null,
      "outputs": []
    },
    {
      "cell_type": "code",
      "source": [],
      "metadata": {
        "id": "1ta4WLIVju0v"
      },
      "execution_count": null,
      "outputs": []
    },
    {
      "cell_type": "markdown",
      "source": [
        "# Figure 17.7: Margin example of a wacky function"
      ],
      "metadata": {
        "id": "iZ9xjpQanTDG"
      }
    },
    {
      "cell_type": "code",
      "source": [
        "x = np.linspace(-10,10,401)\n",
        "plt.figure(figsize=(4,4))\n",
        "plt.plot(x,np.sqrt(abs(x-np.exp(np.cos(x)))),'k')\n",
        "plt.gca().set(xlim=x[[0,-1]],xlabel=r'Independent variable ($x$)',ylabel=r'Dependent variable ($y$)',yticks=[],xticks=[])\n",
        "plt.text(1.4,3,r'$f(x) = \\sqrt{\\left|x-e^{\\cos(x)}\\right|}$',ha='center',fontsize=17)\n",
        "plt.tight_layout()\n",
        "plt.savefig('intGeom_nopcEx.png')\n",
        "plt.show()"
      ],
      "metadata": {
        "id": "IdwNTm2lnTAU"
      },
      "execution_count": null,
      "outputs": []
    },
    {
      "cell_type": "code",
      "source": [],
      "metadata": {
        "id": "0XtiP44Uju6H"
      },
      "execution_count": null,
      "outputs": []
    },
    {
      "cell_type": "markdown",
      "source": [
        "# Figure 17.8: Parametric curves"
      ],
      "metadata": {
        "id": "9suyn_xKju3c"
      }
    },
    {
      "cell_type": "code",
      "source": [
        "t = np.linspace(0,np.pi,321)\n",
        "\n",
        "x1 = np.cos(t)\n",
        "x2 = np.cos(2*t)\n",
        "y  = np.sin(t**2)\n",
        "\n",
        "_,axs = plt.subplots(1,3,figsize=(14,3.5))\n",
        "axs[0].plot(x1,y,'k')\n",
        "axs[0].text(0,-.4,'$x=\\cos(t)$\\n' + '$y=\\sin(t^2)$',fontsize=16)\n",
        "axs[0].set(xlabel='x',ylabel='y',title=r'$\\bf{A}$)  Parametric curve 1')\n",
        "\n",
        "axs[1].plot(x2,y,'k')\n",
        "axs[1].text(-.7,-.2,'$x=\\cos(2t)$\\n' + '$y=\\sin(t^2)$',fontsize=16)\n",
        "axs[1].set(xlabel='x',ylabel='y',title=r'$\\bf{B}$)  Parametric curve 2')\n",
        "\n",
        "axs[2].plot(t,x2,'k',label=r'$x=\\cos(2t)$')\n",
        "axs[2].plot(t,y,'--',color=[.7,.7,.7],label=r'$y=\\sin(t^2)$')\n",
        "axs[2].legend(loc=(0,0),fontsize=12)\n",
        "axs[2].set(xlim=t[[0,-1]],xlabel=r'$t$',ylabel=r'$x(t)$ or $y(t)$',title=r'$\\bf{C}$)  Not parametric curves')\n",
        "\n",
        "\n",
        "plt.tight_layout()\n",
        "plt.savefig('intGeom_parametricCurves1.png')\n",
        "plt.show()"
      ],
      "metadata": {
        "id": "dz__mGhsSGn6"
      },
      "execution_count": null,
      "outputs": []
    },
    {
      "cell_type": "code",
      "source": [],
      "metadata": {
        "id": "2w04vs-3HrJB"
      },
      "execution_count": null,
      "outputs": []
    },
    {
      "cell_type": "markdown",
      "source": [
        "# Attempts in sympy"
      ],
      "metadata": {
        "id": "_bJOo5XIp89W"
      }
    },
    {
      "cell_type": "code",
      "source": [
        "t = sym.symbols('t')\n",
        "C = sym.Curve((sym.cos(2*t), sym.sin(t**2)), (t, 0, 4*sym.pi/5))\n",
        "# C.length # sympy can't calculate it"
      ],
      "metadata": {
        "id": "yOcwgIxtqdww"
      },
      "execution_count": null,
      "outputs": []
    },
    {
      "cell_type": "code",
      "source": [
        "# functions and their derivatives\n",
        "xt  = sym.cos(2*t)\n",
        "dxt = sym.diff(xt)\n",
        "\n",
        "yt  = sym.sin(t**2)\n",
        "dyt = sym.diff(yt)\n",
        "\n",
        "# the integrand\n",
        "integrand = sym.sqrt( dxt**2 + dyt**2 )\n",
        "\n",
        "# print the intermediate reults\n",
        "display(Math('dx = %s' %sym.latex(dxt)))\n",
        "display(Math('dy = %s' %sym.latex(dyt)))\n",
        "display(Math('%s' %sym.latex(sym.Integral(sym.sqrt( 1 + (dxt/dyt)**2 )*dxt,(t,0,4*sym.pi/5)))))\n",
        "\n",
        "# antiderivative (sympy crashed Python after running out of RAM. lol)\n",
        "# antideriv = sym.integrate(integrand)"
      ],
      "metadata": {
        "id": "SCGvPXnMp86Y"
      },
      "execution_count": null,
      "outputs": []
    },
    {
      "cell_type": "code",
      "source": [],
      "metadata": {
        "id": "TvHs2MOvp831"
      },
      "execution_count": null,
      "outputs": []
    },
    {
      "cell_type": "markdown",
      "source": [
        "# Figure 17.12: Curve length approximation in numpy"
      ],
      "metadata": {
        "id": "QjpaTqD3p8yU"
      }
    },
    {
      "cell_type": "code",
      "source": [
        "# curve length in numpy\n",
        "t = np.linspace(0,4*np.pi/5,123)\n",
        "x = np.cos(2*t)\n",
        "y = np.sin(t**2)\n",
        "\n",
        "colors = np.linspace([0,0,0],[.8,.8,.8],len(t))\n",
        "\n",
        "segLengths = np.zeros(len(t))\n",
        "\n",
        "for i in range(1,len(t)):\n",
        "\n",
        "  # calculate deltas\n",
        "  dx = x[i] - x[i-1]\n",
        "  dy = y[i] - y[i-1]\n",
        "\n",
        "  # this little curve segment\n",
        "  segLengths[i] = np.sqrt( dx**2 + dy**2 )\n",
        "\n",
        "\n",
        "# version without for-loops\n",
        "dx = x[1:] - x[:-1]\n",
        "dy = y[1:] - y[:-1]\n",
        "segLengths = np.append(0,np.sqrt( dx**2 + dy**2 ))\n",
        "\n",
        "\n",
        "\n",
        "# plot\n",
        "_,axs = plt.subplots(1,3,figsize=(12,3.5))\n",
        "axs[0].scatter(x,y,s=20,c=colors)\n",
        "axs[0].set(xlabel='x',ylabel='y',title=r'$\\bf{A}$)  The curve')\n",
        "\n",
        "for ti in np.linspace(len(t)*.2,len(t)*.95,4,dtype=int):\n",
        "  axs[0].annotate(f't={t[ti]:.1f}',[x[ti],y[ti]])\n",
        "  axs[1].axvline(t[ti],linestyle=':',color=colors[ti,:],zorder=-4)\n",
        "  axs[2].axvline(t[ti],linestyle=':',color=colors[ti,:],zorder=-4)\n",
        "\n",
        "axs[1].scatter(t,segLengths,s=20,c=colors)\n",
        "axs[1].set(xlabel='t',ylabel='length (a.u.)',title=r'$\\bf{B}$)  Segment lengths')\n",
        "\n",
        "axs[2].scatter(t,np.cumsum(segLengths),s=20,c=colors)\n",
        "axs[2].set(xlabel='t',ylabel='length (a.u.)',title=r'$\\bf{C}$)  Cumulative lengths')\n",
        "\n",
        "print(f'Total curve length for n = {len(t)}: {np.sum(segLengths)}')\n",
        "\n",
        "plt.tight_layout()\n",
        "# plt.savefig('intGeom_curveLengthnp.png')\n",
        "plt.show()"
      ],
      "metadata": {
        "id": "CEZEk0OTjux7"
      },
      "execution_count": null,
      "outputs": []
    },
    {
      "cell_type": "code",
      "source": [],
      "metadata": {
        "id": "JC2rg20vLjmb"
      },
      "execution_count": null,
      "outputs": []
    },
    {
      "cell_type": "markdown",
      "source": [
        "# Figure 17.13: dx, dy, segment lengths"
      ],
      "metadata": {
        "id": "UHwv1-IdMzWw"
      }
    },
    {
      "cell_type": "code",
      "source": [
        "# extract the step-wise differences\n",
        "dx = np.append(0, x[1:]-x[:-1])\n",
        "dy = np.append(0, y[1:]-y[:-1])\n",
        "\n",
        "# and plot\n",
        "plt.figure(figsize=(4,4))\n",
        "plt.plot(t,segLengths,'--',color=[.6,.6,.6],label='Seg. lengths')\n",
        "plt.plot(t,dx,'k',label='dx')\n",
        "plt.plot(t,dy,color=[.7,.7,.7],label='dy')\n",
        "\n",
        "plt.legend()\n",
        "plt.gca().set(xlim=t[[0,-1]],xlabel='t',ylabel='Various (a.u.)',yticks=[])\n",
        "\n",
        "plt.tight_layout()\n",
        "plt.savefig('intGeom_dxdySeglengths.png')\n",
        "plt.show()"
      ],
      "metadata": {
        "id": "EBaO6GRfLjjg"
      },
      "execution_count": null,
      "outputs": []
    },
    {
      "cell_type": "code",
      "source": [],
      "metadata": {
        "id": "JUvY4vXy_33j"
      },
      "execution_count": null,
      "outputs": []
    },
    {
      "cell_type": "markdown",
      "source": [
        "# scipy.integrate.quad for known derivatives"
      ],
      "metadata": {
        "id": "fVqWgMQEA1T2"
      }
    },
    {
      "cell_type": "code",
      "source": [
        "# functions for the analytic derivatives\n",
        "def dx_dt(t): return -2*np.sin(2*t)\n",
        "def dy_dt(t): return 2*t * np.cos(t**2)\n",
        "\n",
        "# Define the integrand for arc length\n",
        "def integrand(t): return np.sqrt( dx_dt(t)**2 + dy_dt(t)**2 )\n",
        "\n",
        "# Integrate over the interval [a, b] using quad\n",
        "a,b = 0, 4*np.pi/5\n",
        "L,_ = spi.quad(integrand,a,b)\n",
        "\n",
        "print(f'Arc length using spi.quad: {L}')"
      ],
      "metadata": {
        "id": "VsESlA7wyr4F"
      },
      "execution_count": null,
      "outputs": []
    },
    {
      "cell_type": "code",
      "source": [],
      "metadata": {
        "id": "jRzyapMdJ4wT"
      },
      "execution_count": null,
      "outputs": []
    },
    {
      "cell_type": "markdown",
      "source": [
        "# spi.quad with sympy"
      ],
      "metadata": {
        "id": "sjfDTawmW8dY"
      }
    },
    {
      "cell_type": "code",
      "source": [
        "p  = sym.symbols('p')\n",
        "\n",
        "# the functions\n",
        "xp = sym.cos(2*p)\n",
        "yp = sym.sin(p**2)\n",
        "\n",
        "# their derivatives\n",
        "dxp = sym.diff(xp)\n",
        "dyp = sym.diff(yp)\n",
        "\n",
        "# the integrand\n",
        "integrand = sym.lambdify(p, sym.sqrt(dxp**2 + dyp**2) )\n",
        "\n",
        "\n",
        "# and now to integrate\n",
        "a = 0\n",
        "b = 4*np.pi/5\n",
        "L,_ = spi.quad(integrand,a,b)\n",
        "\n",
        "print(f'Arc length using spi.quad: {L}')"
      ],
      "metadata": {
        "id": "3RI7I8Ic5jtP"
      },
      "execution_count": null,
      "outputs": []
    },
    {
      "cell_type": "code",
      "source": [],
      "metadata": {
        "id": "jcdfi9dtJ37q"
      },
      "execution_count": null,
      "outputs": []
    },
    {
      "cell_type": "markdown",
      "source": [
        "# Empirical calculation using Simpson's rule"
      ],
      "metadata": {
        "id": "G530qHcZ5TIA"
      }
    },
    {
      "cell_type": "code",
      "source": [
        "# Parameter values for the interval\n",
        "a = 0\n",
        "b = 4*np.pi/5\n",
        "t = np.linspace(a,b,500)\n",
        "\n",
        "# Calculate derivatives empirically\n",
        "dx_dt = np.gradient( np.cos(2*t) , t)\n",
        "dy_dt = np.gradient( np.sin(t**2), t)\n",
        "\n",
        "# Use Simpson's rule to integrate\n",
        "integrand = np.sqrt(dx_dt**2 + dy_dt**2)\n",
        "L = spi.simpson(integrand,x=t)\n",
        "print(f'Arc length using spi.simpson: {L}')"
      ],
      "metadata": {
        "id": "Es-1kG-w6wGF"
      },
      "execution_count": null,
      "outputs": []
    },
    {
      "cell_type": "code",
      "source": [],
      "metadata": {
        "id": "7CM9YFfBcwlO"
      },
      "execution_count": null,
      "outputs": []
    },
    {
      "cell_type": "markdown",
      "source": [
        "# Figure 17.15: Volume examples"
      ],
      "metadata": {
        "id": "LlCuxyfbcwiZ"
      }
    },
    {
      "cell_type": "code",
      "source": [
        "# define functions\n",
        "x = sym.symbols('x')\n",
        "\n",
        "# example 1\n",
        "fx = abs(sym.sin(x**2))\n",
        "gx = 0\n",
        "\n",
        "# example 2\n",
        "fx = abs(sym.log(x)) + .1\n",
        "gx = 0\n",
        "\n",
        "# example 3\n",
        "fx = sym.sqrt(x)\n",
        "gx = -sym.cos(x)+1\n",
        "\n",
        "\n",
        "# define the functions\n",
        "f = sym.lambdify(x,fx)\n",
        "g = sym.lambdify(x,gx)\n",
        "\n",
        "# bounds\n",
        "a,b = 0,2\n",
        "xx = np.linspace(a,b,100)\n",
        "\n",
        "# meshgrid for x and theta\n",
        "X,Theta = np.meshgrid(xx,np.linspace(0,2*np.pi,100))\n",
        "\n",
        "# get Y and Z coordinates for f(x) and g(x)\n",
        "Y_f = f(X) * np.cos(Theta)\n",
        "Z_f = f(X) * np.sin(Theta)\n",
        "\n",
        "Y_g = g(X) * np.cos(Theta)\n",
        "Z_g = g(X) * np.sin(Theta)\n",
        "\n",
        "\n",
        "# setup the figure with a 3D axis\n",
        "fig = plt.figure(figsize=(12,5))\n",
        "gs  = fig.add_gridspec(1,2,width_ratios=[2,3])\n",
        "ax1 = fig.add_subplot(gs[0])\n",
        "ax2 = fig.add_subplot(gs[1],projection='3d')\n",
        "\n",
        "# plot the 2D shape to revolve\n",
        "ax1.plot(xx,f(xx),'k',label=r'$f(x)=%s$'%sym.latex(fx))\n",
        "ax1.plot(xx,np.ones(len(xx))*g(xx),'--',color=[.7,.7,.7],label=r'$g(x)=%s$'%sym.latex(gx))\n",
        "ax1.fill_between(xx,f(xx),g(xx),color='k',alpha=.2,label='Area to revolve')\n",
        "ax1.set(xlabel='x',ylabel=r'$y = f(x)$ or $g(x)$',xlim=xx[[0,-1]])#,title='2D area to revolve')\n",
        "ax1.legend()\n",
        "\n",
        "# create the surfaces\n",
        "ax2.plot_surface(X, Y_f, Z_f, color='k', alpha=.3)\n",
        "ax2.plot_surface(X, Y_g, Z_g, color='k', alpha=.6)\n",
        "ax2.set(xlabel='X',ylabel='Y',zlabel='Z')#,title='Volume in 3D')\n",
        "\n",
        "plt.tight_layout()\n",
        "plt.show()"
      ],
      "metadata": {
        "id": "6m_BmSP0DQiJ"
      },
      "execution_count": null,
      "outputs": []
    },
    {
      "cell_type": "code",
      "source": [],
      "metadata": {
        "id": "hrcUJYRCcwtW"
      },
      "execution_count": null,
      "outputs": []
    },
    {
      "cell_type": "markdown",
      "source": [
        "# Figure 17.16: Create surfaces in matplotlib"
      ],
      "metadata": {
        "id": "cIZ-_-XGcwqj"
      }
    },
    {
      "cell_type": "code",
      "source": [
        "# define functions\n",
        "x  = sym.symbols('x')\n",
        "fx = sym.sqrt(x)\n",
        "f  = sym.lambdify(x,fx)\n",
        "xx = np.linspace(0,2,100)\n",
        "\n",
        "# meshgrid for x and theta\n",
        "X,Theta = np.meshgrid(xx,np.linspace(0,2*np.pi,100))\n",
        "\n",
        "# get Y and Z coordinates for f(x)\n",
        "Y_f = f(X) * np.cos(Theta)\n",
        "Z_f = f(X) * np.sin(Theta)\n",
        "\n",
        "# setup the figure with a 3D axis\n",
        "fig = plt.figure(figsize=(6,5))\n",
        "ax  = fig.add_subplot(111,projection='3d')\n",
        "\n",
        "# create the surfaces\n",
        "ax.plot_surface(X, Y_f, Z_f, color='k', alpha=.6)\n",
        "ax.set(xlabel='X',ylabel='Y',zlabel='Z',title=r'Surface by revolving $f(x)=%s$'%sym.latex(fx))\n",
        "\n",
        "plt.tight_layout()\n",
        "plt.savefig('intGeom_surfaceHow2.png')\n",
        "plt.show()"
      ],
      "metadata": {
        "id": "u-Ic6po_cwnt"
      },
      "execution_count": null,
      "outputs": []
    },
    {
      "cell_type": "code",
      "source": [],
      "metadata": {
        "id": "q5Pm5lDuOZlC"
      },
      "execution_count": null,
      "outputs": []
    },
    {
      "cell_type": "markdown",
      "source": [
        "# Example plotly code"
      ],
      "metadata": {
        "id": "aOGMJRVZOZh0"
      }
    },
    {
      "cell_type": "code",
      "source": [
        "# using plotly\n",
        "import plotly.graph_objects as go\n",
        "\n",
        "fig = go.Figure(data=[go.Surface(x=X, y=Y_f, z=Z_f, colorscale='Blues', opacity=.8)])\n",
        "fig.add_trace( go.Surface(x=X, y=Y_g, z=Z_g, colorscale='Reds', opacity=.5) )\n",
        "fig.show()"
      ],
      "metadata": {
        "id": "2fpmZsQADQfb"
      },
      "execution_count": null,
      "outputs": []
    },
    {
      "cell_type": "code",
      "source": [],
      "metadata": {
        "id": "mj9F6e6Scwaj"
      },
      "execution_count": null,
      "outputs": []
    },
    {
      "cell_type": "markdown",
      "source": [
        "# Figures 17.19: The disk method for volume"
      ],
      "metadata": {
        "id": "BHau_tp1Su8i"
      }
    },
    {
      "cell_type": "code",
      "source": [
        "### calculate the volume\n",
        "\n",
        "# define functions\n",
        "x  = sym.symbols('x')\n",
        "fx = sym.Abs(sym.cos(x)) #sym.sqrt(x)#\n",
        "f  = sym.lambdify(x,fx)\n",
        "\n",
        "# bounds\n",
        "a,b = 0,sym.pi#2#\n",
        "xx = np.linspace(a,float(b),100)\n",
        "\n",
        "# volume analytically calculated\n",
        "volume = sym.pi * sym.integrate(fx**2,(x,a,b))\n",
        "\n",
        "\n",
        "### visualization\n",
        "\n",
        "# get Y and Z coordinates for f(x) and g(x)\n",
        "X,Theta = np.meshgrid(xx,np.linspace(0,2*np.pi,100))\n",
        "Y_f = f(X) * np.cos(Theta)\n",
        "Z_f = f(X) * np.sin(Theta)\n",
        "\n",
        "# setup the figure with a 3D axis\n",
        "fig = plt.figure(figsize=(12,5))\n",
        "gs  = fig.add_gridspec(1,2,width_ratios=[2,3])\n",
        "\n",
        "# plot the 2D shape to revolve\n",
        "ax1 = fig.add_subplot(gs[0])\n",
        "ax1.plot(xx,f(xx),'k',label=r'$f(x)=%s$'%sym.latex(fx))\n",
        "ax1.fill_between(xx,f(xx),color='k',alpha=.2,label='Area to revolve')\n",
        "ax1.set(xlabel='x',ylabel=r'$y = f(x)$ or $g(x)$',xlim=xx[[0,-1]],title='2D area to revolve')\n",
        "ax1.legend()\n",
        "\n",
        "# create the surfaces\n",
        "ax2 = fig.add_subplot(gs[1],projection='3d')\n",
        "ax2.plot_surface(X, Y_f, Z_f, color='k', alpha=.3)\n",
        "ax2.set(xlabel='X',ylabel='Y',zlabel='Z',title=r'Volume = $%s$ (au)$^3$' %sym.latex(volume))\n",
        "\n",
        "plt.tight_layout()\n",
        "plt.savefig('intGeom_volumeDiskEx2.png')\n",
        "plt.show()"
      ],
      "metadata": {
        "id": "LQMG2DYxSxw1"
      },
      "execution_count": null,
      "outputs": []
    },
    {
      "cell_type": "code",
      "source": [],
      "metadata": {
        "id": "v5X5q4rMSu5d"
      },
      "execution_count": null,
      "outputs": []
    },
    {
      "cell_type": "markdown",
      "source": [
        "# Figure 17.21-22: The washer method"
      ],
      "metadata": {
        "id": "CuE7okFOSu2c"
      }
    },
    {
      "cell_type": "code",
      "source": [
        "### calculate the volume\n",
        "\n",
        "# define functions\n",
        "x  = sym.symbols('x')\n",
        "\n",
        "# for example 1\n",
        "fx = sym.sqrt(x)\n",
        "gx = x**2\n",
        "\n",
        "# for example 2\n",
        "# fx = sym.exp(-x)\n",
        "# gx = sym.sin(x)/2\n",
        "\n",
        "# lambdify\n",
        "f  = sym.lambdify(x,fx)\n",
        "g  = sym.lambdify(x,gx)\n",
        "\n",
        "# bounds\n",
        "a,b = 0,1#sym.pi/4#\n",
        "xx = np.linspace(a,float(b),100)\n",
        "\n",
        "# volume analytically calculated\n",
        "volume = sym.pi * sym.integrate(fx**2-gx**2,(x,a,b))\n",
        "\n",
        "\n",
        "### visualization\n",
        "\n",
        "# get Y and Z coordinates for f(x) and g(x)\n",
        "X,Theta = np.meshgrid(xx,np.linspace(0,2*np.pi,100))\n",
        "Y_f = f(X) * np.cos(Theta)\n",
        "Z_f = f(X) * np.sin(Theta)\n",
        "Y_g = g(X) * np.cos(Theta)\n",
        "Z_g = g(X) * np.sin(Theta)\n",
        "\n",
        "# setup the figure with a 3D axis\n",
        "fig = plt.figure(figsize=(12,5))\n",
        "gs  = fig.add_gridspec(1,2,width_ratios=[2,3])\n",
        "ax1 = fig.add_subplot(gs[0])\n",
        "ax2 = fig.add_subplot(gs[1],projection='3d')\n",
        "\n",
        "# plot the 2D shape to revolve\n",
        "ax1.plot(xx,f(xx),'k',label=r'$f(x)=%s$'%sym.latex(fx))\n",
        "ax1.plot(xx,g(xx),'--',color=[.7,.7,.7],label=r'$g(x)=%s$'%sym.latex(gx))\n",
        "ax1.fill_between(xx,f(xx),g(xx),color='k',alpha=.2,label='Area to revolve')\n",
        "ax1.set(xlabel='x',ylabel=r'$y = f(x)$ or $g(x)$',xlim=xx[[0,-1]],title='2D area to revolve')\n",
        "ax1.legend()\n",
        "\n",
        "# create the surfaces\n",
        "ax2.plot_surface(X, Y_f, Z_f, color='k', alpha=.3)\n",
        "ax2.plot_surface(X, Y_g, Z_g, color='k', alpha=.6)\n",
        "ax2.set(xlabel='X',ylabel='Y',zlabel='Z',title=r'Volume = $%s$ (au)$^3$' %sym.latex(volume))\n",
        "\n",
        "plt.tight_layout()\n",
        "plt.savefig('intGeom_volumeWasherEx2.png')\n",
        "plt.show()"
      ],
      "metadata": {
        "id": "pSRymFFnnsp-"
      },
      "execution_count": null,
      "outputs": []
    },
    {
      "cell_type": "code",
      "source": [],
      "metadata": {
        "id": "znVgkjHkSurA"
      },
      "execution_count": null,
      "outputs": []
    },
    {
      "cell_type": "markdown",
      "source": [
        "# Numerical approximation, Example 1"
      ],
      "metadata": {
        "id": "SiXlkJcGcwXy"
      }
    },
    {
      "cell_type": "code",
      "source": [
        "# reproducing the exact result\n",
        "\n",
        "# bounds\n",
        "a,b = 0,np.pi/4\n",
        "xx = np.linspace(a,b,500)\n",
        "\n",
        "# define functions using numpy\n",
        "f = lambda u: np.exp(-u)\n",
        "g = lambda u: np.sin(u)/2\n",
        "\n",
        "# volume analytically calculated\n",
        "volumeNumS = np.pi * spi.simpson(f(xx)**2-g(xx)**2,dx=xx[1]-xx[0])\n",
        "volumeNumT = np.pi * spi.trapezoid(f(xx)**2-g(xx)**2,dx=xx[1]-xx[0])\n",
        "\n",
        "# print the results\n",
        "print(f'Volume from sympy:         {volume.evalf()}') # from the previous code cell\n",
        "print(f'Volume from spi.simpson:   {volumeNumS}')\n",
        "print(f'Volume from spi.trapezoid: {volumeNumT}')"
      ],
      "metadata": {
        "id": "dmX80NXuIIN9"
      },
      "execution_count": null,
      "outputs": []
    },
    {
      "cell_type": "code",
      "source": [],
      "metadata": {
        "id": "DspBRdaJIH8D"
      },
      "execution_count": null,
      "outputs": []
    },
    {
      "cell_type": "markdown",
      "source": [
        "# Figure 17.23: Numerical example 2"
      ],
      "metadata": {
        "id": "7xKhFxsDIjZd"
      }
    },
    {
      "cell_type": "code",
      "source": [
        "### calculate the volume\n",
        "\n",
        "# bounds\n",
        "a,b = 0,2\n",
        "xx = np.linspace(a,b,500)\n",
        "\n",
        "# define functions using numpy\n",
        "f = lambda u: np.exp(-u**2)\n",
        "g = lambda u: np.sin(u)/2 + .5\n",
        "\n",
        "\n",
        "# volume analytically calculated\n",
        "volumeNum = np.pi * spi.simpson(np.abs(f(xx)**2-g(xx)**2),dx=xx[1]-xx[0])\n",
        "\n",
        "\n",
        "### visualization\n",
        "\n",
        "# get Y and Z coordinates for f(x) and g(x)\n",
        "X,Theta = np.meshgrid(xx,np.linspace(0,2*np.pi,100))\n",
        "Y_f = f(X) * np.cos(Theta)\n",
        "Z_f = f(X) * np.sin(Theta)\n",
        "Y_g = g(X) * np.cos(Theta)\n",
        "Z_g = g(X) * np.sin(Theta)\n",
        "\n",
        "# setup the figure with a 3D axis\n",
        "fig = plt.figure(figsize=(12,5))\n",
        "gs  = fig.add_gridspec(1,2,width_ratios=[2,3])\n",
        "ax1 = fig.add_subplot(gs[0])\n",
        "ax2 = fig.add_subplot(gs[1],projection='3d')\n",
        "\n",
        "# plot the 2D shape to revolve\n",
        "ax1.plot(xx,f(xx),'k',label=r'$f(x)=e^{-x^2}$')\n",
        "ax1.plot(xx,g(xx),'--',color=[.7,.7,.7],label=r'$g(x)=\\sin(x)/2$')\n",
        "ax1.fill_between(xx,f(xx),g(xx),color='k',alpha=.2,label='Area to revolve')\n",
        "ax1.set(xlabel='x',ylabel=r'$y = f(x)$ or $g(x)$',xlim=xx[[0,-1]],title='2D area to revolve')\n",
        "ax1.legend()\n",
        "\n",
        "# create the surfaces\n",
        "ax2.plot_surface(X, Y_f, Z_f, color='k', alpha=.3)\n",
        "ax2.plot_surface(X, Y_g, Z_g, color='k', alpha=.6)\n",
        "ax2.set(xlabel='X',ylabel='Y',zlabel='Z',title=r'Volume $\\approx$ $%.3f$ (au)$^3$' %volumeNum)\n",
        "\n",
        "plt.tight_layout()\n",
        "plt.savefig('intGeom_volumeNumericalEx2.png')\n",
        "plt.show()"
      ],
      "metadata": {
        "id": "70-8X5id_qbS"
      },
      "execution_count": null,
      "outputs": []
    },
    {
      "cell_type": "code",
      "source": [
        "# define functions\n",
        "x  = sym.symbols('x')\n",
        "fx = sym.exp(-x**2)\n",
        "gx = sym.sin(x)/2\n",
        "\n",
        "# bounds\n",
        "a,b = 0,2\n",
        "\n",
        "# volume analytically calculated\n",
        "volume = sym.pi * sym.integrate(sym.Abs(fx**2-gx**2),(x,a,b))\n",
        "volume# sympy can't evaluate this expression"
      ],
      "metadata": {
        "id": "Dofnw8Uj_qeM"
      },
      "execution_count": null,
      "outputs": []
    },
    {
      "cell_type": "code",
      "source": [],
      "metadata": {
        "id": "eSVxD1PA2jjy"
      },
      "execution_count": null,
      "outputs": []
    }
  ]
}