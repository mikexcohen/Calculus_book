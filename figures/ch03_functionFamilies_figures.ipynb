{
  "nbformat": 4,
  "nbformat_minor": 0,
  "metadata": {
    "colab": {
      "private_outputs": true,
      "provenance": [
        {
          "file_id": "1gr-BRko9gxHM_F2vs-K87_p-QcaeuR-N",
          "timestamp": 1716381575893
        }
      ]
    },
    "kernelspec": {
      "name": "python3",
      "display_name": "Python 3"
    },
    "language_info": {
      "name": "python"
    }
  },
  "cells": [
    {
      "cell_type": "markdown",
      "metadata": {
        "id": "IMCG77qiecTi"
      },
      "source": [
        "<a href=\"https://colab.research.google.com/github/mikexcohen/Calculus_book/blob/main/figures/ch03_functionFamilies_figures.ipynb\" target=\"_parent\"><img src=\"https://colab.research.google.com/assets/colab-badge.svg\" alt=\"Open In Colab\"/></a>"
      ]
    },
    {
      "cell_type": "markdown",
      "source": [
        "# **Calculus unraveled: Intuition, Proofs, and Python**\n",
        "### Mike X Cohen (sincxpress.com)\n",
        "#### https://github.com/mikexcohen/calculus_book\n",
        "#### Code for Chapter 3 (Function families)\n",
        "\n",
        "---\n",
        "\n",
        "# About this code file:\n",
        "\n",
        "### This notebook will reproduce the figures in this chapter, and illustrate the mathematical concepts explained in the book. The point of providing the code is not just for you to recreate the figures, but for you to modify, adapt, explore, and experiment with the code.\n",
        "\n",
        "## **Using the code without the book may lead to confusion or errors.**\n",
        "\n",
        "#### This code was written in google-colab. The notebook may require some modifications if you use a different IDE."
      ],
      "metadata": {
        "id": "jb67RuPgecTj"
      }
    },
    {
      "cell_type": "code",
      "source": [],
      "metadata": {
        "id": "TKmL5KjQg_D3"
      },
      "execution_count": null,
      "outputs": []
    },
    {
      "cell_type": "code",
      "execution_count": null,
      "metadata": {
        "id": "oYWhHwGQ9OdD"
      },
      "outputs": [],
      "source": [
        "# import libraries and define global settings\n",
        "import numpy as np\n",
        "import sympy as sym\n",
        "import matplotlib.pyplot as plt\n",
        "from IPython.display import Math\n",
        "\n",
        "# define global figure properties used for publication\n",
        "import matplotlib_inline.backend_inline\n",
        "matplotlib_inline.backend_inline.set_matplotlib_formats('svg') # display figures in vector format\n",
        "plt.rcParams.update({'font.size':14,             # font size\n",
        "                     'savefig.dpi':300,          # output resolution\n",
        "                     'axes.titlelocation':'left',# title location\n",
        "                     'axes.spines.right':False,  # remove axis bounding box\n",
        "                     'axes.spines.top':False,    # remove axis bounding box\n",
        "                     'lines.linewidth':2         # increase default line thickness\n",
        "                     })"
      ]
    },
    {
      "cell_type": "code",
      "source": [],
      "metadata": {
        "id": "Ls2d_er6jq2u"
      },
      "execution_count": null,
      "outputs": []
    },
    {
      "cell_type": "markdown",
      "source": [
        "# Figure 3.1: Linear and nonlinear functions"
      ],
      "metadata": {
        "id": "0SSgbfznQxNp"
      }
    },
    {
      "cell_type": "code",
      "source": [
        "# the x-axis grid values\n",
        "x = np.linspace(-2,2,101)\n",
        "\n",
        "# the functions\n",
        "f1 = 2*np.sqrt(np.cos(x))+6\n",
        "f2 = 3*x**2 - 4\n",
        "f3 = -np.sqrt(2)*x + np.cos(6)\n",
        "\n",
        "# the figure and the plot\n",
        "plt.figure(figsize=(8,4))\n",
        "\n",
        "plt.plot(x,f1,'k',label='Eq. 3.7')\n",
        "plt.plot(x,f2,'--',color=[.2,.2,.2,],label='Eq. 3.8')\n",
        "plt.plot(x,f3,':',color=[.4,.4,.4,],label='Eq. 3.9')\n",
        "\n",
        "# the adjustments\n",
        "plt.legend()\n",
        "plt.gca().set(xlabel='x',ylabel='y',xlim=x[[0,-1]])\n",
        "\n",
        "plt.tight_layout()\n",
        "plt.savefig('funfam_linNonlinExamples.png')\n",
        "plt.show()"
      ],
      "metadata": {
        "id": "2n1pUbKrQ0Vo"
      },
      "execution_count": null,
      "outputs": []
    },
    {
      "cell_type": "code",
      "source": [],
      "metadata": {
        "id": "O-vI6CiydGOE"
      },
      "execution_count": null,
      "outputs": []
    },
    {
      "cell_type": "markdown",
      "source": [
        "# Figure 3.3: Two polynomials and a friend"
      ],
      "metadata": {
        "id": "DXAE-2dgdGKs"
      }
    },
    {
      "cell_type": "code",
      "source": [
        "x = np.linspace(-1,2,130)\n",
        "\n",
        "# the functions\n",
        "f1 = 4 + x - 3*x**2 + np.sqrt(np.exp(np.pi))*x**3\n",
        "f2 = -5*x**5 - 4*x**2\n",
        "f3 = 1 + 2*x + 3*x**2 + 4*x**(-3) + 5*x**(1/2)\n",
        "\n",
        "# the plot\n",
        "plt.figure(figsize=(4,5))\n",
        "plt.plot(x,f1,linestyle='-',color=[.7,.7,.7],linewidth=3,label='$f_1(x)$')\n",
        "plt.plot(x,f2,linestyle='--',color=[.4,.4,.4],linewidth=3,label='$f_2(x)$')\n",
        "plt.plot(x,f3,linestyle=':',color=[0,0,0],linewidth=3,label='$f_3(x)$')\n",
        "\n",
        "plt.gca().set(ylim=[-10,40],xlim=x[[0,-1]],xlabel='$x$',ylabel='$y=f_i(x)$')\n",
        "plt.legend()\n",
        "\n",
        "plt.tight_layout()\n",
        "plt.savefig('funfam_polyExamples.png')\n",
        "plt.show()"
      ],
      "metadata": {
        "id": "gVMSAlxNdGHp"
      },
      "execution_count": null,
      "outputs": []
    },
    {
      "cell_type": "code",
      "source": [],
      "metadata": {
        "id": "g3LzK9BdQxKX"
      },
      "execution_count": null,
      "outputs": []
    },
    {
      "cell_type": "markdown",
      "source": [
        "# Figure 3.4: Polynomials"
      ],
      "metadata": {
        "id": "8OCIQA0KQxHb"
      }
    },
    {
      "cell_type": "code",
      "source": [
        "x = np.linspace(-2,2,401)\n",
        "\n",
        "_,axs = plt.subplots(2,3,figsize=(10,6))\n",
        "letters = 'ABCDEFG' # axis labels\n",
        "\n",
        "# loop through powers and plot\n",
        "for pwr,ax in enumerate(axs.flatten()):\n",
        "\n",
        "  # calculate function values\n",
        "  y = x**pwr\n",
        "\n",
        "  # plot them\n",
        "  ax.plot(x,y,'k')\n",
        "  ax.set(xlim=x[[0,-1]],ylim=[-2,2])\n",
        "  ax.grid(color=[.9,.9,.9])\n",
        "  ax.set_title(rf'$\\bf{{{letters[pwr]}}}$)  $y=x^{pwr}$')\n",
        "\n",
        "plt.tight_layout()\n",
        "plt.savefig('funfam_variousPolys.png')\n",
        "plt.show()"
      ],
      "metadata": {
        "id": "DKqmy0_Rq6PM"
      },
      "execution_count": null,
      "outputs": []
    },
    {
      "cell_type": "code",
      "source": [],
      "metadata": {
        "id": "VD_z6FUwwo3E"
      },
      "execution_count": null,
      "outputs": []
    },
    {
      "cell_type": "markdown",
      "source": [
        "# Figure 3.5: Margin figure about the coefficient sign"
      ],
      "metadata": {
        "id": "Ykr1Q20awo0o"
      }
    },
    {
      "cell_type": "code",
      "source": [
        "# calculate function values\n",
        "y2p = x**2\n",
        "y2m = -x**2\n",
        "y3p = x**3\n",
        "y3m = -x**3\n",
        "\n",
        "\n",
        "# plot them\n",
        "_,axs = plt.subplots(2,1,figsize=(4,8))\n",
        "axs[0].plot(x,y2p,'k',label=r'$y=x^2$')\n",
        "axs[0].plot(x,y2m,'k--',label=r'$y=-x^2$')\n",
        "axs[1].plot(x,y3p,'k',label=r'$y=x^3$')\n",
        "axs[1].plot(x,y3m,'k--',label=r'$y=-x^3$')\n",
        "\n",
        "# adjustments for both axes\n",
        "for a in axs:\n",
        "  a.set(xlim=x[[0,-1]],ylim=[-5,5])\n",
        "  a.grid(color=[.9,.9,.9])\n",
        "  a.legend()\n",
        "\n",
        "plt.tight_layout()\n",
        "plt.savefig('funfam_signedPolys.png')\n",
        "plt.show()"
      ],
      "metadata": {
        "id": "eq3mY9z5q6SO"
      },
      "execution_count": null,
      "outputs": []
    },
    {
      "cell_type": "code",
      "source": [],
      "metadata": {
        "id": "foKhLc7Fq6U-"
      },
      "execution_count": null,
      "outputs": []
    },
    {
      "cell_type": "markdown",
      "source": [
        "# Figure 3.6: Polynomial behavior for small and large x"
      ],
      "metadata": {
        "id": "yjnJHGXpQxET"
      }
    },
    {
      "cell_type": "code",
      "source": [
        "# two ranges of x\n",
        "x1 = np.linspace(-1e5,1e5,4001)\n",
        "x2 = np.linspace(-1e10,1e10,4001)\n",
        "\n",
        "# same function!\n",
        "y1 = 10 - x1 - 10000*x1**2 + .001*x1**3\n",
        "y2 = 10 - x2 - 10000*x2**2 + .001*x2**3\n",
        "\n",
        "# plotting\n",
        "_,axs = plt.subplots(1,2,figsize=(10,4))\n",
        "\n",
        "axs[0].plot(x1,y1,'k')\n",
        "axs[0].set(xlim=x1[[0,-1]],title=r'$\\bf{A}$)  $x$ \"close\" to zero',xlabel='$x$',ylabel='$y=f(x)$')\n",
        "\n",
        "axs[1].plot(x2,y2,'k')\n",
        "axs[1].axvline(x=x1[0],linestyle='--',color=[.8,.8,.8])\n",
        "axs[1].axvline(x=x1[-1],linestyle='--',color=[.8,.8,.8])\n",
        "axs[1].set(xlim=x2[[0,-1]],title=r'$\\bf{B}$)  $x$ \"far\" from zero',xlabel='$x$',ylabel='$y=f(x)$')\n",
        "\n",
        "plt.tight_layout()\n",
        "plt.savefig('funfam_polysGrow.png')\n",
        "plt.show()"
      ],
      "metadata": {
        "id": "5mr8CJYlyxWq"
      },
      "execution_count": null,
      "outputs": []
    },
    {
      "cell_type": "code",
      "source": [],
      "metadata": {
        "id": "s-W7gNAZhoIe"
      },
      "execution_count": null,
      "outputs": []
    },
    {
      "cell_type": "markdown",
      "source": [
        "# Figure 3.7: Summing polynomials"
      ],
      "metadata": {
        "id": "2n1EU29OkAWR"
      }
    },
    {
      "cell_type": "code",
      "source": [
        "x = np.linspace(-2,2.5,305)\n",
        "\n",
        "# the functions\n",
        "f = 3*x + 5*x**2 - 6*x**3 + x**6\n",
        "g = 2*x - 2*x**2 + 3*x**3 - 2*x**5\n",
        "\n",
        "# their sum\n",
        "h = f + g\n",
        "\n",
        "plt.figure(figsize=(5,5))\n",
        "plt.plot(x,f,'k',label=r'$f(x)$')\n",
        "plt.plot(x,g,'--',color=[.2,.2,.2],label=r'$g(x)$')\n",
        "plt.plot(x,h,':',color=[.6,.6,.6],linewidth=3,label=r'$f(x)+g(x)$')\n",
        "\n",
        "plt.gca().set(xlim=x[[0,-1]],ylim=[-8,20],xlabel='$x$',ylabel='$y$')\n",
        "plt.legend()\n",
        "\n",
        "plt.tight_layout()\n",
        "plt.savefig('funfam_polysSum.png')\n",
        "plt.show()"
      ],
      "metadata": {
        "id": "2YJThP9ChoFV"
      },
      "execution_count": null,
      "outputs": []
    },
    {
      "cell_type": "code",
      "source": [],
      "metadata": {
        "id": "0n-0Q3bnhoCC"
      },
      "execution_count": null,
      "outputs": []
    },
    {
      "cell_type": "markdown",
      "source": [
        "# Figure 3.8: Rational function"
      ],
      "metadata": {
        "id": "xDIuSKWUk_rD"
      }
    },
    {
      "cell_type": "code",
      "source": [
        "x = np.linspace(-2,2,306)\n",
        "\n",
        "# the functions\n",
        "p = 7*x**2\n",
        "q = 3*x**5\n",
        "\n",
        "# their ratio\n",
        "r = p/q\n",
        "r[np.argmin(abs(x))] = np.nan\n",
        "\n",
        "plt.figure(figsize=(5,5))\n",
        "plt.plot(x,p,'k',label=r'$p(x)$')\n",
        "plt.plot(x,q,'--',color=[.2,.2,.2],label=r'$q(x)$')\n",
        "plt.plot(x,r,':',color=[.6,.6,.6],linewidth=3,label=r'$r(x) = p(x)/q(x)$')\n",
        "\n",
        "plt.gca().set(xlim=x[[0,-1]],ylim=[-10,10],xlabel='$x$',ylabel='$y$')\n",
        "plt.legend()\n",
        "\n",
        "plt.tight_layout()\n",
        "plt.savefig('funfam_rational.png')\n",
        "plt.show()"
      ],
      "metadata": {
        "id": "3hLilNHwk_lr"
      },
      "execution_count": null,
      "outputs": []
    },
    {
      "cell_type": "code",
      "source": [],
      "metadata": {
        "id": "BY1J5iDGnyhW"
      },
      "execution_count": null,
      "outputs": []
    },
    {
      "cell_type": "markdown",
      "source": [
        "# Figure 3.10: Natural exponential"
      ],
      "metadata": {
        "id": "1_vA96rcQw-D"
      }
    },
    {
      "cell_type": "code",
      "source": [
        "x = np.linspace(-3,3,333)\n",
        "\n",
        "plt.figure(figsize=(8,4))\n",
        "plt.plot(x,np.exp(x),'k')\n",
        "plt.xlabel('$x$')\n",
        "plt.ylabel('$y = \\exp(x)$')\n",
        "plt.xlim(x[[0,-1]])\n",
        "\n",
        "plt.tight_layout()\n",
        "plt.savefig('funfam_e.png')\n",
        "plt.show()"
      ],
      "metadata": {
        "id": "r089lCeFvDMK"
      },
      "execution_count": null,
      "outputs": []
    },
    {
      "cell_type": "code",
      "source": [],
      "metadata": {
        "id": "4u5OJAIRQw67"
      },
      "execution_count": null,
      "outputs": []
    },
    {
      "cell_type": "markdown",
      "source": [
        "# Figure 3.11: Natural log"
      ],
      "metadata": {
        "id": "js0gO_i9F3qJ"
      }
    },
    {
      "cell_type": "code",
      "source": [
        "x = np.linspace(.001,2,123)\n",
        "\n",
        "plt.figure(figsize=(8,4))\n",
        "plt.plot(x,np.log(x),'k')\n",
        "\n",
        "plt.gca().set(xlabel='x',ylabel='$y = \\\\ln(x)$',xlim=x[[0,-1]])\n",
        "plt.grid(color=[.8,.8,.8])\n",
        "\n",
        "plt.tight_layout()\n",
        "plt.savefig('funfam_ln.png')\n",
        "plt.show()"
      ],
      "metadata": {
        "id": "TbrMlFoFF3qK"
      },
      "execution_count": null,
      "outputs": []
    },
    {
      "cell_type": "code",
      "source": [],
      "metadata": {
        "id": "s0BObLQmoK9_"
      },
      "execution_count": null,
      "outputs": []
    },
    {
      "cell_type": "markdown",
      "source": [
        "# Figure 3.14: Sine and cosine, in lines and circles"
      ],
      "metadata": {
        "id": "VrvvN1wN4v-6"
      }
    },
    {
      "cell_type": "code",
      "source": [
        "# theta values and the functions\n",
        "theta = np.linspace(-2*np.pi, 2*np.pi,401)\n",
        "cos = np.cos(theta)\n",
        "sin = np.sin(theta)\n",
        "\n",
        "\n",
        "### Note: change this parameter to see how the plot changes!\n",
        "angle2plot = np.pi/6 # somewhere between -2pi and +2pi\n",
        "\n",
        "\n",
        "\n",
        "# Create the subplots\n",
        "fig, axs = plt.subplots(2, 2, figsize=(12,5), gridspec_kw={'width_ratios': [1,1], 'height_ratios': [1,1]})\n",
        "\n",
        "# plot cos(theta)\n",
        "axs[0,0].plot(theta,cos,'k',label=r'$\\cos(\\theta)$')\n",
        "axs[0,0].plot(angle2plot,np.cos(angle2plot),'ko',markerfacecolor='w',markersize=10,label=rf'$\\cos({{{angle2plot:.2f}}})$')\n",
        "axs[0,0].legend()\n",
        "axs[0,0].grid()\n",
        "axs[0,0].set(xlim=theta[[0,-1]],xticks=[-np.pi,0,np.pi,2*np.pi],xticklabels=[r'$-\\pi$', '0', r'$\\pi$', r'$2\\pi$'],\n",
        "             ylim=[-1.1,1.1],yticks=[-1,0,1],ylabel='$y=\\cos(\\\\theta)$')\n",
        "\n",
        "# plot sin(theta)\n",
        "axs[1,0].plot(theta,sin,'k',label=r'$\\sin(\\theta)$')\n",
        "axs[1,0].plot(angle2plot,np.sin(angle2plot),'ko',markerfacecolor='w',markersize=10,label=rf'$\\sin({{{angle2plot:.2f}}})$')\n",
        "axs[1,0].legend()\n",
        "axs[1,0].grid()\n",
        "axs[1,0].set(xlim=theta[[0,-1]],xticks=[-np.pi,0,np.pi,2*np.pi],xticklabels=[r'$-\\pi$', '0', r'$\\pi$', r'$2\\pi$'],\n",
        "             ylim=[-1.1,1.1],yticks=[-1,0,1],xlabel='$\\\\theta$ (rad.)',ylabel='$y=\\sin(\\\\theta)$')\n",
        "\n",
        "\n",
        "# draw the unit circle\n",
        "ax_circle = fig.add_subplot(1,2,2)\n",
        "circle = plt.Circle((0,0), 1, color='k', fill=False, linewidth=2)\n",
        "ax_circle.add_artist(circle)\n",
        "ax_circle.axhline(0, color=[.8,.8,.8], linestyle='--',linewidth=1.5)\n",
        "ax_circle.axvline(0, color=[.8,.8,.8], linestyle='--',linewidth=1.5)\n",
        "\n",
        "# plot the point and lines\n",
        "ax_circle.plot([0,np.cos(angle2plot)],[np.sin(angle2plot),np.sin(angle2plot)],'k--',label=fr'$\\cos({angle2plot:.2f})$')\n",
        "ax_circle.plot([np.cos(angle2plot),np.cos(angle2plot)],[0,np.sin(angle2plot)],'k:',label=fr'$\\sin({angle2plot:.2f})$')\n",
        "ax_circle.plot([0,np.cos(angle2plot)],[0,np.sin(angle2plot)],'k',linewidth=1)\n",
        "ax_circle.plot(np.cos(angle2plot),np.sin(angle2plot), 'ko', markerfacecolor='w',markersize=10)\n",
        "\n",
        "# some adjustments\n",
        "ax_circle.set(xlim=[-1.2, 1.2],ylim=[-1.2, 1.2])\n",
        "ax_circle.legend()\n",
        "ax_circle.text(1.05, .03, r'$cos$', color='gray', fontsize=20, ha='left')\n",
        "ax_circle.text(-.02, 1.05, r'$sin$', color='gray', fontsize=20, va='bottom', ha='right',rotation=90)\n",
        "\n",
        "# hide empty subplots\n",
        "axs[1,1].axis('off')\n",
        "axs[0,1].axis('off')\n",
        "ax_circle.axis('off')\n",
        "ax_circle.set_aspect('equal', 'box')\n",
        "\n",
        "# layout and save\n",
        "plt.tight_layout()\n",
        "plt.savefig('funfam_trigAnglesWavies.png')\n",
        "plt.show()"
      ],
      "metadata": {
        "id": "90OtgqN24wCE"
      },
      "execution_count": null,
      "outputs": []
    },
    {
      "cell_type": "code",
      "source": [],
      "metadata": {
        "id": "-lyPgQQ44wFF"
      },
      "execution_count": null,
      "outputs": []
    },
    {
      "cell_type": "markdown",
      "source": [
        "# Figure 3.15: Tangent function"
      ],
      "metadata": {
        "id": "vvbccPm_jOOY"
      }
    },
    {
      "cell_type": "code",
      "source": [
        "plt.figure(figsize=(10,4))\n",
        "\n",
        "plt.plot(theta,cos,'--',color=[.3,.3,.3],label='cos')\n",
        "plt.plot(theta,sin,':',color=[.6,.6,.6],label='sin')\n",
        "plt.plot(theta,sin/cos,color='k',label='tan')\n",
        "\n",
        "plt.gca().set(xlim=theta[[0,-1]],ylim=[-10,10],xlabel='Angle (rad.)',ylabel='Value')\n",
        "plt.xticks([-np.pi,0,np.pi,2*np.pi],labels=[r'$-\\pi$', '0', r'$\\pi$', r'$2\\pi$'])\n",
        "plt.legend()\n",
        "plt.grid(color=[.9,.9,.9])\n",
        "\n",
        "plt.tight_layout()\n",
        "plt.savefig('funfam_trigCosSinTan.png')\n",
        "plt.show()"
      ],
      "metadata": {
        "id": "tFUBiyC5jOLh"
      },
      "execution_count": null,
      "outputs": []
    },
    {
      "cell_type": "code",
      "source": [],
      "metadata": {
        "id": "TEdCKNleZm5a"
      },
      "execution_count": null,
      "outputs": []
    },
    {
      "cell_type": "markdown",
      "source": [
        "# Figure 3.16: Piecewise functions"
      ],
      "metadata": {
        "id": "gKE855wU4wNQ"
      }
    },
    {
      "cell_type": "code",
      "source": [
        "x = np.linspace(-2,2,51)\n",
        "\n",
        "# function f\n",
        "fx = x + 0 # the +0 makes a copy instead of reassignment\n",
        "fx[x>=0] = -x[x>=0]**2 + 3\n",
        "\n",
        "# function g\n",
        "gx = x + 0\n",
        "gx[x<0] = -x[x<0]\n",
        "\n",
        "# function h\n",
        "hx = x + 0\n",
        "hx[x<0] = 0\n",
        "\n",
        "\n",
        "plt.figure(figsize=(10,5))\n",
        "\n",
        "plt.plot(x,fx,'ko-',label=r'$f(x)$')\n",
        "plt.plot(x,gx,'--',color=[.6,.6,.6],label=r'$g(x)$')\n",
        "plt.plot(x,hx,':',color=[.3,.3,.3],label=r'$h(x)$')\n",
        "\n",
        "plt.gca().set(xlim=x[[0,-1]],ylim=[-2.1,3.1],xlabel='x',ylabel='y')\n",
        "plt.legend()\n",
        "\n",
        "plt.tight_layout()\n",
        "plt.savefig('funfam_piecewise.png')\n",
        "plt.show()"
      ],
      "metadata": {
        "id": "W46fN--a4zQG"
      },
      "execution_count": null,
      "outputs": []
    },
    {
      "cell_type": "code",
      "source": [],
      "metadata": {
        "id": "KvnJw6wRzY7u"
      },
      "execution_count": null,
      "outputs": []
    },
    {
      "cell_type": "markdown",
      "source": [
        "# Figure 3.19: Composite functions"
      ],
      "metadata": {
        "id": "KrXBhyyXgNi6"
      }
    },
    {
      "cell_type": "code",
      "source": [
        "# define python functions for the math functions\n",
        "def fx(x):\n",
        "  return 2*x + np.cos(x)\n",
        "\n",
        "def gx(x):\n",
        "  return x - 2 + np.sqrt(abs(x))\n",
        "\n",
        "# vector of x-axis values to calculate the function\n",
        "x = np.linspace(-2,2,415)\n",
        "\n",
        "# a new function that is the composite of the two\n",
        "hx = fx( gx(x) )\n",
        "\n",
        "# compose the functions in both to see whether they commute\n",
        "fgx = fx( gx(x) )\n",
        "gfx = gx( fx(x) )\n",
        "\n",
        "\n",
        "# create a figure\n",
        "_,axs = plt.subplots(1,2,figsize=(12,5))\n",
        "\n",
        "# plot the individual functions\n",
        "axs[0].plot(x,fx(x),'-',color=[0,0,0],label=r'$f(x) = 2x+\\cos(x)$')\n",
        "axs[0].plot(x,gx(x),'--',color=[.2,.2,.2],label=r'$g(x) = x-2+\\sqrt{|x|}$')\n",
        "axs[0].plot(x,hx,':',color=[.5,.5,.5],label=r'$h(x) = f(g(x))$')\n",
        "axs[0].set_title(r'$\\bf{A}$)')\n",
        "\n",
        "# plot the composed functions\n",
        "axs[1].plot(x,fgx,'--',color=[.15,.15,.15],label=r'$f(g(x))$')\n",
        "axs[1].plot(x,gfx,'-',color=[.5,.5,.5],label=r'$g(f(x))$')\n",
        "axs[1].set_title(r'$\\bf{B}$)')\n",
        "\n",
        "# adjustments for both axes\n",
        "for a in axs:\n",
        "  a.set(xlim=x[[0,-1]],xlabel='x',ylabel='y')\n",
        "  a.legend()\n",
        "\n",
        "\n",
        "plt.tight_layout()\n",
        "plt.savefig('funfam_composed.png')\n",
        "plt.show()"
      ],
      "metadata": {
        "id": "S1vSGVf8h4Zd"
      },
      "execution_count": null,
      "outputs": []
    },
    {
      "cell_type": "code",
      "source": [],
      "metadata": {
        "id": "m5aHVotBzY4X"
      },
      "execution_count": null,
      "outputs": []
    },
    {
      "cell_type": "markdown",
      "source": [
        "# Figure 3.22: Inverse functions"
      ],
      "metadata": {
        "id": "OlPhk81KzY1a"
      }
    },
    {
      "cell_type": "code",
      "source": [
        "# define the two functions\n",
        "def fx(x): return 3*x**2 + 4\n",
        "def f1(x): return np.sqrt((x-4)/3)\n",
        "\n",
        "# x-axis grid\n",
        "x = np.linspace(-2,8,101)\n",
        "\n",
        "\n",
        "# and plot\n",
        "_,ax = plt.subplots(1,figsize=(8,6))\n",
        "ax.plot(x,fx(x),'k',label=r'$f(x) = 3x^2+4$')\n",
        "ax.plot(x,f1(x),'--',color=[.2,.2,.2],label=r'$f^{-1}(x) = \\sqrt{(x-4)/3}$')\n",
        "ax.plot(x,fx(f1(x)),'s',color=[.4,.4,.4],linewidth=3,label=r'$f(f^{-1}(x))$')\n",
        "ax.plot(x[::3],f1(fx(x[::3])),'ko',markersize=8,markerfacecolor=[1,1,1,.5],linewidth=3,label=r'$f^{-1}(f(x))$')\n",
        "ax.set(xlim=x[[0,-1]],ylim=[-1,8],xlabel='x',ylabel='y')\n",
        "ax.grid(color=[.8,.8,.8])\n",
        "ax.legend()\n",
        "\n",
        "plt.tight_layout()\n",
        "plt.savefig('funfam_funAndInv.png')\n",
        "plt.show()"
      ],
      "metadata": {
        "id": "WqWXZovFRN1w"
      },
      "execution_count": null,
      "outputs": []
    },
    {
      "cell_type": "code",
      "source": [],
      "metadata": {
        "id": "BiA1ANY8RMLt"
      },
      "execution_count": null,
      "outputs": []
    },
    {
      "cell_type": "markdown",
      "source": [
        "# Figure 3.23: Inverse trig functions"
      ],
      "metadata": {
        "id": "pTqkuQxAZm2T"
      }
    },
    {
      "cell_type": "code",
      "source": [
        "# theta\n",
        "th = np.linspace(-3*np.pi,3*np.pi,9871)\n",
        "\n",
        "# functions\n",
        "sine = np.sin(th)\n",
        "invSin = np.arcsin(th)\n",
        "sinInvSin = np.sin( invSin )\n",
        "\n",
        "# plots\n",
        "_,axs = plt.subplots(1,3,figsize=(11,3.5))\n",
        "axs[0].plot(th,sine,'k')\n",
        "axs[0].set(xlim=th[[0,-1]],xlabel='$\\\\theta$',ylabel='$y=f(\\\\theta)$',\n",
        "           xticks=[-2*np.pi, 0, 2*np.pi],xticklabels=['$-2\\pi$','0',r'$2\\pi$'],\n",
        "           title=r'$\\bf{A}$)  $f(\\theta) = \\sin(\\theta)$')\n",
        "\n",
        "axs[1].plot(th,invSin,'k')\n",
        "axs[1].set(xlim=[-1.1,1.1],xlabel='$\\\\theta$',ylabel='$y=f^{-1}(\\\\theta)$',\n",
        "           yticks=[-np.pi/2,0,np.pi/2],yticklabels=['$-\\pi/2$','0','$\\pi/2$'],\n",
        "           title=r'$\\bf{B}$)  $f(\\theta) = \\sin^{-1}(\\theta)$')\n",
        "\n",
        "axs[2].plot(th,sinInvSin,'k')\n",
        "axs[2].set(xlabel='$\\\\theta$',ylabel='$y=f(f^{-1}(\\\\theta))$',xticks=[-1,-.5,0,.5,1],\n",
        "           title=r'$\\bf{C}$)  $\\theta = \\sin(\\sin^{-1}(\\theta))$')\n",
        "\n",
        "plt.tight_layout()\n",
        "plt.savefig('funfam_arcsine.png')\n",
        "plt.show()"
      ],
      "metadata": {
        "id": "dn0G4QDeZoYW"
      },
      "execution_count": null,
      "outputs": []
    },
    {
      "cell_type": "code",
      "source": [],
      "metadata": {
        "id": "_SjtlcDpllrJ"
      },
      "execution_count": null,
      "outputs": []
    },
    {
      "cell_type": "markdown",
      "source": [
        "# Figure 3.24: More on trig inverses"
      ],
      "metadata": {
        "id": "tEhhs1-HAKNc"
      }
    },
    {
      "cell_type": "code",
      "source": [
        "# theta (note the different domain!)\n",
        "th = np.linspace(-1,1,101)\n",
        "\n",
        "_,axs = plt.subplots(1,3,figsize=(12,3.5))\n",
        "# sine and arcsin\n",
        "axs[0].plot(th,np.sin(th),'k',label=r'$\\sin(\\theta)$')\n",
        "axs[0].plot(th,np.arcsin(th),'k--',label=r'$\\sin^{-1}(\\theta)$')\n",
        "axs[0].legend()\n",
        "axs[0].set(xlabel='$\\\\theta$',ylabel='$y=f(\\\\theta)$',xlim=th[[0,-1]],ylim=th[[0,-1]],title=r'$\\bf{A}$)  Sine')\n",
        "\n",
        "# cos and arccos\n",
        "axs[1].plot(th,np.cos(th),'k',label=r'$\\cos(\\theta)$')\n",
        "axs[1].plot(th,np.arccos(th),'k--',label=r'$\\cos^{-1}(\\theta)$')\n",
        "axs[1].legend()\n",
        "axs[1].set(xlabel='$\\\\theta$',ylabel='$y=f(\\\\theta)$',xlim=th[[0,-1]],title=r'$\\bf{b}$)  Cosine')\n",
        "\n",
        "# both inverses\n",
        "axs[2].plot(np.arcsin(th),th,'k--',label=r'$\\sin^{-1}(\\theta)$')\n",
        "axs[2].plot(np.arccos(th),th,'k',label=r'$\\cos^{-1}(\\theta)$')\n",
        "axs[2].set(ylabel='$\\\\theta$',xlabel='$y=f^{-1}(\\\\theta)$',xticks=np.round(np.arange(-np.pi/2,np.pi+.1,np.pi/2),2),\n",
        "           xticklabels=['$-\\pi/2$','0','$\\pi/2$','$\\pi$'],\n",
        "\n",
        "           xlim=[-np.pi/2,np.pi],title=r'$\\bf{C}$)  Inverses')\n",
        "axs[2].legend()\n",
        "\n",
        "# finalize\n",
        "plt.tight_layout()\n",
        "plt.savefig('funfam_trigsAndArcs.png')\n",
        "plt.show()"
      ],
      "metadata": {
        "id": "MKXEigREZmzM"
      },
      "execution_count": null,
      "outputs": []
    },
    {
      "cell_type": "code",
      "source": [],
      "metadata": {
        "id": "BxACVEVkAZQI"
      },
      "execution_count": null,
      "outputs": []
    },
    {
      "cell_type": "markdown",
      "source": [
        "# Figure 3.25: Even, odd, and neither"
      ],
      "metadata": {
        "id": "yxyS7cN5ySsB"
      }
    },
    {
      "cell_type": "code",
      "source": [
        "x = np.linspace(-np.pi,np.pi,301)\n",
        "\n",
        "# some even functions\n",
        "even1 = np.exp(-x**2)\n",
        "even2 = np.cos(2*x)\n",
        "\n",
        "# some odd functions\n",
        "odd1 = x**3\n",
        "odd2 = np.sin(2*x)\n",
        "\n",
        "# some nonsymmetric functions\n",
        "neither1 = np.exp(-(x-1)**2)\n",
        "neither2 = x**3 - 2*x**2\n",
        "\n",
        "\n",
        "# visualize\n",
        "_,axs = plt.subplots(2,3,figsize=(12,6))\n",
        "\n",
        "axs[0,0].plot(x,even1,'k')\n",
        "axs[0,0].set(yticks=[0],xlim=x[[0,-1]],title=r'$\\bf{A})$  Even function ($e^{-x^2}$)')\n",
        "axs[1,0].plot(x,even2,'k')\n",
        "axs[1,0].set(yticks=[0],xlim=x[[0,-1]],title=r'$\\bf{B})$  Even function ($\\cos(2x)$)')\n",
        "\n",
        "axs[0,1].plot(x,odd1,'k')\n",
        "axs[0,1].set(yticks=[0],xlim=x[[0,-1]],title=r'$\\bf{C})$  Odd function ($x^3$)')\n",
        "axs[1,1].plot(x,odd2,'k')\n",
        "axs[1,1].set(yticks=[0],xlim=x[[0,-1]],title=r'$\\bf{D})$  Odd function ($\\sin(2x)$)')\n",
        "\n",
        "axs[0,2].plot(x,neither1,'k')\n",
        "axs[0,2].set(yticks=[0],xlim=x[[0,-1]],title=r'$\\bf{E})$  Neither ($e^{-(x-1)^2}$)')\n",
        "axs[1,2].plot(x,neither2,'k')\n",
        "axs[1,2].set(yticks=[0],xlim=x[[0,-1]],ylim=[-5,3],title=r'$\\bf{F})$  Neither ($x^3-2x^2$)')\n",
        "\n",
        "\n",
        "# general adjustments\n",
        "for a in axs.flatten(): a.grid(color=[.8,.8,.8])\n",
        "\n",
        "\n",
        "plt.tight_layout()\n",
        "plt.savefig('funfam_evenOddNeitherExamples.png')\n",
        "plt.show()"
      ],
      "metadata": {
        "id": "yXQWCetiyUqs"
      },
      "execution_count": null,
      "outputs": []
    },
    {
      "cell_type": "code",
      "source": [],
      "metadata": {
        "id": "v_HDBgEkySpa"
      },
      "execution_count": null,
      "outputs": []
    },
    {
      "cell_type": "markdown",
      "source": [
        "# Figure 3.27: More examples of symmetry"
      ],
      "metadata": {
        "id": "INWtecbipmhX"
      }
    },
    {
      "cell_type": "code",
      "source": [
        "# the functions\n",
        "def f1(x): return x**2\n",
        "def f2(x): return x**3\n",
        "def f3(x): return np.exp(x)\n",
        "def f4(x): return np.cos(x)\n",
        "def f5(x): return np.sin(x)\n",
        "def f6(x): return np.sin(x + np.cos(x)**2)\n",
        "\n",
        "# x values\n",
        "x = np.linspace(-5,5,400)\n",
        "\n",
        "# combine functions and create titles\n",
        "functions = [f1, f2, f3, f4, f5, f6]\n",
        "titles = [\n",
        "    r'$\\bf{A}$)  $y = x^2$',\n",
        "    r'$\\bf{B}$)  $y = x^3$',\n",
        "    r'$\\bf{C}$)  $y = e^x$',\n",
        "    r'$\\bf{D}$)  $y = \\cos(x)$',\n",
        "    r'$\\bf{E}$)  $y = \\sin(x)$',\n",
        "    r'$\\bf{F}$)  $y = \\sin(x + \\cos(x)^2)$'\n",
        "]\n",
        "\n",
        "# make the plot\n",
        "fig, axes = plt.subplots(2,3, figsize=(12,6))\n",
        "for ax, func, title in zip(axes.flatten(), functions, titles):\n",
        "\n",
        "  # main grid lines\n",
        "  ax.axhline(0, color=[.8,.8,.8], linestyle='--')\n",
        "  ax.axvline(0, color=[.8,.8,.8], linestyle='--')\n",
        "\n",
        "  # plot the function\n",
        "  ax.plot(x,func(x),'k')\n",
        "  ax.set(xlim=x[[0,-1]],title=title)\n",
        "\n",
        "  # add the arrows\n",
        "  if func == f1:\n",
        "    ax.annotate('',xy=(-2, 10), xytext=(2,10),arrowprops=dict(facecolor='gray'))\n",
        "  elif func == f2:\n",
        "    ax.annotate('',xy=(-2,40), xytext=(2,40),arrowprops=dict(facecolor='gray'))\n",
        "    ax.annotate('',xy=(-2,-50), xytext=(-2,40),arrowprops=dict(facecolor='gray'))\n",
        "  elif func == f4:\n",
        "    ax.annotate('',xy=(-2,.5), xytext=(2,.5),arrowprops=dict(facecolor='gray'))\n",
        "  elif func == f5:\n",
        "    ax.annotate('',xy=(-2,.5), xytext=(2,.5),arrowprops=dict(facecolor='gray'))\n",
        "    ax.annotate('',xy=(-2,-.5), xytext=(-2,.5),arrowprops=dict(facecolor='gray'))\n",
        "\n",
        "\n",
        "# final adjustments\n",
        "plt.tight_layout()\n",
        "plt.savefig('funfam_evenOddNeitherExamples2.png')\n",
        "plt.show()"
      ],
      "metadata": {
        "id": "aCVQSMBFySmq"
      },
      "execution_count": null,
      "outputs": []
    },
    {
      "cell_type": "code",
      "source": [],
      "metadata": {
        "id": "PTWFVODdtTQM"
      },
      "execution_count": null,
      "outputs": []
    }
  ]
}