{
  "nbformat": 4,
  "nbformat_minor": 0,
  "metadata": {
    "colab": {
      "private_outputs": true,
      "provenance": [],
      "authorship_tag": "ABX9TyOlZEmQKnVxwcptZ6ybzlpj"
    },
    "kernelspec": {
      "name": "python3",
      "display_name": "Python 3"
    },
    "language_info": {
      "name": "python"
    }
  },
  "cells": [
    {
      "cell_type": "markdown",
      "metadata": {
        "id": "IMCG77qiecTi"
      },
      "source": [
        "<a href=\"https://colab.research.google.com/github/mikexcohen/Calculus_book/blob/main/figures/ch10_multivariableDiff_figures.ipynb\" target=\"_parent\"><img src=\"https://colab.research.google.com/assets/colab-badge.svg\" alt=\"Open In Colab\"/></a>"
      ]
    },
    {
      "cell_type": "markdown",
      "source": [
        "# **Calculus unraveled: Intuition, Proofs, and Python**\n",
        "### Mike X Cohen (sincxpress.com)\n",
        "#### https://github.com/mikexcohen/calculus_book\n",
        "#### Code for Chapter 10 (Multivariable differentiation)\n",
        "\n",
        "---\n",
        "\n",
        "# About this code file:\n",
        "\n",
        "### This notebook will reproduce the figures in this chapter, and illustrate the mathematical concepts explained in the book. The point of providing the code is not just for you to recreate the figures, but for you to modify, adapt, explore, and experiment with the code.\n",
        "\n",
        "## **Using the code without the book may lead to confusion or errors.**\n",
        "\n",
        "#### This code was written in google-colab. The notebook may require some modifications if you use a different IDE."
      ],
      "metadata": {
        "id": "jb67RuPgecTj"
      }
    },
    {
      "cell_type": "code",
      "source": [],
      "metadata": {
        "id": "EAL7LkrkJo6Y"
      },
      "execution_count": null,
      "outputs": []
    },
    {
      "cell_type": "code",
      "execution_count": null,
      "metadata": {
        "id": "oYWhHwGQ9OdD"
      },
      "outputs": [],
      "source": [
        "# import libraries and define global settings\n",
        "import numpy as np\n",
        "import sympy as sym\n",
        "import matplotlib.pyplot as plt\n",
        "from IPython.display import Math\n",
        "\n",
        "# define global figure properties used for publication\n",
        "import matplotlib_inline.backend_inline\n",
        "matplotlib_inline.backend_inline.set_matplotlib_formats('svg') # display figures in vector format\n",
        "plt.rcParams.update({'font.size':14,             # font size\n",
        "                     'savefig.dpi':300,          # output resolution\n",
        "                     'axes.titlelocation':'left',# title location\n",
        "                    #  'axes.spines.right':False,  # remove axis bounding box\n",
        "                    #  'axes.spines.top':False,    # remove axis bounding box\n",
        "                     'lines.linewidth':2         # increase default line thickness\n",
        "                     })"
      ]
    },
    {
      "cell_type": "code",
      "source": [],
      "metadata": {
        "id": "3e1EXYUxAzG0"
      },
      "execution_count": null,
      "outputs": []
    },
    {
      "cell_type": "markdown",
      "source": [
        "# Hilbert matrix (example of a 2D function)"
      ],
      "metadata": {
        "id": "SqhQTqJQntpk"
      }
    },
    {
      "cell_type": "code",
      "source": [
        "# size\n",
        "k = 5\n",
        "\n",
        "# sympy initialize\n",
        "H = sym.eye(k)\n",
        "\n",
        "# run the loop\n",
        "for i in range(1,k+1):\n",
        "  for j in range(1,k+1):\n",
        "\n",
        "    # equation 10.2\n",
        "    H[i-1,j-1] = sym.sympify(1) / (i+j-1)\n",
        "\n",
        "H"
      ],
      "metadata": {
        "id": "zzaNxuSzmXLH"
      },
      "execution_count": null,
      "outputs": []
    },
    {
      "cell_type": "code",
      "source": [],
      "metadata": {
        "id": "EAv_aI5WmXFL"
      },
      "execution_count": null,
      "outputs": []
    },
    {
      "cell_type": "markdown",
      "source": [
        "# Creating a grid of coordinates using meshgrid"
      ],
      "metadata": {
        "id": "v7qWzctxAyyx"
      }
    },
    {
      "cell_type": "code",
      "source": [
        "# the grid\n",
        "X,Y = np.meshgrid([-1,0,3,4],[1,2,3])\n",
        "\n",
        "# the numbers\n",
        "print(\"Matrix of x-indices (variable 'X'):\")\n",
        "print(X)\n",
        "\n",
        "print('')\n",
        "print(\"Matrix of y-indices (variable 'Y'):\")\n",
        "print(Y)"
      ],
      "metadata": {
        "id": "et3kt7vRAywG"
      },
      "execution_count": null,
      "outputs": []
    },
    {
      "cell_type": "code",
      "source": [
        "# a simple example of a 2D function\n",
        "Z = X**2 + Y\n",
        "\n",
        "display(Math('Z = X^2 + Y:'))\n",
        "Z"
      ],
      "metadata": {
        "id": "AzqLPCpQAytc"
      },
      "execution_count": null,
      "outputs": []
    },
    {
      "cell_type": "code",
      "source": [],
      "metadata": {
        "id": "5RPTWUQxAyqg"
      },
      "execution_count": null,
      "outputs": []
    },
    {
      "cell_type": "markdown",
      "source": [
        "# Figure 10.2: 2D function in 2 ways"
      ],
      "metadata": {
        "id": "MR1rptPPKIRp"
      }
    },
    {
      "cell_type": "code",
      "source": [
        "# for the contour plot:\n",
        "from mpl_toolkits.mplot3d import Axes3D\n",
        "\n",
        "\n",
        "# domain and grid spacing\n",
        "domain = [0, 2*np.pi]\n",
        "n = 31\n",
        "\n",
        "x = np.linspace(domain[0],domain[1],n)\n",
        "y = np.linspace(domain[0],domain[1],n)\n",
        "\n",
        "X,Y = np.meshgrid(x,y)\n",
        "Z = np.sin(X) + np.cos(Y)\n",
        "\n",
        "\n",
        "fig = plt.figure(figsize=(12,6))\n",
        "\n",
        "# surface on the left\n",
        "ax1 = fig.add_subplot(1,2,1,projection='3d')\n",
        "ax1.plot_surface(X,Y,Z, cmap='gray')\n",
        "ax1.set(xlabel='x',ylabel='y',zlabel=r'$Z = f(x,y)$',zlim=[-1.8,1.8])\n",
        "ax1.set_title(r'$\\bf{A}$)  As a surface',loc='left')\n",
        "ax1.view_init(30,-110)\n",
        "\n",
        "\n",
        "# flat image on the right\n",
        "ax2 = fig.add_subplot(1,2,2)\n",
        "h = ax2.imshow(Z, extent=[domain[0], domain[1], domain[0], domain[1]],\n",
        "               origin='lower', vmin=-1.8,vmax=1.8,cmap='gray')\n",
        "ax2.set(xlabel='x', ylabel='y', title=r'$\\bf{B}$)  As an image')\n",
        "fig.colorbar(h,ax=ax2,label=r'$Z=f(x,y)$',fraction=.045)\n",
        "\n",
        "# finalize and save\n",
        "plt.tight_layout()\n",
        "plt.savefig('multivar_2dFun2ways.png')\n",
        "plt.show()"
      ],
      "metadata": {
        "id": "vmQmjrAaAy1q"
      },
      "execution_count": null,
      "outputs": []
    },
    {
      "cell_type": "code",
      "source": [],
      "metadata": {
        "id": "xoYZPgMxiFOt"
      },
      "execution_count": null,
      "outputs": []
    },
    {
      "cell_type": "markdown",
      "source": [
        "# Figure 10.3: Hilbertish matrix"
      ],
      "metadata": {
        "id": "J4ngDJeqiFLw"
      }
    },
    {
      "cell_type": "code",
      "source": [
        "# if you don't use positive integers, it's no longer formally a Hilbert matrix,\n",
        "# but it is still a valid function.\n",
        "\n",
        "k = 21\n",
        "x = np.linspace(-3,3,k)\n",
        "y = np.linspace(-3,3,k)\n",
        "\n",
        "H = np.zeros((k,k))\n",
        "\n",
        "for xi in range(k):\n",
        "  for yi in range(k):\n",
        "    H[yi,xi] = 1 / (x[xi]+y[yi]-1)\n",
        "\n",
        "# visualize\n",
        "plt.imshow(H,extent=[x[0],x[-1],y[0],y[-1]],origin='lower',cmap='gray',vmin=-2,vmax=4)\n",
        "plt.colorbar()\n",
        "\n",
        "plt.tight_layout()\n",
        "plt.savefig('multivar_Hilbertish.png')\n",
        "plt.show()"
      ],
      "metadata": {
        "id": "RKr1KrJhmXH9"
      },
      "execution_count": null,
      "outputs": []
    },
    {
      "cell_type": "code",
      "source": [],
      "metadata": {
        "id": "ytNVRVoUAyn7"
      },
      "execution_count": null,
      "outputs": []
    },
    {
      "cell_type": "markdown",
      "source": [
        "# Figure 10.4: Limits example"
      ],
      "metadata": {
        "id": "iHKSY77U73f5"
      }
    },
    {
      "cell_type": "code",
      "source": [
        "xx = np.linspace(-4,4,102)\n",
        "X,Y = np.meshgrid(xx,xx)\n",
        "Z = (2*X + 3*Y + 4*X*Y**2)  /  np.sqrt(X**2 + Y**2)\n",
        "\n",
        "fig = plt.figure(figsize=(6,4))\n",
        "plt.imshow(Z, extent=[xx[0], xx[-1], xx[0], xx[-1]], vmin=-20,vmax=20, origin='lower',cmap='gray')\n",
        "plt.plot(0,1,'ko',markerfacecolor='w',markersize=8)\n",
        "\n",
        "plt.gca().set(xlabel='x',ylabel='y')\n",
        "\n",
        "# finalize and save\n",
        "plt.tight_layout()\n",
        "plt.savefig('multivar_limitAsymEx0.png')\n",
        "plt.show()"
      ],
      "metadata": {
        "id": "4heU4a4OMmNX"
      },
      "execution_count": null,
      "outputs": []
    },
    {
      "cell_type": "code",
      "source": [
        "# I was just curious to see the distribution of values in the function.\n",
        "# This isn't part of the book but I left the code here in case you're also curious :P\n",
        "plt.hist(Z.flatten(),50);"
      ],
      "metadata": {
        "id": "b6M6BGObMmKF"
      },
      "execution_count": null,
      "outputs": []
    },
    {
      "cell_type": "code",
      "source": [],
      "metadata": {
        "id": "PfTxSePOJrk9"
      },
      "execution_count": null,
      "outputs": []
    },
    {
      "cell_type": "markdown",
      "source": [
        "# Figure 10.5: Limits from different directions"
      ],
      "metadata": {
        "id": "3dheCaSIJrh3"
      }
    },
    {
      "cell_type": "code",
      "source": [
        "xx = np.linspace(-4,4,101)\n",
        "X,Y = np.meshgrid(xx,xx)\n",
        "Z = (X*Y) / (X**2 + Y**2)\n",
        "\n",
        "fig = plt.figure(figsize=(6,4))\n",
        "plt.imshow(Z, extent=[xx[0], xx[-1], xx[0], xx[-1]], origin='lower',\n",
        "               vmin=-.5,vmax=.5,cmap='gray')\n",
        "plt.plot(xx[[0,-1]],[0,0],'--',color=[.8,.8,.8],linewidth=1)\n",
        "plt.plot([0,0],xx[[0,-1]],'--',color=[.8,.8,.8],linewidth=1)\n",
        "plt.plot(xx[[0,-1]],xx[[0,-1]],'--',color=[.2,.2,.2],linewidth=1)\n",
        "\n",
        "\n",
        "plt.gca().set(xlabel='x',ylabel='y')\n",
        "\n",
        "# finalize and save\n",
        "plt.tight_layout()\n",
        "plt.savefig('multivar_limitAsymEx.png')\n",
        "plt.show()"
      ],
      "metadata": {
        "id": "rOoWOqQm74oQ"
      },
      "execution_count": null,
      "outputs": []
    },
    {
      "cell_type": "code",
      "source": [
        "# in sympy\n",
        "x,y = sym.symbols('x,y')\n",
        "f = 2*x + 4/y\n",
        "\n",
        "# using the sympy function limit()\n",
        "limX = sym.limit(f,x,0)\n",
        "limY = sym.limit(f,y,2)\n",
        "\n",
        "display(Math('\\lim_{x \\\\to 0} \\\\left( %s \\\\right) \\; = \\; %s' %(sym.latex(f),sym.latex(limX))))\n",
        "print('')\n",
        "display(Math('\\lim_{y \\\\to 2} \\\\left( %s \\\\right) \\; = \\; %s' %(sym.latex(f),sym.latex(limY))))"
      ],
      "metadata": {
        "id": "PugA0dVM73c9"
      },
      "execution_count": null,
      "outputs": []
    },
    {
      "cell_type": "code",
      "source": [
        "# more compact using methods\n",
        "\n",
        "# first x then y\n",
        "limXY = sym.limit(f,x,0).limit(y,2)\n",
        "display(Math('\\lim_{y \\\\to 2} \\\\left( %s \\\\right) \\; = \\; %s' %(sym.latex(f.subs(x,0)),sym.latex(limXY))))\n",
        "print('')\n",
        "\n",
        "# first y then x\n",
        "limYX = sym.limit(f,y,2).limit(x,0)\n",
        "display(Math('\\lim_{x \\\\to 0} \\\\left( %s \\\\right) \\; = \\; %s' %(sym.latex(f.subs(y,2)),sym.latex(limYX))))\n"
      ],
      "metadata": {
        "id": "hiHWjMfO73aV"
      },
      "execution_count": null,
      "outputs": []
    },
    {
      "cell_type": "code",
      "source": [],
      "metadata": {
        "id": "24N9nqx173Jp"
      },
      "execution_count": null,
      "outputs": []
    },
    {
      "cell_type": "markdown",
      "source": [
        "# Figure 10.6: Function and its partial derivatives"
      ],
      "metadata": {
        "id": "Xd2UnNzjkE-3"
      }
    },
    {
      "cell_type": "code",
      "source": [
        "# create coordinate grid matrices\n",
        "xx = np.linspace(-2,2,41)\n",
        "X,Y = np.meshgrid(xx,xx)\n",
        "\n",
        "# the function\n",
        "Fxy = X**2 + X*Y + Y\n",
        "\n",
        "# and its derivatives\n",
        "F_x = 2*X + Y\n",
        "F_y = X + 1\n",
        "\n",
        "\n",
        "# same color limits for all plots\n",
        "clim = [-3,3]\n",
        "\n",
        "# now draw them\n",
        "_,axs = plt.subplots(1,3,figsize=(13,5))\n",
        "h1 = axs[0].imshow(Fxy,extent=[xx[0],xx[-1],xx[0],xx[-1]],origin='lower',cmap='gray',vmin=clim[0],vmax=clim[1])\n",
        "axs[0].set_title(r'$\\bf{A}$)  $F(x,y) = x^2+xy+y$')\n",
        "\n",
        "h2 = axs[1].imshow(F_x,extent=[xx[0],xx[-1],xx[0],xx[-1]],origin='lower',cmap='gray',vmin=clim[0],vmax=clim[1])\n",
        "axs[1].set_title(r'$\\bf{B}$)  $F_x = 2x+y$')\n",
        "\n",
        "h3 = axs[2].imshow(F_y,extent=[xx[0],xx[-1],xx[0],xx[-1]],origin='lower',cmap='gray',vmin=clim[0],vmax=clim[1])\n",
        "axs[2].set_title(r'$\\bf{C}$)  $F_y = x+1$')\n",
        "\n",
        "\n",
        "# colorbars\n",
        "fig.colorbar(h1,ax=axs[0],fraction=.045)\n",
        "fig.colorbar(h2,ax=axs[1],fraction=.045)\n",
        "fig.colorbar(h3,ax=axs[2],fraction=.045)\n",
        "\n",
        "for a in axs:\n",
        "  a.set_xlabel('x')\n",
        "  a.set_ylabel('y')\n",
        "\n",
        "plt.tight_layout()\n",
        "plt.savefig('multivar_simpleExample.png')\n",
        "plt.show()"
      ],
      "metadata": {
        "id": "e2dNrnX2kE5w"
      },
      "execution_count": null,
      "outputs": []
    },
    {
      "cell_type": "code",
      "source": [],
      "metadata": {
        "id": "Br9zsZkdyP2v"
      },
      "execution_count": null,
      "outputs": []
    },
    {
      "cell_type": "markdown",
      "source": [
        "# Figure 10.7: Another example"
      ],
      "metadata": {
        "id": "hIjN0x09kE0a"
      }
    },
    {
      "cell_type": "code",
      "source": [
        "# create coordinate grid matrices\n",
        "xx = np.linspace(-2*np.pi,2*np.pi,91)\n",
        "X,Y = np.meshgrid(xx,xx)\n",
        "\n",
        "# the function\n",
        "Fxy = 2*X**3 + 5*Y**3 + np.cos(X)*np.sin(Y)\n",
        "\n",
        "# and its derivatives\n",
        "F_x =  6*X**2 - np.sin(X)*np.sin(Y)\n",
        "F_y = 15*Y**2 + np.cos(X)*np.cos(Y)\n",
        "\n",
        "\n",
        "\n",
        "# now draw them\n",
        "fig,axs = plt.subplots(1,3,figsize=(15,6))\n",
        "h1 = axs[0].imshow(Fxy,extent=[xx[0],xx[-1],xx[0],xx[-1]],origin='lower',cmap='gray',vmin=-500,vmax=500)\n",
        "axs[0].set_title(r'$\\bf{A}$)  $F(x,y) = 2x^3 + 5y^3 + \\cos(x)\\sin(y)$')\n",
        "\n",
        "h2 = axs[1].imshow(F_x,extent=[xx[0],xx[-1],xx[0],xx[-1]],origin='lower',cmap='gray')\n",
        "axs[1].set_title(r'$\\bf{B}$)  $F_x = 6x^2 -\\sin(x)\\sin(y)$')\n",
        "\n",
        "h3 = axs[2].imshow(F_y,extent=[xx[0],xx[-1],xx[0],xx[-1]],origin='lower',cmap='gray')\n",
        "axs[2].set_title(r'$\\bf{C}$)  $F_y = 15y^2 + \\cos(x)\\cos(y)$')\n",
        "\n",
        "# colorbars\n",
        "fig.colorbar(h1,ax=axs[0],fraction=.045)\n",
        "fig.colorbar(h2,ax=axs[1],fraction=.045)\n",
        "fig.colorbar(h3,ax=axs[2],fraction=.045)\n",
        "\n",
        "for a in axs: a.set(xlabel='x',ylabel='y')\n",
        "\n",
        "plt.tight_layout()\n",
        "plt.savefig('multivar_lessSimpleExample.png')\n",
        "plt.show()"
      ],
      "metadata": {
        "id": "pc5dh9ejkEwK"
      },
      "execution_count": null,
      "outputs": []
    },
    {
      "cell_type": "code",
      "source": [],
      "metadata": {
        "id": "JT15Ok0UKaVr"
      },
      "execution_count": null,
      "outputs": []
    },
    {
      "cell_type": "markdown",
      "source": [
        "# Figure 10.8: Partial derivatives"
      ],
      "metadata": {
        "id": "NWgethcEAylA"
      }
    },
    {
      "cell_type": "code",
      "source": [
        "x,y = sym.symbols('x,y')\n",
        "f = sym.sin(x) + sym.cos(y) - x*y\n",
        "sym.diff(f,x), sym.diff(f,y)"
      ],
      "metadata": {
        "id": "in4U2FsOxAqZ"
      },
      "execution_count": null,
      "outputs": []
    },
    {
      "cell_type": "code",
      "source": [
        "# domain and grid spacing\n",
        "domain = [0, 2*np.pi]\n",
        "n = 31\n",
        "\n",
        "x = np.linspace(domain[0],domain[1],n)\n",
        "y = np.linspace(domain[0],domain[1],n)\n",
        "\n",
        "# the function\n",
        "X,Y = np.meshgrid(x,y)\n",
        "Z = np.sin(X) + np.cos(Y) - X*Y/10\n",
        "\n",
        "# its partial derivatives\n",
        "dZx = np.cos(X) - Y/10\n",
        "dZy = -np.sin(Y) - X/10\n",
        "\n",
        "\n",
        "\n",
        "_,axs = plt.subplots(1,3,figsize=(12,6))\n",
        "\n",
        "# plot the function\n",
        "axs[0].imshow(Z, extent=[domain[0], domain[1], domain[0], domain[1]], origin='lower', vmin=-3,vmax=3,cmap='gray')\n",
        "\n",
        "# arrows for the partial derivative directions\n",
        "axs[0].annotate(r'$\\frac{\\partial f}{\\partial x}$', xy=(5.5,np.pi), xytext=(3,np.pi), va='center',\n",
        "             arrowprops=dict(facecolor='w',edgecolor='w'), fontsize=30, color='white',fontweight='bold')\n",
        "axs[0].plot(3.8,np.pi,'wo',zorder=10,markersize=10)\n",
        "\n",
        "axs[0].annotate(r'$\\frac{\\partial f}{\\partial y}$', xy=(np.pi/2,3.5), xytext=(np.pi/2,1), va='center', ha='center',\n",
        "             arrowprops=dict(facecolor='k'), fontsize=30, color='k',fontweight='bold')\n",
        "axs[0].plot(np.pi/2,1.7,'ko',zorder=10,markersize=10)\n",
        "axs[0].set_title(r'$\\bf{A}$)  Function')\n",
        "\n",
        "\n",
        "\n",
        "# plot the derivatives\n",
        "axs[1].imshow(dZx, extent=[domain[0], domain[1], domain[0], domain[1]], origin='lower', vmin=-2,vmax=2,cmap='gray')\n",
        "axs[1].plot(3.6,np.pi,'ko',markerfacecolor='w',zorder=10,markersize=10)\n",
        "axs[1].set_title(r'$\\bf{B}$)  Partial x')\n",
        "\n",
        "axs[2].imshow(dZy, extent=[domain[0], domain[1], domain[0], domain[1]], origin='lower', vmin=-2,vmax=2,cmap='gray')\n",
        "axs[2].plot(np.pi/2,1.55,'o',color='gray',markerfacecolor='k',zorder=10,markersize=10)\n",
        "axs[2].set_title(r'$\\bf{C}$)  Partial y')\n",
        "\n",
        "\n",
        "# finalize and save\n",
        "for a in axs: a.set(xlabel='x', ylabel='y')\n",
        "plt.tight_layout()\n",
        "plt.savefig('multivar_2dDerivInterp.png')\n",
        "plt.show()"
      ],
      "metadata": {
        "id": "eDED59KryP0H"
      },
      "execution_count": null,
      "outputs": []
    },
    {
      "cell_type": "code",
      "source": [],
      "metadata": {
        "id": "vTBNps4YkEtF"
      },
      "execution_count": null,
      "outputs": []
    },
    {
      "cell_type": "markdown",
      "source": [
        "# Figure 10.9: Higher-order partial derivatives"
      ],
      "metadata": {
        "id": "2zNK90yALa_B"
      }
    },
    {
      "cell_type": "code",
      "source": [
        "\n",
        "# create coordinate grid matrices\n",
        "xx = np.linspace(-2*np.pi,2*np.pi,151)\n",
        "X,Y = np.meshgrid(xx,xx)\n",
        "\n",
        "# the function\n",
        "Fxy = np.cos(2*X*Y**2) + X**2 - Y*np.exp(X)\n",
        "\n",
        "# partial derivatives\n",
        "F_x = -2*Y**2 * np.sin(2*X*Y**2) + 2*X - Y*np.exp(X)\n",
        "F_y = -4*X*Y * np.sin(2*X*Y**2) - np.exp(X)\n",
        "\n",
        "# second-order partial derivatives\n",
        "F_xx = -4*Y**4 * np.cos(2*X*Y**2) + 2 - Y*np.exp(X)\n",
        "F_yy = -4*X*np.sin(2*X*Y**2) - 16*X**2*Y**2 * np.cos(2*X*Y**2)\n",
        "F_xy = -8*X*Y**3 * np.cos(2*X*Y**2) - 4*Y * np.sin(2*X*Y**2) - np.exp(X)\n",
        "\n",
        "\n",
        "# show the function and its first-order derivatives\n",
        "_,axs = plt.subplots(2,3,figsize=(12,8))\n",
        "axs[0,0].imshow(Fxy,extent=[xx[0],xx[-1],xx[0],xx[-1]],origin='lower',cmap='gray',vmin=-50,vmax=50)\n",
        "axs[0,0].set_title(r'$\\bf{A}$)  $f(x,y)$')\n",
        "\n",
        "axs[0,1].imshow(F_x,extent=[xx[0],xx[-1],xx[0],xx[-1]],origin='lower',cmap='gray',vmin=-50,vmax=50)\n",
        "axs[0,1].set_title(r'$\\bf{B}$)  $f_x$')\n",
        "\n",
        "axs[0,2].imshow(F_y,extent=[xx[0],xx[-1],xx[0],xx[-1]],origin='lower',cmap='gray',vmin=-50,vmax=50)\n",
        "axs[0,2].set_title(r'$\\bf{C}$)  $f_y$')\n",
        "\n",
        "\n",
        "# and the second-order derivatives\n",
        "axs[1,0].imshow(F_xx,extent=[xx[0],xx[-1],xx[0],xx[-1]],origin='lower',cmap='gray',vmin=-500,vmax=500)\n",
        "axs[1,0].set_title(r'$\\bf{D}$)  $f_{xx}$')\n",
        "\n",
        "axs[1,1].imshow(F_yy,extent=[xx[0],xx[-1],xx[0],xx[-1]],origin='lower',cmap='gray',vmin=-500,vmax=500)\n",
        "axs[1,1].set_title(r'$\\bf{E}$)  $f_{yy}$')\n",
        "\n",
        "axs[1,2].imshow(F_xy,extent=[xx[0],xx[-1],xx[0],xx[-1]],origin='lower',cmap='gray',vmin=-500,vmax=500)\n",
        "axs[1,2].set_title(r'$\\bf{F}$)  $f_{xy} = f_{yx}$')\n",
        "\n",
        "\n",
        "for a in axs.flatten()[:-1]: a.set(xticks=[],yticks=[])\n",
        "\n",
        "plt.tight_layout()\n",
        "plt.savefig('multivar_hopdExample.png')\n",
        "plt.show()"
      ],
      "metadata": {
        "id": "ujnAy6k1kEqR"
      },
      "execution_count": null,
      "outputs": []
    },
    {
      "cell_type": "code",
      "source": [],
      "metadata": {
        "id": "Ndxfc9L3jQDw"
      },
      "execution_count": null,
      "outputs": []
    },
    {
      "cell_type": "markdown",
      "source": [
        "# Figure 10.10: A function and its partial derivaties"
      ],
      "metadata": {
        "id": "jLCWQ3oZ4JAs"
      }
    },
    {
      "cell_type": "code",
      "source": [
        "# create variables x and y\n",
        "x,y = sym.symbols('x,y')\n",
        "\n",
        "# the function\n",
        "fxy = x * sym.exp( -(x**2+y**2) )\n",
        "\n",
        "\n",
        "# lambdify the function and its partial derivatives\n",
        "fxy_l = sym.lambdify((x,y),fxy)\n",
        "dfx_l = sym.lambdify((x,y),sym.diff(fxy,x))\n",
        "dfy_l = sym.lambdify((x,y),sym.diff(fxy,y))\n",
        "\n",
        "N = 21\n",
        "xx = np.linspace(-2*np.pi/np.exp(1),2*np.pi/np.exp(1),N)\n",
        "X,Y = np.meshgrid(xx,xx)\n",
        "\n",
        "Z  = fxy_l(X,Y)\n",
        "Zx = dfx_l(X,Y)\n",
        "Zy = dfy_l(X,Y)\n",
        "\n",
        "_,axs = plt.subplots(1,3,figsize=(13,6))\n",
        "axs[0].imshow(Z,origin='lower',extent=[xx[0],xx[-1],xx[0],xx[-1]],vmin=-.5,vmax=.5,cmap='gray')\n",
        "axs[0].set_title(rf'$\\bf{{A}}$)  $f(x,y) = {sym.latex(fxy)}$')\n",
        "\n",
        "axs[1].imshow(Zx,origin='lower',extent=[xx[0],xx[-1],xx[0],xx[-1]],vmin=-.5,vmax=.5,cmap='gray')\n",
        "axs[1].set_title(rf'$\\bf{{B}}$)  $f_x = {sym.latex(sym.diff(fxy,x))}$')\n",
        "\n",
        "axs[2].imshow(Zy,origin='lower',extent=[xx[0],xx[-1],xx[0],xx[-1]],vmin=-.5,vmax=.5,cmap='gray')\n",
        "axs[2].set_title(rf'$\\bf{{C}}$)  $f_y = {sym.latex(sym.diff(fxy,y))}$')\n",
        "\n",
        "plt.tight_layout()\n",
        "plt.savefig('multivar_gradientField0.png')\n",
        "plt.show()"
      ],
      "metadata": {
        "id": "XOBXMt5SVh5d"
      },
      "execution_count": null,
      "outputs": []
    },
    {
      "cell_type": "code",
      "source": [],
      "metadata": {
        "id": "X_fmZ-4xkeAU"
      },
      "execution_count": null,
      "outputs": []
    },
    {
      "cell_type": "markdown",
      "source": [
        "# Figure 10.11: Gradient field"
      ],
      "metadata": {
        "id": "PTUXuG1RUM0S"
      }
    },
    {
      "cell_type": "code",
      "source": [
        "# plot the gradient\n",
        "\n",
        "_,axs = plt.subplots(1,3,figsize=(13,6))\n",
        "axs[0].imshow(Z,origin='lower',extent=[xx[0],xx[-1],xx[0],xx[-1]],vmin=-.5,vmax=.5,cmap='gray')\n",
        "axs[0].quiver(X, Y, Zx, np.zeros_like(Zx), headwidth=5, scale=7, width=.005)\n",
        "axs[0].set_title(rf'$\\bf{{A}}$)  $f(x,y)$ and $f_x$')\n",
        "\n",
        "axs[1].imshow(Z,origin='lower',extent=[xx[0],xx[-1],xx[0],xx[-1]],vmin=-.5,vmax=.5,cmap='gray')\n",
        "axs[1].quiver(X,Y,np.zeros_like(Zy),Zy, headwidth=5, scale=7, width=.005)\n",
        "axs[1].set_title(rf'$\\bf{{B}}$)  $f(x,y)$ and $f_y$')\n",
        "\n",
        "axs[2].imshow(Z,origin='lower',extent=[xx[0],xx[-1],xx[0],xx[-1]],vmin=-.5,vmax=.5,cmap='gray')\n",
        "axs[2].quiver(X,Y,Zx,Zy, headwidth=5, scale=7, width=.005)\n",
        "axs[2].set_title(rf'$\\bf{{C}}$)  $f(x,y)$ and $\\nabla f$')\n",
        "\n",
        "plt.tight_layout()\n",
        "plt.savefig('multivar_gradientField1.png')\n",
        "plt.show()"
      ],
      "metadata": {
        "id": "OBsNE47vFsgF"
      },
      "execution_count": null,
      "outputs": []
    },
    {
      "cell_type": "code",
      "source": [],
      "metadata": {
        "id": "VdhcJMk0UM25"
      },
      "execution_count": null,
      "outputs": []
    },
    {
      "cell_type": "markdown",
      "source": [
        "# Figure 10.13: 3D rendering of a tangent plane"
      ],
      "metadata": {
        "id": "0FyELQaPjQA7"
      }
    },
    {
      "cell_type": "code",
      "source": [
        "# functions for the function and its partial derivatives\n",
        "def f(x,y): return x**2 + y**2\n",
        "def fx(x,y): return 2*x\n",
        "def fy(x,y): return 2*y\n",
        "\n",
        "# grid and function\n",
        "xx = np.linspace(-2,2,101)\n",
        "X, Y = np.meshgrid(xx,xx)\n",
        "Z = f(X,Y)\n",
        "\n",
        "# point on the function to evaluate the tangent plane\n",
        "x0,y0 = 1,1\n",
        "z0 = f(x0,y0)\n",
        "\n",
        "# gradient at (x0, y0)\n",
        "grad_x = fx(x0,y0)\n",
        "grad_y = fy(x0,y0)\n",
        "\n",
        "# equation of the tangent plane\n",
        "Z_tangent = z0 + grad_x*(X-x0) + grad_y*(Y-y0)\n",
        "\n",
        "# setup the figure\n",
        "fig = plt.figure(figsize=(10,7))\n",
        "ax = fig.add_subplot(111,projection='3d')\n",
        "\n",
        "# plot the surface of the function\n",
        "ax.plot_surface(X,Y,Z,cmap='gray',alpha=.7)\n",
        "\n",
        "# tangent plane and label\n",
        "ax.plot_surface(X,Y,Z_tangent, color='red', alpha=.4)\n",
        "ax.scatter(x0,y0,z0,color='k',s=100)\n",
        "ax.text(x0,y0,z0,'Tangent Point')\n",
        "\n",
        "# finalizations\n",
        "ax.set(xlabel='x',ylabel='y',zlabel='f(x,y)',xticklabels=[],yticklabels=[],zticklabels=[])\n",
        "ax.view_init(30,-110)\n",
        "\n",
        "plt.savefig('multivar_tangentPlane.png')\n",
        "plt.show()"
      ],
      "metadata": {
        "id": "S1K-_TELjP9z"
      },
      "execution_count": null,
      "outputs": []
    },
    {
      "cell_type": "code",
      "source": [],
      "metadata": {
        "id": "tFNTAg5dkn5U"
      },
      "execution_count": null,
      "outputs": []
    }
  ]
}