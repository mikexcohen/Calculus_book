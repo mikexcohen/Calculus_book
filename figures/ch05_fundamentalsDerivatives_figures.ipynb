{
  "nbformat": 4,
  "nbformat_minor": 0,
  "metadata": {
    "colab": {
      "private_outputs": true,
      "provenance": [],
      "authorship_tag": "ABX9TyMiDTPMB/4f7ULZsj+3dDVk"
    },
    "kernelspec": {
      "name": "python3",
      "display_name": "Python 3"
    },
    "language_info": {
      "name": "python"
    }
  },
  "cells": [
    {
      "cell_type": "markdown",
      "metadata": {
        "id": "IMCG77qiecTi"
      },
      "source": [
        "<a href=\"https://colab.research.google.com/github/mikexcohen/Calculus_book/blob/main/figures/ch05_fundamentalsDerivatives_figures.ipynb\" target=\"_parent\"><img src=\"https://colab.research.google.com/assets/colab-badge.svg\" alt=\"Open In Colab\"/></a>"
      ]
    },
    {
      "cell_type": "markdown",
      "source": [
        "# **Calculus unraveled: Intuition, Proofs, and Python**\n",
        "### Mike X Cohen (sincxpress.com)\n",
        "#### https://github.com/mikexcohen/calculus_book\n",
        "#### Code for Chapter 5 (Fundamentals of differentiation)\n",
        "\n",
        "---\n",
        "\n",
        "# About this code file:\n",
        "\n",
        "### This notebook will reproduce the figures in this chapter, and illustrate the mathematical concepts explained in the book. The point of providing the code is not just for you to recreate the figures, but for you to modify, adapt, explore, and experiment with the code.\n",
        "\n",
        "## **Using the code without the book may lead to confusion or errors.**\n",
        "\n",
        "#### This code was written in google-colab. The notebook may require some modifications if you use a different IDE."
      ],
      "metadata": {
        "id": "jb67RuPgecTj"
      }
    },
    {
      "cell_type": "code",
      "execution_count": null,
      "metadata": {
        "id": "eGXSyuELY8U4"
      },
      "outputs": [],
      "source": []
    },
    {
      "cell_type": "code",
      "execution_count": null,
      "metadata": {
        "id": "oYWhHwGQ9OdD"
      },
      "outputs": [],
      "source": [
        "# import libraries and define global settings\n",
        "import numpy as np\n",
        "import sympy as sym\n",
        "import matplotlib.pyplot as plt\n",
        "\n",
        "# define global figure properties used for publication\n",
        "import matplotlib_inline.backend_inline\n",
        "matplotlib_inline.backend_inline.set_matplotlib_formats('svg') # display figures in vector format\n",
        "plt.rcParams.update({'font.size':14,             # font size\n",
        "                     'savefig.dpi':300,          # output resolution\n",
        "                     'axes.titlelocation':'left',# title location\n",
        "                     'axes.spines.right':False,  # remove axis bounding box\n",
        "                     'axes.spines.top':False,    # remove axis bounding box\n",
        "                     'lines.linewidth':2         # increase default line thickness\n",
        "                     })"
      ]
    },
    {
      "cell_type": "code",
      "source": [],
      "metadata": {
        "id": "yzsQ-jM2Bxqg"
      },
      "execution_count": null,
      "outputs": []
    },
    {
      "cell_type": "markdown",
      "source": [
        "# Figure 5.1: A line to indicate slope"
      ],
      "metadata": {
        "id": "Wmg7019oh3Uq"
      }
    },
    {
      "cell_type": "code",
      "source": [
        "# two coordinates\n",
        "p1 = [-1,1]\n",
        "p2 = [3,6]\n",
        "\n",
        "# the plot\n",
        "plt.figure(figsize=(8,4))\n",
        "plt.plot([p1[0],p2[0]],[p1[1],p2[1]],'ko-',markersize=10,markerfacecolor='gray')\n",
        "plt.annotate(r'$p_1$',xy=p1, xytext=(p1[0],p1[1]-.7), fontsize=22)\n",
        "plt.annotate(r'$p_2$',xy=p2, xytext=(p2[0]+.3,p2[1]), fontsize=22)\n",
        "plt.text(3,2,r'$m = \\frac{y_2-y_1}{x_2-x_1}$',fontsize=22,backgroundcolor='w')\n",
        "\n",
        "# beautification\n",
        "plt.xlim([-2,6])\n",
        "plt.ylim([-1,7])\n",
        "plt.grid(color=[.8,.8,.8],linestyle='--')\n",
        "plt.tight_layout()\n",
        "plt.savefig('funddiff_slopeOfLine.png')\n",
        "plt.show()"
      ],
      "metadata": {
        "id": "HYXy4gm-hPDD"
      },
      "execution_count": null,
      "outputs": []
    },
    {
      "cell_type": "code",
      "source": [],
      "metadata": {
        "id": "CNSCvZe4h3R3"
      },
      "execution_count": null,
      "outputs": []
    },
    {
      "cell_type": "markdown",
      "source": [
        "# Figure 5.2: Lots of lines with the same slope but different intercepts"
      ],
      "metadata": {
        "id": "ZYyoEdxFkIGJ"
      }
    },
    {
      "cell_type": "code",
      "source": [
        "m = 5/4\n",
        "x = np.array([-1,3])\n",
        "\n",
        "plt.figure(figsize=(4,4))\n",
        "for b in np.linspace(0,4,15):\n",
        "  plt.plot(x,m*x + b, color=np.ones(3)*b/4.5)\n",
        "\n",
        "plt.xlim(x)\n",
        "plt.ylim([-1,7])\n",
        "plt.tight_layout()\n",
        "plt.savefig('funddiff_sameSlopeDiffInts.png')\n",
        "plt.show()"
      ],
      "metadata": {
        "id": "cG-CjefOkMXJ"
      },
      "execution_count": null,
      "outputs": []
    },
    {
      "cell_type": "code",
      "source": [],
      "metadata": {
        "id": "YlOOJOnAkLjZ"
      },
      "execution_count": null,
      "outputs": []
    },
    {
      "cell_type": "markdown",
      "source": [
        "# Figure 5.3: Piecewise function with two segments"
      ],
      "metadata": {
        "id": "T7R_zuwmpwFJ"
      }
    },
    {
      "cell_type": "code",
      "source": [
        "# xy points\n",
        "x = np.array([-1,1,3])\n",
        "y = np.array([1,2,6])\n",
        "\n",
        "# the plot\n",
        "plt.figure(figsize=(8,4))\n",
        "plt.plot(x,y,'ko-',markersize=10,markerfacecolor='gray')\n",
        "plt.annotate(r'$p_1$',xy=p1, xytext=(p1[0],p1[1]-.7), fontsize=22)\n",
        "plt.annotate(r'$p_2$',xy=p2, xytext=(p2[0]+.3,p2[1]), fontsize=22)\n",
        "\n",
        "# beautification\n",
        "plt.xlim([-2,6])\n",
        "plt.ylim([-1,7])\n",
        "plt.grid(color=[.8,.8,.8],linestyle='--')\n",
        "plt.tight_layout()\n",
        "plt.savefig('funddiff_line2segments.png')\n",
        "plt.show()"
      ],
      "metadata": {
        "id": "olPC0QkGh3PO"
      },
      "execution_count": null,
      "outputs": []
    },
    {
      "cell_type": "code",
      "source": [],
      "metadata": {
        "id": "11ZvnmrTh3Mj"
      },
      "execution_count": null,
      "outputs": []
    },
    {
      "cell_type": "markdown",
      "source": [
        "# Figure 5.4: And now with four segments!"
      ],
      "metadata": {
        "id": "DLnNJJoFp1pI"
      }
    },
    {
      "cell_type": "code",
      "source": [
        "# define function\n",
        "N = 5\n",
        "x = np.linspace(-1,5,N)\n",
        "y = x**2\n",
        "\n",
        "plt.figure(figsize=(4,4))\n",
        "plt.plot(x,y,'ko-',markersize=10,markerfacecolor='gray')\n",
        "plt.xlabel('$x$')\n",
        "plt.ylabel('$y = f(x)$')\n",
        "\n",
        "plt.tight_layout()\n",
        "plt.savefig('funddiff_line4segments.png')\n",
        "plt.show()"
      ],
      "metadata": {
        "id": "VpQbuZbeh3Jz"
      },
      "execution_count": null,
      "outputs": []
    },
    {
      "cell_type": "code",
      "source": [],
      "metadata": {
        "id": "FyiK5C4RN4AP"
      },
      "execution_count": null,
      "outputs": []
    },
    {
      "cell_type": "markdown",
      "source": [
        "# Figure 5.5: A horizontal line (constant function) has derivative = 0"
      ],
      "metadata": {
        "id": "lWVWSakYN39l"
      }
    },
    {
      "cell_type": "code",
      "source": [
        "x = np.linspace(0,4,37)\n",
        "fx = np.full(len(x),np.log(np.sqrt(np.exp(np.pi))))\n",
        "\n",
        "plt.figure(figsize=(4,4))\n",
        "plt.plot(x,fx,'k',label=r'$f(x) = \\ln\\left(\\sqrt{e^{\\pi}}\\right)$')\n",
        "\n",
        "plt.gca().set(xlim=x[[0,-1]],ylim=[0,2],xlabel='x',ylabel='y')\n",
        "plt.legend()\n",
        "\n",
        "plt.tight_layout()\n",
        "plt.savefig('funddiff_constantfun.png')\n",
        "plt.show()"
      ],
      "metadata": {
        "id": "opVA31bwN-Jh"
      },
      "execution_count": null,
      "outputs": []
    },
    {
      "cell_type": "code",
      "source": [],
      "metadata": {
        "id": "d9-eiuYM4iPe"
      },
      "execution_count": null,
      "outputs": []
    },
    {
      "cell_type": "markdown",
      "source": [
        "# Figure 5.6: Some function..."
      ],
      "metadata": {
        "id": "3pACuuRBqA8A"
      }
    },
    {
      "cell_type": "code",
      "source": [
        "x = np.linspace(.001,7,432)\n",
        "fx = np.log(4*x) - np.exp(x-x**2) + np.cos(np.pi*x)\n",
        "df = np.diff(fx) / (x[1]-x[0])\n",
        "\n",
        "plt.figure(figsize=(4.5,4.5))\n",
        "plt.plot(x,fx,'k')\n",
        "# plt.plot(x[:-1],df,'k--')\n",
        "plt.gca().set(xlim=[-.1,x[-1]],xlabel='x',ylabel='$y=f(x)$')\n",
        "plt.title(r'$f(x) = \\ln(4x) - e^{x-x^2} + \\cos(\\pi x)$')\n",
        "\n",
        "plt.tight_layout()\n",
        "plt.savefig('funddiff_somefun.png')\n",
        "plt.show()"
      ],
      "metadata": {
        "id": "Wpt3Q_gr4iMG"
      },
      "execution_count": null,
      "outputs": []
    },
    {
      "cell_type": "code",
      "source": [],
      "metadata": {
        "id": "xnlFFA1Yh3HR"
      },
      "execution_count": null,
      "outputs": []
    },
    {
      "cell_type": "markdown",
      "source": [
        "# Figure 5.7: Tangent and secant lines"
      ],
      "metadata": {
        "id": "atobe8VJh3Eq"
      }
    },
    {
      "cell_type": "code",
      "source": [
        "# Note: The code to generate Figure 5.7 is part of Exercise 5.6."
      ],
      "metadata": {
        "id": "lUbPG_bDqEwK"
      },
      "execution_count": null,
      "outputs": []
    },
    {
      "cell_type": "code",
      "source": [],
      "metadata": {
        "id": "bAM5NrjdqEzH"
      },
      "execution_count": null,
      "outputs": []
    },
    {
      "cell_type": "markdown",
      "source": [
        "# Figure 5.8: Failure cases of initial definitions"
      ],
      "metadata": {
        "id": "icBLERRaYtJv"
      }
    },
    {
      "cell_type": "code",
      "source": [
        "# Note: the next code cell implements procedures that I describe in Exercise 6.\n",
        "# I suggest ignoring this code until after completing that exercise."
      ],
      "metadata": {
        "id": "UnqTw9xqYzCf"
      },
      "execution_count": null,
      "outputs": []
    },
    {
      "cell_type": "code",
      "source": [
        "# x-axis grid\n",
        "x = np.linspace(-4,4,157)\n",
        "\n",
        "_,axs = plt.subplots(1,2,figsize=(12,4))\n",
        "\n",
        "\n",
        "#### panel A: \"tangent line\" through one point\n",
        "# plotting\n",
        "axs[0].plot(x,x**2,'k')\n",
        "axs[0].plot(x,-2*x+8,':',color=[.4,.4,.4])\n",
        "axs[0].plot(2,4,'ko',markersize=8,markerfacecolor='w')\n",
        "axs[0].set(xlabel='x',ylabel='y',ylim=[-1,10],xlim=x[[0,-1]])\n",
        "axs[0].grid(color=[.9,.9,.9])\n",
        "axs[0].set_title(r'$\\bf{A}$)  \"Tangent line\" through one point?')\n",
        "\n",
        "\n",
        "\n",
        "#### panel B: tangent line through many points\n",
        "# xy intersection points for the tangent\n",
        "x_t  = 1.5 # tangent line intersection point\n",
        "y_t  = np.sin(x_t)\n",
        "\n",
        "# x-axis grid\n",
        "x = np.linspace(0,4*np.pi,157)\n",
        "\n",
        "# slope of the tangent line is the function derivative\n",
        "m_t = -np.cos(x_t)\n",
        "\n",
        "\n",
        "#### plotting\n",
        "axs[1].plot(x,np.sin(x),'k')\n",
        "axs[1].plot(x,m_t*(x-x_t) + y_t,':',color=[.4,.4,.4])\n",
        "axs[1].plot([x_t,x_t],[y_t,y_t],'ko',markersize=8,markerfacecolor='w')\n",
        "\n",
        "axs[1].set(xlabel='x',ylabel='y',ylim=[-1.4,1.4],xlim=x[[0,-1]])\n",
        "axs[1].grid(color=[.9,.9,.9])\n",
        "axs[1].set_title(r'$\\bf{B}$)  Tangent line through many points?')\n",
        "\n",
        "\n",
        "plt.tight_layout()\n",
        "plt.savefig('funddiff_tangentLineFailures.png')\n",
        "plt.show()"
      ],
      "metadata": {
        "id": "EWIIlRyvqFXj"
      },
      "execution_count": null,
      "outputs": []
    },
    {
      "cell_type": "code",
      "source": [],
      "metadata": {
        "id": "SKA3KMc3qE2C"
      },
      "execution_count": null,
      "outputs": []
    },
    {
      "cell_type": "markdown",
      "source": [
        "# Figure 5.9: Plotting a function and its derivative"
      ],
      "metadata": {
        "id": "wV3fD4rTqE5F"
      }
    },
    {
      "cell_type": "code",
      "source": [
        "x = np.linspace(-2,4,313)\n",
        "\n",
        "_,axs = plt.subplots(2,2,figsize=(10,6))\n",
        "\n",
        "# line\n",
        "axs[0,0].plot(x,5/4*x+9/4,'k')\n",
        "axs[0,0].set_title(r'$\\bf{A}$)')\n",
        "axs[0,0].text(1.5,1.5,r'$f(x) = \\frac{5x+9}{4}$',fontsize=20)\n",
        "\n",
        "# its derivative\n",
        "axs[1,0].plot(x,np.full(len(x),5/4),'k')\n",
        "axs[1,0].set_title(r'$\\bf{B}$)')\n",
        "axs[1,0].text(1.5,3,r\"$f\\,'(x) = \\frac{5}{4}$\",fontsize=20)\n",
        "\n",
        "# quadratic\n",
        "axs[0,1].plot(x,x**2,'k')\n",
        "axs[0,1].set_title(r'$\\bf{C}$)')\n",
        "axs[0,1].text(1.5,1.5,r'$g(x) = x^2$',fontsize=20)\n",
        "\n",
        "# its derivative\n",
        "axs[1,1].plot(x,2*x,'k')\n",
        "axs[1,1].set_title(r'$\\bf{D}$)')\n",
        "axs[1,1].text(1.5,2,r\"$g\\,'(x) = 2x$\",fontsize=20)\n",
        "\n",
        "\n",
        "# adjustments for all panels\n",
        "for a in axs.flatten():\n",
        "  a.axhline(0,linestyle='--',color=[.8,.8,.8],linewidth=1,zorder=-4)\n",
        "  a.axvline(0,linestyle='--',color=[.8,.8,.8],linewidth=1,zorder=-4)\n",
        "  a.set(xlim=x[[0,-1]],ylim=[-2,6],xticklabels='')\n",
        "\n",
        "axs[1,0].set(xticklabels=range(-2,5),xlabel='$x$',ylabel='$y$')\n",
        "axs[1,1].set(xticklabels=range(-2,5),xlabel='$x$')\n",
        "\n",
        "\n",
        "plt.tight_layout()\n",
        "plt.savefig('funddiff_functionsAndDerivatives.png')\n",
        "plt.show()"
      ],
      "metadata": {
        "id": "Mq6YxBFkf5Wo"
      },
      "execution_count": null,
      "outputs": []
    },
    {
      "cell_type": "code",
      "source": [],
      "metadata": {
        "id": "hkRSpepIqeOr"
      },
      "execution_count": null,
      "outputs": []
    },
    {
      "cell_type": "markdown",
      "source": [
        "# Figure 5.10: Derivatives of polynomials"
      ],
      "metadata": {
        "id": "7a-K457SpJ71"
      }
    },
    {
      "cell_type": "code",
      "source": [
        "_,axs = plt.subplots(2,3,figsize=(12,6))\n",
        "\n",
        "### cubic\n",
        "x = np.linspace(-1,1.5,111)\n",
        "axs[0,0].plot(x,x**3-x**2,'k')\n",
        "axs[0,0].set(xlim=x[[0,-1]],ylim=[-1.2,1.2],title=r'$\\bf{A}$)  $f(x) = x^3-x^2$')\n",
        "\n",
        "# its derivative\n",
        "axs[1,0].plot(x,3*x**2-2*x,'k')\n",
        "axs[1,0].set(xlim=x[[0,-1]],ylim=[-.5,3],title=r\"$\\bf{B}$)  $f'(x) = 3x^2-2x$\")\n",
        "\n",
        "### cosine\n",
        "x = np.linspace(-2*np.pi,2*np.pi,111)\n",
        "axs[0,1].plot(x,np.cos(x),'k')\n",
        "axs[0,1].set(xlim=x[[0,-1]],ylim=[-1.1,1.1],title=r'$\\bf{C}$)  $g(x) = \\cos(x)$')\n",
        "\n",
        "# its derivative\n",
        "axs[1,1].plot(x,-np.sin(x),'k')\n",
        "axs[1,1].set(xlim=x[[0,-1]],ylim=[-1.1,1.1],title=r\"$\\bf{D}$)  $g'(x) = -\\sin(x)$\")\n",
        "\n",
        "### log\n",
        "x = np.linspace(.01,2,111)\n",
        "axs[0,2].plot(x,np.log(x),'k')\n",
        "axs[0,2].set(xlim=x[[0,-1]],ylim=[-4,1],title=r'$\\bf{E}$)  $h(x) = \\ln(x)$')\n",
        "\n",
        "# its derivative\n",
        "axs[1,2].plot(x,1/x,'k')\n",
        "axs[1,2].set(xlim=x[[0,-1]],ylim=[0,20],title=r\"$\\bf{F}$)  $h'(x) = 1/x$\")\n",
        "\n",
        "\n",
        "# adjustments for all panels\n",
        "for a in axs.flatten():\n",
        "  a.axhline(0,linestyle='--',color=[.8,.8,.8],linewidth=1,zorder=-4)\n",
        "  a.axvline(0,linestyle='--',color=[.8,.8,.8],linewidth=1,zorder=-4)\n",
        "\n",
        "\n",
        "plt.tight_layout()\n",
        "plt.savefig('funddiff_functionsAndDerivatives_part2.png')\n",
        "plt.show()"
      ],
      "metadata": {
        "id": "S0xJOGScpJ1W"
      },
      "execution_count": null,
      "outputs": []
    },
    {
      "cell_type": "code",
      "source": [],
      "metadata": {
        "id": "wDG2DlZxT6yq"
      },
      "execution_count": null,
      "outputs": []
    },
    {
      "cell_type": "markdown",
      "source": [
        "# Figure 5.11:"
      ],
      "metadata": {
        "id": "1dNBwuCOT6wA"
      }
    },
    {
      "cell_type": "code",
      "source": [
        "# symbolic variables\n",
        "alpha,beta,x = sym.symbols('alpha,beta,x')\n",
        "\n",
        "# functions\n",
        "fx = x**3\n",
        "gx = -sym.sqrt(sym.cos(2*sym.pi*x)+1)\n",
        "\n",
        "# scalars\n",
        "a = 3\n",
        "b = 2/sym.pi\n",
        "\n",
        "# two versions of the derivative\n",
        "v1 = sym.diff(alpha*fx + beta*gx, x)\n",
        "v2 = alpha*sym.diff(fx) + beta*sym.diff(gx)\n",
        "\n",
        "# get numerical values\n",
        "xx = np.linspace(-2,2,213)\n",
        "v1_num = [ v1.subs({x:xi,alpha:a,beta:b}) for xi in xx ]\n",
        "v2_num = [ v2.subs({x:xi,alpha:a,beta:b}) for xi in xx ]\n",
        "\n",
        "# plot both versions\n",
        "plt.figure(figsize=(8,4))\n",
        "plt.plot(xx,v1_num,'k',label='$v_1$')\n",
        "plt.plot(xx[::4],v2_num[::4],'ko',markerfacecolor=[1,1,1,.5],markersize=9,label='$v_2$')\n",
        "\n",
        "# adjustments\n",
        "plt.xlim(xx[[0,-1]])\n",
        "plt.xlabel('$x$')\n",
        "plt.ylabel(\"$y = f\\,'$\")\n",
        "plt.legend()\n",
        "\n",
        "plt.tight_layout()\n",
        "plt.savefig('funddiff_diffLinearity.png')\n",
        "plt.show()"
      ],
      "metadata": {
        "id": "BV8GZfAXT6s4"
      },
      "execution_count": null,
      "outputs": []
    },
    {
      "cell_type": "code",
      "source": [],
      "metadata": {
        "id": "63MjXaBSMP54"
      },
      "execution_count": null,
      "outputs": []
    },
    {
      "cell_type": "markdown",
      "source": [
        "# Figure 5.12: Continuity vs. differentiability"
      ],
      "metadata": {
        "id": "F6WoZR1NMP20"
      }
    },
    {
      "cell_type": "code",
      "source": [
        "x = np.linspace(-2,2,611)\n",
        "\n",
        "fx = -abs(x)**(2/3)\n",
        "\n",
        "_,axs = plt.subplots(1,2,figsize=(10,4))\n",
        "\n",
        "axs[0].plot(x,fx,'k')\n",
        "axs[0].set(xlim=x[[0,-1]],ylim=[-1.5,1.5],xlabel='x',ylabel='y = f(x)',title=r'$\\bf{A}$)  A function')\n",
        "axs[0].grid(color=[.8,.8,.8])\n",
        "\n",
        "axs[1].plot(x,fx,'k')\n",
        "axs[1].plot(0,0,'ko',markerfacecolor='w',markersize=9)\n",
        "\n",
        "for m in np.linspace(-1.3,1.3,6):\n",
        "  plt.plot(x,m*x,'--',color=[.6,.6,.6],linewidth=1,zorder=-10)\n",
        "\n",
        "axs[1].set(xlim=x[[0,-1]],ylim=[-1.5,1.5],title=r'$\\bf{B}$)  Where tangent?')\n",
        "axs[1].grid(color=[.8,.8,.8])\n",
        "\n",
        "\n",
        "plt.tight_layout()\n",
        "plt.savefig('funddiff_noDerivAtCusp.png')\n",
        "plt.show()"
      ],
      "metadata": {
        "id": "zuEBmKriMR3u"
      },
      "execution_count": null,
      "outputs": []
    },
    {
      "cell_type": "code",
      "source": [],
      "metadata": {
        "id": "mmwza8sCqE-l"
      },
      "execution_count": null,
      "outputs": []
    },
    {
      "cell_type": "markdown",
      "source": [
        "# Figure 5.15: Absolute value and signum"
      ],
      "metadata": {
        "id": "jG_zZW4-qFBW"
      }
    },
    {
      "cell_type": "code",
      "source": [
        "x = np.linspace(-2,2,101)\n",
        "\n",
        "_,axs = plt.subplots(1,2,figsize=(10,4))\n",
        "\n",
        "axs[0].plot(x,abs(x),'k')\n",
        "axs[0].set(xlim=x[[0,-1]],ylim=[-.5,2],xlabel='x',ylabel='y',title=r'$\\bf{A})$  $f(x) = |x|$')\n",
        "\n",
        "axs[1].plot(x,abs(x)/x,'k')\n",
        "axs[1].plot([0,0],[-1,1],'ko',markerfacecolor='w',markersize=8)\n",
        "axs[1].plot(0,0,'ko',markersize=8)\n",
        "axs[1].set(xlim=x[[0,-1]],ylim=[-1.5,1.5],xlabel='x',ylabel='y',title=r'$\\bf{B})$  $f(x) = $sgn$(x)$')\n",
        "\n",
        "\n",
        "for a in axs: a.grid(color=[.8,.8,.8],linestyle='--')\n",
        "plt.tight_layout()\n",
        "plt.savefig('funddiff_absAndSignum.png')\n",
        "plt.show()"
      ],
      "metadata": {
        "id": "E6dVM--6B1C3"
      },
      "execution_count": null,
      "outputs": []
    },
    {
      "cell_type": "code",
      "source": [],
      "metadata": {
        "id": "skgdzPLzCzY7"
      },
      "execution_count": null,
      "outputs": []
    },
    {
      "cell_type": "markdown",
      "source": [
        "# Figure 5.16: Logs and their derivatives"
      ],
      "metadata": {
        "id": "GtV35hLiClxd"
      }
    },
    {
      "cell_type": "code",
      "source": [
        "### log\n",
        "x = np.linspace(.01,3,111)\n",
        "\n",
        "_,axs = plt.subplots(2,1,figsize=(9,6))\n",
        "\n",
        "axs[0].plot(x,np.log(x),'k',label=r'$f(x) = \\ln(x)$')\n",
        "axs[0].plot(x,np.log2(x),'--',color=[.3,.3,.3],label=r'$g(x) = \\log_{2}(x)$')\n",
        "axs[0].plot(x,np.log10(x),':',color=[.6,.6,.6],label=r'$h(x) = \\log_{10}(x)$')\n",
        "axs[0].set(xlim=x[[0,-1]],ylim=[-4,2],ylabel='$f(x)$',title=r'$\\bf{A}$)  Log functions')\n",
        "axs[0].legend()\n",
        "\n",
        "# its derivative\n",
        "axs[1].plot(x,1/x,'k',label=r\"$f\\,'(x) = 1/x$\")\n",
        "axs[1].plot(x,1/(x*np.log(2)),'--',color=[.3,.3,.3],label=r\"$g'(x) = 1/(x\\;\\ln(2))$\")\n",
        "axs[1].plot(x,1/(x*np.log(10)),':',color=[.6,.6,.6],label=r\"$h'(x) = 1/(x\\;\\ln(10))$\")\n",
        "axs[1].set(xlim=x[[0,-1]],ylim=[0,7],xlabel='$x$',ylabel=\"$f\\,'(x)$\",title=r'$\\bf{B}$)  Their derivatives')\n",
        "axs[1].legend()\n",
        "\n",
        "plt.tight_layout()\n",
        "plt.savefig('funddiff_logsAndDiffs.png')\n",
        "plt.show()"
      ],
      "metadata": {
        "id": "U-B8V_QBqFDx"
      },
      "execution_count": null,
      "outputs": []
    },
    {
      "cell_type": "code",
      "source": [],
      "metadata": {
        "id": "0WZQdV-LqFGZ"
      },
      "execution_count": null,
      "outputs": []
    },
    {
      "cell_type": "markdown",
      "source": [
        "# Figure 5.17: Margin figure of e^x"
      ],
      "metadata": {
        "id": "Z-xNn5DyHMyn"
      }
    },
    {
      "cell_type": "code",
      "source": [
        "x = np.linspace(-2,2,101)\n",
        "plt.figure(figsize=(4,5))\n",
        "plt.plot(x,np.exp(x),'k')\n",
        "plt.xlim(x[[0,-1]])\n",
        "plt.xlabel('$x$')\n",
        "plt.ylabel(r'$y = e^x$')\n",
        "\n",
        "plt.tight_layout()\n",
        "plt.savefig('funddiff_e.png')\n",
        "plt.show()"
      ],
      "metadata": {
        "id": "wjYSZ71pHOqT"
      },
      "execution_count": null,
      "outputs": []
    },
    {
      "cell_type": "code",
      "source": [],
      "metadata": {
        "id": "lpIQ9xT1_gPW"
      },
      "execution_count": null,
      "outputs": []
    }
  ]
}