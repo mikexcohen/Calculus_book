{
  "nbformat": 4,
  "nbformat_minor": 0,
  "metadata": {
    "colab": {
      "private_outputs": true,
      "provenance": [],
      "authorship_tag": "ABX9TyMYfjOYT3Vhoq10wHaMGDc6"
    },
    "kernelspec": {
      "name": "python3",
      "display_name": "Python 3"
    },
    "language_info": {
      "name": "python"
    }
  },
  "cells": [
    {
      "cell_type": "markdown",
      "metadata": {
        "id": "IMCG77qiecTi"
      },
      "source": [
        "<a href=\"https://colab.research.google.com/github/mikexcohen/Calculus_book/blob/main/figures/ch13_geometryIntegration_figures.ipynb\" target=\"_parent\"><img src=\"https://colab.research.google.com/assets/colab-badge.svg\" alt=\"Open In Colab\"/></a>"
      ]
    },
    {
      "cell_type": "markdown",
      "source": [
        "# **Calculus unraveled: Intuition, Proofs, and Python**\n",
        "### Mike X Cohen (sincxpress.com)\n",
        "#### https://github.com/mikexcohen/calculus_book\n",
        "#### Code for Chapter 13 (Geometry of integration)\n",
        "\n",
        "---\n",
        "\n",
        "# About this code file:\n",
        "\n",
        "### This notebook will reproduce the figures in this chapter, and illustrate the mathematical concepts explained in the book. The point of providing the code is not just for you to recreate the figures, but for you to modify, adapt, explore, and experiment with the code.\n",
        "\n",
        "## **Using the code without the book may lead to confusion or errors.**\n",
        "\n",
        "#### This code was written in google-colab. The notebook may require some modifications if you use a different IDE."
      ],
      "metadata": {
        "id": "jb67RuPgecTj"
      }
    },
    {
      "cell_type": "code",
      "source": [],
      "metadata": {
        "id": "ZlcDVQ-m-I-U"
      },
      "execution_count": null,
      "outputs": []
    },
    {
      "cell_type": "code",
      "execution_count": null,
      "metadata": {
        "id": "oYWhHwGQ9OdD"
      },
      "outputs": [],
      "source": [
        "# import libraries and define global settings\n",
        "import numpy as np\n",
        "import sympy as sym\n",
        "import matplotlib.pyplot as plt\n",
        "from IPython.display import Math\n",
        "\n",
        "# define global figure properties used for publication\n",
        "import matplotlib_inline.backend_inline\n",
        "matplotlib_inline.backend_inline.set_matplotlib_formats('svg') # display figures in vector format\n",
        "plt.rcParams.update({'font.size':14,             # font size\n",
        "                     'savefig.dpi':300,          # output resolution\n",
        "                     'axes.titlelocation':'left',# title location\n",
        "                     'axes.spines.right':False,  # remove axis bounding box\n",
        "                     'axes.spines.top':False,    # remove axis bounding box\n",
        "                     'lines.linewidth':2         # increase default line thickness\n",
        "                     })"
      ]
    },
    {
      "cell_type": "code",
      "source": [],
      "metadata": {
        "id": "8lwxjMICKChw"
      },
      "execution_count": null,
      "outputs": []
    },
    {
      "cell_type": "markdown",
      "source": [
        "# Figure 13.1: Overview of Riemann approximation"
      ],
      "metadata": {
        "id": "J3p3BhpYkvir"
      }
    },
    {
      "cell_type": "code",
      "source": [
        "xx = np.linspace(.5,4,179)\n",
        "fx = lambda u: np.sqrt(u) + np.cos(2*u)\n",
        "\n",
        "\n",
        "# specify bounds\n",
        "a,b = 1,3.5\n",
        "n = 8\n",
        "deltax = (b-a)/n\n",
        "breakPoints = [ a+deltax*i for i in range(n+1) ]\n",
        "\n",
        "\n",
        "# show the function, bounds, area, and breakpoints\n",
        "plt.figure(figsize=(10,4))\n",
        "\n",
        "# same for all plots\n",
        "plt.plot(xx,fx(xx),'k',linewidth=2,label=r'$f(x) = \\sqrt{x} + \\cos(x)$')\n",
        "plt.axvline(a,color=[.4,.4,.4],linestyle='--',label=f'a = {a:.2f}')\n",
        "plt.axvline(b,color=[.4,.4,.4],linestyle=':',label=f'b = {b:.2f}')\n",
        "plt.gca().set(xlabel='x',ylabel=r'$y=f(x)$',xlim=xx[[0,-1]],ylim=[0,3])\n",
        "\n",
        "\n",
        "# now for the bars\n",
        "for i in range(n):\n",
        "\n",
        "  # bars for midpoint rule\n",
        "  bp = breakPoints[i]\n",
        "  bp += deltax/2 # shift breakpoint by deltax/2\n",
        "  plt.fill_between([bp-deltax/2,bp+deltax/2],[fx(bp),fx(bp)],color='k',alpha=.2)\n",
        "\n",
        "plt.legend()\n",
        "plt.tight_layout()\n",
        "plt.savefig('geoApprox_riemannIntro.png')\n",
        "plt.show()"
      ],
      "metadata": {
        "id": "KBX4UOWzkvfn"
      },
      "execution_count": null,
      "outputs": []
    },
    {
      "cell_type": "code",
      "source": [],
      "metadata": {
        "id": "C2jN21Cdkvci"
      },
      "execution_count": null,
      "outputs": []
    },
    {
      "cell_type": "markdown",
      "source": [
        "# Figure 13.7: Margin figure with negative area"
      ],
      "metadata": {
        "id": "h1i9wYhlKCe5"
      }
    },
    {
      "cell_type": "code",
      "source": [
        "x = np.linspace(.5,4,179)\n",
        "fx = -np.sqrt(x) + np.cos(2*x)\n",
        "\n",
        "plt.figure(figsize=(5,5))\n",
        "plt.plot(x,fx,'k')\n",
        "plt.axhline(0,color=[.7,.7,.7],linestyle='--')\n",
        "plt.fill_between(x[(x>1) & (x<3.5)],fx[(x>1) & (x<3.5)],color='k',alpha=.2)\n",
        "\n",
        "plt.ylim([-2.4,.3])\n",
        "plt.xlim(x[[0,-1]])\n",
        "\n",
        "plt.tight_layout()\n",
        "plt.savefig('geoApprox_negNet.png')\n",
        "plt.show()"
      ],
      "metadata": {
        "id": "4pHi-kjxlYmK"
      },
      "execution_count": null,
      "outputs": []
    },
    {
      "cell_type": "code",
      "source": [],
      "metadata": {
        "id": "SzdysHe-lYjD"
      },
      "execution_count": null,
      "outputs": []
    },
    {
      "cell_type": "markdown",
      "source": [
        "# Figure 13.8: Margin figure showing zero net area"
      ],
      "metadata": {
        "id": "wn_e2O_Kg0G4"
      }
    },
    {
      "cell_type": "code",
      "source": [
        "x = np.linspace(0,3*np.pi,179)\n",
        "fx = np.cos(x)\n",
        "vals2highlight = (x>np.pi/2) & (x<3*np.pi-np.pi/2)\n",
        "\n",
        "plt.figure(figsize=(5,5))\n",
        "plt.plot(x,fx,'k')\n",
        "plt.axhline(0,color=[.7,.7,.7],linestyle='--')\n",
        "plt.fill_between(x[vals2highlight],fx[vals2highlight],color='k',alpha=.2)\n",
        "plt.xlim(x[[0,-1]])\n",
        "\n",
        "plt.tight_layout()\n",
        "plt.savefig('geoApprox_zeroNet.png')\n",
        "plt.show()"
      ],
      "metadata": {
        "id": "3757GAWmlYgL"
      },
      "execution_count": null,
      "outputs": []
    },
    {
      "cell_type": "code",
      "source": [],
      "metadata": {
        "id": "jQ-Zvq-sKCbx"
      },
      "execution_count": null,
      "outputs": []
    },
    {
      "cell_type": "markdown",
      "source": [
        "# Figure 13.10: Calculating total area"
      ],
      "metadata": {
        "id": "iUgYztZgRU1R"
      }
    },
    {
      "cell_type": "code",
      "source": [
        "t = np.linspace(0,2*np.pi,503)\n",
        "f = np.cos(t)\n",
        "\n",
        "_,axs = plt.subplots(1,2,figsize=(12,4))\n",
        "\n",
        "# plot the function and patches\n",
        "axs[0].plot(t,f,'k')\n",
        "axs[0].fill_between(t[t<np.pi/2],f[t<np.pi/2],color='k',alpha=.2)\n",
        "axs[0].fill_between(t[(t>np.pi/2) & (t<3*np.pi/2)],f[(t>np.pi/2) & (t<3*np.pi/2)],color='k',alpha=.5)\n",
        "axs[0].fill_between(t[t>3*np.pi/2],f[t>3*np.pi/2],color='k',alpha=.2)\n",
        "axs[0].set_title(r'$\\bf{A}$)  Area by absolute values of segments')\n",
        "\n",
        "axs[1].plot(t,abs(f),'k')\n",
        "axs[1].fill_between(t,abs(f),color='k',alpha=.2)\n",
        "axs[1].set_title(r'$\\bf{B}$)  Area by absolute value of function')\n",
        "\n",
        "# ajust the axes\n",
        "for a in axs:\n",
        "  a.set(xlim=t[[0,-1]],ylim=[-1.1,1.1],xlabel='$x$',xticks=[0,np.pi/2,3*np.pi/2,2*np.pi],xticklabels=['a','b','c','d'])\n",
        "  a.axhline(0,color=[.8,.8,.8],linestyle='--',zorder=-3)\n",
        "\n",
        "plt.tight_layout()\n",
        "plt.savefig('geoApprox_how2total.png')\n",
        "plt.show()"
      ],
      "metadata": {
        "id": "fc7ZUpx1RUyU"
      },
      "execution_count": null,
      "outputs": []
    },
    {
      "cell_type": "code",
      "source": [],
      "metadata": {
        "id": "ouWSRCXdsH8C"
      },
      "execution_count": null,
      "outputs": []
    },
    {
      "cell_type": "markdown",
      "source": [
        "# Figure 13.11: Definite integrals in sympy"
      ],
      "metadata": {
        "id": "PTOWDx4dT9jh"
      }
    },
    {
      "cell_type": "code",
      "source": [
        "x = sym.symbols('x')\n",
        "\n",
        "# the function and the bounds\n",
        "expr = x**2\n",
        "a,b = 0,2\n",
        "\n",
        "# the result\n",
        "area = sym.integrate(expr,(x,a,b))\n",
        "\n",
        "# printed\n",
        "display(Math('\\int_{%s}^{%s} %s \\,dx = %s'\n",
        "             %(a,b,sym.latex(expr),sym.latex(area))))"
      ],
      "metadata": {
        "id": "kPnUMWR8T9ga"
      },
      "execution_count": null,
      "outputs": []
    },
    {
      "cell_type": "code",
      "source": [
        "xx = np.linspace(a-.5,b+.5,179)\n",
        "vals2highlight = (xx>a) & (xx<b)\n",
        "\n",
        "plt.figure(figsize=(5,5))\n",
        "plt.plot(xx,[expr.subs(x,i) for i in xx],'k')\n",
        "plt.axhline(0,color=[.7,.7,.7],zorder=-3,linestyle='--')\n",
        "plt.fill_between(xx[vals2highlight],np.array([expr.subs(x,i) for i in xx[vals2highlight]],dtype=float),color='k',alpha=.2)\n",
        "plt.xlim(xx[[0,-1]])\n",
        "\n",
        "plt.tight_layout()\n",
        "plt.savefig('geoApprox_areaInSympy.png')\n",
        "plt.show()"
      ],
      "metadata": {
        "id": "kppck0v4AaHr"
      },
      "execution_count": null,
      "outputs": []
    },
    {
      "cell_type": "code",
      "source": [],
      "metadata": {
        "id": "fPbMlAHn7YSZ"
      },
      "execution_count": null,
      "outputs": []
    }
  ]
}