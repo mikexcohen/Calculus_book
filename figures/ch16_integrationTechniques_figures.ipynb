{
  "nbformat": 4,
  "nbformat_minor": 0,
  "metadata": {
    "colab": {
      "private_outputs": true,
      "provenance": [],
      "authorship_tag": "ABX9TyNoWk4ZPoWiCHgPzzsnituS"
    },
    "kernelspec": {
      "name": "python3",
      "display_name": "Python 3"
    },
    "language_info": {
      "name": "python"
    }
  },
  "cells": [
    {
      "cell_type": "markdown",
      "metadata": {
        "id": "IMCG77qiecTi"
      },
      "source": [
        "<a href=\"https://colab.research.google.com/github/mikexcohen/Calculus_book/blob/main/figures/ch16_integrationTechniques_figures.ipynb\" target=\"_parent\"><img src=\"https://colab.research.google.com/assets/colab-badge.svg\" alt=\"Open In Colab\"/></a>"
      ]
    },
    {
      "cell_type": "markdown",
      "source": [
        "# **Calculus unraveled: Intuition, Proofs, and Python**\n",
        "### Mike X Cohen (sincxpress.com)\n",
        "#### https://github.com/mikexcohen/calculus_book\n",
        "#### Code for Chapter 16 (Integration techniques)\n",
        "\n",
        "---\n",
        "\n",
        "# About this code file:\n",
        "\n",
        "### This notebook will reproduce the figures in this chapter, and illustrate the mathematical concepts explained in the book. The point of providing the code is not just for you to recreate the figures, but for you to modify, adapt, explore, and experiment with the code.\n",
        "\n",
        "## **Using the code without the book may lead to confusion or errors.**\n",
        "\n",
        "#### This code was written in google-colab. The notebook may require some modifications if you use a different IDE."
      ],
      "metadata": {
        "id": "jb67RuPgecTj"
      }
    },
    {
      "cell_type": "code",
      "source": [],
      "metadata": {
        "id": "WCDwZtBaCLu2"
      },
      "execution_count": null,
      "outputs": []
    },
    {
      "cell_type": "code",
      "execution_count": null,
      "metadata": {
        "id": "oYWhHwGQ9OdD"
      },
      "outputs": [],
      "source": [
        "# import libraries and define global settings\n",
        "import numpy as np\n",
        "import sympy as sym\n",
        "import matplotlib.pyplot as plt\n",
        "from IPython.display import Math\n",
        "\n",
        "# define global figure properties used for publication\n",
        "import matplotlib_inline.backend_inline\n",
        "matplotlib_inline.backend_inline.set_matplotlib_formats('svg') # display figures in vector format\n",
        "plt.rcParams.update({'font.size':14,             # font size\n",
        "                     'savefig.dpi':300,          # output resolution\n",
        "                     'axes.titlelocation':'left',# title location\n",
        "                     'axes.spines.right':False,  # remove axis bounding box\n",
        "                     'axes.spines.top':False,    # remove axis bounding box\n",
        "                     'lines.linewidth':2         # increase default line thickness\n",
        "                     })"
      ]
    },
    {
      "cell_type": "code",
      "source": [],
      "metadata": {
        "id": "8lwxjMICKChw"
      },
      "execution_count": null,
      "outputs": []
    },
    {
      "cell_type": "code",
      "source": [
        "# showing my work :P\n",
        "x = sym.symbols('x')\n",
        "f = (3*x**4 + 5)**6 * x**3\n",
        "\n",
        "print(sym.latex(sym.expand(f)))\n",
        "print(sym.latex(sym.integrate(sym.expand(f))))"
      ],
      "metadata": {
        "id": "6VyoU8GuW8mB"
      },
      "execution_count": null,
      "outputs": []
    },
    {
      "cell_type": "code",
      "source": [],
      "metadata": {
        "id": "5FPIAqTVW8jJ"
      },
      "execution_count": null,
      "outputs": []
    },
    {
      "cell_type": "markdown",
      "source": [
        "# Figure 16.1: u-sub example 1"
      ],
      "metadata": {
        "id": "h1i9wYhlKCe5"
      }
    },
    {
      "cell_type": "code",
      "source": [
        "x  = np.linspace(-13,13,453)\n",
        "fx = x / (x**2+2)\n",
        "fi = np.log(x**2+2) / 2\n",
        "\n",
        "plt.figure(figsize=(8,3))\n",
        "plt.plot(x,fx,'k',label=r'$f(x) = x(x^2+2)^{-1}$')\n",
        "plt.plot(x,fi,'--',color=[.7,.7,.7],label=r'$F(x) = \\ln(x^2+2)/2$')\n",
        "\n",
        "plt.legend()\n",
        "plt.gca().set(xlim=x[[0,-1]],xlabel='x',ylabel=r'$f(x)$ or $F(x)$')\n",
        "\n",
        "plt.tight_layout()\n",
        "plt.savefig('intTech_usub1.png')\n",
        "plt.show()"
      ],
      "metadata": {
        "id": "qz7JBjZSW8gg"
      },
      "execution_count": null,
      "outputs": []
    },
    {
      "cell_type": "code",
      "source": [],
      "metadata": {
        "id": "sjfDTawmW8dY"
      },
      "execution_count": null,
      "outputs": []
    },
    {
      "cell_type": "markdown",
      "source": [
        "# Figure 16.2: u-sub example 2"
      ],
      "metadata": {
        "id": "SKztgrPche9n"
      }
    },
    {
      "cell_type": "code",
      "source": [
        "x  = np.linspace(-1.5,1.5,453)\n",
        "fx = (3*x**4 + 5)**6 * x**3\n",
        "fi = (3*x**4 + 5)**7 / 84\n",
        "\n",
        "plt.figure(figsize=(8,3))\n",
        "plt.plot(x,fx,'k',label=r'$f(x) = (3x^4+5)^6x^3$')\n",
        "plt.plot(x,fi,'--',color=[.7,.7,.7],label=r'$F(x) = \\left(3x^4+5\\right)^7/84$')\n",
        "\n",
        "plt.legend()\n",
        "plt.gca().set(xlim=x[[0,-1]],ylim=[-1000000,1000000],xlabel='x',ylabel=r'$f(x)$ or $F(x)$')\n",
        "\n",
        "plt.tight_layout()\n",
        "plt.savefig('intTech_usub2.png')\n",
        "plt.show()"
      ],
      "metadata": {
        "id": "Es-1kG-w6wGF"
      },
      "execution_count": null,
      "outputs": []
    },
    {
      "cell_type": "code",
      "source": [],
      "metadata": {
        "id": "FexNr1Uz6wDJ"
      },
      "execution_count": null,
      "outputs": []
    },
    {
      "cell_type": "markdown",
      "source": [
        "# Figure 16.3: integration by parts, example 1"
      ],
      "metadata": {
        "id": "qfMQwnKo6wAX"
      }
    },
    {
      "cell_type": "code",
      "source": [
        "x  = np.linspace(-3*np.pi,3*np.pi,513)\n",
        "fx = x*np.cos(x)\n",
        "fi = x*np.sin(x) - np.cos(x)\n",
        "\n",
        "plt.figure(figsize=(8,3))\n",
        "plt.plot(x,fx,'k',label=r'$f(x) = x\\cos(x)$')\n",
        "plt.plot(x,fi,'--',color=[.7,.7,.7],label=r'$F(x) = x\\sin(x) - \\cos(x)$')\n",
        "\n",
        "plt.legend()\n",
        "plt.gca().set(xlim=x[[0,-1]],xlabel='x',ylabel=r'$f(x)$ or $F(x)$')\n",
        "\n",
        "plt.tight_layout()\n",
        "plt.savefig('intTech_ibp1.png')\n",
        "plt.show()"
      ],
      "metadata": {
        "id": "syH884XGhqqM"
      },
      "execution_count": null,
      "outputs": []
    },
    {
      "cell_type": "code",
      "source": [],
      "metadata": {
        "id": "126LYypF6v9X"
      },
      "execution_count": null,
      "outputs": []
    },
    {
      "cell_type": "markdown",
      "source": [
        "# Figure 16.4: Integration by parts, example 2"
      ],
      "metadata": {
        "id": "oiZC5Rc9i5hh"
      }
    },
    {
      "cell_type": "code",
      "source": [
        "x  = np.linspace(-1,3,513)\n",
        "fx = np.exp(-np.pi*x) * np.sin(7*x)\n",
        "fi = (-np.pi*np.sin(7*x) * np.exp(-np.pi*x) - 7*np.cos(7*x)*np.exp(-np.pi*x)) / (np.pi**2+49)\n",
        "\n",
        "plt.figure(figsize=(8,3))\n",
        "plt.plot(x,fx,'k',label=r'$f(x) = e^{-\\pi x}\\sin(7x)$')\n",
        "plt.plot(x,fi,'--',color=[.7,.7,.7],label=r'$F(x) = \\frac{-\\pi\\sin(7x)e^{-\\pi x} - 7\\cos(7x)e^{-\\pi x}}{\\pi^2+49}$')\n",
        "\n",
        "plt.legend()\n",
        "plt.gca().set(xlim=x[[0,-1]],xlabel='x',ylabel=r'$f(x)$ or $F(x)$')\n",
        "\n",
        "plt.tight_layout()\n",
        "plt.savefig('intTech_ibp2.png')\n",
        "plt.show()"
      ],
      "metadata": {
        "id": "rAkfopYpi5hl"
      },
      "execution_count": null,
      "outputs": []
    },
    {
      "cell_type": "code",
      "source": [],
      "metadata": {
        "id": "F66C-nYI6v3a"
      },
      "execution_count": null,
      "outputs": []
    },
    {
      "cell_type": "markdown",
      "source": [
        "# Figure 16.5: Partial fractions, example 1"
      ],
      "metadata": {
        "id": "BQpmp2zm9jdN"
      }
    },
    {
      "cell_type": "code",
      "source": [
        "x = np.linspace(-2,4,5403)\n",
        "fx = (5*x+3) / ((2*x+2)*(x-3))\n",
        "fi = np.log(abs(2*x+2))/2 + 9*np.log(abs(x-3))/4\n",
        "\n",
        "# remove the artifactual lines \"connecting\" -\\infty to +\\infty\n",
        "fx[np.argmin(abs(x--1))] = np.nan\n",
        "fx[np.argmin(abs(x-3))]  = np.nan\n",
        "\n",
        "plt.figure(figsize=(9,3.5))\n",
        "plt.plot(x,fx,'k',label=r'$f(x) = (5x+3)((2x+2)(x-3))^{-1}$')\n",
        "plt.plot(x,fi,'--',color=[.7,.7,.7],label=r'$F(x) = \\frac{1}{2}\\ln\\left| 2x+2 \\right| + \\frac{9}{4}\\ln\\left| x-3 \\right|$')\n",
        "\n",
        "plt.legend(loc=(.2,.01))\n",
        "plt.gca().set(xlim=x[[0,-1]],ylim=[-18,18],xlabel='$x$',ylabel=r'$f(x)$ or $F(x)$')\n",
        "\n",
        "plt.tight_layout()\n",
        "plt.savefig('intTech_pf1.png')\n",
        "plt.show()"
      ],
      "metadata": {
        "id": "FFULzKp-9jai"
      },
      "execution_count": null,
      "outputs": []
    },
    {
      "cell_type": "code",
      "source": [],
      "metadata": {
        "id": "8b5-IGjhUs0h"
      },
      "execution_count": null,
      "outputs": []
    },
    {
      "cell_type": "markdown",
      "source": [
        "# Figure 16.5: Partial fractions, Example 2"
      ],
      "metadata": {
        "id": "-vRBP_BeUsxP"
      }
    },
    {
      "cell_type": "code",
      "source": [
        "x = np.linspace(-.5,2.5,99543)\n",
        "fx = (2*x**2-3*x-5) / ((x**2-1)*(x-2))\n",
        "fi = 3*np.log(abs(x-1)) - np.log(abs(x-2))\n",
        "\n",
        "# remove the artifactual lines \"connecting\" -\\infty to +\\infty\n",
        "fx[np.argmin(abs(x-1))] = np.nan\n",
        "fx[np.argmin(abs(x-2))] = np.nan\n",
        "\n",
        "plt.figure(figsize=(9,3.5))\n",
        "plt.plot(x,fx,'k',label=r'$f(x) = \\frac{2x^2 - 3x - 5}{(x^2-1)(x-2)}$')\n",
        "plt.plot(x,fi,'--',color=[.7,.7,.7],label=r'$F(x) = 3\\ln\\left|x-1\\right| - \\ln\\left|x-2\\right|$')\n",
        "\n",
        "plt.legend(loc=(.005,.65),fontsize=16)\n",
        "plt.gca().set(xlim=x[[0,-1]],ylim=[-50,50],xlabel='$x$',ylabel=r'$f(x)$ or $F(x)$')\n",
        "\n",
        "plt.tight_layout()\n",
        "plt.savefig('intTech_pf2.png')\n",
        "plt.show()"
      ],
      "metadata": {
        "id": "E_kJM3gPmxF2"
      },
      "execution_count": null,
      "outputs": []
    },
    {
      "cell_type": "code",
      "source": [],
      "metadata": {
        "id": "SsGNDjXZ9Fta"
      },
      "execution_count": null,
      "outputs": []
    }
  ]
}