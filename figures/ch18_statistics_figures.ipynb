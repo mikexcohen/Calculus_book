{
  "nbformat": 4,
  "nbformat_minor": 0,
  "metadata": {
    "colab": {
      "private_outputs": true,
      "provenance": []
    },
    "kernelspec": {
      "name": "python3",
      "display_name": "Python 3"
    },
    "language_info": {
      "name": "python"
    }
  },
  "cells": [
    {
      "cell_type": "markdown",
      "metadata": {
        "id": "IMCG77qiecTi"
      },
      "source": [
        "<a href=\"https://colab.research.google.com/github/mikexcohen/Calculus_book/blob/main/figures/ch18_statistics_figures.ipynb\" target=\"_parent\"><img src=\"https://colab.research.google.com/assets/colab-badge.svg\" alt=\"Open In Colab\"/></a>"
      ]
    },
    {
      "cell_type": "markdown",
      "source": [
        "# **Calculus unraveled: Intuition, Proofs, and Python**\n",
        "### Mike X Cohen (sincxpress.com)\n",
        "#### https://github.com/mikexcohen/calculus_book\n",
        "#### Code for Chapter 18 (Integration applications in statistics)\n",
        "\n",
        "---\n",
        "\n",
        "# About this code file:\n",
        "\n",
        "### This notebook will reproduce the figures in this chapter, and illustrate the mathematical concepts explained in the book. The point of providing the code is not just for you to recreate the figures, but for you to modify, adapt, explore, and experiment with the code.\n",
        "\n",
        "## **Using the code without the book may lead to confusion or errors.**\n",
        "\n",
        "#### This code was written in google-colab. The notebook may require some modifications if you use a different IDE."
      ],
      "metadata": {
        "id": "jb67RuPgecTj"
      }
    },
    {
      "cell_type": "code",
      "source": [],
      "metadata": {
        "id": "o3dCV8Q8mEif"
      },
      "execution_count": null,
      "outputs": []
    },
    {
      "cell_type": "code",
      "execution_count": null,
      "metadata": {
        "id": "oYWhHwGQ9OdD"
      },
      "outputs": [],
      "source": [
        "# import libraries and define global settings\n",
        "import numpy as np\n",
        "import sympy as sym\n",
        "import matplotlib.pyplot as plt\n",
        "from scipy import stats\n",
        "import sympy.stats\n",
        "\n",
        "# define global figure properties used for publication\n",
        "import matplotlib_inline.backend_inline\n",
        "matplotlib_inline.backend_inline.set_matplotlib_formats('svg') # display figures in vector format\n",
        "plt.rcParams.update({'font.size':14,             # font size\n",
        "                     'savefig.dpi':300,          # output resolution\n",
        "                     'axes.titlelocation':'left',# title location\n",
        "                     'axes.spines.right':False,  # remove axis bounding box\n",
        "                     'axes.spines.top':False,    # remove axis bounding box\n",
        "                     'lines.linewidth':2         # increase default line thickness\n",
        "                     })"
      ]
    },
    {
      "cell_type": "code",
      "source": [],
      "metadata": {
        "id": "8lwxjMICKChw"
      },
      "execution_count": null,
      "outputs": []
    },
    {
      "cell_type": "markdown",
      "source": [
        "# Figure 18.1: Example distribution of heights"
      ],
      "metadata": {
        "id": "WmPlGy8cADww"
      }
    },
    {
      "cell_type": "code",
      "source": [
        "# height parameters (in cm)\n",
        "mean  = 175\n",
        "stdev = 7\n",
        "\n",
        "heightsDomain = np.linspace(140,210,1001)\n",
        "\n",
        "# generate random heights\n",
        "pdf = stats.norm.pdf(heightsDomain,loc=mean,scale=stdev) * (heightsDomain[1]-heightsDomain[0])\n",
        "\n",
        "# plot the distribution\n",
        "plt.figure(figsize=(4,4))\n",
        "plt.plot(heightsDomain,pdf,color='k')\n",
        "plt.gca().set(xlim=heightsDomain[[0,-1]],xlabel='Height (cm)',ylabel='Probability',title='Distribution of heights')\n",
        "\n",
        "plt.tight_layout()\n",
        "plt.savefig('stats_heightsDist.png')\n",
        "plt.show()"
      ],
      "metadata": {
        "id": "ixQdrVH_AHMu"
      },
      "execution_count": null,
      "outputs": []
    },
    {
      "cell_type": "code",
      "source": [],
      "metadata": {
        "id": "vZXk2b4FADpV"
      },
      "execution_count": null,
      "outputs": []
    },
    {
      "cell_type": "markdown",
      "source": [
        "# Figure 18.2: Analytic vs. empirical distributions"
      ],
      "metadata": {
        "id": "PcFcM5oRdbS7"
      }
    },
    {
      "cell_type": "code",
      "source": [
        "_,axs = plt.subplots(1,2,figsize=(11,4))\n",
        "\n",
        "# analytic\n",
        "x = np.linspace(-5,5,401)\n",
        "pdf = stats.norm.pdf(x) * (x[1]-x[0])\n",
        "axs[0].plot(x,pdf,'k')\n",
        "axs[0].set(xlim=x[[0,-1]],xlabel='$x$',ylabel='Probability density',title=r'$\\bf{A}$)  Analytic distribution')\n",
        "\n",
        "# empirical\n",
        "axs[1].set(xlim=x[[0,-1]],xlabel='$x$',ylabel='Count',title=r'$\\bf{B}$)  Empirical histogram')\n",
        "axs[1].hist(np.random.randn(4001),bins='auto',color=[.7,.7,.7])\n",
        "\n",
        "plt.tight_layout()\n",
        "plt.savefig('stats_analyticEmpiricalpdf.png')\n",
        "plt.show()"
      ],
      "metadata": {
        "id": "FwvEc5oXdfDg"
      },
      "execution_count": null,
      "outputs": []
    },
    {
      "cell_type": "code",
      "source": [],
      "metadata": {
        "id": "4-tO1nYkdbNe"
      },
      "execution_count": null,
      "outputs": []
    },
    {
      "cell_type": "markdown",
      "source": [
        "# Figures 18.3-4: Normal distributions"
      ],
      "metadata": {
        "id": "h1i9wYhlKCe5"
      }
    },
    {
      "cell_type": "code",
      "source": [
        "x,sigma = sym.symbols('x,sigma')\n",
        "\n",
        "px = 1/sym.sqrt(2*sym.pi*sigma**2) * sym.exp( -x**2/(2*sigma**2) )\n",
        "px_l = sym.lambdify((x,sigma),px)\n",
        "\n",
        "px"
      ],
      "metadata": {
        "id": "1svohpRPquNo"
      },
      "execution_count": null,
      "outputs": []
    },
    {
      "cell_type": "code",
      "source": [
        "# draw the pdf with some values of sigma\n",
        "sigmas = [ .2, 1, 2 ]\n",
        "colors = np.linspace(.1,.7,len(sigmas))\n",
        "styles = [ ':','-','--' ]\n",
        "\n",
        "xx = np.linspace(-4,4,1001)\n",
        "dx = xx[1] - xx[0]\n",
        "\n",
        "plt.figure(figsize=(10,4))\n",
        "\n",
        "for idx in range(len(sigmas)):\n",
        "\n",
        "  # evaluate the function\n",
        "  pdf = px_l(xx,sigmas[idx]) #* dx # for normalization\n",
        "\n",
        "  # numerical check that sum(pdf)==1\n",
        "  sumPdf = np.sum(pdf)\n",
        "\n",
        "  # and plot\n",
        "  plt.plot(xx,pdf,color=np.full(3,colors[idx]),linestyle=styles[idx],label=r'$\\sigma$ = %g, $\\sum p(x)$ = %.2f' %(sigmas[idx],sumPdf))\n",
        "\n",
        "\n",
        "plt.legend()\n",
        "plt.gca().set(xlim=xx[[0,-1]],xlabel='x',ylabel='Probability')\n",
        "plt.tight_layout()\n",
        "plt.savefig('stats_normal1.png')\n",
        "plt.show()"
      ],
      "metadata": {
        "id": "6DZIEbFWquKo"
      },
      "execution_count": null,
      "outputs": []
    },
    {
      "cell_type": "code",
      "source": [],
      "metadata": {
        "id": "iab1wSKlquF-"
      },
      "execution_count": null,
      "outputs": []
    },
    {
      "cell_type": "markdown",
      "source": [
        "# Figure 18.5: F-distributions"
      ],
      "metadata": {
        "id": "Nt36om1-uneF"
      }
    },
    {
      "cell_type": "code",
      "source": [
        "# df pairs\n",
        "df_pairs = [ [2,10], [5,30], [10,100] ]\n",
        "\n",
        "fvals = np.linspace(.01,5,500)\n",
        "dx = fvals[1]-fvals[0]\n",
        "\n",
        "plt.figure(figsize=(10,4))\n",
        "\n",
        "\n",
        "for idx in range(len(df_pairs)):\n",
        "\n",
        "  # extract the df params\n",
        "  d1,d2 = df_pairs[idx][0],df_pairs[idx][1]\n",
        "\n",
        "  # a sympy expression for the distribution\n",
        "  F = sym.stats.FDistribution('F',d1,d2)\n",
        "  Fpdf_expr = sym.stats.density(F)(x)\n",
        "\n",
        "  # lambdify that\n",
        "  Fpdf_l = sym.lambdify(x,Fpdf_expr)\n",
        "\n",
        "  # numerically evaluate the pdf\n",
        "  pdf = Fpdf_l(fvals) * dx\n",
        "  sumPdf = np.sum(pdf)\n",
        "\n",
        "  # and plot\n",
        "  plt.plot(fvals,pdf,color=np.full(3,colors[idx]),linestyle=styles[idx],label=r'$d_1,d_2$ = %g,%s, $\\sum p(x)$ = %.2f' %(d1,d2,sumPdf))\n",
        "\n",
        "\n",
        "plt.legend()\n",
        "plt.gca().set(xlim=fvals[[0,-1]],xlabel='F',ylabel='Probability')\n",
        "plt.tight_layout()\n",
        "plt.savefig('stats_Fpdf.png')\n",
        "plt.show()"
      ],
      "metadata": {
        "id": "sEZFbJ1lquC5"
      },
      "execution_count": null,
      "outputs": []
    },
    {
      "cell_type": "code",
      "source": [],
      "metadata": {
        "id": "9cmUo5fuqt-7"
      },
      "execution_count": null,
      "outputs": []
    },
    {
      "cell_type": "markdown",
      "source": [
        "# Figure 18.6: Pareto distribution"
      ],
      "metadata": {
        "id": "7R4OXIHPqt72"
      }
    },
    {
      "cell_type": "code",
      "source": [
        "# draw the pdf with some values of sigma\n",
        "alphas = [ .2, 1, 2 ]\n",
        "colors = np.linspace(.1,.7,len(alphas))\n",
        "styles = [ ':','-','--' ]\n",
        "\n",
        "xx = np.linspace(.5,5,401)\n",
        "xm = 1\n",
        "dx = xx[1] - xx[0]\n",
        "\n",
        "plt.figure(figsize=(10,4))\n",
        "\n",
        "for idx in range(len(alphas)):\n",
        "\n",
        "  # evaluate the function\n",
        "  pdf = alphas[idx] / (xx**(alphas[idx]+1))\n",
        "  pdf[xx<(xm+dx)] = 0\n",
        "  pdf *= dx\n",
        "\n",
        "  # numerical check of sum(pdf)\n",
        "  sumPdf = np.sum(pdf)\n",
        "\n",
        "  # and plot\n",
        "  plt.plot(xx,pdf,color=np.full(3,colors[idx]),linestyle=styles[idx],label=r'$\\alpha$ = %g, $\\sum p(x)$ = %.2f' %(alphas[idx],sumPdf))\n",
        "\n",
        "\n",
        "plt.legend()\n",
        "plt.gca().set(xlim=xx[[0,-1]],xlabel='x',ylabel='Probability')\n",
        "plt.tight_layout()\n",
        "plt.savefig('stats_pareto.png')\n",
        "plt.show()"
      ],
      "metadata": {
        "id": "Ty3QArqgvCBn"
      },
      "execution_count": null,
      "outputs": []
    },
    {
      "cell_type": "code",
      "source": [],
      "metadata": {
        "id": "684lk4jW7FbD"
      },
      "execution_count": null,
      "outputs": []
    },
    {
      "cell_type": "markdown",
      "source": [
        "# Figure 18.7: cdf from pdf"
      ],
      "metadata": {
        "id": "kDIlf2CD7FXO"
      }
    },
    {
      "cell_type": "code",
      "source": [
        "# height parameters (in cm)\n",
        "mean  = 175\n",
        "stdev = 7\n",
        "targetHeight = 176\n",
        "\n",
        "heightsDomain = np.linspace(140,210,1001)\n",
        "\n",
        "targidx = np.argmin(abs(heightsDomain-targetHeight))\n",
        "\n",
        "# generate random heights\n",
        "pdf = stats.norm.pdf(heightsDomain,loc=mean,scale=stdev) * (heightsDomain[1]-heightsDomain[0])\n",
        "cdf = stats.norm.cdf(heightsDomain,loc=mean,scale=stdev)\n",
        "\n",
        "# plot the histogram\n",
        "_,axs = plt.subplots(2,1,figsize=(10,6))\n",
        "axs[0].plot(heightsDomain,pdf,color='k')\n",
        "axs[0].plot([targetHeight,targetHeight],[0,pdf[targidx]],'k--')\n",
        "axs[0].fill_between(heightsDomain[:targidx],pdf[:targidx],color='k',alpha=.2)\n",
        "axs[0].set(xlim=heightsDomain[[0,-1]],xlabel='Height (cm)',\n",
        "           ylim=[-.00004,np.max(pdf)*1.05],ylabel='Probability density',title=r'$\\bf{A}$)  Probability density of heights')\n",
        "\n",
        "axs[1].plot(heightsDomain,cdf,color='k')\n",
        "axs[1].plot([targetHeight,targetHeight],[0,cdf[targidx]],'--',color=[.7,.7,.7])\n",
        "axs[1].plot(heightsDomain[[0,targidx]],[cdf[targidx],cdf[targidx]],'--',color=[.7,.7,.7])\n",
        "axs[1].text(145,cdf[targidx]*1.08,r'$c(%s)=%.3f$' %(targetHeight,cdf[targidx]))\n",
        "axs[1].set(xlim=heightsDomain[[0,-1]],xlabel='Height (cm)',\n",
        "           ylim=[-.015,1.02],ylabel='Cumulative probability',title=r'$\\bf{B}$ Cumulative distribution of heights')\n",
        "\n",
        "\n",
        "plt.tight_layout()\n",
        "plt.savefig('stats_cdfFromPdf.png')\n",
        "plt.show()"
      ],
      "metadata": {
        "id": "A6noi_Ps7J2r"
      },
      "execution_count": null,
      "outputs": []
    },
    {
      "cell_type": "code",
      "source": [],
      "metadata": {
        "id": "PXUA3zJcvCE4"
      },
      "execution_count": null,
      "outputs": []
    },
    {
      "cell_type": "markdown",
      "source": [
        "# Figure 18.8: Triangular cdf"
      ],
      "metadata": {
        "id": "Jm2-YG_DKDRY"
      }
    },
    {
      "cell_type": "code",
      "source": [
        "a = 1\n",
        "b = 3\n",
        "d = 4\n",
        "\n",
        "xx = np.linspace(a-1,d+1,901)\n",
        "\n",
        "# piece 1\n",
        "cdf = np.zeros(len(xx))\n",
        "\n",
        "# piece 2\n",
        "whereX = (xx>a) & (xx<=b)\n",
        "cdf[whereX] = (xx[whereX]-a)**2 / ((d-a)*(b-a))\n",
        "\n",
        "# piece 3\n",
        "whereX = (xx>b) & (xx<d)\n",
        "cdf[whereX] = 1 - ( (d-xx[whereX])**2 / ((d-a)*(d-b)) )\n",
        "\n",
        "# piece 4\n",
        "whereX = xx>=d\n",
        "cdf[whereX] = np.ones(np.sum(whereX))\n",
        "\n",
        "\n",
        "plt.figure(figsize=(10,4))\n",
        "plt.plot(xx,cdf,'k',label=r'$c(x)$')\n",
        "plt.plot(a,0,'ks',markersize=12,markerfacecolor='w',label='a')\n",
        "plt.plot(b,cdf[np.argmin(abs(xx-b))],'ko',markersize=12,markerfacecolor=[.7,.7,.7],label='b')\n",
        "plt.plot(d,1,'k^',markersize=12,markerfacecolor=[.3,.3,.3],label='d')\n",
        "\n",
        "plt.legend()\n",
        "plt.gca().set(xlim=xx[[0,-1]],xlabel='x',ylabel='Cumulative probability')\n",
        "\n",
        "plt.tight_layout()\n",
        "plt.savefig('stats_triangular.png')\n",
        "plt.show()"
      ],
      "metadata": {
        "id": "E7DYxwKjvCHM"
      },
      "execution_count": null,
      "outputs": []
    },
    {
      "cell_type": "code",
      "source": [],
      "metadata": {
        "id": "DSvcpfmZvCJ1"
      },
      "execution_count": null,
      "outputs": []
    },
    {
      "cell_type": "markdown",
      "source": [
        "# Figure 18.9: Laplace cdf"
      ],
      "metadata": {
        "id": "HwCOF13pqt5B"
      }
    },
    {
      "cell_type": "code",
      "source": [
        "x = sym.symbols('x')\n",
        "xx = np.linspace(-4,4,501)\n",
        "dx = xx[1]-xx[0]\n",
        "bvals  = [ .5,1,2 ]\n",
        "muvals = [ -1,0,.5 ]\n",
        "\n",
        "_,axs = plt.subplots(2,1,figsize=(10,6))\n",
        "\n",
        "\n",
        "for idx in range(len(bvals)):\n",
        "\n",
        "  # a sympy expression for the distribution\n",
        "  mu = muvals[idx]\n",
        "  b  = bvals[idx]\n",
        "  laplacian = sym.stats.Laplace('L',mu,b)\n",
        "\n",
        "\n",
        "  # CDF and plot\n",
        "  cdf_expr = sym.stats.cdf(laplacian)(x)\n",
        "  cdf = [ cdf_expr.subs(x,xi) for xi in xx ]\n",
        "  axs[0].plot(xx,cdf,color=np.full(3,colors[idx]),linestyle=styles[idx],label=r'$b=%g, \\mu=%.2f$' %(b,mu))\n",
        "  axs[0].axvline(mu,linewidth=1,color=np.full(3,colors[idx]),linestyle=styles[idx])\n",
        "\n",
        "  # PDF and plot\n",
        "  pdf_expr = sym.stats.density(laplacian)(x)\n",
        "  pdf = [ pdf_expr.subs(x,xi)*dx for xi in xx ]\n",
        "  pdfSum = np.sum(pdf)\n",
        "  axs[1].plot(xx,pdf,color=np.full(3,colors[idx]),linestyle=styles[idx],label=r'$\\sum p(x)=%.2f$' %pdfSum)\n",
        "  axs[1].axvline(mu,linewidth=1,color=np.full(3,colors[idx]),linestyle=styles[idx])\n",
        "\n",
        "\n",
        "axs[0].legend()\n",
        "axs[1].legend()\n",
        "axs[0].set(xlim=xx[[0,-1]],xlabel='$x$',ylabel='Cumulative probability',title=r'$\\bf{A}$)  Laplace cdfs')\n",
        "axs[1].set(xlim=xx[[0,-1]],xlabel='$x$',ylabel='Probability',title=r'$\\bf{B}$)  Laplace pdfs')\n",
        "\n",
        "plt.tight_layout()\n",
        "plt.savefig('stats_Laplaces.png')\n",
        "plt.show()"
      ],
      "metadata": {
        "id": "tRR-B_f1KGMK"
      },
      "execution_count": null,
      "outputs": []
    },
    {
      "cell_type": "code",
      "source": [],
      "metadata": {
        "id": "U7UGTqzrqtzf"
      },
      "execution_count": null,
      "outputs": []
    },
    {
      "cell_type": "markdown",
      "source": [
        "# Figure 18.10: Logistic cdf"
      ],
      "metadata": {
        "id": "1B9KXRc5qtw1"
      }
    },
    {
      "cell_type": "code",
      "source": [
        "# parameters\n",
        "mus = [ -2, 0, 3 ]\n",
        "sigmas = [ 1, .5, .2 ]\n",
        "\n",
        "xx = np.linspace(-5,5,401)\n",
        "\n",
        "_,axs = plt.subplots(2,1,figsize=(10,6))\n",
        "colors = np.linspace(.1,.7,len(mus))\n",
        "styles = [ ':','-','--' ]\n",
        "\n",
        "for idx in range(len(mus)):\n",
        "\n",
        "  # parameters\n",
        "  m = mus[idx]\n",
        "  s = sigmas[idx]\n",
        "\n",
        "  # get the cdf values\n",
        "  cdf = stats.logistic.cdf(xx,loc=m,scale=s)\n",
        "  pdf = stats.logistic.pdf(xx,loc=m,scale=s) * (xx[1]-xx[0])\n",
        "\n",
        "  # and plot\n",
        "  axs[0].plot(xx,cdf,color=np.full(3,colors[idx]),linestyle=styles[idx],label=r'$\\mu = %g, \\sigma = %g$' %(m,s))\n",
        "  axs[0].axvline(m,linewidth=1,color=np.full(3,colors[idx]),linestyle=styles[idx])\n",
        "  axs[1].plot(xx,pdf,color=np.full(3,colors[idx]),linestyle=styles[idx],label=r'$\\mu = %g, \\sigma = %g$' %(m,s))\n",
        "  axs[1].axvline(m,linewidth=1,color=np.full(3,colors[idx]),linestyle=styles[idx])\n",
        "\n",
        "\n",
        "axs[0].legend()\n",
        "axs[1].legend()\n",
        "axs[0].set(xlim=xx[[0,-1]],xlabel='$x$',ylabel='Cumulative probability',title=r'$\\bf{A}$)  Logistic cdfs')\n",
        "axs[1].set(xlim=xx[[0,-1]],xlabel='$x$',ylabel='Probability',title=r'$\\bf{B}$)  Logistic pdfs')\n",
        "\n",
        "plt.tight_layout()\n",
        "plt.savefig('stats_logisticCdf.png')\n",
        "plt.show()"
      ],
      "metadata": {
        "id": "Ml0TbahUYNbF"
      },
      "execution_count": null,
      "outputs": []
    },
    {
      "cell_type": "code",
      "source": [],
      "metadata": {
        "id": "4LXTeboIVr5t"
      },
      "execution_count": null,
      "outputs": []
    },
    {
      "cell_type": "markdown",
      "source": [
        "# Figure 18.11: Distribution of IQ scores"
      ],
      "metadata": {
        "id": "3bceSlIEVr2w"
      }
    },
    {
      "cell_type": "code",
      "source": [
        "mu = 100\n",
        "sigma = 15\n",
        "\n",
        "iqs = np.linspace(mu-4*sigma,mu+4*sigma,201)\n",
        "pdf = stats.norm.pdf(iqs,loc=mu,scale=sigma) * (iqs[1]-iqs[0])\n",
        "cdf = stats.norm.cdf(iqs,loc=mu,scale=sigma) # used later\n",
        "\n",
        "plt.figure(figsize=(4,4))\n",
        "plt.plot(iqs,pdf,'k')\n",
        "plt.gca().set(xlim=iqs[[0,-1]],xlabel='IQ score',ylabel='Probability density')\n",
        "\n",
        "plt.tight_layout()\n",
        "plt.savefig('stats_iqpdf.png')\n",
        "plt.show()"
      ],
      "metadata": {
        "id": "8vlTeCCPXIW0"
      },
      "execution_count": null,
      "outputs": []
    },
    {
      "cell_type": "code",
      "source": [
        "# the data\n",
        "IQs = np.array([ 106,96,110,125,119,103,112,114,99,108,106,94,101,115,111 ] )\n",
        "\n",
        "# formula parameters\n",
        "n = len(IQs)\n",
        "xbar = np.mean(IQs)\n",
        "\n",
        "# z-value\n",
        "zval = (xbar-mu) / (sigma/np.sqrt(n))\n",
        "print(f'The average is {xbar:.3f} and the z-value is {zval:.3f}')"
      ],
      "metadata": {
        "id": "q6ZTJTeNVvRe"
      },
      "execution_count": null,
      "outputs": []
    },
    {
      "cell_type": "code",
      "source": [
        "# p(107-109) using FTC-2\n",
        "z107 = (107-mu) / (sigma/np.sqrt(n))\n",
        "z109 = (109-mu) / (sigma/np.sqrt(n))\n",
        "\n",
        "pval = stats.norm.cdf(z109) - stats.norm.cdf(z107)\n",
        "pval"
      ],
      "metadata": {
        "id": "x3mGGlIQqo_i"
      },
      "execution_count": null,
      "outputs": []
    },
    {
      "cell_type": "code",
      "source": [
        "# note: you can also normalize the cdf instead of calculating z\n",
        "print( stats.norm.cdf(z107) )\n",
        "print( stats.norm.cdf(107,loc=100,scale=15/np.sqrt(n)) )"
      ],
      "metadata": {
        "id": "kWWJtijKYa2h"
      },
      "execution_count": null,
      "outputs": []
    },
    {
      "cell_type": "code",
      "source": [],
      "metadata": {
        "id": "3_ZapCh06fzY"
      },
      "execution_count": null,
      "outputs": []
    },
    {
      "cell_type": "markdown",
      "source": [
        "# Figure 18.12: Statistical inference using integrals"
      ],
      "metadata": {
        "id": "FoG59GVx6fpf"
      }
    },
    {
      "cell_type": "code",
      "source": [
        "zz = np.linspace(-4,4,305)\n",
        "pdf = stats.norm.pdf(zz) * (zz[1]-zz[0])\n",
        "cdf = stats.norm.cdf(zz)\n",
        "\n",
        "_,axs = plt.subplots(2,1,figsize=(10,5))\n",
        "\n",
        "axs[0].plot(zz,pdf,'k',label='pdf')\n",
        "axs[0].axvline(zval,color='k',linestyle='--',label=f'z = {zval:.2f}')\n",
        "axs[0].fill_between(zz[zz>=zval],pdf[zz>=zval],color='k',alpha=.2,label='Area to calculate')\n",
        "axs[0].legend()\n",
        "axs[0].set(xlim=zz[[0,-1]],ylim=[0,1.1*np.max(pdf)],ylabel='Probability density',title=r'$\\bf{A}$)  Z-pdf with sample z-value')\n",
        "\n",
        "axs[1].plot(zz,cdf,'k',label='cdf')\n",
        "axs[1].axvline(zval,color='k',linestyle='--',label=f'z = {zval:.2f}')\n",
        "axs[1].legend()\n",
        "axs[1].set(xlim=zz[[0,-1]],xlabel='Standard z scores',ylabel='Cumulative prob.',title=r'$\\bf{B}$)  Z-cdf with sample z-value')\n",
        "\n",
        "plt.tight_layout()\n",
        "plt.savefig('stats_iqZtest.png')\n",
        "plt.show()"
      ],
      "metadata": {
        "id": "juul5zD0m1US"
      },
      "execution_count": null,
      "outputs": []
    },
    {
      "cell_type": "code",
      "source": [
        "pval = 1 - stats.norm.cdf(zval)\n",
        "pval"
      ],
      "metadata": {
        "id": "ai0sjWzfm1Q6"
      },
      "execution_count": null,
      "outputs": []
    },
    {
      "cell_type": "code",
      "source": [],
      "metadata": {
        "id": "7ZfSg75-Vrse"
      },
      "execution_count": null,
      "outputs": []
    },
    {
      "cell_type": "markdown",
      "source": [
        "# Figures 18.13-14: Random numbers from distributions"
      ],
      "metadata": {
        "id": "ckjBCCpdYNhP"
      }
    },
    {
      "cell_type": "code",
      "source": [
        "sample_size = 5000\n",
        "\n",
        "# generate the random data (use one of these)\n",
        "data = stats.pareto.rvs(b=5,size=sample_size)\n",
        "disttype = 'Pareto'\n",
        "\n",
        "# data = stats.laplace.rvs(size=sample_size)\n",
        "# disttype = 'Laplace'\n",
        "\n",
        "\n",
        "\n",
        "# extract the histogram (empirical distribution)\n",
        "heights,bins = np.histogram(data,bins=40)\n",
        "binCenters = (bins[:-1]+bins[1:]) / 2\n",
        "\n",
        "# estimate the pdf/cdf\n",
        "pdfEst = heights / sample_size\n",
        "cdfEst = np.cumsum(pdfEst)\n",
        "\n",
        "# visualize\n",
        "_,axs = plt.subplots(1,3,figsize=(14,4))\n",
        "\n",
        "axs[0].plot(data,'ko',alpha=.3)\n",
        "axs[0].set(xlabel='Data index',ylabel='Data value',title=r'$\\bf{A}$)  Random %s data' %disttype)\n",
        "\n",
        "axs[1].plot(binCenters,pdfEst,'k')\n",
        "axs[1].set(xlim=bins[[0,-1]],xlabel='Data value',ylabel='Probability estimate',title=r'$\\bf{B}$)  Histogram (estimated pdf)')\n",
        "\n",
        "axs[2].plot(binCenters,cdfEst,'k')\n",
        "axs[2].set(xlim=bins[[0,-1]],xlabel='Data value',ylabel='Cumulative probability',title=r'$\\bf{C}$)  Estimated cdf')\n",
        "\n",
        "plt.tight_layout()\n",
        "plt.savefig(f'stats_rvs{disttype[0]}.png')\n",
        "plt.show()"
      ],
      "metadata": {
        "id": "0R5eI9wo3y8B"
      },
      "execution_count": null,
      "outputs": []
    },
    {
      "cell_type": "code",
      "source": [],
      "metadata": {
        "id": "K2QCyqoom1N_"
      },
      "execution_count": null,
      "outputs": []
    },
    {
      "cell_type": "markdown",
      "source": [
        "# Figure 18.16: Moments"
      ],
      "metadata": {
        "id": "onao2uclsV2Q"
      }
    },
    {
      "cell_type": "code",
      "source": [
        "# moments in scipy\n",
        "xx = np.linspace(-5,5,555)\n",
        "\n",
        "_,axs = plt.subplots(1,3,figsize=(14,4))\n",
        "\n",
        "### normal\n",
        "pdf = stats.norm.pdf(xx)\n",
        "moments = stats.norm.stats(moments='mvsk')\n",
        "\n",
        "axs[0].plot(xx,pdf/np.max(pdf),'k')\n",
        "for m in range(len(moments)):\n",
        "  axs[0].text(0,.3-m/10,fr'$M_{{{m+1}}} = {{{moments[m]:.2f}}}$',ha='center',fontsize=16)\n",
        "\n",
        "axs[0].set(xlim=xx[[0,-1]],xlabel='x',ylabel='Probability (norm.)',title=r'$\\bf{A}$)  Normal pdf')\n",
        "\n",
        "\n",
        "\n",
        "### logistic\n",
        "pdf = stats.logistic.pdf(xx)\n",
        "moments = stats.logistic.stats(moments='mvsk')\n",
        "\n",
        "axs[2].plot(xx,pdf/np.max(pdf),'k')\n",
        "for m in range(len(moments)):\n",
        "  axs[2].text(0,.3-m/10,fr'$M_{{{m+1}}} = {{{moments[m]:.2f}}}$',ha='center',fontsize=16)\n",
        "\n",
        "axs[2].set(xlim=xx[[0,-1]],xlabel='x',ylabel='Probability (norm.)',title=r'$\\bf{C}$)  Logistic pdf')\n",
        "\n",
        "\n",
        "\n",
        "### exponential Gaussian\n",
        "xx = np.linspace(-3,9,555)\n",
        "pdf = stats.exponnorm.pdf(xx,2)\n",
        "moments = stats.exponnorm.stats(2,moments='mvsk')\n",
        "\n",
        "axs[1].plot(xx,pdf/np.max(pdf),'k')\n",
        "for m in range(len(moments)):\n",
        "  axs[1].text(1.5,.3-m/10,fr'$M_{{{m+1}}} = {{{moments[m]:.2f}}}$',ha='center',fontsize=16)\n",
        "\n",
        "axs[1].set(xlim=xx[[0,-1]],xlabel='x',ylabel='Probability (norm.)',title=r'$\\bf{B}$)  Exponential Gaussian pdf')\n",
        "\n",
        "\n",
        "plt.tight_layout()\n",
        "plt.savefig('stats_pdfsWithMoments.png')\n",
        "plt.show()"
      ],
      "metadata": {
        "id": "aCdfVMcBy_8Q"
      },
      "execution_count": null,
      "outputs": []
    },
    {
      "cell_type": "code",
      "source": [],
      "metadata": {
        "id": "1cE0fwu1SQn5"
      },
      "execution_count": null,
      "outputs": []
    },
    {
      "cell_type": "markdown",
      "source": [
        "# Empirical moments in a small dataset"
      ],
      "metadata": {
        "id": "-wG5W2fgSQlR"
      }
    },
    {
      "cell_type": "code",
      "source": [
        "data = np.arange(1,11)\n",
        "print(f'First moment : {np.mean(data)}')\n",
        "print(f'Second moment: {np.var(data)}')\n",
        "print(f'Third moment : {stats.skew(data)}')\n",
        "print(f'Fourth moment: {stats.kurtosis(data)}')"
      ],
      "metadata": {
        "id": "vGAwUHXmsXUF"
      },
      "execution_count": null,
      "outputs": []
    },
    {
      "cell_type": "code",
      "source": [],
      "metadata": {
        "id": "39ZZw0DCqtoj"
      },
      "execution_count": null,
      "outputs": []
    }
  ]
}
