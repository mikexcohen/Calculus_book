{
  "nbformat": 4,
  "nbformat_minor": 0,
  "metadata": {
    "colab": {
      "private_outputs": true,
      "provenance": [],
      "authorship_tag": "ABX9TyN9IaVTo1zE1G6s7FIsdkFX"
    },
    "kernelspec": {
      "name": "python3",
      "display_name": "Python 3"
    },
    "language_info": {
      "name": "python"
    }
  },
  "cells": [
    {
      "cell_type": "markdown",
      "metadata": {
        "id": "IMCG77qiecTi"
      },
      "source": [
        "<a href=\"https://colab.research.google.com/github/mikexcohen/Calculus_book/blob/main/figures/ch09_applications_figures.ipynb\" target=\"_parent\"><img src=\"https://colab.research.google.com/assets/colab-badge.svg\" alt=\"Open In Colab\"/></a>"
      ]
    },
    {
      "cell_type": "markdown",
      "source": [
        "# **Calculus unraveled: Intuition, Proofs, and Python**\n",
        "### Mike X Cohen (sincxpress.com)\n",
        "#### https://github.com/mikexcohen/calculus_book\n",
        "#### Code for Chapter 9 (Applications of differentiation)\n",
        "\n",
        "---\n",
        "\n",
        "# About this code file:\n",
        "\n",
        "### This notebook will reproduce the figures in this chapter, and illustrate the mathematical concepts explained in the book. The point of providing the code is not just for you to recreate the figures, but for you to modify, adapt, explore, and experiment with the code.\n",
        "\n",
        "## **Using the code without the book may lead to confusion or errors.**\n",
        "\n",
        "#### This code was written in google-colab. The notebook may require some modifications if you use a different IDE."
      ],
      "metadata": {
        "id": "jb67RuPgecTj"
      }
    },
    {
      "cell_type": "code",
      "execution_count": null,
      "metadata": {
        "id": "07lu653hKhXU"
      },
      "outputs": [],
      "source": []
    },
    {
      "cell_type": "code",
      "execution_count": null,
      "metadata": {
        "id": "oYWhHwGQ9OdD"
      },
      "outputs": [],
      "source": [
        "# import libraries and define global settings\n",
        "import numpy as np\n",
        "import sympy as sym\n",
        "import matplotlib.pyplot as plt\n",
        "\n",
        "# define global figure properties used for publication\n",
        "import matplotlib_inline.backend_inline\n",
        "matplotlib_inline.backend_inline.set_matplotlib_formats('svg') # display figures in vector format\n",
        "plt.rcParams.update({'font.size':14,             # font size\n",
        "                     'savefig.dpi':300,          # output resolution\n",
        "                     'axes.titlelocation':'left',# title location\n",
        "                     'axes.spines.right':False,  # remove axis bounding box\n",
        "                     'axes.spines.top':False,    # remove axis bounding box\n",
        "                     'lines.linewidth':2         # increase default line thickness\n",
        "                     })"
      ]
    },
    {
      "cell_type": "code",
      "source": [],
      "metadata": {
        "id": "2R_kDgWQdsDO"
      },
      "execution_count": null,
      "outputs": []
    },
    {
      "cell_type": "markdown",
      "source": [
        "# Figure 9.2: Linear approximation"
      ],
      "metadata": {
        "id": "_3tFncFOy1yh"
      }
    },
    {
      "cell_type": "code",
      "source": [
        "x = np.linspace(0,6,345)\n",
        "\n",
        "# function and derivative\n",
        "fx = lambda u: np.sqrt(u) + 2*u\n",
        "df = lambda u: 1/(2*np.sqrt(u)) + 2\n",
        "\n",
        "# two points\n",
        "xs = 4\n",
        "xa = 4.37\n",
        "\n",
        "# linear approximation\n",
        "L = df(xs)*(xa-xs) + fx(xs)\n",
        "\n",
        "# draw the plot\n",
        "fig,ax1 = plt.subplots(1,figsize=(10,5))\n",
        "ax1.plot(x,fx(x),'k',label=r'$f(x) = \\sqrt{x}+2x$')\n",
        "ax1.plot(xs,fx(xs),'ks',markerfacecolor=[.7,.7,.7],markersize=9,label=rf'$f(x_s)=${fx(xs):.1f}')\n",
        "ax1.plot(xa,fx(xa),'ko',markerfacecolor='w',markersize=12,label=rf'$f(x_a)=${fx(xa):.4f}')\n",
        "ax1.plot(xa,L,'k^',markerfacecolor='gray',markersize=12,label=rf'$L=${L:.4f}')\n",
        "ax1.set(xlim=x[[0,-1]],xlabel='$x$',ylabel='$y$')\n",
        "ax1.legend()\n",
        "\n",
        "\n",
        "# draw the inset\n",
        "ax2 = fig.add_axes([.7,.3,.2,.3])\n",
        "ax2.plot(x,fx(x),'k',label=r'$f(x)$')\n",
        "ax2.plot(xa,fx(xa),'ko',markerfacecolor='w',markersize=12)\n",
        "ax2.plot(xa,L,'k^',markerfacecolor='gray',markersize=12)\n",
        "ax2.set(xlim=[4.369,4.3711],ylim=[10.825,10.838])\n",
        "ax2.spines[['top','right']].set_visible(True)\n",
        "\n",
        "# save\n",
        "plt.tight_layout()\n",
        "plt.savefig('diffApps_linApprox1.png')\n",
        "plt.show()"
      ],
      "metadata": {
        "id": "lNUuBLtqy3r5"
      },
      "execution_count": null,
      "outputs": []
    },
    {
      "cell_type": "code",
      "source": [],
      "metadata": {
        "id": "bhYgLFrGy1sy"
      },
      "execution_count": null,
      "outputs": []
    },
    {
      "cell_type": "markdown",
      "source": [
        "# Figure 9.3: Second example of linear approximation"
      ],
      "metadata": {
        "id": "LQWJHggFbWQE"
      }
    },
    {
      "cell_type": "code",
      "source": [
        "x = np.linspace(0,2*np.pi,345)\n",
        "\n",
        "# function and derivative\n",
        "fx = lambda u: np.abs(np.sin(u))\n",
        "df = lambda u: np.sign(np.sin(u)) * np.cos(u)\n",
        "\n",
        "# two points\n",
        "xs = np.pi/2\n",
        "xa = 5*np.pi/8\n",
        "\n",
        "# linear approximation\n",
        "L = df(xs)*(xa-xs) + fx(xs)\n",
        "\n",
        "# draw the plot\n",
        "fig,ax1 = plt.subplots(1,figsize=(10,5))\n",
        "ax1.plot(x,fx(x),'k',label=r'$f(x) = |\\,\\sin(x)\\,|$')\n",
        "ax1.plot(xs,fx(xs),'ks',markerfacecolor=[.7,.7,.7],markersize=9,label=rf'$f(x_s)=${fx(xs):.1f}')\n",
        "ax1.plot(xa,fx(xa),'ko',markerfacecolor='w',markersize=12,label=rf'$f(x_a)=${fx(xa):.4f}')\n",
        "ax1.plot(xa,L,'k^',markerfacecolor='gray',markersize=12,label=rf'$L=${L:.4f}')\n",
        "ax1.set(xlim=x[[0,-1]],xlabel='$x$',ylabel='$y$')\n",
        "ax1.legend()\n",
        "\n",
        "\n",
        "# save\n",
        "plt.tight_layout()\n",
        "plt.savefig('diffApps_linApprox2.png')\n",
        "plt.show()"
      ],
      "metadata": {
        "id": "J_eZG-oby1pm"
      },
      "execution_count": null,
      "outputs": []
    },
    {
      "cell_type": "code",
      "source": [],
      "metadata": {
        "id": "PDcefAA4y1mg"
      },
      "execution_count": null,
      "outputs": []
    },
    {
      "cell_type": "markdown",
      "source": [
        "# Figure 9.4: Newton's method"
      ],
      "metadata": {
        "id": "AzPsT7mndsAb"
      }
    },
    {
      "cell_type": "code",
      "source": [
        "# Writing code to create this figure is part of Exercise 9.6."
      ],
      "metadata": {
        "id": "JW1Dw-N1BAMm"
      },
      "execution_count": null,
      "outputs": []
    },
    {
      "cell_type": "code",
      "source": [],
      "metadata": {
        "id": "1rjFw9kmdr9c"
      },
      "execution_count": null,
      "outputs": []
    },
    {
      "cell_type": "markdown",
      "source": [
        "# Figure 9.7: Optimization demo"
      ],
      "metadata": {
        "id": "91E_-zthw4AE"
      }
    },
    {
      "cell_type": "code",
      "source": [
        "# formulas\n",
        "xx = np.linspace(0,30,299)\n",
        "Ax = 50*xx - 2*xx**2\n",
        "dA = 50 - 4*xx\n",
        "\n",
        "_,axs = plt.subplots(2,1,figsize=(10,6))\n",
        "\n",
        "axs[0].plot(xx,Ax,'k')\n",
        "axs[0].set(xlim=xx[[0,-1]],ylim=[-300,400],xlabel='Length of side x',ylabel='Area')\n",
        "axs[0].set_title(r'$\\bf{A}$)  $A(x) = 50x - 2x^2$')\n",
        "\n",
        "axs[1].plot(xx,dA,'k')\n",
        "axs[1].axhline(0,linestyle='--',color=[.6,.6,.6],zorder=-3)\n",
        "axs[1].set(xlim=xx[[0,-1]],ylim=[-70,50],xlabel='Length of side x')\n",
        "axs[1].set_title(r\"$\\bf{B}$)  $A'(x) = 50 - 4x$\")\n",
        "\n",
        "plt.tight_layout()\n",
        "plt.savefig('diffApps_optimizationDemo.png')\n",
        "plt.show()"
      ],
      "metadata": {
        "id": "VpwfL9dGw58t"
      },
      "execution_count": null,
      "outputs": []
    },
    {
      "cell_type": "code",
      "source": [],
      "metadata": {
        "id": "f0vUHYBdeM02"
      },
      "execution_count": null,
      "outputs": []
    },
    {
      "cell_type": "markdown",
      "source": [
        "# Figure 9.9: Optimize for surface area"
      ],
      "metadata": {
        "id": "N9Z8jmeweMyz"
      }
    },
    {
      "cell_type": "code",
      "source": [
        "xx = np.linspace(.1,100,299)\n",
        "Px = 2*xx + 200/xx\n",
        "dP = 2 - 200/(xx**2)\n",
        "\n",
        "_,axs = plt.subplots(2,1,figsize=(10,6))\n",
        "\n",
        "axs[0].plot(xx,Px,'k')\n",
        "axs[0].set(xlim=xx[[0,-1]],ylim=[0,400],xlabel='Length of garden side x',ylabel='Perimeter')\n",
        "axs[0].set_title(r'$\\bf{A}$)  $P(x) = 2x + 200x^{-1}$')\n",
        "\n",
        "axs[1].plot(xx,dP,'k')\n",
        "axs[1].axhline(0,linestyle='--',color=[.6,.6,.6])\n",
        "axs[1].set(xlim=xx[[0,-1]],ylim=[-5,5],xlabel='Length of garden side x')\n",
        "axs[1].set_title(r\"$\\bf{B}$)  $P'(x) = 2 - 200x^{-2}$\")\n",
        "\n",
        "plt.tight_layout()\n",
        "plt.savefig('diffApps_OptimizeSurfaceArea.png')\n",
        "plt.show()"
      ],
      "metadata": {
        "id": "FZ58cnN5eOyZ"
      },
      "execution_count": null,
      "outputs": []
    },
    {
      "cell_type": "code",
      "source": [],
      "metadata": {
        "id": "sopIUaM8eMuY"
      },
      "execution_count": null,
      "outputs": []
    },
    {
      "cell_type": "markdown",
      "source": [
        "# Figure 9.11: Optimize for volume"
      ],
      "metadata": {
        "id": "sY2ELh7LuIlw"
      }
    },
    {
      "cell_type": "code",
      "source": [
        "# formulas\n",
        "xx = np.linspace(0,45,299)\n",
        "Vx = 4*xx**3 - 250*xx**2 + 3600*xx\n",
        "dV = 12*xx**2 - 500*xx + 3600\n",
        "\n",
        "_,axs = plt.subplots(2,1,figsize=(10,6))\n",
        "\n",
        "axs[0].plot(xx,Vx,'k')\n",
        "axs[0].set(xlim=xx[[0,-1]],ylim=[-10000,20000],xlabel='Size of cutout edge',ylabel='Area')\n",
        "axs[0].set_title(r'$\\bf{A}$)  $V(x) = 4x^3 - 250x^2 + 3600x$')\n",
        "\n",
        "axs[1].plot(xx,dV,'k')\n",
        "axs[1].axhline(0,linestyle='--',color=[.6,.6,.6],zorder=-3)\n",
        "axs[1].set(xlim=xx[[0,-1]],ylim=[-2000,5000],xlabel='Size of cutout edge')\n",
        "axs[1].set_title(r\"$\\bf{B}$)  $V'(x) = 12x^2 - 500x + 3600$\")\n",
        "\n",
        "plt.tight_layout()\n",
        "plt.savefig('diffApps_OptimizeVolume.png')\n",
        "plt.show()"
      ],
      "metadata": {
        "id": "wfQS5U_0uIl4"
      },
      "execution_count": null,
      "outputs": []
    },
    {
      "cell_type": "code",
      "source": [
        "# solution to the problem\n",
        "x = sym.symbols('x')\n",
        "sym.solve(12*x**2 - 500*x + 3600)"
      ],
      "metadata": {
        "id": "WkH7p4CTeMoG"
      },
      "execution_count": null,
      "outputs": []
    },
    {
      "cell_type": "code",
      "source": [
        "(x**3 - 250*x**2 + 3600*x).subs(x,sym.solve(12*x**2 - 500*x + 3600)[0]).evalf()"
      ],
      "metadata": {
        "id": "ZZugr5d3eMlR"
      },
      "execution_count": null,
      "outputs": []
    },
    {
      "cell_type": "code",
      "source": [],
      "metadata": {
        "id": "6loOweDNjWeQ"
      },
      "execution_count": null,
      "outputs": []
    }
  ]
}