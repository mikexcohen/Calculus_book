{
  "nbformat": 4,
  "nbformat_minor": 0,
  "metadata": {
    "colab": {
      "private_outputs": true,
      "provenance": [],
      "authorship_tag": "ABX9TyPEyAenvADJgKtUGtrP0rjt"
    },
    "kernelspec": {
      "name": "python3",
      "display_name": "Python 3"
    },
    "language_info": {
      "name": "python"
    }
  },
  "cells": [
    {
      "cell_type": "markdown",
      "metadata": {
        "id": "IMCG77qiecTi"
      },
      "source": [
        "<a href=\"https://colab.research.google.com/github/mikexcohen/Calculus_book/blob/main/figures/ch15_improper_figures.ipynb\" target=\"_parent\"><img src=\"https://colab.research.google.com/assets/colab-badge.svg\" alt=\"Open In Colab\"/></a>"
      ]
    },
    {
      "cell_type": "markdown",
      "source": [
        "# **Calculus unraveled: Intuition, Proofs, and Python**\n",
        "### Mike X Cohen (sincxpress.com)\n",
        "#### https://github.com/mikexcohen/calculus_book\n",
        "#### Code for Chapter 15 (Improper integrals)\n",
        "\n",
        "---\n",
        "\n",
        "# About this code file:\n",
        "\n",
        "### This notebook will reproduce the figures in this chapter, and illustrate the mathematical concepts explained in the book. The point of providing the code is not just for you to recreate the figures, but for you to modify, adapt, explore, and experiment with the code.\n",
        "\n",
        "## **Using the code without the book may lead to confusion or errors.**\n",
        "\n",
        "#### This code was written in google-colab. The notebook may require some modifications if you use a different IDE."
      ],
      "metadata": {
        "id": "jb67RuPgecTj"
      }
    },
    {
      "cell_type": "code",
      "source": [],
      "metadata": {
        "id": "mS30EfltAyAr"
      },
      "execution_count": null,
      "outputs": []
    },
    {
      "cell_type": "code",
      "execution_count": null,
      "metadata": {
        "id": "oYWhHwGQ9OdD"
      },
      "outputs": [],
      "source": [
        "# import libraries and define global settings\n",
        "import numpy as np\n",
        "import sympy as sym\n",
        "import matplotlib.pyplot as plt\n",
        "\n",
        "# define global figure properties used for publication\n",
        "import matplotlib_inline.backend_inline\n",
        "matplotlib_inline.backend_inline.set_matplotlib_formats('svg') # display figures in vector format\n",
        "plt.rcParams.update({'font.size':14,             # font size\n",
        "                     'savefig.dpi':300,          # output resolution\n",
        "                     'axes.titlelocation':'left',# title location\n",
        "                     'axes.spines.right':False,  # remove axis bounding box\n",
        "                     'axes.spines.top':False,    # remove axis bounding box\n",
        "                     'lines.linewidth':2         # increase default line thickness\n",
        "                     })"
      ]
    },
    {
      "cell_type": "code",
      "source": [],
      "metadata": {
        "id": "8lwxjMICKChw"
      },
      "execution_count": null,
      "outputs": []
    },
    {
      "cell_type": "markdown",
      "source": [
        "# Figure 15.1: Example improper integral"
      ],
      "metadata": {
        "id": "h1i9wYhlKCe5"
      }
    },
    {
      "cell_type": "code",
      "source": [
        "x = np.linspace(-3,20,999)\n",
        "f = 1 / x**2\n",
        "\n",
        "plt.figure(figsize=(4,4))\n",
        "plt.plot(x,f,'k',label=r'$f(x)=x^{-2}$')\n",
        "plt.fill_between(x[x>1],f[x>1],color='k',alpha=.2,label=r'$\\int_{1}^{\\infty}f(x)\\,dx$')\n",
        "\n",
        "plt.gca().set(xlim=x[[0,-1]],xlabel='$x$',ylim=[0,1])\n",
        "plt.legend(fontsize=16)\n",
        "\n",
        "plt.tight_layout()\n",
        "plt.savefig('improper_oneBndEx1.png')\n",
        "plt.show()"
      ],
      "metadata": {
        "id": "6VyoU8GuW8mB"
      },
      "execution_count": null,
      "outputs": []
    },
    {
      "cell_type": "code",
      "source": [],
      "metadata": {
        "id": "yzQZY-wr4XBr"
      },
      "execution_count": null,
      "outputs": []
    },
    {
      "cell_type": "markdown",
      "source": [
        "# Figure 15.2: Example 2"
      ],
      "metadata": {
        "id": "Ul2moNk24W-3"
      }
    },
    {
      "cell_type": "code",
      "source": [
        "x = np.linspace(-5,20,999)\n",
        "f = np.pi / x**3\n",
        "f[np.argmin(abs(x))] = np.nan\n",
        "\n",
        "plt.figure(figsize=(4,4))\n",
        "plt.plot(x,f,'k',label=r'$f(x)=\\pi x^{-3}$')\n",
        "plt.fill_between(x[x>1],f[x>1],color='k',alpha=.2,label=r'$\\int_{1}^{\\infty}f(x)\\,dx$')\n",
        "\n",
        "plt.gca().set(xlim=x[[0,-1]],xlabel='$x$',ylim=[-.6,1])\n",
        "plt.legend(fontsize=16)\n",
        "\n",
        "plt.grid(color=[.8,.8,.8])\n",
        "plt.tight_layout()\n",
        "plt.savefig('improper_oneBndEx2.png')\n",
        "plt.show()"
      ],
      "metadata": {
        "id": "5FPIAqTVW8jJ"
      },
      "execution_count": null,
      "outputs": []
    },
    {
      "cell_type": "code",
      "source": [],
      "metadata": {
        "id": "kq-ncHWF4Zk9"
      },
      "execution_count": null,
      "outputs": []
    },
    {
      "cell_type": "markdown",
      "source": [
        "# Figure 15.3: Example 3"
      ],
      "metadata": {
        "id": "rBl1FARY4ZiF"
      }
    },
    {
      "cell_type": "code",
      "source": [
        "x = np.linspace(-20,10,999)\n",
        "f = x**4\n",
        "\n",
        "plt.figure(figsize=(4,4))\n",
        "plt.plot(x,f,'k',label=r'$f(x)=x^4$')\n",
        "plt.fill_between(x[x<-1],f[x<-1],color='k',alpha=.2,label=r'$\\int_{-\\infty}^{-1}f(x)\\,dx$')\n",
        "\n",
        "plt.gca().set(xlim=x[[0,-1]],xlabel='$x$')\n",
        "plt.legend(fontsize=16)\n",
        "\n",
        "plt.tight_layout()\n",
        "plt.savefig('improper_oneBndEx3.png')\n",
        "plt.show()"
      ],
      "metadata": {
        "id": "qz7JBjZSW8gg"
      },
      "execution_count": null,
      "outputs": []
    },
    {
      "cell_type": "code",
      "source": [],
      "metadata": {
        "id": "ekD7GYBS4eie"
      },
      "execution_count": null,
      "outputs": []
    },
    {
      "cell_type": "markdown",
      "source": [
        "# Figure 15.4: Example convergent area"
      ],
      "metadata": {
        "id": "eCkAGvJ44efT"
      }
    },
    {
      "cell_type": "code",
      "source": [
        "x = np.linspace(-15,3,999)\n",
        "f = 1/(x**2+x)\n",
        "f[np.argmin(abs(x))] = np.nan # remove vertical lines from the plot\n",
        "f[np.argmin(abs(x--1))] = np.nan\n",
        "\n",
        "plt.figure(figsize=(4,4))\n",
        "plt.plot(x,f,'k',label=r'$f(x)=(x^2+x)^{-1}$')\n",
        "plt.fill_between(x[x<-2],f[x<-2],color='k',alpha=.2,label=r'$\\int_{-\\infty}^{-2}f(x)\\,dx$')\n",
        "\n",
        "plt.gca().set(xlim=x[[0,-1]],xlabel='$x$',ylim=[-.1,1])\n",
        "plt.legend(fontsize=16)\n",
        "\n",
        "plt.tight_layout()\n",
        "plt.savefig('improper_convergence.png')\n",
        "plt.show()"
      ],
      "metadata": {
        "id": "sjfDTawmW8dY"
      },
      "execution_count": null,
      "outputs": []
    },
    {
      "cell_type": "code",
      "source": [],
      "metadata": {
        "id": "pX7CmKe04lqp"
      },
      "execution_count": null,
      "outputs": []
    },
    {
      "cell_type": "markdown",
      "source": [
        "# Figure 15.5: Example divergent area"
      ],
      "metadata": {
        "id": "wZXqVvmk4lnh"
      }
    },
    {
      "cell_type": "code",
      "source": [
        "x = np.linspace(.1,10,999)\n",
        "f = 1/np.sqrt(x)\n",
        "\n",
        "plt.figure(figsize=(4,4))\n",
        "plt.plot(x,f,'k',label=r'$f(x)=x^{-1/2}$')\n",
        "plt.fill_between(x[x>1],f[x>1],color='k',alpha=.2,label=r'$\\int_{1}^{\\infty}f(x)\\,dx$')\n",
        "\n",
        "plt.gca().set(xlim=x[[0,-1]],xlabel='$x$',ylim=[0,3])\n",
        "plt.legend(fontsize=16)\n",
        "\n",
        "plt.tight_layout()\n",
        "plt.savefig('improper_divergence.png')\n",
        "plt.show()"
      ],
      "metadata": {
        "id": "Es-1kG-w6wGF"
      },
      "execution_count": null,
      "outputs": []
    },
    {
      "cell_type": "code",
      "source": [],
      "metadata": {
        "id": "FexNr1Uz6wDJ"
      },
      "execution_count": null,
      "outputs": []
    },
    {
      "cell_type": "markdown",
      "source": [
        "# Figure 15.6: Double-infinite bounds"
      ],
      "metadata": {
        "id": "6yVQs6on4uXw"
      }
    },
    {
      "cell_type": "code",
      "source": [
        "x = np.linspace(-10,10,999)\n",
        "f = np.exp(x) / (1+np.exp(x))\n",
        "\n",
        "plt.figure(figsize=(10,4))\n",
        "plt.plot(x,f,'k',label=r'$f(x) = e^{x-1}\\left(1+e^{x-1}\\right)^{-1}$')\n",
        "plt.plot(x,np.log(np.exp(x-1)+1),color=[.3,.3,.3],linestyle='--',label=r'$F(x)=\\ln(e^{x-1}+1)$')\n",
        "plt.fill_between(x,f,color='k',alpha=.2,label=r'$\\int_{-\\infty}^{\\infty}f(x)\\,dx$')\n",
        "plt.axvline(1,linestyle=':',color=[.7,.7,.7],label=r'$x=1$')\n",
        "\n",
        "plt.gca().set(xlim=x[[0,-1]],xlabel='$x$',ylabel='$y$ or $Y$',ylim=[0,2])\n",
        "plt.legend(fontsize=18)\n",
        "\n",
        "plt.tight_layout()\n",
        "plt.savefig('improper_doubleInfEx1.png')\n",
        "plt.show()"
      ],
      "metadata": {
        "id": "qfMQwnKo6wAX"
      },
      "execution_count": null,
      "outputs": []
    },
    {
      "cell_type": "code",
      "source": [],
      "metadata": {
        "id": "126LYypF6v9X"
      },
      "execution_count": null,
      "outputs": []
    },
    {
      "cell_type": "markdown",
      "source": [
        "# Figure 15.7: Second example of double-infinite bounds"
      ],
      "metadata": {
        "id": "vDVI9Em143_2"
      }
    },
    {
      "cell_type": "code",
      "source": [
        "x = np.linspace(-8,8,999)\n",
        "f = 4*x / (x**4+2)\n",
        "\n",
        "plt.figure(figsize=(10,4))\n",
        "plt.plot(x,f,'k',label=r'$f(x) = 4x\\left(x^4+2\\right)^{-1}$')\n",
        "plt.plot(x,np.sqrt(2)*np.arctan(np.sqrt(2)*x**2/2),color=[.3,.3,.3],linestyle='--',label=r'$F(x) = \\sqrt{2} \\tan^{-1}{\\left(\\frac{\\sqrt{2} x^{2}}{2} \\right)}$')\n",
        "plt.fill_between(x,f,color='k',alpha=.2,label=r'$\\int_{-\\infty}^{\\infty}f(x)\\,dx$')\n",
        "\n",
        "plt.gca().set(xlim=x[[0,-1]],xlabel='$x$',ylabel='$y$ or $Y$',ylim=[-1.5,2.5])\n",
        "plt.legend(fontsize=16,loc=(.01,.4))\n",
        "\n",
        "plt.tight_layout()\n",
        "plt.savefig('improper_doubleInfEx2.png')\n",
        "plt.show()"
      ],
      "metadata": {
        "id": "t-4HVXOc6v6d"
      },
      "execution_count": null,
      "outputs": []
    },
    {
      "cell_type": "code",
      "source": [],
      "metadata": {
        "id": "F66C-nYI6v3a"
      },
      "execution_count": null,
      "outputs": []
    },
    {
      "cell_type": "markdown",
      "source": [
        "# Figure 15.8: Infinite sin"
      ],
      "metadata": {
        "id": "VkCpMdHW6v0d"
      }
    },
    {
      "cell_type": "code",
      "source": [
        "plt.figure(figsize=(4,4))\n",
        "th = np.linspace(0,10*np.pi,987)\n",
        "\n",
        "plt.plot(th,np.sin(th),'k')\n",
        "plt.fill_between(th,np.sin(th),color='k',alpha=.2)\n",
        "plt.gca().set(xlim=th[[0,-1]],xticks=np.arange(0,th[-1]+.1,2*np.pi),xticklabels=[],\n",
        "              xlabel='$\\\\theta$',yticks=[-1,0,1])\n",
        "\n",
        "plt.tight_layout()\n",
        "plt.savefig('improper_sin2inf.png')\n",
        "plt.show()"
      ],
      "metadata": {
        "id": "f7Y3v2SAh96s"
      },
      "execution_count": null,
      "outputs": []
    },
    {
      "cell_type": "code",
      "source": [
        "x = sym.symbols('x')\n",
        "f = sym.sin(x)\n",
        "sym.integrate(f,(x,0,sym.oo))"
      ],
      "metadata": {
        "id": "aY3gY3YJgam8"
      },
      "execution_count": null,
      "outputs": []
    },
    {
      "cell_type": "code",
      "source": [],
      "metadata": {
        "id": "DpDkRSQlN0q1"
      },
      "execution_count": null,
      "outputs": []
    },
    {
      "cell_type": "markdown",
      "source": [
        "# Figures 15.9-10: Morlet wavelet"
      ],
      "metadata": {
        "id": "fqJMjehoN0ho"
      }
    },
    {
      "cell_type": "code",
      "source": [
        "# function\n",
        "th = np.linspace(-np.pi,np.pi,987)\n",
        "f = np.cos(2*np.pi*th)*np.exp(-th**2)\n",
        "\n",
        "# figure\n",
        "plt.figure(figsize=(4,4))\n",
        "plt.plot(th,f,'k',linewidth=1)\n",
        "plt.fill_between(th,f,color='k',alpha=.2)\n",
        "plt.gca().set(xlim=th[[0,-1]],ylim=[-.85,1],yticks=[-.5,0,.5,1])\n",
        "\n",
        "plt.tight_layout()\n",
        "plt.savefig('improper_morlet.png')\n",
        "plt.show()"
      ],
      "metadata": {
        "id": "qLx1ka3IN0e-"
      },
      "execution_count": null,
      "outputs": []
    },
    {
      "cell_type": "code",
      "source": [
        "theta = sym.symbols('theta')\n",
        "\n",
        "freq = 2*sym.pi\n",
        "f = sym.cos(freq*theta)*sym.exp(-theta**2)\n",
        "sym.integrate(f,(theta,-sym.oo,sym.oo))"
      ],
      "metadata": {
        "id": "H8-XBuLmCXwn"
      },
      "execution_count": null,
      "outputs": []
    },
    {
      "cell_type": "code",
      "source": [],
      "metadata": {
        "id": "D-2ew7DX6vup"
      },
      "execution_count": null,
      "outputs": []
    },
    {
      "cell_type": "markdown",
      "source": [
        "# Figure 15.12: Jump discontinuity"
      ],
      "metadata": {
        "id": "g8NLooWY6vra"
      }
    },
    {
      "cell_type": "code",
      "source": [
        "x = np.linspace(-2.2,1,457)\n",
        "\n",
        "plt.figure(figsize=(4,4))\n",
        "plt.plot(x[x<0],x[x<0]/2,'k')\n",
        "plt.fill_between(x[(x<0) & (x>-2)],x[(x<0) & (x>-2)]/2,color='k',alpha=.2)\n",
        "\n",
        "plt.plot(x[x>=0],x[x>=0]**2+1,'k')\n",
        "plt.fill_between(x[x>=0],x[x>=0]**2+1,color='k',alpha=.2)\n",
        "\n",
        "plt.legend([r'$f(x)$',r'$\\int_{-2}^1 f(x)\\,dx$'],fontsize=17)\n",
        "plt.xlim(x[[0,-1]])\n",
        "\n",
        "plt.tight_layout()\n",
        "plt.savefig('improper_jumpDiscontinuity.png')\n",
        "plt.show()"
      ],
      "metadata": {
        "id": "caCBcLtPIH49"
      },
      "execution_count": null,
      "outputs": []
    },
    {
      "cell_type": "code",
      "source": [],
      "metadata": {
        "id": "MKZRqIrJ5Lkw"
      },
      "execution_count": null,
      "outputs": []
    },
    {
      "cell_type": "markdown",
      "source": [
        "# Figure 15.13: Antiderivative of piecewise function"
      ],
      "metadata": {
        "id": "yr_RLhFI5Lhk"
      }
    },
    {
      "cell_type": "code",
      "source": [
        "x = np.linspace(-2,1,457)\n",
        "\n",
        "plt.figure(figsize=(4,4))\n",
        "plt.plot(x[x<0],x[x<0]**2/4,'k')\n",
        "plt.plot(x[x>=0],x[x>=0]**3/3+x[x>=0],'--',color=[.7,.7,.7])\n",
        "\n",
        "plt.legend([r'$\\int f_1(x)\\,dx$',r'$\\int f_2(x)\\,dx$'],fontsize=17)\n",
        "\n",
        "plt.tight_layout()\n",
        "plt.savefig('improper_jumpDiscontinuitySol.png')\n",
        "plt.show()"
      ],
      "metadata": {
        "id": "u8IJcRCtIIv_"
      },
      "execution_count": null,
      "outputs": []
    },
    {
      "cell_type": "code",
      "source": [],
      "metadata": {
        "id": "ZtWbsPyZIIys"
      },
      "execution_count": null,
      "outputs": []
    },
    {
      "cell_type": "markdown",
      "source": [
        "# Figure 15.14: Infinite discontinuity"
      ],
      "metadata": {
        "id": "SObcaVgTII1S"
      }
    },
    {
      "cell_type": "code",
      "source": [
        "x = np.linspace(1.0001,2.2,503)\n",
        "\n",
        "_,axs = plt.subplots(1,2,figsize=(10,3))\n",
        "axs[0].plot(x,1/np.sqrt(x-1),'k')\n",
        "axs[0].fill_between(x[x<2],1/np.sqrt(x[x<2]-1),color='k',alpha=.2)\n",
        "axs[0].set(ylim=[0,5],title=r'$\\bf{A}$)  $f(x)=\\left(\\sqrt{x-1}\\right)^{-1}$')\n",
        "\n",
        "axs[1].plot(x,2*np.sqrt(x-1),'k')\n",
        "axs[1].set(title=r'$\\bf{B}$)  $\\int f(x)\\,dx = 2\\sqrt{x-1}+C$')\n",
        "\n",
        "plt.tight_layout()\n",
        "plt.savefig('improper_infDiscontinuity.png')\n",
        "plt.show()"
      ],
      "metadata": {
        "id": "ItchIDP9PDaV"
      },
      "execution_count": null,
      "outputs": []
    },
    {
      "cell_type": "code",
      "source": [],
      "metadata": {
        "id": "rLzlESMfPDdm"
      },
      "execution_count": null,
      "outputs": []
    },
    {
      "cell_type": "markdown",
      "source": [
        "# Figure 15.15: Removable discontinuity"
      ],
      "metadata": {
        "id": "j_W3uu36PDgO"
      }
    },
    {
      "cell_type": "code",
      "source": [
        "x = np.linspace(-.5,4.5,503)\n",
        "\n",
        "_,axs = plt.subplots(1,2,figsize=(10,3))\n",
        "axs[0].plot(x,(x**2-2*x)/(x**2-4),'k')\n",
        "whereInt = x[(x>=0) & (x<=4)]\n",
        "axs[0].fill_between(whereInt,(whereInt**2-2*whereInt)/(whereInt**2-4),color='k',alpha=.2)\n",
        "axs[0].set(xlim=x[[0,-1]],title=r'$\\bf{A}$)  $f(x)$')\n",
        "\n",
        "axs[1].plot(x,x-2*np.log(x+2),'k')\n",
        "axs[1].set(title=r'$\\bf{B}$)  $\\int f(x)\\,dx$')\n",
        "\n",
        "plt.tight_layout()\n",
        "plt.savefig('improper_popDiscontinuity.png')\n",
        "plt.show()"
      ],
      "metadata": {
        "id": "Ymhgjiqna8dC"
      },
      "execution_count": null,
      "outputs": []
    },
    {
      "cell_type": "code",
      "source": [],
      "metadata": {
        "id": "HClQzA6X_wPX"
      },
      "execution_count": null,
      "outputs": []
    }
  ]
}