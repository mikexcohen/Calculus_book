{
  "nbformat": 4,
  "nbformat_minor": 0,
  "metadata": {
    "colab": {
      "private_outputs": true,
      "provenance": []
    },
    "kernelspec": {
      "name": "python3",
      "display_name": "Python 3"
    },
    "language_info": {
      "name": "python"
    }
  },
  "cells": [
    {
      "cell_type": "markdown",
      "metadata": {
        "id": "IMCG77qiecTi"
      },
      "source": [
        "<a href=\"https://colab.research.google.com/github/mikexcohen/Calculus_book/blob/main/figures/ch06_criticalPoints_figures.ipynb\" target=\"_parent\"><img src=\"https://colab.research.google.com/assets/colab-badge.svg\" alt=\"Open In Colab\"/></a>"
      ]
    },
    {
      "cell_type": "markdown",
      "source": [
        "# **Calculus unraveled: Intuition, Proofs, and Python**\n",
        "### Mike X Cohen (sincxpress.com)\n",
        "#### https://github.com/mikexcohen/calculus_book\n",
        "#### Code for Chapter 6 (Critical and inflection points)\n",
        "\n",
        "---\n",
        "\n",
        "# About this code file:\n",
        "\n",
        "### This notebook will reproduce the figures in this chapter, and illustrate the mathematical concepts explained in the book. The point of providing the code is not just for you to recreate the figures, but for you to modify, adapt, explore, and experiment with the code.\n",
        "\n",
        "## **Using the code without the book may lead to confusion or errors.**\n",
        "\n",
        "#### This code was written in google-colab. The notebook may require some modifications if you use a different IDE."
      ],
      "metadata": {
        "id": "jb67RuPgecTj"
      }
    },
    {
      "cell_type": "code",
      "source": [],
      "metadata": {
        "id": "WVPsnEjPAZxI"
      },
      "execution_count": null,
      "outputs": []
    },
    {
      "cell_type": "code",
      "execution_count": null,
      "metadata": {
        "id": "oYWhHwGQ9OdD"
      },
      "outputs": [],
      "source": [
        "# import libraries and define global settings\n",
        "import numpy as np\n",
        "import sympy as sym\n",
        "import matplotlib.pyplot as plt\n",
        "\n",
        "# define global figure properties used for publication\n",
        "import matplotlib_inline.backend_inline\n",
        "matplotlib_inline.backend_inline.set_matplotlib_formats('svg') # display figures in vector format\n",
        "plt.rcParams.update({'font.size':14,             # font size\n",
        "                     'savefig.dpi':300,          # output resolution\n",
        "                     'axes.titlelocation':'left',# title location\n",
        "                     'axes.spines.right':False,  # remove axis bounding box\n",
        "                     'axes.spines.top':False,    # remove axis bounding box\n",
        "                     'lines.linewidth':2         # increase default line thickness\n",
        "                     })"
      ]
    },
    {
      "cell_type": "code",
      "source": [],
      "metadata": {
        "id": "wK-nKnulS1E2"
      },
      "execution_count": null,
      "outputs": []
    },
    {
      "cell_type": "markdown",
      "source": [
        "# Figure 6.3: Critical points by algebra"
      ],
      "metadata": {
        "id": "2a1awZ_DytWz"
      }
    },
    {
      "cell_type": "code",
      "source": [
        "# the function and its derivative\n",
        "x = np.linspace(-1,1.5,235)\n",
        "fx = lambda x: x**3 - x**2 + 3\n",
        "dx = lambda x: 3*x**2 - 2*x\n",
        "\n",
        "# critical points (calculations shown in the book; in the exercises you'll get these from sympy)\n",
        "cp = np.array([0,2/3])\n",
        "\n",
        "\n",
        "_,axs = plt.subplots(1,2,figsize=(12,5))\n",
        "\n",
        "axs[0].plot(x,fx(x),'k')\n",
        "axs[0].plot(cp,fx(cp),'ks',markerfacecolor='w',markersize=9)\n",
        "axs[0].grid(color=[.8,.8,.8])\n",
        "axs[0].set(xlim=x[[0,-1]],ylim=[2,4],xlabel='$x$',ylabel=r'$y=f(x)$',title=r'$\\bf{A}$)  $f(x) = x^3-x^2+3$')\n",
        "\n",
        "axs[1].plot(x,dx(x),'k')\n",
        "axs[1].grid(color=[.8,.8,.8])\n",
        "axs[1].plot(cp,dx(cp),'ks',markerfacecolor='w',markersize=9)\n",
        "axs[1].set(xlim=x[[0,-1]],ylim=[-1,2],xlabel='$x$',ylabel=r\"$y=f\\;'(x)$\",title=r\"$\\bf{B}$)  $f\\,'(x) = 3x^2-2x$\")\n",
        "\n",
        "plt.tight_layout()\n",
        "plt.savefig('critpnts_funDerivCritPnts.png')\n",
        "plt.show()"
      ],
      "metadata": {
        "id": "YXmlRXMsHMmh"
      },
      "execution_count": null,
      "outputs": []
    },
    {
      "cell_type": "code",
      "source": [
        "# calculating the exact value of the second critical point\n",
        "sx = sym.symbols('sx')\n",
        "expr = sx**3 - sx**2 + 3\n",
        "expr.subs(sx,2/sym.sympify(3))"
      ],
      "metadata": {
        "id": "rMjRoQEnqFJB"
      },
      "execution_count": null,
      "outputs": []
    },
    {
      "cell_type": "code",
      "source": [],
      "metadata": {
        "id": "UpYhP7YomzHJ"
      },
      "execution_count": null,
      "outputs": []
    },
    {
      "cell_type": "markdown",
      "source": [
        "# Figure 6.4: Example removable discontinuity"
      ],
      "metadata": {
        "id": "sO4gttKN-yWq"
      }
    },
    {
      "cell_type": "code",
      "source": [
        "# first in sympy\n",
        "x = sym.symbols('x')\n",
        "fx = (x**2 - x - 2) / (x-2)\n",
        "df = sym.diff(fx)\n",
        "\n",
        "# then in numpy\n",
        "xx = np.linspace(-1,3,301)\n",
        "fxx = [ fx.subs(x,xi) for xi in xx ]\n",
        "dxx = [ df.subs(x,xi) for xi in xx ]\n",
        "\n",
        "# then plot\n",
        "plt.figure(figsize=(4,4))\n",
        "plt.plot(xx,fxx,'k',label=r'$f(x)$')\n",
        "plt.plot(xx,dxx,':',color=[.5,.5,.5],label=r\"$f'(x)$\")\n",
        "\n",
        "# plot circles at the discontinuity (getting y-value from the limit)\n",
        "plt.plot(2,sym.limit(fx,x,2),'ko',markersize=8,markerfacecolor='w')\n",
        "plt.plot(2,sym.limit(df,x,2),'ko',markersize=8,markerfacecolor='w')\n",
        "\n",
        "plt.legend()\n",
        "plt.xlim(xx[[0,-1]])\n",
        "plt.xlabel('x')\n",
        "plt.ylabel(r\"$f$ or $f\\;'$\")\n",
        "\n",
        "plt.tight_layout()\n",
        "plt.savefig('critpnts_removableDiscont.png')\n",
        "plt.show()"
      ],
      "metadata": {
        "id": "_ADEQup3UywP"
      },
      "execution_count": null,
      "outputs": []
    },
    {
      "cell_type": "code",
      "source": [],
      "metadata": {
        "id": "kag9IgR7GDel"
      },
      "execution_count": null,
      "outputs": []
    },
    {
      "cell_type": "markdown",
      "source": [
        "# Figure 6.5: Critical points at interval bounds"
      ],
      "metadata": {
        "id": "0ZD9QRYCU2i9"
      }
    },
    {
      "cell_type": "code",
      "source": [
        "x = np.linspace(1,3,79)\n",
        "fx = x**2\n",
        "\n",
        "plt.figure(figsize=(4,4))\n",
        "plt.plot(x,fx,'k')\n",
        "\n",
        "# plot circles at endpoints\n",
        "plt.plot(x[0],x[0]**2,'ko',markersize=8)\n",
        "plt.plot(x[-1],x[-1]**2,'ko',markersize=8)\n",
        "plt.xlim([.5,3.5])\n",
        "\n",
        "plt.tight_layout()\n",
        "plt.savefig('critpnts_restrictedDomain.png')\n",
        "plt.show()"
      ],
      "metadata": {
        "id": "EzIh8bHhGDcE"
      },
      "execution_count": null,
      "outputs": []
    },
    {
      "cell_type": "code",
      "source": [],
      "metadata": {
        "id": "YKmbUA4uXAIZ"
      },
      "execution_count": null,
      "outputs": []
    },
    {
      "cell_type": "markdown",
      "source": [
        "# Figure 6.6: An interesting-looking function"
      ],
      "metadata": {
        "id": "w8hKcqMuU9pO"
      }
    },
    {
      "cell_type": "code",
      "source": [
        "x = np.linspace(-2,3,4000)\n",
        "f = (x**3 + np.sqrt(abs(x))) * np.exp(-abs(np.log(x**4)))\n",
        "df = np.diff(f) / (x[1]-x[0])\n",
        "df[np.argmin(abs(x-1))] = np.nan # remove specious vertical line\n",
        "\n",
        "_,axs = plt.subplots(2,1,figsize=(10,6))\n",
        "axs[0].plot(x,f,'k',label=r'$f(x) = \\left(x^3 + \\sqrt{|x|}\\right) \\exp\\left(-|\\ln(x^4)|\\right)$')\n",
        "axs[0].set(xlim=x[[0,-1]],xlabel='$x$',ylabel='$y=f(x)$',title=r'$\\bf{A}$)  A function')\n",
        "axs[0].legend()\n",
        "\n",
        "axs[1].plot(x[:-1],df,'k')\n",
        "axs[1].set(xlim=x[[0,-1]],ylim=[-4.5,8],xlabel='$x$',ylabel=\"$y=f\\,'(x)$\",title=r'$\\bf{B}$)  Its derivative')\n",
        "axs[1].axhline(0,linestyle='--',color=[.7,.7,.7],zorder=-4)\n",
        "\n",
        "plt.tight_layout()\n",
        "plt.savefig('critpnts_cpByVisualInspection.png')\n",
        "plt.show()"
      ],
      "metadata": {
        "id": "lkkPuI3QXAFU"
      },
      "execution_count": null,
      "outputs": []
    },
    {
      "cell_type": "code",
      "source": [],
      "metadata": {
        "id": "nkgyOBreuwGg"
      },
      "execution_count": null,
      "outputs": []
    },
    {
      "cell_type": "markdown",
      "source": [
        "# Empirical critical points via grid search"
      ],
      "metadata": {
        "id": "oSpT5M5w_ao7"
      }
    },
    {
      "cell_type": "code",
      "source": [
        "# This is Figure 6.7 but without the critical points (code for book figure comes later)\n",
        "\n",
        "# x-axis grid\n",
        "x = np.linspace(-1.5,.7,101)\n",
        "\n",
        "# function\n",
        "fx = x**2 + x**3\n",
        "\n",
        "# empirical derivative (difference)\n",
        "df = np.diff(fx) / (x[1]-x[0])\n",
        "\n",
        "# plot\n",
        "_,axs = plt.subplots(2,1,figsize=(8,6))\n",
        "axs[0].plot(x,fx,'k.',markersize=7)\n",
        "axs[0].set(ylim=[-1,1],xlim=x[[0,-1]],ylabel=\"$y=f(x)$\")\n",
        "axs[0].set_title(r'$\\bf{A}$)  The function')\n",
        "\n",
        "axs[1].axhline(0,linestyle='--',color=[.8,.8,.8],label=\"$y = 0$\")\n",
        "axs[1].plot(x[:-1],df,'k.',markersize=7,label='Derivative')\n",
        "axs[1].set(ylim=[-.5,2],xlim=x[[0,-1]],xlabel='$x$',ylabel=\"$y=f\\,'(x)$\")\n",
        "axs[1].legend()\n",
        "axs[1].set_title(r'$\\bf{B}$)  Its derivative')\n",
        "\n",
        "plt.tight_layout()\n",
        "plt.show()"
      ],
      "metadata": {
        "id": "Bl5u4W9R_iHs"
      },
      "execution_count": null,
      "outputs": []
    },
    {
      "cell_type": "code",
      "source": [
        "# find df=0\n",
        "exactZero = np.where( df==0 )[0]\n",
        "print(f'Critical points at x={exactZero}')"
      ],
      "metadata": {
        "id": "td3FYjsg_iKs"
      },
      "execution_count": null,
      "outputs": []
    },
    {
      "cell_type": "code",
      "source": [],
      "metadata": {
        "id": "CgMIiuE4SNgX"
      },
      "execution_count": null,
      "outputs": []
    },
    {
      "cell_type": "markdown",
      "source": [
        "# Figure 6.8: Closest minima"
      ],
      "metadata": {
        "id": "OR7LAHjkVlXD"
      }
    },
    {
      "cell_type": "code",
      "source": [
        "# setting up to find the minima\n",
        "plt.figure(figsize=(4,4))\n",
        "plt.plot(x[:-1],df,'--',color=[.8,.8,.8],label=\"$f\\,'$\")\n",
        "plt.plot(x[:-1],np.abs(df),'k.',label=\"$|f\\,'|$\")\n",
        "plt.axhline(0,color=[.9,.9,.9],zorder=-19,label=\"$y=0$\")\n",
        "\n",
        "plt.legend()\n",
        "plt.xlim([-1.1,.4])\n",
        "plt.ylim([-.4,1])\n",
        "\n",
        "plt.tight_layout()\n",
        "plt.savefig('critpnts_absDeriv2findZeros.png')\n",
        "plt.show()"
      ],
      "metadata": {
        "id": "GPRXg-Yt_iNl"
      },
      "execution_count": null,
      "outputs": []
    },
    {
      "cell_type": "code",
      "source": [
        "# find minima\n",
        "from scipy.signal import find_peaks\n",
        "\n",
        "# find the minima\n",
        "dfLocalMin = find_peaks(-np.abs(df))[0]\n",
        "\n",
        "# print the results\n",
        "for xx,yy in zip(x[dfLocalMin],fx[dfLocalMin]):\n",
        "  print(f'Critical point/value: ({xx:.3f}, {yy:.3f})')"
      ],
      "metadata": {
        "id": "Rzl9xLW3CoCa"
      },
      "execution_count": null,
      "outputs": []
    },
    {
      "cell_type": "code",
      "source": [
        "### Bonus content (briefly mentioned in a footnote):\n",
        "\n",
        "# You can also find zero-crossings in the derivative\n",
        "# by taking the sequential differences of the sign of the derivative:\n",
        "dfZeroCrossings = np.where(np.diff(np.sign(df)))\n",
        "\n",
        "# vizualization:\n",
        "plt.plot(x[:-2],np.diff(np.sign(df)),'ks',linewidth=1,label='Sequential differences of sgn(df)')\n",
        "plt.plot(x[:-1],df,'--',color=[.8,.8,.8],label=\"$f\\,'$\")\n",
        "plt.legend()\n",
        "plt.show()\n",
        "\n",
        "# However, this approach loses precision when binarizing the derivative,\n",
        "# and therefore can be less accurate than find_peaks. Observe:\n",
        "dfZeroCrossings, dfLocalMin\n",
        "\n",
        "# I mention this method here FYI, because it is also used in some signal-procesing algorithms.\n",
        "# As the x-axis resolution increases, the loss of precision becomes negligible."
      ],
      "metadata": {
        "id": "AKjnSwm_9DT-"
      },
      "execution_count": null,
      "outputs": []
    },
    {
      "cell_type": "code",
      "source": [],
      "metadata": {
        "id": "n8OWm9R6cV1l"
      },
      "execution_count": null,
      "outputs": []
    },
    {
      "cell_type": "markdown",
      "source": [
        "# Figure 6.7: Now with closest solutions"
      ],
      "metadata": {
        "id": "VPEIz1fJVsee"
      }
    },
    {
      "cell_type": "code",
      "source": [
        "# plot with the critical points indicated\n",
        "\n",
        "_,axs = plt.subplots(2,1,figsize=(8,6))\n",
        "axs[0].plot(x,fx,'k.',markersize=7,label='Function')\n",
        "axs[0].plot(x[dfLocalMin],fx[dfLocalMin],'ko',markerfacecolor='w',markersize=9,label='Critical points')\n",
        "axs[0].set(ylim=[-1,1],xlim=x[[0,-1]],ylabel=\"$y=f(x)$\")\n",
        "axs[0].set_title(r'$\\bf{A}$)  The function')\n",
        "axs[0].legend()\n",
        "\n",
        "axs[1].axhline(0,linestyle='--',color=[.8,.8,.8],linewidth=1,label=\"$y = 0$\")\n",
        "axs[1].plot(x[:-1],df,'k.',markersize=7,label='Derivative')\n",
        "axs[1].plot(x[dfLocalMin],df[dfLocalMin],'ko',markerfacecolor='w',markersize=9,label='Critical points')\n",
        "axs[1].set(ylim=[-.5,2],xlim=x[[0,-1]],xlabel='$x$',ylabel=\"$y=f\\,'(x)$\")\n",
        "axs[1].legend()\n",
        "axs[1].set_title(r'$\\bf{B}$)  Its derivative')\n",
        "\n",
        "plt.tight_layout()\n",
        "plt.savefig('critpnts_empiricalDemo.png')\n",
        "plt.show()"
      ],
      "metadata": {
        "id": "n6ds1JshCoD3"
      },
      "execution_count": null,
      "outputs": []
    },
    {
      "cell_type": "code",
      "source": [
        "# finding the symbolic critical value using sympy\n",
        "sx = sym.symbols('sx')\n",
        "\n",
        "# symbolic expression\n",
        "expr = sx**2 + sx**3\n",
        "\n",
        "# the critical point (make it symbolic!)\n",
        "cp = -2/sym.sympify(3)\n",
        "\n",
        "# substitute to get the results\n",
        "expr.subs(sx,cp)"
      ],
      "metadata": {
        "id": "TtLLCti59vO5"
      },
      "execution_count": null,
      "outputs": []
    },
    {
      "cell_type": "code",
      "source": [],
      "metadata": {
        "id": "rtxFXHACVSx3"
      },
      "execution_count": null,
      "outputs": []
    },
    {
      "cell_type": "markdown",
      "source": [
        "# Figure 6.9: Local minimum vs. root (zero-crossing)"
      ],
      "metadata": {
        "id": "0IhRQYBJzJW2"
      }
    },
    {
      "cell_type": "code",
      "source": [
        "x = np.linspace(-1,2,1001)\n",
        "\n",
        "# the derivative\n",
        "df = -x**3 + x**2 + 1\n",
        "\n",
        "\n",
        "_,axs = plt.subplots(1,2,figsize=(12,4))\n",
        "\n",
        "# plot the derivative\n",
        "axs[0].plot(x,df,'k')\n",
        "# axs[0].plot(x[critMinima],df[critMinima],'ko',markerfacecolor='w',markersize=9)\n",
        "axs[0].axhline(0,linestyle='--',color=[.8,.8,.8],linewidth=1,zorder=-3)\n",
        "axs[0].set(ylim=[-1,2],xlim=x[[0,-1]],xlabel='$x$',title=r'$\\bf{A}$)  Derivative with spurious \"critical point\"')\n",
        "\n",
        "# abs(deriv)\n",
        "axs[1].plot(x,np.abs(df),'k')\n",
        "# axs[1].plot(x[critMinima],abs(df[critMinima]),'ko',markerfacecolor='w',markersize=9)\n",
        "axs[1].axhline(0,linestyle='--',color=[.8,.8,.8],linewidth=1,zorder=-3)\n",
        "axs[1].set(xlim=x[[0,-1]],xlabel='$x$',ylim=[-1,2],title=r'$\\bf{B}$)  Absolute value of derivative')\n",
        "\n",
        "\n",
        "\n",
        "\n",
        "# draw real and spurious \"critical points\"\n",
        "critMinima = find_peaks(-abs(df))[0]\n",
        "for i in critMinima:\n",
        "  if np.sign(df[i-1]) + np.sign(df[i+1]) == 0:\n",
        "    axs[0].plot(x[i],df[i],'ko',markerfacecolor='w',markersize=9)\n",
        "    axs[1].plot(x[i],df[i],'ko',markerfacecolor='w',markersize=9)\n",
        "  else:\n",
        "    axs[0].plot(x[i],df[i],'kx',markersize=10,markeredgewidth=3)\n",
        "    axs[1].plot(x[i],df[i],'kx',markersize=10,markeredgewidth=3)\n",
        "\n",
        "\n",
        "\n",
        "plt.tight_layout()\n",
        "plt.savefig('critpnts_spuriousCritPnts.png')\n",
        "plt.show()"
      ],
      "metadata": {
        "id": "QklJ9FktzdWU"
      },
      "execution_count": null,
      "outputs": []
    },
    {
      "cell_type": "code",
      "source": [],
      "metadata": {
        "id": "svfvEyIgzJag"
      },
      "execution_count": null,
      "outputs": []
    },
    {
      "cell_type": "markdown",
      "source": [
        "# Figure 6.10: Gradient descent"
      ],
      "metadata": {
        "id": "5b5FjUdJzdPA"
      }
    },
    {
      "cell_type": "code",
      "source": [
        "# function (as a function)\n",
        "def fx(x): return 3*x**2 - 2*x + np.pi\n",
        "\n",
        "# derivative function\n",
        "def df(x): return 6*x - 2\n",
        "\n",
        "# x-axis grid\n",
        "x = np.linspace(-1,2,2001)\n",
        "\n",
        "# random starting point\n",
        "localmin = np.random.choice(x,1)[0]\n",
        "startloc = localmin + 0 # adding 0 makes a copy\n",
        "\n",
        "# learning parameters\n",
        "learning_rate = .01\n",
        "training_epochs = 100\n",
        "\n",
        "# run through training\n",
        "for i in range(training_epochs):\n",
        "  grad = df(localmin)\n",
        "  localmin = localmin - learning_rate*grad\n",
        "\n",
        "print(f'Initial guess:  (x,y) = ( {startloc:.3f},{fx(startloc):.3f} )')\n",
        "print(f'Final estimate: (x,y) = ( {localmin:.3f},{fx(localmin):.3f} )')\n",
        "print(f'Numpy minimum:  (x,y) = ( 1/3,{fx(1/3):.3f} )') # numerically evaluated"
      ],
      "metadata": {
        "id": "X_Kl3AlZJNkB"
      },
      "execution_count": null,
      "outputs": []
    },
    {
      "cell_type": "code",
      "source": [
        "# plot the results\n",
        "\n",
        "plt.figure(figsize=(10,5))\n",
        "plt.plot(x,fx(x),'k',label=r'$f(x) = 3x^2 - 2x + \\pi$')\n",
        "plt.plot(x,df(x),'--',color=[.4,.4,.4],label=r\"$f\\,'(x) = 6x-2$\")\n",
        "\n",
        "# plot the guesses\n",
        "plt.plot(startloc,fx(startloc),'ks',markersize=9,markerfacecolor=[.7,.7,.7],label='Initial guess')\n",
        "plt.plot(localmin,fx(localmin),'ko',markersize=9,markerfacecolor='w',label='Final estimate')\n",
        "plt.plot(localmin,df(localmin),'ko',markersize=9,markerfacecolor=[.9,.9,.9])\n",
        "\n",
        "plt.gca().set(xlim=x[[0,-1]],ylim=[-10,12],xlabel='$x$',ylabel=\"$f$ or $f\\,'$\")\n",
        "plt.grid(color=[.9,.9,.9])\n",
        "plt.legend()\n",
        "\n",
        "plt.tight_layout()\n",
        "plt.savefig('critpnts_gradientDescent.png')\n",
        "plt.show()"
      ],
      "metadata": {
        "id": "ayC76hRtzdLo"
      },
      "execution_count": null,
      "outputs": []
    },
    {
      "cell_type": "code",
      "source": [],
      "metadata": {
        "id": "zOdSD0QYyLjz"
      },
      "execution_count": null,
      "outputs": []
    },
    {
      "cell_type": "markdown",
      "source": [
        "# Figure 6.11: First derivative test"
      ],
      "metadata": {
        "id": "CRDuvGXT35Tx"
      }
    },
    {
      "cell_type": "code",
      "source": [
        "# the function and its derivative (symbolic)\n",
        "x = sym.symbols('x',positive=True) # note the constraint that x>0! That's for the log function's domain.\n",
        "fx = sym.Abs(sym.log(x))\n",
        "df = sym.diff(fx)\n",
        "\n",
        "# functions for the functions\n",
        "fx_fun = sym.lambdify(x,fx)\n",
        "df_fun = sym.lambdify(x,df)\n",
        "\n",
        "# numerical values for plotting\n",
        "xx = np.linspace(.5,2.5,321)\n",
        "\n",
        "plt.figure(figsize=(5,6))\n",
        "plt.plot(xx,fx_fun(xx),'k',label=r'$f(x) = %s$' %sym.latex(fx))\n",
        "plt.plot(xx[xx<1],df_fun(xx[xx<1]),'--',color=[.4,.4,.4],label=r\"$f\\,'(x) = %s$\" %sym.latex(df))\n",
        "plt.plot(xx[xx>1],df_fun(xx[xx>1]),'--',color=[.4,.4,.4])\n",
        "plt.axhline(0,linestyle=':',color=[.8,.8,.8],zorder=-3)\n",
        "\n",
        "plt.legend()\n",
        "plt.gca().set(xlim=xx[[0,-1]],xlabel='$x$',ylim=[-2,1.5],ylabel=\"$f$ or $f\\,'$\")\n",
        "\n",
        "plt.tight_layout()\n",
        "plt.savefig('critpnts_1stDerivTest.png')\n",
        "plt.show()"
      ],
      "metadata": {
        "id": "phSbt5Ik35Qm"
      },
      "execution_count": null,
      "outputs": []
    },
    {
      "cell_type": "code",
      "source": [],
      "metadata": {
        "id": "S2xd9IrtzdEM"
      },
      "execution_count": null,
      "outputs": []
    },
    {
      "cell_type": "markdown",
      "source": [
        "# Figures 6.12-16: Examples of critical points"
      ],
      "metadata": {
        "id": "UUFGqizNm7rf"
      }
    },
    {
      "cell_type": "code",
      "source": [
        "# set this number to pick an example to show\n",
        "whichExample = 5\n",
        "\n",
        "# x-axis limit used for most examples (redefined for ex5)\n",
        "x = np.linspace(-2,2,99)\n",
        "\n",
        "# define the functions and their derivatives\n",
        "match whichExample:\n",
        "  case 1:\n",
        "    fx = 3*x + 6\n",
        "    dx = 3 * np.ones(len(x))\n",
        "  case 2:\n",
        "    fx = 3*x**2 + 2\n",
        "    dx = 6*x\n",
        "  case 3:\n",
        "    fx = np.cos(2*np.pi*x)\n",
        "    dx = -2*np.pi*np.sin(2*np.pi*x)\n",
        "  case 4:\n",
        "    fx = np.exp(x)\n",
        "    dx = np.exp(x)\n",
        "  case 5:\n",
        "    x = np.linspace(-6,6,199) # different x-axis grid\n",
        "\n",
        "    # piecewise function\n",
        "    fx = x/2\n",
        "    fx[(x>0) & (x<3)] = x[(x>0) & (x<3)]**2+1\n",
        "    fx[x>3] = -np.log(x[x>3])\n",
        "\n",
        "    # NaN's at transitions for plotting\n",
        "    fx[np.argmin(abs(x))] = np.nan\n",
        "    fx[np.argmin(abs(x-3))] = np.nan\n",
        "\n",
        "    # and repeat for derivative\n",
        "    dx = 1/2 * np.ones(len(x))\n",
        "    dx[(x>0) & (x<3)] = 2*x[(x>0) & (x<3)]\n",
        "    dx[x>3] = -1/x[x>3]\n",
        "    dx[np.argmin(abs(x))] = np.nan\n",
        "    dx[np.argmin(abs(x-3))] = np.nan\n",
        "\n",
        "\n",
        "# and plot\n",
        "_,axs = plt.subplots(1,2,figsize=(10,3))\n",
        "\n",
        "axs[0].plot(x,fx,'k')\n",
        "axs[0].set(xlim=x[[0,-1]],xlabel='$x$',ylabel=r\"$y = f(x)$\",title=r'$\\bf{A}$)  The function')\n",
        "\n",
        "axs[1].plot(x,dx,'k')\n",
        "axs[1].set(xlim=x[[0,-1]],xlabel='$x$',ylabel=r\"$y\\,' = f\\,'(x)$\",title=r'$\\bf{B}$)  Its derivative')\n",
        "axs[1].axhline(0,linestyle='--',color=[.8,.8,.8],zorder=-5)\n",
        "\n",
        "# export\n",
        "plt.tight_layout()\n",
        "plt.savefig(f'critpnts_CPexample{whichExample}.png')\n",
        "plt.show()"
      ],
      "metadata": {
        "id": "cH7uwiY-m9rc"
      },
      "execution_count": null,
      "outputs": []
    },
    {
      "cell_type": "code",
      "source": [],
      "metadata": {
        "id": "qf1Swte7zdSf"
      },
      "execution_count": null,
      "outputs": []
    },
    {
      "cell_type": "markdown",
      "source": [
        "# Figure 6.17: Inflection points"
      ],
      "metadata": {
        "id": "ywrL3Y8A343z"
      }
    },
    {
      "cell_type": "code",
      "source": [
        "tau = sym.symbols('tau')\n",
        "\n",
        "# the function and its derivatives\n",
        "funt = tau**5 - 10*tau + 15\n",
        "dft  = sym.diff(funt,tau,1)\n",
        "ddft = sym.diff(funt,tau,2)\n",
        "\n",
        "# numerical values for plotting\n",
        "tt  = np.linspace(-2,2,123)\n",
        "ft  = [ funt.subs(tau,ti) for ti in tt ]\n",
        "dt  = [ dft.subs(tau,ti)  for ti in tt ]\n",
        "ddt = [ ddft.subs(tau,ti) for ti in tt ]\n",
        "\n",
        "\n",
        "# identify critical points\n",
        "cp = sym.real_roots(dft)\n",
        "\n",
        "# and inflection points\n",
        "ip = sym.solve(ddft)\n",
        "\n",
        "\n",
        "\n",
        "\n",
        "# the figure\n",
        "_,axs = plt.subplots(1,3,figsize=(14,4))\n",
        "\n",
        "# the panels\n",
        "axs[0].plot(tt,ft,'k',label='Function')\n",
        "axs[0].plot(cp,[funt.subs(tau,c) for c in cp],'ko',markerfacecolor='w',markersize=9,label='Critical points')\n",
        "axs[0].plot(ip,funt.subs(tau,ip[0]),'ks',markerfacecolor=[.5,.5,.5],markersize=9,label='Inflection point')\n",
        "axs[0].set_title(r'$\\bf{A}$)  $f(\\tau) = %s$'%sym.latex(funt),fontsize=20)\n",
        "axs[0].set(xlim=tt[[0,-1]],ylim=[0,27],xlabel=r'$\\tau$',ylabel='$y$')\n",
        "\n",
        "axs[1].plot(tt,dt,'k',label='1st derivative')\n",
        "axs[1].plot(cp,[dft.subs(tau,c) for c in cp],'ko',markerfacecolor='w',markersize=9,label='Critical points')\n",
        "axs[1].plot(ip,dft.subs(tau,ip[0]),'ks',markerfacecolor=[.5,.5,.5],markersize=9,label='Inflection point')\n",
        "axs[1].set_title(r\"$\\bf{B}$)  $f\\,'(\\tau) = %s$\"%sym.latex(dft),fontsize=20)\n",
        "axs[1].axhline(0,linestyle='--',color=[.5,.5,.5],zorder=-2)\n",
        "axs[1].set(xlim=tt[[0,-1]],ylim=[-15,40],xlabel=r'$\\tau$',ylabel=\"$y\\,'$\")\n",
        "\n",
        "axs[2].plot(tt,ddt,'k',label='2nd derivative')\n",
        "axs[2].plot(cp,[ddft.subs(tau,c) for c in cp],'ko',markerfacecolor='w',markersize=9,label='Critical points')\n",
        "axs[2].plot(ip,ddft.subs(tau,ip[0]),'ks',markerfacecolor=[.5,.5,.5],markersize=9,label='Inflection point')\n",
        "axs[2].set_title(r\"$\\bf{C}$)  $f\\,''(\\tau) = %s$\"%sym.latex(ddft),fontsize=20)\n",
        "axs[2].axhline(0,linestyle='--',color=[.5,.5,.5],zorder=-2)\n",
        "axs[2].set(xlim=tt[[0,-1]],ylim=[-100,100],xlabel=r'$\\tau$',ylabel=\"$y\\,''$\")\n",
        "\n",
        "\n",
        "# pan-axis settings\n",
        "for a in axs:\n",
        "  a.grid(color=[.8,.8,.8])\n",
        "  a.legend()\n",
        "\n",
        "\n",
        "# save\n",
        "plt.tight_layout()\n",
        "plt.savefig('critpnts_CPvsIP.png')\n",
        "plt.show()"
      ],
      "metadata": {
        "id": "sdjQwFRaWDpy"
      },
      "execution_count": null,
      "outputs": []
    },
    {
      "cell_type": "code",
      "source": [],
      "metadata": {
        "id": "QzRJNdQYdexw"
      },
      "execution_count": null,
      "outputs": []
    },
    {
      "cell_type": "markdown",
      "source": [
        "# Figure 6.18: Concavities and second derivatives"
      ],
      "metadata": {
        "id": "NImIttcodevc"
      }
    },
    {
      "cell_type": "code",
      "source": [
        "x = sym.symbols('x')\n",
        "f = 20*sym.sin(2*x) - x**3\n",
        "ddf = sym.diff(f,x,2)\n",
        "\n",
        "f_l = sym.lambdify(x,f)\n",
        "ddf_l = sym.lambdify(x,ddf)\n",
        "\n",
        "xx = np.linspace(-3.8,3.8,501)\n",
        "fx = f_l(xx)\n",
        "ddfx = ddf_l(xx)\n",
        "\n",
        "# visualize\n",
        "plt.figure(figsize=(10,4))\n",
        "plt.plot(xx[ddfx>0],fx[ddfx>0],'ko',label='Positive 2nd deriv.')\n",
        "plt.plot(xx[ddfx<0],fx[ddfx<0],'o',color=[.7,.7,.7],markerfacecolor=[.7,.7,.7],label='Negative 2nd deriv.')\n",
        "\n",
        "plt.legend()\n",
        "plt.title(r'$f(x) = %s$'%sym.latex(f),loc='center')\n",
        "plt.gca().set(xlim=xx[[0,-1]],xlabel='x',ylabel=r'$y=f(x)$')\n",
        "\n",
        "plt.tight_layout()\n",
        "plt.savefig('critpnts_concavities.png')\n",
        "plt.show()"
      ],
      "metadata": {
        "id": "jZmedJvWdere"
      },
      "execution_count": null,
      "outputs": []
    },
    {
      "cell_type": "code",
      "source": [],
      "metadata": {
        "id": "wVWkJmvsdeoz"
      },
      "execution_count": null,
      "outputs": []
    },
    {
      "cell_type": "markdown",
      "source": [
        "# Figures 6.19-20: Sigmoid"
      ],
      "metadata": {
        "id": "KqFO0ki7yLaP"
      }
    },
    {
      "cell_type": "code",
      "source": [
        "# the function and its derivatives\n",
        "t = sym.symbols('t')\n",
        "sigft  = 1 / (1+sym.exp(-t))\n",
        "sigdt  = sym.diff(sigft,t,1)\n",
        "sigddt = sym.diff(sigft,t,2)\n",
        "\n",
        "# numerical values for plotting\n",
        "tt  = np.linspace(-5,5,123)\n",
        "ft  = [ sigft.subs(t,ti) for ti in tt ]\n",
        "dt  = [ sigdt.subs(t,ti) for ti in tt ]\n",
        "ddt = [ sigddt.subs(t,ti) for ti in tt ]\n",
        "\n",
        "\n",
        "# the figure\n",
        "_,axs = plt.subplots(1,3,figsize=(14,4))\n",
        "\n",
        "# the panels\n",
        "axs[0].plot(tt,ft,'k')\n",
        "axs[0].set_title(r'$\\bf{A}$)  $f(t) = %s$'%sym.latex(sigft),fontsize=20)\n",
        "\n",
        "axs[1].plot(tt,dt,'k')\n",
        "axs[1].set_title(r\"$\\bf{B}$)  $f\\,'(t) = %s$\"%sym.latex(sigdt),fontsize=20)\n",
        "\n",
        "axs[2].plot(tt,ddt,'k')\n",
        "axs[2].set_title(r\"$\\bf{C}$)  $f\\,''(t) = %s$\"%sym.latex(sigddt),fontsize=20)\n",
        "\n",
        "\n",
        "# pan-axis settings\n",
        "for a in axs:\n",
        "  a.grid(color=[.8,.8,.8])\n",
        "  a.set(xlim=tt[[0,-1]])\n",
        "\n",
        "# save\n",
        "plt.tight_layout()\n",
        "plt.savefig('critpnts_sigmoid.png')\n",
        "plt.show()"
      ],
      "metadata": {
        "id": "AEveAWYmKl6P"
      },
      "execution_count": null,
      "outputs": []
    },
    {
      "cell_type": "code",
      "source": [
        "# sympy can solve for 0:\n",
        "sym.solve(sigddt)"
      ],
      "metadata": {
        "id": "WknvtfFYWyIh"
      },
      "execution_count": null,
      "outputs": []
    },
    {
      "cell_type": "code",
      "source": [],
      "metadata": {
        "id": "lBFdFzu9XF8V"
      },
      "execution_count": null,
      "outputs": []
    },
    {
      "cell_type": "code",
      "source": [
        "### NOTE: this code cell is used to create Figure 8.1. It is not relevant for Chapter 6.\n",
        "# _,axs = plt.subplots(1,2,figsize=(12,4))\n",
        "# axs[0].plot(tt,ft,'k')\n",
        "# axs[1].plot(tt,dt,'k')\n",
        "# plt.tight_layout()\n",
        "# plt.savefig('test.svg')\n",
        "# plt.show()"
      ],
      "metadata": {
        "id": "8HqaFY79_FN_"
      },
      "execution_count": null,
      "outputs": []
    },
    {
      "cell_type": "code",
      "source": [],
      "metadata": {
        "id": "gDxjl7RRS3nZ"
      },
      "execution_count": null,
      "outputs": []
    },
    {
      "cell_type": "markdown",
      "source": [
        "# Figure 6.21: Critical and inflection points"
      ],
      "metadata": {
        "id": "jE_OkgwDS3ki"
      }
    },
    {
      "cell_type": "code",
      "source": [
        "# the function\n",
        "x = sym.symbols('x')\n",
        "fx = 13*sym.cos(x) - x**3\n",
        "\n",
        "# evaluation\n",
        "xx = np.linspace(-np.pi,np.pi/2,1000)\n",
        "y = [ fx.subs(x,xi) for xi in xx ]\n",
        "\n",
        "# this is the 'skeleton'; I added the dots and text manually in Inkscape\n",
        "plt.figure(figsize=(10,4))\n",
        "plt.plot(xx,y,'k',linewidth=3,label=r\"$f = %s$\" %sym.latex(fx))\n",
        "plt.gca().set(xlim=xx[[0,-1]],xticks=[],yticks=[])\n",
        "\n",
        "plt.tight_layout()\n",
        "plt.savefig('critpnts_cpAndIp.png')\n",
        "plt.show()"
      ],
      "metadata": {
        "id": "wXPndvbZS3h7"
      },
      "execution_count": null,
      "outputs": []
    },
    {
      "cell_type": "code",
      "source": [],
      "metadata": {
        "id": "vIRAqIUBXCGw"
      },
      "execution_count": null,
      "outputs": []
    },
    {
      "cell_type": "markdown",
      "source": [
        "# Figure 6.22: Function and derivatives in one panel"
      ],
      "metadata": {
        "id": "yiEU0xSDXGwL"
      }
    },
    {
      "cell_type": "code",
      "source": [
        "# all in one plot\n",
        "plt.figure(figsize=(5,5))\n",
        "\n",
        "plt.plot(tt,ft,'k',label=\"$f$\")\n",
        "plt.plot(tt,dt,'--',color=[.3,.3,.3],label=\"$f\\,'$\")\n",
        "plt.plot(tt,ddt,':',color=[.6,.6,.6],label=\"$f\\,''$\")\n",
        "\n",
        "plt.xlabel('$t$')\n",
        "plt.ylabel(\"$f$ or $f\\,'$ or $f\\,''$\")\n",
        "plt.xlim(tt[[0,-1]])\n",
        "plt.grid(color=[.8,.8,.8])\n",
        "\n",
        "plt.legend()\n",
        "plt.tight_layout()\n",
        "plt.savefig('critpnts_sigmoidAllIn1.png')\n",
        "plt.show()"
      ],
      "metadata": {
        "id": "_1puGSfyyLXE"
      },
      "execution_count": null,
      "outputs": []
    },
    {
      "cell_type": "code",
      "source": [],
      "metadata": {
        "id": "gj_QH2sbE1N-"
      },
      "execution_count": null,
      "outputs": []
    }
  ]
}