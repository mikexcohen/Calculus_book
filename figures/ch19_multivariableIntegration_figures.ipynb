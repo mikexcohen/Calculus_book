{
  "nbformat": 4,
  "nbformat_minor": 0,
  "metadata": {
    "colab": {
      "private_outputs": true,
      "provenance": [],
      "authorship_tag": "ABX9TyOQZ2yGO0ouRm4m6n/rau6d"
    },
    "kernelspec": {
      "name": "python3",
      "display_name": "Python 3"
    },
    "language_info": {
      "name": "python"
    }
  },
  "cells": [
    {
      "cell_type": "markdown",
      "metadata": {
        "id": "view-in-github"
      },
      "source": [
        "<a href=\"https://colab.research.google.com/github/mikexcohen/Calculus_book/blob/main/figures/ch19_multivariableIntegration_figures.ipynb\" target=\"_parent\"><img src=\"https://colab.research.google.com/assets/colab-badge.svg\" alt=\"Open In Colab\"/></a>"
      ]
    },
    {
      "cell_type": "markdown",
      "source": [
        "# **Calculus unraveled: Intuition, Proofs, and Python**\n",
        "### Mike X Cohen (sincxpress.com)\n",
        "#### https://github.com/mikexcohen/calculus_book\n",
        "#### Code for Chapter 19 (Multivariable integration)\n",
        "\n",
        "---\n",
        "\n",
        "# About this code file:\n",
        "\n",
        "### This notebook will reproduce the figures in this chapter, and illustrate the mathematical concepts explained in the book. The point of providing the code is not just for you to recreate the figures, but for you to modify, adapt, explore, and experiment with the code.\n",
        "\n",
        "## **Using the code without the book may lead to confusion or errors.**\n",
        "\n",
        "#### This code was written in google-colab. The notebook may require some modifications if you use a different IDE."
      ],
      "metadata": {
        "id": "yeVh6hm2ezCO"
      }
    },
    {
      "cell_type": "code",
      "execution_count": null,
      "metadata": {
        "id": "oYWhHwGQ9OdD"
      },
      "outputs": [],
      "source": [
        "# import libraries and define global settings\n",
        "import numpy as np\n",
        "import sympy as sym\n",
        "import scipy.integrate as spi\n",
        "import matplotlib.pyplot as plt\n",
        "from IPython.display import Math\n",
        "\n",
        "# define global figure properties used for publication\n",
        "import matplotlib_inline.backend_inline\n",
        "matplotlib_inline.backend_inline.set_matplotlib_formats('svg') # display figures in vector format\n",
        "plt.rcParams.update({'font.size':14,             # font size\n",
        "                     'savefig.dpi':300,          # output resolution\n",
        "                     'axes.titlelocation':'left',# title location\n",
        "                    #  'axes.spines.right':False,  # remove axis bounding box\n",
        "                    #  'axes.spines.top':False,    # remove axis bounding box\n",
        "                     'lines.linewidth':2         # increase default line thickness\n",
        "                     })"
      ]
    },
    {
      "cell_type": "code",
      "source": [],
      "metadata": {
        "id": "8lwxjMICKChw"
      },
      "execution_count": null,
      "outputs": []
    },
    {
      "cell_type": "markdown",
      "source": [
        "# Figure 19.1: Definite integral as volume under a surface"
      ],
      "metadata": {
        "id": "iZI2KS3h9Qmu"
      }
    },
    {
      "cell_type": "code",
      "source": [
        "# the function\n",
        "def fun2xy(x,y): return 10 - x**2/8 - y**2/8\n",
        "\n",
        "# grid for x and y\n",
        "x = np.linspace(-5, 5, 100)\n",
        "y = np.linspace(-5, 5, 100)\n",
        "X, Y = np.meshgrid(x,y)\n",
        "Z = fun2xy(X,Y)\n",
        "\n",
        "# show the plot!\n",
        "fig = plt.figure(figsize=(12,5))\n",
        "ax1 = fig.add_subplot(121)\n",
        "ax2 = fig.add_subplot(122,projection='3d')\n",
        "\n",
        "# plot a regular line\n",
        "ax1.plot(x,fun2xy(x,0),'k')\n",
        "ax1.fill_between(np.linspace(-1,3,101),fun2xy(np.linspace(-1,3,101),0),color='k',alpha=.4)\n",
        "ax1.grid(color=[.7,.7,.7],linestyle='--')\n",
        "ax1.set(xlim=x[[0,-1]],xlabel='$x$',ylabel='$y$',title=r'$\\bf{A}$)  Definite integral as area under a curve')\n",
        "\n",
        "# the surface and \"walls\" indicating volume\n",
        "ax2.plot_surface(X,Y,Z, cmap='gray')\n",
        "ax2.fill_between(x,y[0],0, x,y[0],fun2xy(x,y[0]), color='k',alpha=.3,linewidth=.5)\n",
        "ax2.fill_between(x[-1],y,0, x[-1],y,fun2xy(x[-1],y), color='k',alpha=.3,linewidth=.5)\n",
        "\n",
        "ax2.set(xlabel='$x$',ylabel='$y$',zlabel='$z$',zlim=[0,10],title=r'$\\bf{B}$)  Definite integral as volume under a surface')\n",
        "\n",
        "plt.tight_layout()\n",
        "plt.savefig('multiint_defIntAreaVolume.png')\n",
        "plt.show()"
      ],
      "metadata": {
        "id": "h3MK2GvNuGeX"
      },
      "execution_count": null,
      "outputs": []
    },
    {
      "cell_type": "code",
      "source": [],
      "metadata": {
        "id": "n68LiwpGoEfn"
      },
      "execution_count": null,
      "outputs": []
    },
    {
      "cell_type": "markdown",
      "source": [
        "# Figure 19.3: sympy output"
      ],
      "metadata": {
        "id": "WmPlGy8cADww"
      }
    },
    {
      "cell_type": "code",
      "source": [
        "x,y = sym.symbols('x,y')\n",
        "\n",
        "f_xy = 3*x + x*y\n",
        "F_x = sym.integrate(f_xy,x)\n",
        "F_y = sym.integrate(f_xy,y)\n",
        "F_xy = sym.integrate(F_x,y)\n",
        "F_yx = sym.integrate(F_y,x)\n",
        "\n",
        "display(Math('f(x,y) = %s' %sym.latex(f_xy))), print('')\n",
        "display(Math('F_{x} = %s' %sym.latex(F_x))), print('')\n",
        "display(Math('F_{y} = %s' %sym.latex(F_y))), print('')\n",
        "display(Math('F_{xy} = %s' %sym.latex(F_xy))), print('')\n",
        "display(Math('F_{yx} = %s' %sym.latex(F_yx)))"
      ],
      "metadata": {
        "id": "M_LND74NNqvJ"
      },
      "execution_count": null,
      "outputs": []
    },
    {
      "cell_type": "code",
      "source": [
        "# lambdify the expressions\n",
        "f_xy_l = sym.lambdify((x,y),f_xy)\n",
        "F_x_l  = sym.lambdify((x,y),F_x)\n",
        "F_y_l  = sym.lambdify((x,y),F_y)\n",
        "F_xy_l = sym.lambdify((x,y),F_xy)"
      ],
      "metadata": {
        "id": "fnccfsKPbH5c"
      },
      "execution_count": null,
      "outputs": []
    },
    {
      "cell_type": "code",
      "source": [],
      "metadata": {
        "id": "M_ROil6u9rbg"
      },
      "execution_count": null,
      "outputs": []
    },
    {
      "cell_type": "markdown",
      "source": [
        "# Figure 19.4: Indefinite integrals"
      ],
      "metadata": {
        "id": "Tvo9frt39rY5"
      }
    },
    {
      "cell_type": "code",
      "source": [
        "# and now visualize\n",
        "# create coordinate grid matrices\n",
        "a,b = -10,3\n",
        "xx = np.linspace(a,b,151)\n",
        "X,Y = np.meshgrid(xx,xx)\n",
        "\n",
        "# show the function and its partial integrals\n",
        "_,axs = plt.subplots(2,2,figsize=(10,6))\n",
        "axs[0,0].imshow(f_xy_l(X,Y),extent=[xx[0],xx[-1],xx[0],xx[-1]],origin='lower',cmap='gray',vmin=-5,vmax=5)\n",
        "axs[0,0].set_title(r'$\\bf{A}$)  $f(x,y) = %s$' %sym.latex(f_xy))\n",
        "\n",
        "axs[0,1].imshow(F_x_l(X,Y),extent=[xx[0],xx[-1],xx[0],xx[-1]],origin='lower',cmap='gray',vmin=-5,vmax=5)\n",
        "axs[0,1].set_title(r'$\\bf{B}$)  $F_x = %s$' %sym.latex(F_x))\n",
        "\n",
        "axs[1,0].imshow(F_y_l(X,Y),extent=[xx[0],xx[-1],xx[0],xx[-1]],origin='lower',cmap='gray',vmin=-5,vmax=5)\n",
        "axs[1,0].set_title(r'$\\bf{C}$)  $F_y = %s$' %sym.latex(F_y))\n",
        "\n",
        "axs[1,1].imshow(F_xy_l(X,Y),extent=[xx[0],xx[-1],xx[0],xx[-1]],origin='lower',cmap='gray',vmin=-5,vmax=5)\n",
        "axs[1,1].set_title(r'$\\bf{D}$)  $F_{xy} = %s$' %sym.latex(F_xy))\n",
        "\n",
        "for axi in axs.flatten(): axi.set(xlabel='$x$',ylabel='$y$'), axi.axis('auto')\n",
        "\n",
        "plt.tight_layout()\n",
        "plt.savefig('multiint_visualizationEx1sympy.png')\n",
        "plt.show()"
      ],
      "metadata": {
        "id": "RnERtfQTNqsM"
      },
      "execution_count": null,
      "outputs": []
    },
    {
      "cell_type": "code",
      "source": [],
      "metadata": {
        "id": "9JLba0NyNqpf"
      },
      "execution_count": null,
      "outputs": []
    },
    {
      "cell_type": "markdown",
      "source": [
        "# Figures 19.5-6: Reproducing sympy result with scipy"
      ],
      "metadata": {
        "id": "WGFPKMALYedJ"
      }
    },
    {
      "cell_type": "code",
      "source": [
        "# confirming the sympy result\n",
        "xx = np.linspace(a,b,81)\n",
        "dx = xx[1] - xx[0]\n",
        "yy = xx + 0\n",
        "dy = yy[1] - yy[0]\n",
        "X,Y = np.meshgrid(xx,yy)\n",
        "f_xy = f_xy_l(X,Y)\n",
        "\n",
        "# partial integrals\n",
        "F_x  = spi.cumulative_simpson(f_xy,dx=dx,axis=1)\n",
        "F_y  = spi.cumulative_simpson(f_xy,dx=dy,axis=0)\n",
        "F_xy = spi.cumulative_simpson(F_x,dx=dx,axis=0)\n",
        "\n",
        "# normalizations (comment these lines for figure 19.5)\n",
        "F_x  -= F_x[:,np.argmin(abs(xx))].reshape(-1,1)\n",
        "F_y  -= F_y[np.argmin(abs(xx)),:].reshape(1,-1)\n",
        "F_xy -= F_xy[np.argmin(abs(xx)),:].reshape(1,-1)\n",
        "F_xy -= F_xy[:,np.argmin(abs(xx))].reshape(-1,1)"
      ],
      "metadata": {
        "id": "7vVlp_qhNqhB"
      },
      "execution_count": null,
      "outputs": []
    },
    {
      "cell_type": "code",
      "source": [
        "# and now visualize\n",
        "_,axs = plt.subplots(2,2,figsize=(10,6))\n",
        "axs[0,0].imshow(f_xy,extent=[xx[0],xx[-1],xx[0],xx[-1]],origin='lower',cmap='gray',vmin=-5,vmax=5)\n",
        "axs[0,0].set_title(r'$\\bf{A}$)  $f(x,y)$')\n",
        "\n",
        "axs[0,1].imshow(F_x,extent=[xx[0],xx[-1],xx[0],xx[-1]],origin='lower',cmap='gray',vmin=-5,vmax=5)\n",
        "axs[0,1].set_title(r'$\\bf{B}$)  $F_x $')\n",
        "\n",
        "axs[1,0].imshow(F_y,extent=[xx[0],xx[-1],xx[0],xx[-1]],origin='lower',cmap='gray',vmin=-5,vmax=5)\n",
        "axs[1,0].set_title(r'$\\bf{C}$)  $F_y$')\n",
        "\n",
        "axs[1,1].imshow(F_xy,extent=[xx[0],xx[-1],xx[0],xx[-1]],origin='lower',cmap='gray',vmin=-5,vmax=5)\n",
        "axs[1,1].set_title(r'$\\bf{D}$)  $F_{xy}$')\n",
        "\n",
        "for axi in axs.flatten(): axi.set(xlabel='x',ylabel='y'), axi.axis('auto')\n",
        "\n",
        "plt.tight_layout()\n",
        "plt.savefig('multiint_visualizationEx1scipyNorm.png')\n",
        "plt.show()"
      ],
      "metadata": {
        "id": "1Xm2Vwz2NqeH"
      },
      "execution_count": null,
      "outputs": []
    },
    {
      "cell_type": "code",
      "source": [],
      "metadata": {
        "id": "kNyXl0LUKnRk"
      },
      "execution_count": null,
      "outputs": []
    },
    {
      "cell_type": "markdown",
      "source": [
        "# Figure 19.7: Second example of multivariable indefinite integrals"
      ],
      "metadata": {
        "id": "OcIRAnk4KnPD"
      }
    },
    {
      "cell_type": "code",
      "source": [
        "# x and y grids and dx\n",
        "xx = np.linspace(-2*np.pi,2*np.pi,81)\n",
        "dx = xx[1] - xx[0]\n",
        "\n",
        "yy = np.linspace(-4,1.5,151)\n",
        "dy = yy[1] - yy[0]\n",
        "\n",
        "# the function\n",
        "X,Y = np.meshgrid(xx,yy)\n",
        "f_xy = 3*Y*X**2 + 5*np.sin(X*Y) + 2*Y*np.exp(-Y**2) + 4\n",
        "\n",
        "# reminder that first dimension is for Y and second dimension is for X\n",
        "\n",
        "# partial integrals and normalize\n",
        "F_x = spi.cumulative_simpson(f_xy,dx=dx,axis=1,initial=True)\n",
        "F_x -= F_x[:,np.argmin(abs(xx))].reshape(-1,1)\n",
        "\n",
        "F_y = spi.cumulative_simpson(f_xy,dx=dy,axis=0,initial=True)\n",
        "F_y -= F_y[np.argmin(abs(yy)),:].reshape(1,-1)\n",
        "\n",
        "F_xy = spi.cumulative_simpson(F_x,dx=dx,axis=0,initial=True)\n",
        "F_xy -= F_xy[np.argmin(abs(yy)),:].reshape(1,-1)\n",
        "F_xy -= F_xy[:,np.argmin(abs(xx))].reshape(-1,1)"
      ],
      "metadata": {
        "id": "9B69Y4GXKn0X"
      },
      "execution_count": null,
      "outputs": []
    },
    {
      "cell_type": "code",
      "source": [
        "# and now visualize\n",
        "_,axs = plt.subplots(2,2,figsize=(10,6))\n",
        "\n",
        "clim = 10\n",
        "\n",
        "axs[0,0].imshow(f_xy,extent=[xx[0],xx[-1],yy[0],yy[-1]],origin='lower',cmap='gray',vmin=-clim,vmax=clim)\n",
        "axs[0,0].set_title(r'$\\bf{A}$)  $f(x,y)$')\n",
        "\n",
        "axs[0,1].imshow(F_x,extent=[xx[0],xx[-1],yy[0],yy[-1]],origin='lower',cmap='gray',vmin=-clim,vmax=clim)\n",
        "axs[0,1].set_title(r'$\\bf{B}$)  $F_x $')\n",
        "\n",
        "axs[1,0].imshow(F_y,extent=[xx[0],xx[-1],yy[0],yy[-1]],origin='lower',cmap='gray',vmin=-clim,vmax=clim)\n",
        "axs[1,0].set_title(r'$\\bf{C}$)  $F_y$')\n",
        "\n",
        "axs[1,1].imshow(F_xy,extent=[xx[0],xx[-1],yy[0],yy[-1]],origin='lower',cmap='gray',vmin=-clim,vmax=clim)\n",
        "axs[1,1].set_title(r'$\\bf{D}$)  $F_{xy}$')\n",
        "\n",
        "for axi in axs.flatten(): axi.set(xlabel='x',ylabel='y'), axi.axis('auto')\n",
        "\n",
        "plt.tight_layout()\n",
        "plt.savefig('multiint_visualizationEx2.png')\n",
        "plt.show()"
      ],
      "metadata": {
        "id": "nIyuMectKn0Y"
      },
      "execution_count": null,
      "outputs": []
    },
    {
      "cell_type": "code",
      "source": [],
      "metadata": {
        "id": "AQwkz-S6LD4c"
      },
      "execution_count": null,
      "outputs": []
    },
    {
      "cell_type": "markdown",
      "source": [
        "# Definite integrals"
      ],
      "metadata": {
        "id": "U48BmRMgjStV"
      }
    },
    {
      "cell_type": "code",
      "source": [
        "# the function\n",
        "x,y = sym.symbols('x,y')\n",
        "f = 2*x + y**2\n",
        "\n",
        "# integration bounds\n",
        "x_a,x_b = -1,3\n",
        "y_a,y_b = 0,2\n",
        "\n",
        "sympy_int = sym.integrate(f,(x,x_a,x_b),(y,y_a,y_b))\n",
        "\n",
        "# the result\n",
        "display(Math('%s = %s' %(sym.latex(sym.Integral(f,(x,x_a,x_b),(y,y_a,y_b))),\n",
        "                         sym.latex(sympy_int) ) ))"
      ],
      "metadata": {
        "id": "4SMhm5iojUYr"
      },
      "execution_count": null,
      "outputs": []
    },
    {
      "cell_type": "code",
      "source": [],
      "metadata": {
        "id": "NijVCSvV5HKg"
      },
      "execution_count": null,
      "outputs": []
    },
    {
      "cell_type": "markdown",
      "source": [
        "# Numerical approximation in numpy"
      ],
      "metadata": {
        "id": "hh3uMFZk5HIG"
      }
    },
    {
      "cell_type": "code",
      "source": [
        "# recode in sympy\n",
        "x,y = sym.symbols('x,y')\n",
        "f = 2*x + y**2\n",
        "\n",
        "# integration bounds\n",
        "x_a,x_b = -1,3\n",
        "y_a,y_b = 0,2"
      ],
      "metadata": {
        "id": "96Pazn135K9f"
      },
      "execution_count": null,
      "outputs": []
    },
    {
      "cell_type": "code",
      "source": [
        "# in numpy\n",
        "xx = np.linspace(x_a,x_b,1601)\n",
        "yy = np.linspace(y_a,y_b,1600)\n",
        "X,Y = np.meshgrid(xx,yy)\n",
        "fxy = sym.lambdify((x,y),f)(X,Y)\n",
        "\n",
        "intOverX = np.sum(fxy,axis=1) * (xx[1]-xx[0])\n",
        "doubleInt = np.sum(intOverX)  * (yy[1]-yy[0])\n",
        "\n",
        "# or:\n",
        "fullInt = np.sum(fxy) * (xx[1]-xx[0]) * (yy[1]-yy[0])\n",
        "\n",
        "print(f'Sympy exact result: {sympy_int:.5f}')\n",
        "print(f'Numpy in two steps: {doubleInt:.5f}')\n",
        "print(f'Scipy in one step : {fullInt:.5f}')"
      ],
      "metadata": {
        "id": "DjiQ82YvRE44"
      },
      "execution_count": null,
      "outputs": []
    },
    {
      "cell_type": "code",
      "source": [],
      "metadata": {
        "id": "-7ZbLdzaVCGZ"
      },
      "execution_count": null,
      "outputs": []
    },
    {
      "cell_type": "markdown",
      "source": [
        "# Figure 19.8: Definite integral in a region"
      ],
      "metadata": {
        "id": "B7aQJD3w-iZx"
      }
    },
    {
      "cell_type": "code",
      "source": [
        "# function to draw the rectangle\n",
        "import matplotlib.patches as patches\n",
        "\n",
        "xx = np.linspace(x_a-2,x_b+3,1601)\n",
        "yy = np.linspace(y_a-2,y_b+3,1600)\n",
        "\n",
        "dx = xx[1]-xx[0]\n",
        "dy = yy[1]-yy[0]\n",
        "\n",
        "X,Y = np.meshgrid(xx,yy)\n",
        "fxy = sym.lambdify((x,y),f)(X,Y)\n",
        "\n",
        "# indices for integration bounds\n",
        "x_idx = (xx >= x_a) & (xx <= x_b)\n",
        "y_idx = (yy >= y_a) & (yy <= y_b)\n",
        "\n",
        "# simple sum using numpy\n",
        "npApprox = np.sum(fxy[np.ix_(y_idx,x_idx)]) * (dx*dy)\n",
        "\n",
        "# double integrate in scipy on 1D at a time\n",
        "F_x      = spi.simpson(fxy[:,x_idx], dx=dx, axis=1)\n",
        "spApprox = spi.simpson(F_x[y_idx], dx=dy)\n",
        "\n",
        "print(f'Sympy exact result : {sympy_int:.5f}')\n",
        "print(f'Numpy approximation: {npApprox:.5f}')\n",
        "print(f'Scipy approximation: {spApprox:.5f}')\n",
        "\n",
        "\n",
        "# show the plot\n",
        "fig,ax = plt.subplots(1,figsize=(5,4))\n",
        "h = ax.imshow(fxy,origin='lower',extent=[xx[0],xx[-1],yy[0],yy[-1]],vmin=-5,vmax=5,cmap='gray')\n",
        "ax.set(xlabel='x',ylabel='y')\n",
        "ch = fig.colorbar(h,ax=ax,fraction=.0352)\n",
        "ch.ax.tick_params(labelsize=10)\n",
        "\n",
        "ax.add_patch( patches.Rectangle(\n",
        "    (x_a,y_a),x_b-x_a,y_b-y_a,\n",
        "    linestyle='--',linewidth=1,edgecolor='k',facecolor='none') )\n",
        "\n",
        "plt.tight_layout()\n",
        "plt.savefig('multiint_defIntScipy.png')\n",
        "plt.show()"
      ],
      "metadata": {
        "id": "eQOvMEmAjSq0"
      },
      "execution_count": null,
      "outputs": []
    },
    {
      "cell_type": "code",
      "source": [],
      "metadata": {
        "id": "xKeTs4WW64US"
      },
      "execution_count": null,
      "outputs": []
    },
    {
      "cell_type": "markdown",
      "source": [
        "# Figure 19.9: Definite integral with variable bounds"
      ],
      "metadata": {
        "id": "UyDBmZj0IfWg"
      }
    },
    {
      "cell_type": "code",
      "source": [
        "# Define variables and the function\n",
        "x,y = sym.symbols('x,y')\n",
        "fxy = x**2 + y\n",
        "\n",
        "x_a = y**2\n",
        "x_b = y + 0\n",
        "y_a = 0\n",
        "y_b = 1\n",
        "\n",
        "# exact integral\n",
        "inner_integral = sym.integrate(fxy,(x,x_a,x_b))\n",
        "sym_defint = sym.integrate(inner_integral,(y,y_a,y_b))\n",
        "\n",
        "# note: the above two lines can be condensed into one:\n",
        "#sym_def = sym.integrate(fxy,(x,x_a,x_b),(y,y_a,y_b))\n",
        "\n",
        "# Print the symbolic result\n",
        "display(Math('%s ' %sym.latex(sym.Integral(sym.Integral(fxy,(x,x_a,x_b)),(y,y_a,y_b)))))\n",
        "print('')\n",
        "display(Math('%s = %s' %(sym.latex(sym.Integral(fxy,(x,x_a,x_b))),sym.latex(inner_integral))))\n",
        "print('')\n",
        "display(Math('%s = %s' %(sym.latex(sym.Integral(inner_integral,(y,y_a,y_b))),sym.latex(sym_defint))))"
      ],
      "metadata": {
        "id": "Z2rVr42R5HP2"
      },
      "execution_count": null,
      "outputs": []
    },
    {
      "cell_type": "code",
      "source": [
        "# Define the region of integration\n",
        "xx4region = np.linspace(y_a,y_b,100)\n",
        "yLo4region = np.array([x_a.subs(y,yi) for yi in xx4region],dtype=float)\n",
        "yHi4region = np.array([x_b.subs(y,yi) for yi in xx4region],dtype=float)\n",
        "\n",
        "# Create a meshgrid for plotting the function\n",
        "xx = np.linspace(float(x_a.subs(y,y_a)),float(x_b.subs(y,y_b)),499)\n",
        "yy = np.linspace(y_a,y_b,499)\n",
        "X,Y = np.meshgrid(xx,yy)\n",
        "fxy_lam = sym.lambdify((x,y),fxy)\n",
        "Z = fxy_lam(X,Y)\n",
        "\n",
        "\n",
        "### visualization\n",
        "fig,ax = plt.subplots(figsize=(12,6))\n",
        "\n",
        "# function as heatmap\n",
        "h = ax.imshow(Z,origin='lower',extent=[xx[0],xx[-1],yy[0],yy[-1]],\n",
        "              cmap='gray',vmin=0,vmax=2,aspect='auto',alpha=.8)\n",
        "fig.colorbar(h, ax=ax, label=r'$z = f(x,y)$')\n",
        "\n",
        "# region of integration\n",
        "ax.plot(xx4region,yLo4region,'k--',label=r'Lower bound = $%s$' %sym.latex(x_a))\n",
        "ax.plot(xx4region,yHi4region,'k',label=r'Upper bound = $%s$' %sym.latex(x_b))\n",
        "ax.fill_between(xx4region,yHi4region,yLo4region,color='k',alpha=.2,label='Integration window')\n",
        "ax.legend()\n",
        "\n",
        "# etc etc\n",
        "ax.set(xlabel='$x$',ylabel='$y$',xlim=[0,1],ylim=[0,1])\n",
        "ax.set_title(r'$\\int_{%s}^{%s}\\int_{%s}^{%s} \\left(%s\\right) \\,dx\\,dy = %s$'\n",
        "             %(sym.latex(y_a),sym.latex(y_b),sym.latex(x_a),sym.latex(x_b),sym.latex(fxy),sym_defint),\n",
        "             loc='center')\n",
        "\n",
        "plt.tight_layout()\n",
        "plt.savefig('multiint_variableIntegration1.png')\n",
        "plt.show()"
      ],
      "metadata": {
        "id": "we7yOupiAIpN"
      },
      "execution_count": null,
      "outputs": []
    },
    {
      "cell_type": "code",
      "source": [],
      "metadata": {
        "id": "6tVmZ1LB5HNL"
      },
      "execution_count": null,
      "outputs": []
    },
    {
      "cell_type": "markdown",
      "source": [
        "# Figure 19.11: Numerical approximation"
      ],
      "metadata": {
        "id": "DC6XgCjKIStS"
      }
    },
    {
      "cell_type": "code",
      "source": [
        "# Integration bounds\n",
        "y_vals = np.linspace(y_a,y_b,1000)\n",
        "slice_integrals = np.zeros(len(y_vals))\n",
        "\n",
        "# iterate over y values, integrate along x\n",
        "for idx,yi in enumerate(y_vals):\n",
        "\n",
        "  # x bounds for this y\n",
        "  lo_bnd = float(x_a.subs(y,yi))\n",
        "  hi_bnd = float(x_b.subs(y,yi))\n",
        "  x_vals = np.linspace(lo_bnd,hi_bnd,100)\n",
        "\n",
        "  # function values for these coords\n",
        "  f_vals = fxy_lam(x_vals,yi)\n",
        "\n",
        "  # get the \"mini-integral\" of this slice\n",
        "  slice_integrals[idx] = spi.simpson(f_vals,x=x_vals)\n",
        "\n",
        "# Integrate the results along y\n",
        "integral_result = spi.simpson(slice_integrals,x=y_vals)\n",
        "\n",
        "# print the results\n",
        "print(f'Sympy exact result : {sym_defint:.10f}')\n",
        "print(f'Scipy approximation: {integral_result:.10f}')"
      ],
      "metadata": {
        "id": "N1Q7sWh4ISpj"
      },
      "execution_count": null,
      "outputs": []
    },
    {
      "cell_type": "code",
      "source": [
        "# note: this figure was made setting x_vals N=1000\n",
        "plt.figure(figsize=(5,5))\n",
        "plt.plot(slice_integrals[::10],y_vals[::10],'ks-',markerfacecolor='w',alpha=.6)\n",
        "plt.gca().set(ylim=[y_a-.02,y_b+.02],ylabel=r'$y$-axis coordinate of horizontal slice',xlabel=r'Definite integral across $x$')\n",
        "\n",
        "plt.tight_layout()\n",
        "plt.savefig('multiint_variableIntSliceInts.png')\n",
        "plt.show()"
      ],
      "metadata": {
        "id": "tNZgxg2Sc0P_"
      },
      "execution_count": null,
      "outputs": []
    },
    {
      "cell_type": "code",
      "source": [],
      "metadata": {
        "id": "iwot6FUjwINw"
      },
      "execution_count": null,
      "outputs": []
    },
    {
      "cell_type": "markdown",
      "source": [
        "# Figure 19.12: The mask"
      ],
      "metadata": {
        "id": "N5d8Jqut_OPH"
      }
    },
    {
      "cell_type": "code",
      "source": [
        "# create and visualize the mask\n",
        "mask = (Y>=X**2) & (Y<=X)\n",
        "plt.figure(figsize=(5,5))\n",
        "plt.imshow(mask,origin='lower',extent=[xx[0],xx[-1],yy[0],yy[-1]],cmap='gray')\n",
        "plt.tight_layout()\n",
        "plt.savefig('multiint_variableIntMask.png')\n",
        "\n",
        "# numpy approximation\n",
        "dx = xx[1]-xx[0]\n",
        "dy = yy[1]-yy[0]\n",
        "integral_np = np.sum(Z[mask]) * dx*dy\n",
        "\n",
        "# print the results\n",
        "print(f'Sympy exact result : {sym_defint:.10f}')\n",
        "print(f'Scipy approximation: {integral_result:.10f}')\n",
        "print(f'Numpy approximation: {integral_np:.10f}')"
      ],
      "metadata": {
        "id": "VqRB81KMISmn"
      },
      "execution_count": null,
      "outputs": []
    },
    {
      "cell_type": "code",
      "source": [],
      "metadata": {
        "id": "f6u4TO210V71"
      },
      "execution_count": null,
      "outputs": []
    }
  ]
}