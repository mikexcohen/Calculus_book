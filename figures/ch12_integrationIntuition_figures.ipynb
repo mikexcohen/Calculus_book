{
  "nbformat": 4,
  "nbformat_minor": 0,
  "metadata": {
    "colab": {
      "private_outputs": true,
      "provenance": [],
      "authorship_tag": "ABX9TyOFaAL9TmPoGcQxCOmr79zT"
    },
    "kernelspec": {
      "name": "python3",
      "display_name": "Python 3"
    },
    "language_info": {
      "name": "python"
    }
  },
  "cells": [
    {
      "cell_type": "markdown",
      "metadata": {
        "id": "IMCG77qiecTi"
      },
      "source": [
        "<a href=\"https://colab.research.google.com/github/mikexcohen/Calculus_book/blob/main/figures/ch12_integrationIntuition_figures.ipynb\" target=\"_parent\"><img src=\"https://colab.research.google.com/assets/colab-badge.svg\" alt=\"Open In Colab\"/></a>"
      ]
    },
    {
      "cell_type": "markdown",
      "source": [
        "# **Calculus unraveled: Intuition, Proofs, and Python**\n",
        "### Mike X Cohen (sincxpress.com)\n",
        "#### https://github.com/mikexcohen/calculus_book\n",
        "#### Code for Chapter 12 (Intuition for integration)\n",
        "\n",
        "---\n",
        "\n",
        "# About this code file:\n",
        "\n",
        "### This notebook will reproduce the figures in this chapter, and illustrate the mathematical concepts explained in the book. The point of providing the code is not just for you to recreate the figures, but for you to modify, adapt, explore, and experiment with the code.\n",
        "\n",
        "## **Using the code without the book may lead to confusion or errors.**\n",
        "\n",
        "#### This code was written in google-colab. The notebook may require some modifications if you use a different IDE."
      ],
      "metadata": {
        "id": "jb67RuPgecTj"
      }
    },
    {
      "cell_type": "code",
      "source": [],
      "metadata": {
        "id": "34Xt73jrJbNe"
      },
      "execution_count": null,
      "outputs": []
    },
    {
      "cell_type": "code",
      "execution_count": null,
      "metadata": {
        "id": "oYWhHwGQ9OdD"
      },
      "outputs": [],
      "source": [
        "# import libraries and define global settings\n",
        "import numpy as np\n",
        "import sympy as sym\n",
        "import matplotlib.pyplot as plt\n",
        "\n",
        "# define global figure properties used for publication\n",
        "import matplotlib_inline.backend_inline\n",
        "matplotlib_inline.backend_inline.set_matplotlib_formats('svg') # display figures in vector format\n",
        "plt.rcParams.update({'font.size':14,             # font size\n",
        "                     'savefig.dpi':300,          # output resolution\n",
        "                     'axes.titlelocation':'left',# title location\n",
        "                     'axes.spines.right':False,  # remove axis bounding box\n",
        "                     'axes.spines.top':False,    # remove axis bounding box\n",
        "                     'lines.linewidth':2         # increase default line thickness\n",
        "                     })"
      ]
    },
    {
      "cell_type": "code",
      "source": [],
      "metadata": {
        "id": "8lwxjMICKChw"
      },
      "execution_count": null,
      "outputs": []
    },
    {
      "cell_type": "markdown",
      "source": [
        "# Figure 12.1: Cumulative sum"
      ],
      "metadata": {
        "id": "h1i9wYhlKCe5"
      }
    },
    {
      "cell_type": "code",
      "source": [
        "# example from the book\n",
        "v = np.array([ 1, 3, 0, -2, 4 ])\n",
        "c = np.cumsum(v)\n",
        "\n",
        "# another example of integrated white noise\n",
        "n = np.random.randn(100)\n",
        "s = np.cumsum(n)\n",
        "\n",
        "# y\n",
        "ymax = np.max(abs(s))+.5\n",
        "\n",
        "_,axs = plt.subplots(2,2,figsize=(12,6))\n",
        "\n",
        "# plot the book example\n",
        "axs[0,0].plot(v,'ks-',markerfacecolor='w',markersize=10)\n",
        "axs[0,0].grid()\n",
        "axs[0,0].set(xlim=[-.2,4.2],ylim=[-2.3,6.3],title=r'$\\bf{A}$)  Function ($\\bf{v}$)')\n",
        "\n",
        "axs[1,0].plot(c,'ko-',markerfacecolor=[.7,.7,.7],markersize=10)\n",
        "axs[1,0].grid()\n",
        "axs[1,0].set(xlim=[-.2,4.2],ylim=[-2.3,6.3],title=r'$\\bf{B}$)  Cumulative sum ($\\bf{c}$)')\n",
        "\n",
        "# plot the noise\n",
        "axs[0,1].plot(n,'ks-',markerfacecolor='w',markersize=8)\n",
        "axs[0,1].set(xlim=[-2,102],ylim=[-ymax,ymax],title=r'$\\bf{C}$)  Data')\n",
        "\n",
        "axs[1,1].plot(s,'ko-',markerfacecolor=[.7,.7,.7],markersize=8)\n",
        "axs[1,1].set(xlim=[-2,102],ylim=[-ymax,ymax],title=r'$\\bf{D}$)  Cumulative sum')\n",
        "\n",
        "\n",
        "# save\n",
        "plt.tight_layout()\n",
        "plt.savefig('intint_cumsum.png')\n",
        "plt.show()"
      ],
      "metadata": {
        "id": "bcemJT60KER0"
      },
      "execution_count": null,
      "outputs": []
    },
    {
      "cell_type": "code",
      "source": [],
      "metadata": {
        "id": "7ARr9DcdlYr6"
      },
      "execution_count": null,
      "outputs": []
    },
    {
      "cell_type": "markdown",
      "source": [
        "# Figure 12.2: Comparing approximate and analytic integrals"
      ],
      "metadata": {
        "id": "WRSNVu2VlYpC"
      }
    },
    {
      "cell_type": "code",
      "source": [
        "dx = .1\n",
        "x = np.arange(-2,4,step=dx)\n",
        "\n",
        "fx = x**2\n",
        "intf_true = x**3/3\n",
        "intf_approx = np.cumsum(fx) * dx\n",
        "\n",
        "# normalize\n",
        "zeroidx = np.argmin(abs(x))\n",
        "intf_approx -= intf_approx[zeroidx]\n",
        "\n",
        "plt.figure(figsize=(8,4))\n",
        "plt.plot(x,intf_approx,'ko',markerfacecolor='w',markersize=8,label='Empirical integral')\n",
        "plt.plot(x,intf_true,'k',label='Analytic integral')\n",
        "\n",
        "plt.legend()\n",
        "plt.gca().set(xlim=[x[0]-dx,x[-1]+dx],xlabel='x',ylabel='y')\n",
        "\n",
        "plt.tight_layout()\n",
        "plt.savefig('intint_intApproxTrue.png')\n",
        "plt.show()"
      ],
      "metadata": {
        "id": "ltReFUz_lb8P"
      },
      "execution_count": null,
      "outputs": []
    },
    {
      "cell_type": "code",
      "source": [],
      "metadata": {
        "id": "mXao9gqMT9x2"
      },
      "execution_count": null,
      "outputs": []
    },
    {
      "cell_type": "markdown",
      "source": [
        "# Figure 12.3: Area of a constant function"
      ],
      "metadata": {
        "id": "2SVbx_d7T9u-"
      }
    },
    {
      "cell_type": "code",
      "source": [
        "x = np.linspace(0,5,99)\n",
        "\n",
        "fx = np.ones(len(x)) * 2\n",
        "\n",
        "plt.figure(figsize=(10,3))\n",
        "\n",
        "plt.plot(x,fx,'k',label=r'$f(x) = 2$')\n",
        "plt.gca().set(xlim=x[[0,-1]],xticks=range(5),xticklabels=[0,'$a$',2,3,'$b$'],\n",
        "              ylim=[0,2.5],yticks=[0,1,2],xlabel='x',ylabel=r'$y = f(x)$')\n",
        "\n",
        "plt.fill_between([1,4],[0,0],[2,2],color='k',alpha=.2,label='Bounded region')\n",
        "\n",
        "plt.legend()\n",
        "plt.tight_layout()\n",
        "plt.savefig('intint_calcArea1.png')\n",
        "plt.show()"
      ],
      "metadata": {
        "id": "VqwYn9TLUAlL"
      },
      "execution_count": null,
      "outputs": []
    },
    {
      "cell_type": "code",
      "source": [],
      "metadata": {
        "id": "4dxp9mgtT9sI"
      },
      "execution_count": null,
      "outputs": []
    },
    {
      "cell_type": "markdown",
      "source": [
        "# Figure 12.4: Approximating area using rectangles"
      ],
      "metadata": {
        "id": "MPi-mr4FT9pR"
      }
    },
    {
      "cell_type": "code",
      "source": [
        "# function for the function\n",
        "def fx(u):\n",
        "  return u**2 + .2"
      ],
      "metadata": {
        "id": "_xOO301LOt54"
      },
      "execution_count": null,
      "outputs": []
    },
    {
      "cell_type": "code",
      "source": [
        "# plot the function\n",
        "_,axs = plt.subplots(1,3,figsize=(14,4))\n",
        "\n",
        "\n",
        "## panel A: the analytic result\n",
        "x = np.linspace(-.5,1,101)\n",
        "axs[0].plot(x,fx(x),'k')\n",
        "\n",
        "# and its true (analytically calculated) area\n",
        "sx = sym.symbols('sx')\n",
        "trueArea = sym.integrate(sx**2+.2,(sx,x[0],x[-1]))\n",
        "axs[0].fill_between(x,np.zeros(len(x)),fx(x),edgecolor=[.6,.6,.6],facecolor='k',alpha=.2)\n",
        "\n",
        "\n",
        "\n",
        "### panel B: one rectangle\n",
        "axs[1].plot(x,fx(x),'k')\n",
        "axs[1].fill_between(x[[0,-1]],[0,0],np.full(2,np.mean(fx(x[[0,-1]]))),edgecolor=[.6,.6,.6],facecolor='k',alpha=.2)\n",
        "area1 = (x[-1]-x[0]) * np.mean(fx(x[[0,-1]]))\n",
        "\n",
        "\n",
        "\n",
        "\n",
        "### panel C: the low-res approximation\n",
        "xx = np.linspace(x[0]+.1,x[-1]-.1,5)\n",
        "dx = xx[1] - xx[0]\n",
        "\n",
        "# initialize area\n",
        "area5 = 0\n",
        "\n",
        "# plot the function again\n",
        "axs[2].plot(x,fx(x),'k')\n",
        "\n",
        "# plot rectangles\n",
        "for xi in xx:\n",
        "\n",
        "  # draw the rectangle\n",
        "  axs[2].fill_between([xi-dx/2,xi+dx/2],[fx(xi),fx(xi)],edgecolor=[.6,.6,.6],facecolor='k',alpha=.2)\n",
        "\n",
        "  # sum the area\n",
        "  area5 += fx(xi)*dx\n",
        "\n",
        "# set the labels\n",
        "axs[0].set(xlabel='x',ylabel=r'$y = x^2+.5$',xlim=[xx[0]-dx/2,xx[-1]+dx/2],xticks=[-.5,0,.5,1],xticklabels=['$a$',0,.5,'$b$'],\n",
        "           title=r'$\\bf{A}$)  True area = %.3f' %trueArea)\n",
        "axs[1].set(xlabel='x',ylabel=r'$y = x^2+.5$',xlim=[xx[0]-dx/2,xx[-1]+dx/2],xticks=[-.5,0,.5,1],xticklabels=['$a$',0,.5,'$b$'],\n",
        "           title=r'$\\bf{B}$)  Approximate area = %.3f' %area1)\n",
        "axs[2].set(xlabel='x',ylabel=r'$y = x^2+.5$',xlim=[xx[0]-dx/2,xx[-1]+dx/2],xticks=[-.5,0,.5,1],xticklabels=['$a$',0,.5,'$b$'],\n",
        "           title=r'$\\bf{C}$)  Approximate area = %.3f' %area5)\n",
        "axs[0].axhline(0,linestyle='--',color='k',linewidth=1)\n",
        "axs[1].axhline(0,linestyle='--',color='k',linewidth=1)\n",
        "axs[2].axhline(0,linestyle='--',color='k',linewidth=1)\n",
        "\n",
        "\n",
        "# finalize plot\n",
        "plt.tight_layout()\n",
        "plt.savefig('intint_approxArea5.png')\n",
        "plt.show()"
      ],
      "metadata": {
        "id": "GJI5MiO-Vu-v"
      },
      "execution_count": null,
      "outputs": []
    },
    {
      "cell_type": "code",
      "source": [],
      "metadata": {
        "id": "jQ-Zvq-sKCbx"
      },
      "execution_count": null,
      "outputs": []
    },
    {
      "cell_type": "markdown",
      "source": [
        "# Figure 12.6: A wobbly function"
      ],
      "metadata": {
        "id": "SqhQTqJQntpk"
      }
    },
    {
      "cell_type": "code",
      "source": [
        "# the function\n",
        "x = np.linspace(-5,5,804)\n",
        "fx = 4*x + 3*np.sin(3*x) + np.sqrt(abs(x))/np.log(x**2)\n",
        "\n",
        "# remove specious vertical lines\n",
        "fx[np.argmin(abs(x+1))] = np.nan\n",
        "fx[np.argmin(abs(x-1))] = np.nan\n",
        "\n",
        "# and plot\n",
        "plt.figure(figsize=(5,4))\n",
        "plt.plot(x,fx,'k')\n",
        "plt.gca().set(xlim=x[[0,-1]],ylim=[-20,20],xlabel='x',ylabel='y = f(x)')\n",
        "\n",
        "plt.tight_layout()\n",
        "plt.savefig('intint_wobble.png')\n",
        "plt.show()"
      ],
      "metadata": {
        "id": "zzaNxuSzmXLH"
      },
      "execution_count": null,
      "outputs": []
    },
    {
      "cell_type": "code",
      "source": [],
      "metadata": {
        "id": "WOXBuwwQczWe"
      },
      "execution_count": null,
      "outputs": []
    }
  ]
}