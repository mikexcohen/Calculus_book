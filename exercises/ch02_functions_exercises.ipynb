{
  "nbformat": 4,
  "nbformat_minor": 0,
  "metadata": {
    "colab": {
      "private_outputs": true,
      "provenance": [
        {
          "file_id": "1lTpHeezI7f2ts1F_hsIM5Ui-2BvuRDhP",
          "timestamp": 1735658526046
        },
        {
          "file_id": "1gr-BRko9gxHM_F2vs-K87_p-QcaeuR-N",
          "timestamp": 1716381575893
        }
      ]
    },
    "kernelspec": {
      "name": "python3",
      "display_name": "Python 3"
    },
    "language_info": {
      "name": "python"
    }
  },
  "cells": [
    {
      "cell_type": "markdown",
      "metadata": {
        "id": "S9DjDRBhhX1-"
      },
      "source": [
        "<a href=\"https://colab.research.google.com/github/mikexcohen/Calculus_book/blob/main/exercises/exercises/ch02_functions_exercises.ipynb\" target=\"_parent\"><img src=\"https://colab.research.google.com/assets/colab-badge.svg\" alt=\"Open In Colab\"/></a>"
      ]
    },
    {
      "cell_type": "markdown",
      "source": [
        "# **Calculus unraveled: Intuition, Proofs, and Python**\n",
        "### Mike X Cohen (sincxpress.com)\n",
        "#### https://github.com/mikexcohen/calculus_book\n",
        "#### Code for Chapter 2 (functions)\n",
        "\n",
        "---\n",
        "\n",
        "# About this code file:\n",
        "\n",
        "### This notebook contains full code solutions to the exercises in this book chapter. There are many correct ways to solve the exercises; this notebook provides *a* solution, not *THE* solution. Please use this code as a starting point to continue exploring and experimenting with calculus concepts and visualizations.\n",
        "\n",
        "## **Using the code without the book may lead to confusion or errors.**\n",
        "\n",
        "#### This code was written in google-colab. The notebook may require some modifications if you use a different IDE."
      ],
      "metadata": {
        "id": "yeVh6hm2ezCO"
      }
    },
    {
      "cell_type": "code",
      "source": [],
      "metadata": {
        "id": "9ywdeq97hBx0"
      },
      "execution_count": null,
      "outputs": []
    },
    {
      "cell_type": "code",
      "execution_count": null,
      "metadata": {
        "id": "oYWhHwGQ9OdD"
      },
      "outputs": [],
      "source": [
        "# import libraries and define global settings\n",
        "import numpy as np\n",
        "import sympy as sym\n",
        "import matplotlib.pyplot as plt\n",
        "\n",
        "from IPython.display import Math\n",
        "\n",
        "# define global figure properties used for publication\n",
        "import matplotlib_inline.backend_inline\n",
        "matplotlib_inline.backend_inline.set_matplotlib_formats('svg') # display figures in vector format\n",
        "plt.rcParams.update({'font.size':14,             # font size\n",
        "                     'savefig.dpi':300,          # output resolution\n",
        "                     'axes.titlelocation':'left',# title location\n",
        "                     'axes.spines.right':False,  # remove axis bounding box\n",
        "                     'axes.spines.top':False,    # remove axis bounding box\n",
        "                     'lines.linewidth':2         # increase default line thickness\n",
        "                     })"
      ]
    },
    {
      "cell_type": "code",
      "source": [],
      "metadata": {
        "id": "qlnQWAGhRMXf"
      },
      "execution_count": null,
      "outputs": []
    },
    {
      "cell_type": "markdown",
      "source": [
        "# Exercise 2.1"
      ],
      "metadata": {
        "id": "dSU7Vsj4RMbJ"
      }
    },
    {
      "cell_type": "code",
      "source": [
        "# circle formula:\n",
        "# r^2 = x^2 + y^2\n",
        "\n",
        "r = 2\n",
        "x = np.linspace(-r,r,13)\n",
        "yPos =  np.sqrt(r**2 - x**2)\n",
        "yNeg = -np.sqrt(r**2 - x**2)\n",
        "\n",
        "_,ax = plt.subplots(1,figsize=(5,5))\n",
        "ax.plot(x,yPos,'ks',markersize=12,markerfacecolor='w',label=r'$f_p(x)$')\n",
        "ax.plot(x,yNeg,'ko',markersize=9,markerfacecolor='gray',label=r'$f_n(x)$')\n",
        "ax.set(xlim=[-r-.1,r+.1],ylim=[-r-.1,r+.1])\n",
        "ax.legend()\n",
        "\n",
        "plt.savefig('funs_ex1.png')\n",
        "plt.show()"
      ],
      "metadata": {
        "id": "YBdvlzDKzyjL",
        "collapsed": true
      },
      "execution_count": null,
      "outputs": []
    },
    {
      "cell_type": "code",
      "source": [],
      "metadata": {
        "id": "1uvMcILtZ3Mo"
      },
      "execution_count": null,
      "outputs": []
    },
    {
      "cell_type": "markdown",
      "source": [
        "# Exercise 2.2"
      ],
      "metadata": {
        "id": "GWrYiTOwgNo4"
      }
    },
    {
      "cell_type": "code",
      "source": [
        "# function for the function (this time a lambda function)\n",
        "fx = lambda x : (x+1) / x**3\n",
        "\n",
        "\n",
        "_,ax = plt.subplots(1,figsize=(10,6))\n",
        "colors = [ [0,0,0], [.3,.3,.3], [.6,.6,.6] ]\n",
        "shapes = 'os^'\n",
        "\n",
        "for pwr in range(1,4):\n",
        "\n",
        "  # resolution\n",
        "  resolution = np.floor(np.sqrt(2)*10**pwr).astype(int) #+1\n",
        "\n",
        "  # create x-axis grid\n",
        "  x = np.linspace(-.1,.1,resolution)\n",
        "\n",
        "  # plot\n",
        "  ax.plot(x,fx(x)+pwr*1e6,color=colors[pwr-1],marker=shapes[pwr-1],\n",
        "          markersize=10,alpha=.5,label=f'N={resolution}')\n",
        "\n",
        "# finalize figure\n",
        "ax.set(xlim=x[[0,-1]],ylim=[-1e7,1e7],xlabel='x',ylabel=r'$y=f(x)$')\n",
        "ax.set_title(r'$f(x) = (x+1)/x^3$',loc='center')\n",
        "ax.legend()\n",
        "\n",
        "plt.tight_layout()\n",
        "plt.savefig('funs_ex2.png')\n",
        "plt.show()"
      ],
      "metadata": {
        "id": "kqRrzUakgQxo"
      },
      "execution_count": null,
      "outputs": []
    },
    {
      "cell_type": "code",
      "source": [
        "# Why the warning message about 'divide by zero'?\n",
        "#\n",
        "# That message occurs only for the N=141 case, because it is an odd number. An odd number\n",
        "# of numbers between x=-a and x=+a has x=0 in the middle, and for this function, x=0 gives 1/0.\n",
        "# With an even resolution, you don't get exactly x=0 as a data point.\n",
        "#\n",
        "# Observe:\n",
        "print( np.linspace(-1,1,9) )\n",
        "print( np.linspace(-1,1,10) )"
      ],
      "metadata": {
        "id": "7i3mukxmuIi_"
      },
      "execution_count": null,
      "outputs": []
    },
    {
      "cell_type": "code",
      "source": [],
      "metadata": {
        "id": "BscE_NhPgNlz"
      },
      "execution_count": null,
      "outputs": []
    },
    {
      "cell_type": "markdown",
      "source": [
        "# Exercise 2.3"
      ],
      "metadata": {
        "id": "4ksDYILqNZPX"
      }
    },
    {
      "cell_type": "code",
      "source": [
        "# approximate the sqrt 2\n",
        "nIters = 5\n",
        "\n",
        "sqrt2 = np.full(nIters+1,1.) # start at sqrt(2)=1\n",
        "\n",
        "print(' n  ::   Approx.  ::    diff')\n",
        "print('...............................')\n",
        "\n",
        "for i in range(1,nIters+1):\n",
        "  sqrt2[i] = (sqrt2[i-1] + 2/sqrt2[i-1])/2\n",
        "  print(f' {i}  ::  {sqrt2[i]:.6f}  :: {sqrt2[i]-np.sqrt(2):>10.6f}')"
      ],
      "metadata": {
        "id": "JZ1AZnZoP5oe"
      },
      "execution_count": null,
      "outputs": []
    },
    {
      "cell_type": "code",
      "source": [
        "startvals = np.logspace(np.log10(.5),np.log10(2),10)\n",
        "\n",
        "sqrt2mat = np.zeros((nIters+1,len(startvals)))\n",
        "\n",
        "plt.figure(figsize=(8,4))\n",
        "for starti,a_s in enumerate(startvals):\n",
        "\n",
        "  # initialize\n",
        "  sqrt2mat[0,starti] = a_s\n",
        "\n",
        "  # algorithm\n",
        "  for i in range(1,nIters+1):\n",
        "    sqrt2mat[i,starti] = (sqrt2mat[i-1,starti] + 2/sqrt2mat[i-1,starti])/2\n",
        "\n",
        "  # plot\n",
        "  c = (starti+1)/(len(startvals)+2)\n",
        "  plt.plot(sqrt2mat[:,starti],'o-',color=[c,c,c],markerfacecolor=[c,c,c],\n",
        "           label=rf'$a_s$={a_s:.2f}')\n",
        "\n",
        "\n",
        "plt.xlabel('Iteration number')\n",
        "plt.ylabel(r'Estimate of $\\sqrt{2}$')\n",
        "plt.legend(bbox_to_anchor=[1.02,1.02])\n",
        "\n",
        "plt.tight_layout()\n",
        "plt.savefig('funs_ex3.png')\n",
        "plt.show()"
      ],
      "metadata": {
        "id": "AciMA_KdP3Fl"
      },
      "execution_count": null,
      "outputs": []
    },
    {
      "cell_type": "code",
      "source": [],
      "metadata": {
        "id": "uf2pMQBqNZJF"
      },
      "execution_count": null,
      "outputs": []
    },
    {
      "cell_type": "markdown",
      "source": [
        "# Exercise 2.4"
      ],
      "metadata": {
        "id": "uo8WYKtkNZGO"
      }
    },
    {
      "cell_type": "code",
      "source": [
        "x = np.linspace(-2,3,21)\n",
        "\n",
        "# function pair 1\n",
        "f1a = x[:]\n",
        "f1b = -x[:]\n",
        "\n",
        "# function pair 2\n",
        "f2a = abs(x)\n",
        "f2b = -abs(x)\n",
        "\n",
        "# plot both\n",
        "fig,axs = plt.subplots(1,2,figsize=(10,4))\n",
        "\n",
        "axs[0].plot(x,f1a,'ks',markerfacecolor=[.9,.9,.9],label=r'$f_{1a}(x) = x$')\n",
        "axs[0].plot(x,f1b,'ko',markerfacecolor=[.2,.2,.2],label=r'$f_{1b}(x) = -x$')\n",
        "axs[0].set(xlabel='x',ylabel='y')\n",
        "axs[0].legend()\n",
        "\n",
        "axs[1].plot(x,f2a,'ks',markerfacecolor=[.9,.9,.9],label=r'$f_{2a}(x) = |x|$')\n",
        "axs[1].plot(x,f2b,'ko',markerfacecolor=[.2,.2,.2],label=r'$f_{2b}(x) = -|x|$')\n",
        "axs[1].set(xlabel='x',ylabel='y')\n",
        "axs[1].legend()\n",
        "\n",
        "plt.tight_layout()\n",
        "plt.show()"
      ],
      "metadata": {
        "id": "wvnLheFkOkmA"
      },
      "execution_count": null,
      "outputs": []
    },
    {
      "cell_type": "code",
      "source": [
        "plt.figure(figsize=(4,4))\n",
        "plt.plot(x,f1a,'ks')\n",
        "plt.plot(x,f1b,'ks')\n",
        "plt.gca().set(xlabel='x',ylabel='y')\n",
        "plt.title(r'$y = \\pm x$',loc='center')\n",
        "\n",
        "plt.tight_layout()\n",
        "plt.savefig('funs_ex4.png')\n",
        "plt.show()"
      ],
      "metadata": {
        "id": "MnzsWkBkWCeT"
      },
      "execution_count": null,
      "outputs": []
    },
    {
      "cell_type": "code",
      "source": [],
      "metadata": {
        "id": "5PQG8aM5NZDl"
      },
      "execution_count": null,
      "outputs": []
    },
    {
      "cell_type": "markdown",
      "source": [
        "# Exercise 2.5"
      ],
      "metadata": {
        "id": "GslYWPgvNZA4"
      }
    },
    {
      "cell_type": "code",
      "source": [
        "# a function\n",
        "def fun(intype,outtype):\n",
        "\n",
        "  # function calculation\n",
        "  if intype == 'int':\n",
        "    result = int(5) * int(4) / int(3)\n",
        "  elif intype == 'float':\n",
        "    result = float(5) * float(4) / float(3)\n",
        "  else:\n",
        "    raise ValueError(f'Unsupported input type: {intype}')\n",
        "\n",
        "  # output\n",
        "  if outtype == 'int':\n",
        "    return int(result)\n",
        "  elif outtype == 'float':\n",
        "    return float(result)\n",
        "  else:\n",
        "    raise ValueError(f'Unsupported output type: {outtype}')\n",
        "\n",
        "\n",
        "# test 1: inputs are floats, output is float\n",
        "c = fun('float','float')\n",
        "print(f'Inputs are floats, output is float, result is {c}')\n",
        "\n",
        "# test 2: inputs are floats, output is int\n",
        "c = fun('float','int')\n",
        "print(f'Inputs are floats, output is int, result is {c}')\n",
        "\n",
        "# test 3: inputs are ints, output is float\n",
        "c = fun('int','float')\n",
        "print(f'Inputs are ints, output is float, result is {c}')\n",
        "\n",
        "# test 4: inputs are ints, output is int\n",
        "c = fun('int','int')\n",
        "print(f'Inputs are ints, output is int, result is {c}')"
      ],
      "metadata": {
        "id": "sCHm6ednTB5H"
      },
      "execution_count": null,
      "outputs": []
    },
    {
      "cell_type": "code",
      "source": [
        "N = 10/2\n",
        "print(f'Result is {N} and is of type {type(N)}')\n",
        "\n",
        "np.linspace(0,10,N)"
      ],
      "metadata": {
        "id": "ByFWXf9UizHZ"
      },
      "execution_count": null,
      "outputs": []
    },
    {
      "cell_type": "code",
      "source": [],
      "metadata": {
        "id": "gcUttro7TB2R"
      },
      "execution_count": null,
      "outputs": []
    },
    {
      "cell_type": "markdown",
      "source": [
        "# Exercise 2.6"
      ],
      "metadata": {
        "id": "JohXwOWWTBzs"
      }
    },
    {
      "cell_type": "code",
      "source": [
        "# number of points on the x-axis\n",
        "npnts = 109\n",
        "\n",
        "# list containing all solutions\n",
        "theBigList = [\n",
        "# letter,  type,        function definition\n",
        "   [ 'a', 'injective',  lambda x: x * (x>0)        ],\n",
        "   [ 'b', 'bijective',  lambda x: np.sqrt(x)       ], # x>pi\n",
        "   [ 'c', 'neither',    lambda x: 2*x**2 + 3*x**2  ],\n",
        "   [ 'd', 'injective',  lambda x: np.exp(x)        ],\n",
        "   [ 'e', 'surjective', lambda x: 2*x*(3*x-1)*(4*x+1) ],\n",
        "   [ 'f', 'surjective', lambda x: x+np.sin(x)      ],\n",
        "   [ 'g', 'bijective',  lambda x: x                ],\n",
        "   [ 'h', 'bijective',  lambda x: 2*x + 1          ],\n",
        "   [ 'i', 'neither',    lambda x: np.cos(x)        ],\n",
        "   [ 'j', 'injective',  lambda x: np.tanh(x)       ],\n",
        "   [ 'k', 'surjective', lambda x: np.log(x) - 4*np.exp(-(x-1)**2) ], # x>0\n",
        "   [ 'l', 'neither',    lambda x: np.ones(len(x))  ]\n",
        "]\n",
        "\n",
        "# setup the figure\n",
        "_,axs = plt.subplots(3,4,figsize=(12,8))\n",
        "axs = axs.flatten()\n",
        "\n",
        "# loop through the list\n",
        "for i,(funLetter,funtype,fx) in enumerate(theBigList):\n",
        "\n",
        "  # define the x-axis grid (exceptions for functions b(x) and k(x) )\n",
        "  if funLetter=='b':\n",
        "    xx = np.linspace(np.pi,7,npnts)\n",
        "  elif funLetter=='k':\n",
        "    xx = np.linspace(.001,7,npnts)\n",
        "  else:\n",
        "    xx = np.linspace(-2,4,npnts)\n",
        "\n",
        "  # plot the function and give it a title\n",
        "  axs[i].plot(xx,fx(xx),'k',linewidth=2)\n",
        "  axs[i].set(xlim=xx[[0,-1]])\n",
        "  axs[i].set_title(f'{funLetter}(x) is {funtype}',loc='center')\n",
        "\n",
        "\n",
        "plt.tight_layout()\n",
        "plt.savefig('funs_ex6.png')\n",
        "plt.show()"
      ],
      "metadata": {
        "id": "0XTi-9syQo_M"
      },
      "execution_count": null,
      "outputs": []
    },
    {
      "cell_type": "code",
      "source": [],
      "metadata": {
        "id": "OerQoNt7DJee"
      },
      "execution_count": null,
      "outputs": []
    },
    {
      "cell_type": "markdown",
      "source": [
        "# Exercise 2.7"
      ],
      "metadata": {
        "id": "36JYvMuvUmD9"
      }
    },
    {
      "cell_type": "code",
      "source": [
        "# first create the function as a sympy object\n",
        "tau = sym.symbols('tau')\n",
        "expr = sym.log(tau) - 4*sym.exp(-(tau-1)**2)\n",
        "\n",
        "# and print it out\n",
        "display(Math('k(\\\\tau) = %s' %sym.latex(expr)))"
      ],
      "metadata": {
        "id": "gWPltGE8UmBC"
      },
      "execution_count": null,
      "outputs": []
    },
    {
      "cell_type": "code",
      "source": [
        "# get numpy output using lambdafication\n",
        "expr_lamb = sym.lambdify(tau,expr)\n",
        "expr_lamb(np.array([1,2,3]))"
      ],
      "metadata": {
        "id": "gUUYPcgXUl-j"
      },
      "execution_count": null,
      "outputs": []
    },
    {
      "cell_type": "code",
      "source": [
        "# and then using list comprehension\n",
        "np.array([ expr.subs(tau,ti).evalf() for ti in [1,2,3] ],dtype=float) # what's the difference with vs. without dtype=float?"
      ],
      "metadata": {
        "id": "AmOkwGk9Ul7_"
      },
      "execution_count": null,
      "outputs": []
    },
    {
      "cell_type": "code",
      "source": [],
      "metadata": {
        "id": "BPoDmw6AUl5O"
      },
      "execution_count": null,
      "outputs": []
    },
    {
      "cell_type": "markdown",
      "source": [
        "# Exercise 2.8"
      ],
      "metadata": {
        "id": "-Cq4d0oEv1-I"
      }
    },
    {
      "cell_type": "code",
      "source": [
        "# using sym.plot\n",
        "sym.plot(expr,(tau,.00001,3),ylim=[-6,1]);\n",
        "# note the difference between domain vs range specifications"
      ],
      "metadata": {
        "id": "3wclHyWQv16x"
      },
      "execution_count": null,
      "outputs": []
    },
    {
      "cell_type": "code",
      "source": [
        "# using matplotlib\n",
        "x = np.linspace(0,3,188)\n",
        "y = expr_lamb(x)\n",
        "\n",
        "plt.plot(x,y)\n",
        "plt.gca().set(xlim=x[[0,-1]],ylim=[-6,1])\n",
        "plt.show()"
      ],
      "metadata": {
        "id": "Gp-CgZaIwQQZ"
      },
      "execution_count": null,
      "outputs": []
    },
    {
      "cell_type": "code",
      "source": [],
      "metadata": {
        "id": "gzYcANHz6qmi"
      },
      "execution_count": null,
      "outputs": []
    }
  ]
}