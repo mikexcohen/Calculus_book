{
  "nbformat": 4,
  "nbformat_minor": 0,
  "metadata": {
    "colab": {
      "private_outputs": true,
      "provenance": [],
      "authorship_tag": "ABX9TyO4bgd3at6wYXNg5gMAnKOj"
    },
    "kernelspec": {
      "name": "python3",
      "display_name": "Python 3"
    },
    "language_info": {
      "name": "python"
    }
  },
  "cells": [
    {
      "cell_type": "markdown",
      "metadata": {
        "id": "view-in-github"
      },
      "source": [
        "<a href=\"https://colab.research.google.com/github/mikexcohen/Calculus_book/blob/main/exercises/ch17_integrationGeometry_exercises.ipynb\" target=\"_parent\"><img src=\"https://colab.research.google.com/assets/colab-badge.svg\" alt=\"Open In Colab\"/></a>"
      ]
    },
    {
      "cell_type": "markdown",
      "source": [
        "# **Calculus unraveled: Intuition, Proofs, and Python**\n",
        "### Mike X Cohen (sincxpress.com)\n",
        "#### https://github.com/mikexcohen/calculus_book\n",
        "#### Code for Chapter 17 (Integration applications in geometry)\n",
        "\n",
        "---\n",
        "\n",
        "# About this code file:\n",
        "\n",
        "### This notebook contains full code solutions to the exercises in this book chapter. There are many correct ways to solve the exercises; this notebook provides *a* solution, not *THE* solution. Please use this code as a starting point to continue exploring and experimenting with calculus concepts and visualizations.\n",
        "\n",
        "## **Using the code without the book may lead to confusion or errors.**\n",
        "\n",
        "#### This code was written in google-colab. The notebook may require some modifications if you use a different IDE."
      ],
      "metadata": {
        "id": "4KikZVyDDDXR"
      }
    },
    {
      "cell_type": "code",
      "source": [],
      "metadata": {
        "id": "o4JES6nGe6mZ"
      },
      "execution_count": null,
      "outputs": []
    },
    {
      "cell_type": "code",
      "execution_count": null,
      "metadata": {
        "id": "oYWhHwGQ9OdD"
      },
      "outputs": [],
      "source": [
        "# import libraries and define global settings\n",
        "import numpy as np\n",
        "import sympy as sym\n",
        "import scipy.integrate as spi\n",
        "import matplotlib.pyplot as plt\n",
        "from scipy.signal import find_peaks\n",
        "from IPython.display import Math\n",
        "\n",
        "# define global figure properties used for publication\n",
        "import matplotlib_inline.backend_inline\n",
        "matplotlib_inline.backend_inline.set_matplotlib_formats('svg') # display figures in vector format\n",
        "plt.rcParams.update({'font.size':14,             # font size\n",
        "                     'savefig.dpi':300,          # output resolution\n",
        "                     'axes.titlelocation':'left',# title location\n",
        "                     'axes.spines.right':False,  # remove axis bounding box\n",
        "                     'axes.spines.top':False,    # remove axis bounding box\n",
        "                     'lines.linewidth':2         # increase default line thickness\n",
        "                     })"
      ]
    },
    {
      "cell_type": "code",
      "source": [],
      "metadata": {
        "id": "3jgJs7PF75b_"
      },
      "execution_count": null,
      "outputs": []
    },
    {
      "cell_type": "markdown",
      "source": [
        "# Exercise 17.1: Confirmation in scipy"
      ],
      "metadata": {
        "id": "BVzZuvlHNMpz"
      }
    },
    {
      "cell_type": "code",
      "source": [
        "# I used example 1 (Figure 17.3)"
      ],
      "metadata": {
        "id": "ZbWfNJVUioJV"
      },
      "execution_count": null,
      "outputs": []
    },
    {
      "cell_type": "code",
      "source": [
        "# functions\n",
        "x  = sym.symbols('x')\n",
        "fx = sym.exp(-x**2)\n",
        "gx = x**2\n",
        "\n",
        "# bounds\n",
        "a,b = 0,1\n",
        "\n",
        "# numerical evaluation\n",
        "xx = np.linspace(-.2,1.2,499)\n",
        "y_fx = np.array([fx.subs(x,xi) for xi in xx],dtype=float)\n",
        "y_gx = np.array([gx.subs(x,xi) for xi in xx],dtype=float)\n",
        "xInBnds = (xx>=a) & (xx<=b)\n",
        "\n",
        "# draw the figure\n",
        "_,axs = plt.subplots(1,2,figsize=(12,3.5))\n",
        "axs[0].plot(xx,y_fx,'k',label=r'$f(x) = %s$' %sym.latex(fx))\n",
        "axs[0].plot(xx,y_gx,'--',color=[.5,.5,.5],label=r'$g(x) = %s$' %sym.latex(gx))\n",
        "axs[0].fill_between(xx[xInBnds],y_fx[xInBnds],y_gx[xInBnds],color='k',alpha=.2,label='Area')\n",
        "\n",
        "axs[0].legend(loc=(.45,.6))\n",
        "axs[0].set(xlim=xx[[0,-1]],xlabel='x',ylabel=r'$y$',title=r'$\\bf{A}$)  Both functions')\n",
        "\n",
        "axs[1].plot(xx,y_fx-y_gx,'k',label=r'$f(x) - g(x)$')\n",
        "axs[1].fill_between(xx[xInBnds],y_fx[xInBnds]-y_gx[xInBnds],color='k',alpha=.2,label='Area')\n",
        "axs[1].axhline(0,linestyle=':',color=[.8,.8,.8],zorder=-4)\n",
        "\n",
        "axs[1].legend()\n",
        "axs[1].set(xlim=xx[[0,-1]],xlabel='x',ylabel=r'$y_f-y_g$',title=r'$\\bf{B}$)  Function difference')\n",
        "\n",
        "# and save\n",
        "plt.tight_layout()\n",
        "plt.show()"
      ],
      "metadata": {
        "id": "IcPYz8ash7Ib"
      },
      "execution_count": null,
      "outputs": []
    },
    {
      "cell_type": "code",
      "source": [
        "# net area\n",
        "netArea = spi.trapezoid(y_fx[xInBnds]-y_gx[xInBnds],dx=xx[1]-xx[0])\n",
        "\n",
        "# total area\n",
        "totArea = spi.trapezoid(abs(y_fx[xInBnds]-y_gx[xInBnds]),dx=xx[1]-xx[0])\n",
        "\n",
        "print(f'Net area: {netArea:.4f}')\n",
        "print(f'Total area: {totArea:.4f}')"
      ],
      "metadata": {
        "id": "s1ufqT9HEK08"
      },
      "execution_count": null,
      "outputs": []
    },
    {
      "cell_type": "code",
      "source": [],
      "metadata": {
        "id": "IxkcJJfmsRs8"
      },
      "execution_count": null,
      "outputs": []
    },
    {
      "cell_type": "markdown",
      "source": [
        "# Exercise 17.2: FTC-2"
      ],
      "metadata": {
        "id": "cOlntRAksRpq"
      }
    },
    {
      "cell_type": "code",
      "source": [
        "# setup the equations and antiderivatives\n",
        "x = sym.symbols('x')\n",
        "\n",
        "fx = sym.exp(-x**2)\n",
        "fi = sym.integrate(fx,x)\n",
        "\n",
        "gx = x**2\n",
        "gi = sym.integrate(gx,x)\n",
        "\n",
        "hx = fx-gx\n",
        "hi = sym.integrate(hx,x)\n",
        "\n",
        "# integrations\n",
        "a,b = 0,1\n",
        "fi_a = fi.subs(x,a)\n",
        "fi_b = fi.subs(x,b)\n",
        "\n",
        "gi_a = gi.subs(x,a)\n",
        "gi_b = gi.subs(x,b)\n",
        "\n",
        "hi_a = hi.subs(x,a)\n",
        "hi_b = hi.subs(x,b)\n",
        "\n",
        "# print the results\n",
        "display(Math('\\\\qquad\\\\qquad\\\\qquad\\;\\; H\\\\left(%s\\\\right)-H\\\\left(%s\\\\right) \\;=\\; %s-%s \\quad\\;=\\; %s'\n",
        "             %(b,a,sym.latex(hi_b),sym.latex(hi_a),sym.latex((hi_b-hi_a)))))\n",
        "print('')\n",
        "display(Math('F\\\\left(%s\\\\right) + G\\\\left(%s\\\\right) - G\\\\left(%s\\\\right) - F\\\\left(%s\\\\right) \\;=\\; %s+%s-%s-%s \\;=\\; %s'\n",
        "             %(b,a,b,a,  sym.latex(fi_b),sym.latex(gi_a),sym.latex(gi_b),sym.latex(fi_a),\n",
        "               sym.latex( fi_b+gi_a-gi_b-fi_a ))))"
      ],
      "metadata": {
        "id": "Z8XvhMXfsT6G"
      },
      "execution_count": null,
      "outputs": []
    },
    {
      "cell_type": "code",
      "source": [],
      "metadata": {
        "id": "b_kee6-AsRmq"
      },
      "execution_count": null,
      "outputs": []
    },
    {
      "cell_type": "markdown",
      "source": [
        "# Exercise 17.3: Lips"
      ],
      "metadata": {
        "id": "oHmyarxCsRjb"
      }
    },
    {
      "cell_type": "code",
      "source": [
        "l = sym.symbols('lambda',real=True)\n",
        "\n",
        "f = sym.sqrt(sym.Abs(l))+3\n",
        "g = l**2+sym.exp(sym.sympify(1))/2\n",
        "h = sym.Abs(l)**sym.exp(sym.sympify(1))\n",
        "\n",
        "# print the functions\n",
        "display(Math('f(\\\\lambda) = %s' %sym.latex(f))), print('')\n",
        "display(Math('g(\\\\lambda) = %s' %sym.latex(g))), print('')\n",
        "display(Math('h(\\\\lambda) = %s' %sym.latex(h)))"
      ],
      "metadata": {
        "id": "9ZZzEH1UsRgR"
      },
      "execution_count": null,
      "outputs": []
    },
    {
      "cell_type": "code",
      "source": [
        "### find the intersection points\n",
        "\n",
        "# solvable:\n",
        "# fg_intersection = sym.solve(f-g)\n",
        "# fg_intersection[0].evalf()\n",
        "\n",
        "# uh oh\n",
        "# gh_intersection = sym.solve(g-h)\n",
        "# gh_intersection[0].evalf()"
      ],
      "metadata": {
        "id": "3MNB__ft6iLS"
      },
      "execution_count": null,
      "outputs": []
    },
    {
      "cell_type": "code",
      "source": [
        "# need to approximate the intersection\n",
        "f_lam = sym.lambdify(l,f)\n",
        "g_lam = sym.lambdify(l,g)\n",
        "h_lam = sym.lambdify(l,h)\n",
        "\n",
        "# numerical evaluations\n",
        "ll = np.linspace(-2,2,1001)\n",
        "f_num = f_lam(ll)\n",
        "g_num = g_lam(ll)\n",
        "h_num = h_lam(ll)\n",
        "\n",
        "# get the intersections from their differences\n",
        "zeroidx = np.argmin(abs(ll))\n",
        "fg_intersect = [ np.argmin(abs(f_num-g_num)[:zeroidx]),\n",
        "                 np.argmin(abs(f_num-g_num)[zeroidx:])+zeroidx ]\n",
        "gh_intersect = [ np.argmin(abs(g_num-h_num)[:zeroidx]),\n",
        "                 np.argmin(abs(g_num-h_num)[zeroidx:])+zeroidx ]\n",
        "\n",
        "# print the results\n",
        "print(ll[fg_intersect])\n",
        "print(ll[gh_intersect])"
      ],
      "metadata": {
        "id": "_4OJJyAf8Dgx"
      },
      "execution_count": null,
      "outputs": []
    },
    {
      "cell_type": "code",
      "source": [
        "# intermediate plot for intersection points\n",
        "plt.figure(figsize=(4,4))\n",
        "plt.plot(ll,abs(f_num-g_num),'k',label='|f-g|')\n",
        "plt.plot(ll,abs(g_num-h_num),'--',color=[.7,.7,.7],label='|f-h|')\n",
        "plt.axhline(0,linestyle=':',color=[.8,.8,.8])\n",
        "\n",
        "plt.plot(ll[fg_intersect],[0,0],'ko',markerfacecolor='w')\n",
        "\n",
        "plt.gca().set(xlim=ll[[0,-1]],xlabel=r'$\\lambda$',ylabel='abs(function differences)')\n",
        "plt.legend()\n",
        "\n",
        "plt.tight_layout()\n",
        "plt.savefig('intGeom_ex3b.png')\n",
        "plt.show()"
      ],
      "metadata": {
        "id": "4LMq9F_v96k-"
      },
      "execution_count": null,
      "outputs": []
    },
    {
      "cell_type": "code",
      "source": [
        "# calculate areas using scipy\n",
        "\n",
        "# points between intersections\n",
        "l4fg = (ll>=ll[fg_intersect[0]]) & (ll<=ll[fg_intersect[1]])\n",
        "l4gh = (ll>=ll[gh_intersect[0]]) & (ll<=ll[gh_intersect[1]])\n",
        "\n",
        "# area estimates\n",
        "area_fg = spi.trapezoid(f_num[l4fg]-g_num[l4fg],dx=ll[1]-ll[0])\n",
        "area_gh = spi.trapezoid(g_num[l4gh]-h_num[l4gh],dx=ll[1]-ll[0])\n",
        "\n",
        "# print the results\n",
        "display(Math('%s \\\\approx %.2f' %(sym.latex(sym.Integral(f-g,(l,ll[fg_intersect[0]],ll[fg_intersect[1]]))),area_fg))), print('')\n",
        "display(Math('%s \\\\approx %.2f' %(sym.latex(sym.Integral(g-h,(l,ll[gh_intersect[0]],ll[gh_intersect[1]]))),area_gh)))"
      ],
      "metadata": {
        "id": "0UioNJmh8Dd4"
      },
      "execution_count": null,
      "outputs": []
    },
    {
      "cell_type": "code",
      "source": [
        "# final plot\n",
        "plt.figure(figsize=(10,4))\n",
        "\n",
        "# the functions\n",
        "plt.plot(ll,f_num,'k',label=r'$f(\\lambda) = %s$' %sym.latex(f))\n",
        "plt.plot(ll,g_num,'--',color=[.7,.7,.7],label=r'$g(\\lambda) = %s$' %sym.latex(g))\n",
        "plt.plot(ll,h_num,':',color=[.4,.4,.4],label=r'$h(\\lambda) = %s$' %sym.latex(h))\n",
        "\n",
        "# the areas (book is printed with grayscale, but I like the commented colors)\n",
        "plt.fill_between(ll[l4fg],f_num[l4fg],g_num[l4fg],color='k',alpha=.5)#np.array([217,101,7])/255)\n",
        "plt.fill_between(ll[l4gh],g_num[l4gh],h_num[l4gh],color='k',alpha=.2)#np.array([78,25,107])/255)\n",
        "\n",
        "\n",
        "# the final touches\n",
        "plt.legend()\n",
        "plt.gca().set(xlim=ll[[0,-1]],xlabel=r'$\\lambda$',ylabel=r'$y=f(\\lambda)$ or $g(\\lambda)$ or $h(\\lambda)$')\n",
        "\n",
        "plt.tight_layout()\n",
        "plt.savefig('intGeom_ex3a.png')\n",
        "plt.show()"
      ],
      "metadata": {
        "id": "VRyKb4F66Jnl"
      },
      "execution_count": null,
      "outputs": []
    },
    {
      "cell_type": "code",
      "source": [],
      "metadata": {
        "id": "0XdxQNnosRdJ"
      },
      "execution_count": null,
      "outputs": []
    },
    {
      "cell_type": "markdown",
      "source": [
        "# Exercise 17.4:"
      ],
      "metadata": {
        "id": "j2N09Wq4sRZ2"
      }
    },
    {
      "cell_type": "code",
      "source": [
        "# variable, function, integral\n",
        "x = sym.symbols('x')\n",
        "fx = sym.log(x)\n",
        "gx = sym.integrate(fx)\n",
        "\n",
        "# print to confirm\n",
        "display(Math('%s \\;=\\; %s' %(sym.latex(sym.Integral(fx)),sym.latex(gx))))"
      ],
      "metadata": {
        "id": "7IkNUS0phzal"
      },
      "execution_count": null,
      "outputs": []
    },
    {
      "cell_type": "code",
      "source": [
        "# find the intersection points\n",
        "sym.solve(fx-gx)"
      ],
      "metadata": {
        "id": "H-af9zIBiTx7"
      },
      "execution_count": null,
      "outputs": []
    },
    {
      "cell_type": "code",
      "source": [
        "# approximate the intersection points\n",
        "# lambdify the functions\n",
        "fx_l = sym.lambdify(x,fx)\n",
        "gx_l = sym.lambdify(x,gx)\n",
        "diff_l = sym.lambdify(x,fx-gx)\n",
        "\n",
        "# evaluate the functions\n",
        "xx = np.linspace(.01,4.5,323)\n",
        "\n",
        "# find points closest to zero\n",
        "peekz = find_peaks(-abs(diff_l(xx)))[0]\n",
        "pinchPoints = xx[peekz]\n",
        "\n",
        "# exact definite integral using sympy\n",
        "area = sym.integrate(fx-gx,(x,pinchPoints[0],pinchPoints[1]))\n",
        "\n",
        "# optional plot\n",
        "plt.plot(xx,abs(diff_l(xx)))\n",
        "plt.plot(pinchPoints,abs(diff_l(pinchPoints)),'mo')\n",
        "plt.ylim(0,1.5)\n",
        "plt.xlabel('x')\n",
        "plt.ylabel('|f-g|')\n",
        "plt.show()"
      ],
      "metadata": {
        "id": "OdxQ_VInjR13"
      },
      "execution_count": null,
      "outputs": []
    },
    {
      "cell_type": "code",
      "source": [
        "# and draw\n",
        "plt.figure(figsize=(10,4))\n",
        "\n",
        "# the lines\n",
        "plt.plot(xx,fx_l(xx),'k',label=r'$f(x) = %s$' %sym.latex(fx))\n",
        "plt.plot(xx,gx_l(xx),'--',color=[.7,.7,.7],label=r'$g(x) = %s$' %sym.latex(gx))\n",
        "\n",
        "# the area\n",
        "x4area = xx[(xx>=pinchPoints[0]) & (xx<=pinchPoints[1])]\n",
        "plt.fill_between(x4area,fx_l(x4area),gx_l(x4area),color='k',alpha=.2)\n",
        "\n",
        "# the intersection points\n",
        "plt.plot(pinchPoints,fx_l(pinchPoints),'ko',markersize=8,markerfacecolor='w')\n",
        "\n",
        "# the pretty stuff\n",
        "plt.gca().set(xlabel='x',ylabel='y',xlim=xx[[0,-1]],ylim=[-1.5,2])\n",
        "plt.title(fr'Area = {area.evalf():.3f} $(au)^2$',loc='center')\n",
        "plt.legend()\n",
        "\n",
        "# the export\n",
        "plt.tight_layout()\n",
        "plt.savefig('intGeom_ex4.png')\n",
        "plt.show()"
      ],
      "metadata": {
        "id": "KEX3wUxVh6sN"
      },
      "execution_count": null,
      "outputs": []
    },
    {
      "cell_type": "code",
      "source": [],
      "metadata": {
        "id": "OUpyM4ZuQQQk"
      },
      "execution_count": null,
      "outputs": []
    },
    {
      "cell_type": "markdown",
      "source": [
        "# Exercise 17.5: Parametric analysis of log parameter"
      ],
      "metadata": {
        "id": "iIYRm5RSy2op"
      }
    },
    {
      "cell_type": "code",
      "source": [
        "# need to extend the x-axis\n",
        "xx = np.linspace(.01,8,123)\n",
        "\n",
        "aParams = np.linspace(.4,5,33)\n",
        "areas = np.zeros(len(aParams))\n",
        "\n",
        "_,axs = plt.subplots(1,3,figsize=(14,4))\n",
        "\n",
        "for idx,a in enumerate(aParams):\n",
        "\n",
        "  # the function, its antiderivative, and their difference as lambda functions\n",
        "  fx = sym.lambdify(x,sym.log(a*x))\n",
        "  fi = sym.lambdify(x,sym.integrate(sym.log(a*x)))\n",
        "  fdiff = sym.lambdify(x,sym.log(a*x)-sym.integrate(sym.log(a*x)))\n",
        "\n",
        "  # plot the two functions\n",
        "  axs[0].plot(xx,fx(xx),linewidth=1,color=np.full(3,idx/(len(aParams)+3)))\n",
        "  axs[0].plot(xx,fi(xx),'--',linewidth=1,color=np.full(3,idx/(len(aParams)+3)))\n",
        "\n",
        "  # find integration bounds and calculate the area\n",
        "  peekz = find_peaks(-np.abs(fdiff(xx)))[0]\n",
        "  areas[idx],_ = spi.quad(fdiff,xx[peekz[0]],xx[peekz[1]])\n",
        "\n",
        "  # plot the first and final lines for 'a'\n",
        "  if (idx==0) or (idx==len(aParams)-1):\n",
        "    axs[1].plot(xx,fx(xx),color=np.full(3,idx/(len(aParams)+3)),label=fr'$\\alpha$ = {a:.3f}')\n",
        "    axs[1].plot(xx,fi(xx),'--',color=np.full(3,idx/(len(aParams)+3)))\n",
        "\n",
        "    # patch\n",
        "    x4area = xx[(xx>=xx[peekz[0]]) & (xx<=xx[peekz[1]])]\n",
        "    axs[1].fill_between(x4area,fi(x4area),fx(x4area),color='k',alpha=.3)\n",
        "\n",
        "\n",
        "# plot the area as a function of the 'a' parameter\n",
        "axs[2].plot(aParams,areas,'ks-',markersize=8,markerfacecolor=[.7,.7,.7])\n",
        "\n",
        "# some final adjustments\n",
        "axs[0].set(xlim=xx[[0,-1]],xlabel='x',ylabel='y',title=r'$\\bf{A}$)  The functions')\n",
        "axs[1].set(xlim=xx[[0,-1]],xlabel='x',ylabel='y',ylim=[-7,5],title=r'$\\bf{B}$)  Two examples')\n",
        "axs[1].legend()\n",
        "axs[2].set(xlabel=r\"$\\alpha$ parameter in $f(x)=\\ln(\\alpha x)$\",ylabel='Area',title=r'$\\bf{C}$)  Area between intersections')\n",
        "\n",
        "plt.tight_layout()\n",
        "plt.savefig('intGeom_ex5.png')\n",
        "plt.show()"
      ],
      "metadata": {
        "id": "Sv5LQm3knTW-"
      },
      "execution_count": null,
      "outputs": []
    },
    {
      "cell_type": "code",
      "source": [],
      "metadata": {
        "id": "_D0REpWmnTUA"
      },
      "execution_count": null,
      "outputs": []
    },
    {
      "cell_type": "markdown",
      "source": [
        "# Exercise 17.6: Parametric curves"
      ],
      "metadata": {
        "id": "BZh4rTPdnTRW"
      }
    },
    {
      "cell_type": "code",
      "source": [
        "# organized as a list of dictionaries\n",
        "\n",
        "functions = [\n",
        "  { # panel A\n",
        "    't': np.linspace(-2*np.pi, 2*np.pi, 301),\n",
        "    'x': lambda t: np.sin(2*t) + np.sin(t),\n",
        "    'y': lambda t: 2*np.sin(3*t)\n",
        "  },\n",
        "  { # panel B\n",
        "    't': np.linspace(0, 2*np.pi, 101),\n",
        "    'x': lambda t: 3*np.cos(t) + np.cos(3*t),\n",
        "    'y': lambda t: 3*np.sin(t) - np.sin(4*t)\n",
        "  },\n",
        "  { # panel C\n",
        "    't': np.linspace(0, 12*np.pi, 1001),\n",
        "    'x': lambda t: np.sin(t)*(np.exp(np.cos(t)) - 2*np.cos(4*t) - np.sin(t/12)**5),\n",
        "    'y': lambda t: np.cos(t)*(np.exp(np.cos(t)) - 2*np.cos(4*t) - np.sin(t/12)**5)\n",
        "  },\n",
        "  { # panel D\n",
        "    't': np.linspace(0, 12*np.pi, 1001),\n",
        "    'x': lambda t: np.sqrt(3)*np.cos(2*t) - np.cos(10*t)*np.sin(20*t),\n",
        "    'y': lambda t: -np.sqrt(2)*np.sin(2*t) - np.sin(10*t)*np.sin(20*t)\n",
        "  },\n",
        "  { # panel E\n",
        "    't': np.linspace(0, 2*np.pi, 5001),\n",
        "    'x': lambda t: np.cos(t) + np.cos(52*t)/2 + np.sin(25*t)/3,\n",
        "    'y': lambda t: np.sin(t) + np.sin(52*t)/2 + np.cos(25*t)/3\n",
        "  },\n",
        "  { # panel F\n",
        "    't': np.linspace(-2*np.pi, 2*np.pi, 10001),\n",
        "    'x': lambda t: 2.5*np.sin(np.sin(-5*t)) * np.cos(9.844*t)**2,\n",
        "    'y': lambda t: 2.5*np.sin(-5*t)**2 * 2**(np.cos(np.cos(9.844*t)))\n",
        "  }\n",
        "]\n",
        "\n",
        "# Loop over functions in groups of 3\n",
        "_,axs = plt.subplots(2,3,figsize=(12,6))\n",
        "axs = axs.flatten()\n",
        "titles = 'ABCDEF'\n",
        "\n",
        "for i in range(len(functions)):\n",
        "\n",
        "  # extract the data\n",
        "  t = functions[i]['t']\n",
        "  x = functions[i]['x'](t)\n",
        "  y = functions[i]['y'](t)\n",
        "\n",
        "  # and plot\n",
        "  axs[i].plot(x,y,'k')\n",
        "  axs[i].axis('off')\n",
        "  axs[i].set_title(fr'$\\bf{{{titles[i]}}}$)')\n",
        "\n",
        "\n",
        "plt.tight_layout()\n",
        "plt.savefig('intGeom_ex6a.png')\n",
        "plt.show()"
      ],
      "metadata": {
        "id": "fpZ0xqVjnTOg"
      },
      "execution_count": null,
      "outputs": []
    },
    {
      "cell_type": "code",
      "source": [
        "# extract the data\n",
        "t = functions[5]['t']\n",
        "x = functions[5]['x'](t)\n",
        "y = functions[5]['y'](t)\n",
        "\n",
        "plt.figure(figsize=(4,4))\n",
        "plt.scatter(x,y,s=5,c=t,cmap='gray')\n",
        "plt.axis('off')\n",
        "plt.tight_layout()\n",
        "plt.savefig('intGeom_ex6b.png')\n",
        "plt.show()"
      ],
      "metadata": {
        "id": "141-jkTwnTLu"
      },
      "execution_count": null,
      "outputs": []
    },
    {
      "cell_type": "code",
      "source": [],
      "metadata": {
        "id": "O4b3R27xQFXO"
      },
      "execution_count": null,
      "outputs": []
    },
    {
      "cell_type": "markdown",
      "source": [
        "# Exercise 17.7"
      ],
      "metadata": {
        "id": "D4elN8BmoE4a"
      }
    },
    {
      "cell_type": "code",
      "source": [
        "a = 0\n",
        "b = 12*np.pi\n",
        "delta_t = .001\n",
        "\n",
        "# extract the data\n",
        "t = np.arange(a,b+delta_t,step=delta_t)\n",
        "x = functions[2]['x'](t)\n",
        "y = functions[2]['y'](t)\n",
        "\n",
        "# derivatives and segment lengths\n",
        "dx = x[1:]-x[:-1]\n",
        "dy = y[1:]-y[:-1]\n",
        "segLengths = np.sqrt( dx**2 + dy**2 )\n",
        "\n",
        "# curve length as direct implementation in numpy\n",
        "print(f'Total curve length for n = {len(t)}: {np.sum(segLengths)}')\n",
        "\n",
        "\n",
        "# plot\n",
        "_,axs = plt.subplots(1,2,figsize=(11,4))\n",
        "axs[0].plot(x,y,'k',linewidth=1)\n",
        "axs[0].set(xlabel='x',ylabel='y',title=r'$\\bf{A}$)  The butterfly ($\\Delta t = %g$, $L=%g$)' %(delta_t,np.round(np.sum(segLengths),2)))\n",
        "\n",
        "axs[1].hist(segLengths,30,facecolor='k',alpha=.4,edgecolor='k')\n",
        "axs[1].set(ylabel='Count',xlabel='Length (a.u.)',title=r'$\\bf{B}$)  Histogram of segment lengths')\n",
        "\n",
        "\n",
        "plt.tight_layout()\n",
        "plt.savefig('intGeom_ex7.png')\n",
        "plt.show()"
      ],
      "metadata": {
        "id": "F59DgAaXoE1c"
      },
      "execution_count": null,
      "outputs": []
    },
    {
      "cell_type": "code",
      "source": [],
      "metadata": {
        "id": "cVJcChFQNAxW"
      },
      "execution_count": null,
      "outputs": []
    },
    {
      "cell_type": "markdown",
      "source": [
        "# Exercise 17.8"
      ],
      "metadata": {
        "id": "fDiTJy75NArA"
      }
    },
    {
      "cell_type": "code",
      "source": [
        "delta_ts = np.linspace(.0001,1,30)\n",
        "\n",
        "arcLengths  = np.zeros(len(delta_ts))\n",
        "arcLengthsn = np.zeros(len(delta_ts))\n",
        "\n",
        "# create a figure\n",
        "_,axs = plt.subplots(1,2,figsize=(12,5))\n",
        "\n",
        "# loop over the values of \\Delta t\n",
        "for idx,dt in enumerate(delta_ts):\n",
        "\n",
        "  t = np.arange(0,12*np.pi+dt,step=dt)\n",
        "  x = functions[2]['x'](t)\n",
        "  y = functions[2]['y'](t)\n",
        "\n",
        "  # differences\n",
        "  dx = x[1:]-x[:-1]\n",
        "  dy = y[1:]-y[:-1]\n",
        "\n",
        "  # all-numpy solution\n",
        "  arcLengthsn[idx] = np.sum( np.sqrt( dx**2 + dy**2 ) )\n",
        "\n",
        "  # Simpson's rule\n",
        "  integrand = np.sqrt((dx/dt)**2 + (dy/dt)**2)\n",
        "  arcLengths[idx] = spi.simpson(integrand,dx=dt)\n",
        "\n",
        "\n",
        "  if idx==0:\n",
        "    axs[0].plot(x,y,'k',linewidth=1,label=r'$\\Delta t$ = %g'%dt)\n",
        "  elif idx==(len(delta_ts)-1):\n",
        "    axs[0].plot(x,y,'s-',linewidth=1,color=[.7,.7,.7],markerfacecolor=[.5,.5,.5],label=r'$\\Delta t$ = %g'%dt)\n",
        "\n",
        "\n",
        "axs[0].set(xlabel='$x$',ylabel='$y$',title=r'$\\bf{A}$)  Example curves for two $\\Delta t$')\n",
        "axs[0].legend()\n",
        "\n",
        "axs[1].plot(delta_ts,arcLengthsn,'ks',markersize=11,markerfacecolor=[.3,.3,.3],label='Numpy')\n",
        "axs[1].plot(delta_ts,arcLengths ,'ko',markersize=11,markerfacecolor=[.7,.7,.7],alpha=.6,label=\"Simpson's\")\n",
        "axs[1].invert_xaxis()\n",
        "axs[1].legend()\n",
        "axs[1].set(xlabel=r'$\\Delta t$',ylabel='Curve length',title=r'$\\bf{B}$)  Curve length by $\\Delta t$')\n",
        "\n",
        "plt.tight_layout()\n",
        "plt.savefig('intGeom_ex8.png')\n",
        "plt.show()"
      ],
      "metadata": {
        "id": "o3jtpCH1oEyq"
      },
      "execution_count": null,
      "outputs": []
    },
    {
      "cell_type": "code",
      "source": [],
      "metadata": {
        "id": "P8IFxxeZoElX"
      },
      "execution_count": null,
      "outputs": []
    },
    {
      "cell_type": "markdown",
      "source": [
        "# Exercise 17.9: Folium of Descartes"
      ],
      "metadata": {
        "id": "RilRjqnUnS9b"
      }
    },
    {
      "cell_type": "code",
      "source": [
        "# the folium in polar coords\n",
        "th = np.linspace(0,2*np.pi,1001)\n",
        "r_num = 3 * np.sin(th) * np.cos(th)\n",
        "r_den = np.sin(th)**3 + np.cos(th)**3\n",
        "r = r_num / r_den\n",
        "\n",
        "# and in xy coords\n",
        "t = np.linspace(-10,10,900)\n",
        "x = 3*t / (1+t**3)\n",
        "y = 3*t**2 / (1+t**3)\n",
        "\n",
        "\n",
        "# the plot\n",
        "colors = np.linspace([0,0,0],[.9,.9,.9],len(t))\n",
        "plt.figure(figsize=(9,4))\n",
        "ax1 = plt.subplot(1,2,1,projection='polar')\n",
        "ax1.plot(th,r,'k')\n",
        "ax1.set(rlim=[0,2.5],rticks=[1,2],title=r'$\\bf{A}$)  Polar coords')\n",
        "ax1.grid(color=[.9,.9,.9])\n",
        "\n",
        "ax2 = plt.subplot(1,2,2)\n",
        "ax2.scatter(x,y,s=20,c=colors)\n",
        "ax2.set(xlim=[-5,5],ylim=[-5,5],xlabel='x',ylabel='y',title=r'$\\bf{B}$)  Rectanguar coords')\n",
        "ax2.set_aspect('equal')\n",
        "\n",
        "plt.tight_layout()\n",
        "plt.savefig('intGeom_ex9.png')\n",
        "plt.show()"
      ],
      "metadata": {
        "id": "VO6LhCjinS6i"
      },
      "execution_count": null,
      "outputs": []
    },
    {
      "cell_type": "code",
      "source": [],
      "metadata": {
        "id": "04IK291GHOw5"
      },
      "execution_count": null,
      "outputs": []
    },
    {
      "cell_type": "markdown",
      "source": [
        "# Exercise 17.10: Measuring the Folium"
      ],
      "metadata": {
        "id": "UvLGk0inHOud"
      }
    },
    {
      "cell_type": "code",
      "source": [
        "np.nansum(segLengths)"
      ],
      "metadata": {
        "id": "96aJkSoC0cgQ"
      },
      "execution_count": null,
      "outputs": []
    },
    {
      "cell_type": "code",
      "source": [
        "# recalculate x and y\n",
        "x = 3*t / (1+t**3)\n",
        "y = 3*t**2 / (1+t**3)\n",
        "\n",
        "# reject data points based on extreme xy values\n",
        "outliers = np.sqrt( x**2 + y**2 ) > 5\n",
        "x[outliers] = np.nan\n",
        "y[outliers] = np.nan\n",
        "\n",
        "# derivatives and segment lengths\n",
        "dx = np.append(0, x[1:]-x[:-1])\n",
        "dy = np.append(0, y[1:]-y[:-1])\n",
        "dt = t[1] - t[0]\n",
        "segLengths = np.sqrt( dx**2 + dy**2 )\n",
        "\n",
        "# curve length via numpy calculation\n",
        "curveLengthn = np.nansum(segLengths)\n",
        "\n",
        "# curve length via Simpson's rule\n",
        "integrand = np.sqrt((dx/dt)**2 + (dy/dt)**2)\n",
        "integrand = integrand[~np.isnan(integrand)]\n",
        "curveLength = spi.simpson(integrand,dx=dt)\n",
        "\n",
        "\n",
        "# plot\n",
        "colors = np.linspace([0,0,0],[.9,.9,.9],len(t))\n",
        "_,axs = plt.subplots(2,2,figsize=(12,7))\n",
        "axs[0,0].scatter(x,y,s=20,c=colors)\n",
        "axs[0,0].set(xlim=[-5,5],ylim=[-5,5],xlabel='$x$',ylabel='$y$',title=r'$\\bf{A}$)  The Folium')\n",
        "\n",
        "axs[0,1].plot(t,x,'k',label='$x$')\n",
        "axs[0,1].plot(t,y,color=[.7,.7,.7],label='$y$')\n",
        "axs[0,1].set(xlim=t[[0,-1]],ylim=[-5,5],xlabel='$t$',ylabel='$x$ or $y$',title=r'$\\bf{B}$)  The functions x(t) and y(t)')\n",
        "axs[0,1].legend()\n",
        "\n",
        "axs[1,0].scatter(t,segLengths,s=20,c=colors)\n",
        "axs[1,0].set(xlim=t[[0,-1]],xlabel='$t$',ylim=[0,.1],ylabel='length (a.u.)',title=r'$\\bf{C}$)  Segment lengths')\n",
        "\n",
        "axs[1,1].scatter(t,np.nancumsum(segLengths),s=20,c=colors)\n",
        "axs[1,1].set(xlim=t[[0,-1]],xlabel='$t$',ylabel='length (a.u.)',title=r'$\\bf{D}$)  Cumulative lengths')\n",
        "\n",
        "# print the curve lengths\n",
        "print(f'(Simpson) Total curve length = {curveLength:.4f}')\n",
        "print(f'(numpy)   Total curve length = {curveLengthn:.4f}')\n",
        "\n",
        "plt.tight_layout()\n",
        "plt.savefig('intGeom_ex10.png')\n",
        "plt.show()"
      ],
      "metadata": {
        "id": "xBIIxKcdnS0l"
      },
      "execution_count": null,
      "outputs": []
    },
    {
      "cell_type": "code",
      "source": [],
      "metadata": {
        "id": "HdZeXt9HnSxw"
      },
      "execution_count": null,
      "outputs": []
    },
    {
      "cell_type": "markdown",
      "source": [
        "# Exercise 17.11"
      ],
      "metadata": {
        "id": "NayZzy-onSur"
      }
    },
    {
      "cell_type": "code",
      "source": [
        "### calculate the volume\n",
        "\n",
        "# lambda-axis shift\n",
        "shiftval = 1.71\n",
        "\n",
        "# bounds\n",
        "a,b = 0,2*shiftval\n",
        "xx = np.linspace(a,b,500)\n",
        "\n",
        "# functions\n",
        "f = lambda u: np.sqrt(abs(u-shiftval)) + 3\n",
        "h = lambda u: abs(u-shiftval)**np.exp(1)\n",
        "\n",
        "\n",
        "# volume calculation\n",
        "volume = np.pi * spi.simpson(np.abs(f(xx)**2-h(xx)**2),dx=xx[1]-xx[0])\n",
        "\n",
        "\n",
        "\n",
        "### visualization\n",
        "\n",
        "# get Y and Z coordinates for f(x) and h(x)\n",
        "X,Theta = np.meshgrid(xx,np.linspace(0,2*np.pi,100))\n",
        "Y_f = f(X) * np.cos(Theta)\n",
        "Z_f = f(X) * np.sin(Theta)\n",
        "Y_h = h(X) * np.cos(Theta)\n",
        "Z_h = h(X) * np.sin(Theta)\n",
        "\n",
        "# setup the figure with a 3D axis\n",
        "fig = plt.figure(figsize=(12,5))\n",
        "gs  = fig.add_gridspec(1,2,width_ratios=[2,3])\n",
        "ax1 = fig.add_subplot(gs[0])\n",
        "ax2 = fig.add_subplot(gs[1],projection='3d')\n",
        "\n",
        "# plot the 2D shape to revolve\n",
        "ax1.plot(xx,f(xx),'k',label=r'$f(\\lambda)$')\n",
        "ax1.plot(xx,h(xx),'--',color=[.7,.7,.7],label=r'$h(\\lambda)$')\n",
        "ax1.fill_between(xx,f(xx),h(xx),color='k',alpha=.2,label='Area to revolve')\n",
        "ax1.set(xlabel=r'$\\lambda$',ylabel=r'$y = f(\\lambda)$ or $h(\\lambda)$',xlim=xx[[0,-1]],title='2D area to revolve')\n",
        "ax1.legend()\n",
        "\n",
        "# create the surfaces\n",
        "ax2.plot_surface(X, Y_f, Z_f, color='k', alpha=.3)\n",
        "ax2.plot_surface(X, Y_h, Z_h, color='k', alpha=.6)\n",
        "ax2.set(xlabel=r'$\\lambda$',ylabel='Y',zlabel='Z',title=r'Volume $\\approx$ $%.3f$ (au)$^3$' %volume)\n",
        "\n",
        "plt.tight_layout()\n",
        "plt.savefig('intGeom_ex11.png')\n",
        "plt.show()"
      ],
      "metadata": {
        "id": "qDrU562KXDSW"
      },
      "execution_count": null,
      "outputs": []
    },
    {
      "cell_type": "code",
      "source": [],
      "metadata": {
        "id": "IukBagJ_nSrc"
      },
      "execution_count": null,
      "outputs": []
    },
    {
      "cell_type": "markdown",
      "source": [
        "# Exercise 17.12: Ruben's faces"
      ],
      "metadata": {
        "id": "fB13vqzb2j1p"
      }
    },
    {
      "cell_type": "code",
      "source": [
        "# xy coordinates\n",
        "y = np.array([1,0.981328,0.975104,0.973029,0.96888,0.960581,0.952282,0.943983,0.93361,0.925311,0.917012,0.906639,0.892116,0.875519,0.860996,0.844398,0.817427,0.804979,0.788382,0.746888,0.73029,0.717842,0.688797,0.6639,0.647303,0.624481,0.605809,0.589212,0.562241,0.545643,0.529046,0.506224,0.495851,0.481328,0.477178,0.462656,0.452282,0.43361,0.423237,0.410788,0.404564,0.39834,0.394191,0.390041,0.387967,0.383817,0.377593,0.363071,0.350622,0.342324,0.325726,0.311203,0.302905,0.275934,0.261411,0.246888,0.23029,0.211618,0.19917,0.190871,0.174274,0.16805,0.157676,0.149378,0.141079,0.13278,0.126556,0.116183,0.103734,0.0871369,0.0726141,0.060166,0.0435685,0.026971,0.0124481,0])\n",
        "xR = np.array([1, 0.96094299, 0.91765732, 0.87437165, 0.80078537, 0.7574997 , 0.7272, 0.6969003 , 0.65794329, 0.62764268, 0.58868567, 0.55405732, 0.50644299, 0.46748597, 0.42852896, 0.38957104, 0.33762896, 0.31598567, 0.3029997 , 0.28135732, 0.2727    , 0.2727    , 0.28135732, 0.28568597, 0.27702866, 0.25971403, 0.22941433, 0.20344329, 0.13851433, 0.1168714 , 0.09522857, 0.0909    , 0.1168714 , 0.13851433, 0.14717146, 0.16448573, 0.1688143 , 0.14717146, 0.1298571 , 0.12552854, 0.13851433, 0.15150003, 0.16448573, 0.17314287, 0.17314287, 0.16448573, 0.15150003, 0.14717146, 0.16015716, 0.17747143, 0.20777104, 0.22508567, 0.22508567, 0.2120997 , 0.19911463, 0.1818    , 0.17314287, 0.1818    , 0.2120997 , 0.23374299, 0.32464299, 0.36792866, 0.44584268, 0.51077165, 0.56704329, 0.61898537, 0.6665997 , 0.70122896, 0.73585732, 0.77914299, 0.82242866, 0.8483997 , 0.87004299, 0.89601403, 0.91332866,0.93064329])\n",
        "xL = np.array([-1, -0.96094299, -0.91765732, -0.87437165, -0.80078537,-0.7574997 , -0.7272 , -0.6969003 , -0.65794329, -0.62764268,-0.58868567, -0.55405732, -0.50644299, -0.46748597, -0.42852896,-0.38957104, -0.33762896, -0.31598567, -0.3029997 , -0.28135732,-0.2727    , -0.2727    , -0.28135732, -0.28568597, -0.27702866,-0.25971403, -0.22941433, -0.20344329, -0.13851433, -0.1168714 ,-0.09522857, -0.0909    , -0.1168714 , -0.13851433, -0.14717146,-0.16448573, -0.1688143 , -0.14717146, -0.1298571 , -0.12552854,-0.13851433, -0.15150003, -0.16448573, -0.17314287, -0.17314287,-0.16448573, -0.15150003, -0.14717146, -0.16015716, -0.17747143,-0.20777104, -0.22508567, -0.22508567, -0.2120997 , -0.19911463,-0.1818    , -0.17314287, -0.1818    , -0.2120997 , -0.23374299,-0.32464299, -0.36792866, -0.44584268, -0.51077165, -0.56704329,-0.61898537, -0.6665997 , -0.70122896, -0.73585732, -0.77914299,-0.82242866, -0.8483997 , -0.87004299, -0.89601403, -0.91332866,-0.93064329])"
      ],
      "metadata": {
        "id": "h4hAzrKt2k-Q"
      },
      "execution_count": null,
      "outputs": []
    },
    {
      "cell_type": "code",
      "source": [],
      "metadata": {
        "id": "KFov1dUi5pCc"
      },
      "execution_count": null,
      "outputs": []
    },
    {
      "cell_type": "code",
      "source": [
        "# draw the graph\n",
        "plt.figure(figsize=(8,8))\n",
        "plt.plot(xL,y,'k-')\n",
        "plt.plot(xR,y,'k-')\n",
        "plt.fill_between(xR,y,color='k',alpha=.4)\n",
        "plt.fill_between(xL,y,color='k',alpha=.4)\n",
        "\n",
        "plt.tight_layout()\n",
        "plt.savefig('intGeom_ex12.png')\n",
        "plt.show()"
      ],
      "metadata": {
        "id": "EP5VIErLOXXH"
      },
      "execution_count": null,
      "outputs": []
    },
    {
      "cell_type": "code",
      "source": [
        "# HINT: flip the axes:\n",
        "plt.figure(figsize=(10,8))\n",
        "plt.plot(y,xL,'g.-',markersize=10)\n",
        "plt.plot(y,xR,'r.-',markersize=10)\n",
        "\n",
        "plt.fill_between(y,xR,xL,color='k',alpha=.4)\n",
        "plt.fill_between(y,xL,-np.ones(len(y)),color='r',alpha=.4)\n",
        "plt.fill_between(y,xR,np.ones(len(y)),color='b',alpha=.2)\n",
        "\n",
        "plt.show()"
      ],
      "metadata": {
        "id": "vChDTsyfsiNa"
      },
      "execution_count": null,
      "outputs": []
    },
    {
      "cell_type": "code",
      "source": [
        "# now compute the area. consider each individual slice to be a trapezoid.\n",
        "# area of a trapezoid is (a+b)/2*h\n",
        "areaVase = 0\n",
        "areaLeft = 0\n",
        "areaRigt = 0\n",
        "\n",
        "for idx in range(1,len(y)):\n",
        "\n",
        "  # calculate each part of the area formula\n",
        "  h = y[idx-1] - y[idx]\n",
        "  a = xR[idx-1]- xL[idx-1]\n",
        "  b = xR[idx]  - xL[idx]\n",
        "\n",
        "  # area of the slice and add to the total\n",
        "  areaVase += (a+b)/2 * h\n",
        "  areaLeft += (xL[idx]+xL[idx-1] + 2)/2 * h\n",
        "  areaRigt += (2 - xR[idx]-xR[idx-1])/2 * h\n",
        "\n",
        "print(f'Total area of the vase       : {areaVase:.3f}')\n",
        "print(f'Total area of the left face  : {areaLeft:.3f}')\n",
        "print(f'Total area of the right face : {areaRigt:.3f}')\n",
        "print(f'Sum of three areas           : {areaLeft+areaRigt+areaVase:.3f}')"
      ],
      "metadata": {
        "id": "xZsziJnfaPR5"
      },
      "execution_count": null,
      "outputs": []
    },
    {
      "cell_type": "code",
      "source": [],
      "metadata": {
        "id": "eSVxD1PA2jjy"
      },
      "execution_count": null,
      "outputs": []
    }
  ]
}
