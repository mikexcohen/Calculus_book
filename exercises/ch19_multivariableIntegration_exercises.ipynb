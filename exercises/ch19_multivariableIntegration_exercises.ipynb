{
  "nbformat": 4,
  "nbformat_minor": 0,
  "metadata": {
    "colab": {
      "private_outputs": true,
      "provenance": [],
      "authorship_tag": "ABX9TyMogRPkz4cYOf4mO/EA8aDF"
    },
    "kernelspec": {
      "name": "python3",
      "display_name": "Python 3"
    },
    "language_info": {
      "name": "python"
    }
  },
  "cells": [
    {
      "cell_type": "markdown",
      "metadata": {
        "id": "view-in-github"
      },
      "source": [
        "<a href=\"https://colab.research.google.com/github/mikexcohen/Calculus_book/blob/main/exercises/ch19_multivariableIntegration_exercises.ipynb\" target=\"_parent\"><img src=\"https://colab.research.google.com/assets/colab-badge.svg\" alt=\"Open In Colab\"/></a>"
      ]
    },
    {
      "cell_type": "markdown",
      "source": [
        "# **Calculus unraveled: Intuition, Proofs, and Python**\n",
        "### Mike X Cohen (sincxpress.com)\n",
        "#### https://github.com/mikexcohen/calculus_book\n",
        "#### Code for Chapter 19 (Multivariable integration)\n",
        "\n",
        "---\n",
        "\n",
        "# About this code file:\n",
        "\n",
        "### This notebook contains full code solutions to the exercises in this book chapter. There are many correct ways to solve the exercises; this notebook provides *a* solution, not *THE* solution. Please use this code as a starting point to continue exploring and experimenting with calculus concepts and visualizations.\n",
        "\n",
        "## **Using the code without the book may lead to confusion or errors.**\n",
        "\n",
        "#### This code was written in google-colab. The notebook may require some modifications if you use a different IDE."
      ],
      "metadata": {
        "id": "yeVh6hm2ezCO"
      }
    },
    {
      "cell_type": "code",
      "execution_count": null,
      "metadata": {
        "id": "oYWhHwGQ9OdD"
      },
      "outputs": [],
      "source": [
        "# import libraries and define global settings\n",
        "import numpy as np\n",
        "import sympy as sym\n",
        "import scipy.integrate as spi\n",
        "import matplotlib.pyplot as plt\n",
        "import matplotlib.patches as patches\n",
        "from IPython.display import Math\n",
        "\n",
        "# define global figure properties used for publication\n",
        "import matplotlib_inline.backend_inline\n",
        "matplotlib_inline.backend_inline.set_matplotlib_formats('svg') # display figures in vector format\n",
        "plt.rcParams.update({'font.size':14,             # font size\n",
        "                     'savefig.dpi':300,          # output resolution\n",
        "                     'axes.titlelocation':'left',# title location\n",
        "                    #  'axes.spines.right':False,  # remove axis bounding box\n",
        "                    #  'axes.spines.top':False,    # remove axis bounding box\n",
        "                     'lines.linewidth':2         # increase default line thickness\n",
        "                     })"
      ]
    },
    {
      "cell_type": "code",
      "source": [],
      "metadata": {
        "id": "jwPjgffPjSaY"
      },
      "execution_count": null,
      "outputs": []
    },
    {
      "cell_type": "markdown",
      "source": [
        "# Exercise 19.1"
      ],
      "metadata": {
        "id": "uyB2rHo-jSXY"
      }
    },
    {
      "cell_type": "code",
      "source": [
        "## part 1\n",
        "# the function\n",
        "x,y = sym.symbols('x,y')\n",
        "fxy = sym.exp(sym.pi)*x**2 + x*sym.cos(y) - y*sym.exp(sym.pi)*sym.log(x**4)\n",
        "\n",
        "## part 2\n",
        "# the constant factored out\n",
        "C = sym.exp(sym.pi)\n",
        "fxy_fact = sym.simplify( fxy/C )\n",
        "\n",
        "# print\n",
        "display(Math('f(x,y) = %s' %sym.latex(fxy)))\n",
        "print('')\n",
        "display(Math('\\qquad\\quad\\, = %s\\Big( %s \\Big)' %(sym.latex(C),sym.latex(fxy_fact))))"
      ],
      "metadata": {
        "id": "np5wjT4ew9D2"
      },
      "execution_count": null,
      "outputs": []
    },
    {
      "cell_type": "code",
      "source": [
        "### part 3\n",
        "int1 = sym.integrate(fxy,x,y)\n",
        "int2 = sym.integrate( C*sym.integrate(fxy_fact,x) ,y)\n",
        "int3 = C*sym.integrate( sym.integrate(fxy_fact,x) ,y)\n",
        "\n",
        "display(Math('\\;\\; %s \\quad=\\quad %s' %(sym.latex(sym.Integral(fxy,x,y)),sym.latex(int1))))\n",
        "print('')\n",
        "display(Math('\\int %s %s\\,dy \\quad=\\quad %s' %(sym.latex(C),sym.latex(sym.Integral(fxy_fact,x)),sym.latex(int2))))\n",
        "print('')\n",
        "display(Math('\\;\\; %s %s \\quad=\\quad %s' %(sym.latex(C),sym.latex(sym.Integral(fxy_fact,x,y)),sym.latex(int3))))"
      ],
      "metadata": {
        "id": "rllOPiS0jSUg"
      },
      "execution_count": null,
      "outputs": []
    },
    {
      "cell_type": "code",
      "source": [
        "### part 4\n",
        "x_a,x_b = 1,3\n",
        "y_a,y_b = -sym.pi,sym.pi/4\n",
        "\n",
        "dint1 = sym.integrate(fxy,(x,x_a,x_b),(y,y_a,y_b))\n",
        "dint2 = sym.integrate( C*sym.integrate(fxy_fact,(x,x_a,x_b)) ,(y,y_a,y_b))\n",
        "dint3 = C*sym.integrate( sym.integrate(fxy_fact,(x,x_a,x_b)) ,(y,y_a,y_b))\n",
        "\n",
        "display(Math('%s \\;=\\; %s'\n",
        "             %(sym.latex(sym.Integral(fxy,(x,x_a,x_b),(y,y_a,y_b))),sym.latex(dint1.evalf()))))\n",
        "print('')\n",
        "display(Math('\\int_{%s}^{%s} %s %s\\,dy \\;=\\; %s'\n",
        "             %(sym.latex(y_a),sym.latex(y_b),sym.latex(C),sym.latex(sym.Integral(fxy_fact,(x,x_a,x_b))),sym.latex(dint2.evalf()))))\n",
        "print('')\n",
        "display(Math('%s %s \\;=\\; %s'\n",
        "             %(sym.latex(C),sym.latex(sym.Integral(fxy_fact,(x,x_a,x_b),(y,y_a,y_b))),sym.latex(dint3.evalf()))))"
      ],
      "metadata": {
        "id": "SCTdNEEIjSRj"
      },
      "execution_count": null,
      "outputs": []
    },
    {
      "cell_type": "code",
      "source": [
        "# exact result\n",
        "dint1"
      ],
      "metadata": {
        "id": "MTb3-AuX3vMO"
      },
      "execution_count": null,
      "outputs": []
    },
    {
      "cell_type": "code",
      "source": [
        "### part 5\n",
        "\n",
        "# calculate\n",
        "dint1_sp = spi.dblquad(sym.lambdify((x,y),fxy),float(y_a),float(y_b),x_a,x_b)[0]\n",
        "dint2_sp = C.evalf() * spi.dblquad(sym.lambdify((x,y),fxy_fact),float(y_a),float(y_b),x_a,x_b)[0]\n",
        "\n",
        "# and display\n",
        "display(Math('%s \\;=\\; %.11f' %(sym.latex(sym.Integral(fxy,(x,x_a,x_b),(y,y_a,y_b))),dint1_sp)))\n",
        "print('')\n",
        "display(Math('%s%s \\;=\\; %.11f' %(sym.latex(C),sym.latex(sym.Integral(fxy_fact,(x,x_a,x_b),(y,y_a,y_b))),dint2_sp)))"
      ],
      "metadata": {
        "id": "KN0nkTyXjSOz"
      },
      "execution_count": null,
      "outputs": []
    },
    {
      "cell_type": "code",
      "source": [
        "### part 6\n",
        "\n",
        "xx = np.linspace(x_a-2,x_b+3,1601)\n",
        "yy = np.linspace(float(y_a)-2,float(y_b)+3,1600)\n",
        "\n",
        "X,Y = np.meshgrid(xx,yy)\n",
        "Z = sym.lambdify((x,y),fxy)(X,Y)\n",
        "\n",
        "# show the plot\n",
        "fig,ax = plt.subplots(1,figsize=(10,3))\n",
        "h = ax.imshow(Z,origin='lower',extent=[xx[0],xx[-1],yy[0],yy[-1]],vmin=-500,vmax=500,cmap='gray',aspect='auto')\n",
        "ax.set(xlabel='x',ylabel='y')\n",
        "ch = fig.colorbar(h,ax=ax,fraction=.04)\n",
        "ch.ax.tick_params(labelsize=10)\n",
        "\n",
        "ax.add_patch( patches.Rectangle(\n",
        "    (x_a,float(y_a)),x_b-x_a,float(y_b)-float(y_a),\n",
        "    linestyle='--',linewidth=1,edgecolor='k',facecolor='none') )\n",
        "\n",
        "plt.tight_layout()\n",
        "plt.savefig('multiint_ex1f.png')\n",
        "plt.show()"
      ],
      "metadata": {
        "id": "XrPZO2S7jSL8"
      },
      "execution_count": null,
      "outputs": []
    },
    {
      "cell_type": "code",
      "source": [],
      "metadata": {
        "id": "lm29Md8CjSJR"
      },
      "execution_count": null,
      "outputs": []
    },
    {
      "cell_type": "markdown",
      "source": [
        "# Exercise 19.2"
      ],
      "metadata": {
        "id": "MgA148B-_nII"
      }
    },
    {
      "cell_type": "code",
      "source": [
        "# function\n",
        "x,y = sym.symbols('x,y')\n",
        "fxy = sym.exp( -(x**2+y**2) )\n",
        "fxy_lam = sym.lambdify((x,y),fxy)\n",
        "\n",
        "# integration bounds\n",
        "x_a = y**3\n",
        "x_b = sym.cos(2*sym.pi*y)\n",
        "y_a = 0\n",
        "y_b = sym.pi/4\n",
        "\n",
        "# definite integral (try if you have some time to kill...)\n",
        "#sym.integrate(fxy,(x,x_a,x_b),(y,y_a,y_b))"
      ],
      "metadata": {
        "id": "fiBILmUwCf6X"
      },
      "execution_count": null,
      "outputs": []
    },
    {
      "cell_type": "code",
      "source": [
        "# integration bounds\n",
        "y_vals = np.linspace(float(y_a),float(y_b),1000)\n",
        "slice_integrals = np.zeros(len(y_vals))\n",
        "\n",
        "# iterate over y values, integrate along x\n",
        "for idx,yi in enumerate(y_vals):\n",
        "\n",
        "  # x bounds for this y\n",
        "  lo_bnd = float(x_a.subs(y,yi))\n",
        "  hi_bnd = float(x_b.subs(y,yi))\n",
        "  x_vals = np.linspace(lo_bnd,hi_bnd,100)\n",
        "\n",
        "  # function values for these coords\n",
        "  f_vals = fxy_lam(x_vals,yi)\n",
        "\n",
        "  # get the \"mini-integral\" of this slice (fxy is positive-valued function so don't need abs() )\n",
        "  slice_integrals[idx] = spi.simpson(f_vals,x=x_vals)\n",
        "\n",
        "# integrate the results along y\n",
        "defint_approx = spi.simpson(abs(slice_integrals),x=y_vals)\n",
        "\n",
        "# print the results\n",
        "print(f'Scipy approximation: {defint_approx:.10f}')"
      ],
      "metadata": {
        "id": "NpNQqQ_c97Ma"
      },
      "execution_count": null,
      "outputs": []
    },
    {
      "cell_type": "code",
      "source": [
        "# region of integration\n",
        "xx4region = np.linspace(float(y_a),float(y_b),100)\n",
        "yLo4region = np.array([x_a.subs(y,yi) for yi in xx4region],dtype=float)\n",
        "yHi4region = np.array([x_b.subs(y,yi) for yi in xx4region],dtype=float)\n",
        "\n",
        "# meshgrid for plotting the function\n",
        "xx = np.linspace(-1,2,499)\n",
        "yy = np.linspace(-1.5,1.5,499)\n",
        "X,Y = np.meshgrid(xx,yy)\n",
        "Z = fxy_lam(X,Y)\n",
        "\n",
        "\n",
        "### visualization\n",
        "fig,ax = plt.subplots(figsize=(12,6))\n",
        "\n",
        "# function as heatmap\n",
        "h = ax.imshow(Z,origin='lower',extent=[xx[0],xx[-1],yy[0],yy[-1]],\n",
        "              cmap='gray',vmin=0,vmax=1,aspect='auto',alpha=.8)\n",
        "fig.colorbar(h, ax=ax, label=r'$z = f(x,y)$')\n",
        "\n",
        "ax.axhline(0,color=[.5,.5,.5],linestyle=':')\n",
        "ax.axvline(0,color=[.5,.5,.5],linestyle=':')\n",
        "\n",
        "# region of integration\n",
        "ax.plot(xx4region,yLo4region,'k--',label=r'Lower bound = $%s$' %sym.latex(x_a))\n",
        "ax.plot(xx4region,yHi4region,'k',label=r'Upper bound = $%s$' %sym.latex(x_b))\n",
        "ax.fill_between(xx4region,yHi4region,yLo4region,color='k',alpha=.2,label='Integration window')\n",
        "ax.legend()\n",
        "\n",
        "# etc etc\n",
        "ax.set(xlabel='$x$',ylabel='$y$')\n",
        "ax.set_title(r'$\\int_{%s}^{%s}\\int_{%s}^{%s} \\left(%s\\right) \\,dx\\,dy \\;=\\; %.4f$'\n",
        "             %(sym.latex(y_a),sym.latex(y_b),sym.latex(x_a),sym.latex(x_b),sym.latex(fxy),defint_approx),\n",
        "             loc='center')\n",
        "\n",
        "plt.tight_layout()\n",
        "plt.savefig('multiint_ex2.png')\n",
        "plt.show()"
      ],
      "metadata": {
        "id": "HjHQ-rVH5Dh9"
      },
      "execution_count": null,
      "outputs": []
    },
    {
      "cell_type": "code",
      "source": [],
      "metadata": {
        "id": "4OOrAWgt6BmU"
      },
      "execution_count": null,
      "outputs": []
    },
    {
      "cell_type": "markdown",
      "source": [
        "# Exercise 19.3"
      ],
      "metadata": {
        "id": "AOvcJrJa0WHP"
      }
    },
    {
      "cell_type": "code",
      "source": [
        "# Define variables and the function\n",
        "x,y = sym.symbols('x,y')\n",
        "fxy = x**2 + y\n",
        "fxy_lam = sym.lambdify((x,y),fxy)\n",
        "\n",
        "x_a,x_b = y**2, y+0\n",
        "y_a,y_b = 0,1\n",
        "\n",
        "# exact integral\n",
        "sym_def = sym.integrate(fxy,(x,x_a,x_b),(y,y_a,y_b))"
      ],
      "metadata": {
        "id": "W2MPOWnI0cwI"
      },
      "execution_count": null,
      "outputs": []
    },
    {
      "cell_type": "code",
      "source": [
        "# integration bounds\n",
        "y_vals = np.linspace(y_a,y_b,1000)\n",
        "dxs = np.zeros(len(y_vals))\n",
        "numXs = np.zeros(len(y_vals))\n",
        "deltax = .001\n",
        "\n",
        "# don't need to integrate; just calculate delta-x\n",
        "for idx,yi in enumerate(y_vals):\n",
        "\n",
        "  # get the bounds for this slice\n",
        "  lo_bnd = float(x_a.subs(y,yi))\n",
        "  hi_bnd = float(x_b.subs(y,yi))\n",
        "\n",
        "  # get delta-x using a fixed number of points\n",
        "  x_vals1 = np.linspace(lo_bnd,hi_bnd,100)\n",
        "  dxs[idx] = x_vals1[1]-x_vals1[0]\n",
        "\n",
        "  # get the number of points based on a fixed delta-x\n",
        "  x_vals2 = np.arange(lo_bnd,hi_bnd+deltax,deltax)\n",
        "  numXs[idx] = len(x_vals2)\n",
        "\n",
        "# show the delta-x's\n",
        "_,axs = plt.subplots(1,2,figsize=(11,3))\n",
        "\n",
        "axs[0].plot(y_vals[::20],dxs[::20],'ks-',markerfacecolor=[.7,.7,.7])\n",
        "axs[0].set(xlim=[y_a-.01,y_b+.01],xlabel='$y$-axis value',ylabel=r'$\\Delta x$',title=r'$\\bf{A}$)  $\\Delta x$ for fixed number of points')\n",
        "\n",
        "axs[1].plot(y_vals[::20],numXs[::20],'ks-',markerfacecolor=[.7,.7,.7])\n",
        "axs[1].set(xlim=[y_a-.01,y_b+.01],xlabel='$y$-axis value',ylabel='Number of $x$-axis values',title=r'$\\bf{B}$)  Number of points for fixed $\\Delta x$')\n",
        "\n",
        "plt.tight_layout()\n",
        "plt.savefig('multiint_ex3a.png')\n",
        "plt.show()"
      ],
      "metadata": {
        "id": "YvT50FlN0WED"
      },
      "execution_count": null,
      "outputs": []
    },
    {
      "cell_type": "code",
      "source": [
        "# integration bounds\n",
        "y_vals = np.linspace(y_a,y_b,1000)\n",
        "\n",
        "deltaxs = np.linspace(.0001,.01,19)\n",
        "approxErrors = np.zeros(len(deltaxs))\n",
        "\n",
        "# run the experiment\n",
        "for didx,deltax in enumerate(deltaxs):\n",
        "\n",
        "  # copy/pasted/condensed code\n",
        "  slice_integrals = np.zeros(len(y_vals))\n",
        "  for idx,yi in enumerate(y_vals):\n",
        "    x_vals = np.arange(float(x_a.subs(y,yi)),float(x_b.subs(y,yi))+deltax,deltax)\n",
        "    f_vals = fxy_lam(x_vals,yi)\n",
        "    slice_integrals[idx] = spi.simpson(f_vals,x=x_vals)\n",
        "\n",
        "  # calculate the approximation error\n",
        "  approxErrors[didx] = abs( spi.simpson(slice_integrals,x=y_vals) - sym_def )"
      ],
      "metadata": {
        "id": "FkBcL7xY0WBQ"
      },
      "execution_count": null,
      "outputs": []
    },
    {
      "cell_type": "code",
      "source": [
        "plt.figure(figsize=(10,3))\n",
        "plt.plot(deltaxs,approxErrors,'ks',markerfacecolor=[.7,.7,.7],markersize=10)\n",
        "plt.gca().set(xlabel=r'$\\Delta x$ (fixed)',ylabel='Approximation error')\n",
        "plt.gca().invert_xaxis() # note the x-axis inversion!\n",
        "\n",
        "plt.tight_layout()\n",
        "plt.savefig('multiint_ex3b.png')\n",
        "plt.show()"
      ],
      "metadata": {
        "id": "0_437zPD0V-l"
      },
      "execution_count": null,
      "outputs": []
    },
    {
      "cell_type": "code",
      "source": [],
      "metadata": {
        "id": "f6u4TO210V71"
      },
      "execution_count": null,
      "outputs": []
    }
  ]
}