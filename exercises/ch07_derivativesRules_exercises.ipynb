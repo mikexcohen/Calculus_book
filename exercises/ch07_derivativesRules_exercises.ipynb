{
  "nbformat": 4,
  "nbformat_minor": 0,
  "metadata": {
    "colab": {
      "private_outputs": true,
      "provenance": [],
      "authorship_tag": "ABX9TyNf8PH3FfKH2SLQTpIhXow3"
    },
    "kernelspec": {
      "name": "python3",
      "display_name": "Python 3"
    },
    "language_info": {
      "name": "python"
    }
  },
  "cells": [
    {
      "cell_type": "markdown",
      "metadata": {
        "id": "view-in-github"
      },
      "source": [
        "<a href=\"https://colab.research.google.com/github/mikexcohen/Calculus_book/blob/main/exercises/ch07_derivativesRules_exercises.ipynb\" target=\"_parent\"><img src=\"https://colab.research.google.com/assets/colab-badge.svg\" alt=\"Open In Colab\"/></a>"
      ]
    },
    {
      "cell_type": "markdown",
      "source": [
        "# **Calculus unraveled: Intuition, Proofs, and Python**\n",
        "### Mike X Cohen (sincxpress.com)\n",
        "#### https://github.com/mikexcohen/calculus_book\n",
        "#### Code for Chapter 7 (Differentiation rules)\n",
        "\n",
        "---\n",
        "\n",
        "# About this code file:\n",
        "\n",
        "### This notebook contains full code solutions to the exercises in this book chapter. There are many correct ways to solve the exercises; this notebook provides *a* solution, not *THE* solution. Please use this code as a starting point to continue exploring and experimenting with calculus concepts and visualizations.\n",
        "\n",
        "## **Using the code without the book may lead to confusion or errors.**\n",
        "\n",
        "#### This code was written in google-colab. The notebook may require some modifications if you use a different IDE."
      ],
      "metadata": {
        "id": "4KikZVyDDDXR"
      }
    },
    {
      "cell_type": "code",
      "execution_count": null,
      "metadata": {
        "id": "BDmQPtUGUg6L"
      },
      "outputs": [],
      "source": []
    },
    {
      "cell_type": "code",
      "execution_count": null,
      "metadata": {
        "id": "oYWhHwGQ9OdD"
      },
      "outputs": [],
      "source": [
        "# import libraries and define global settings\n",
        "import numpy as np\n",
        "import sympy as sym\n",
        "import math\n",
        "import matplotlib.pyplot as plt\n",
        "\n",
        "from IPython.display import Math\n",
        "\n",
        "# define global figure properties used for publication\n",
        "import matplotlib_inline.backend_inline\n",
        "matplotlib_inline.backend_inline.set_matplotlib_formats('svg') # display figures in vector format\n",
        "plt.rcParams.update({'font.size':14,             # font size\n",
        "                     'savefig.dpi':300,          # output resolution\n",
        "                     'axes.titlelocation':'left',# title location\n",
        "                     'axes.spines.right':False,  # remove axis bounding box\n",
        "                     'axes.spines.top':False,    # remove axis bounding box\n",
        "                     'lines.linewidth':2         # increase default line thickness\n",
        "                     })"
      ]
    },
    {
      "cell_type": "code",
      "source": [],
      "metadata": {
        "id": "b1xsN0DdUtNh"
      },
      "execution_count": null,
      "outputs": []
    },
    {
      "cell_type": "markdown",
      "source": [
        "# Exercise 7.1: Check the product rule"
      ],
      "metadata": {
        "id": "jRJd9iyYUtKr"
      }
    },
    {
      "cell_type": "code",
      "source": [
        "# Note: change * to + when defining h and in the final line\n",
        "\n",
        "x = sym.symbols('x',real=True)\n",
        "\n",
        "# the functions\n",
        "f = (x-1)**3\n",
        "g = sym.sqrt(x**4)\n",
        "h = f*g\n",
        "\n",
        "# their derivatives (here, \"p\" is for \"prime,\" as in, fp = f'(x) )\n",
        "fp = sym.diff(f)\n",
        "gp = sym.diff(g)\n",
        "hp = sym.diff(h)\n",
        "\n",
        "# print everything\n",
        "display(Math('f(x) = %s' %sym.latex(f))), print('')\n",
        "display(Math('g(x) = %s' %sym.latex(g))), print('')\n",
        "display(Math('h(x) = %s' %sym.latex(h))), print('\\n')\n",
        "\n",
        "display(Math(\"f'(x) = %s\" %sym.latex(fp))), print('')\n",
        "display(Math(\"g'(x) = %s\" %sym.latex(gp))), print('')\n",
        "display(Math(\"h'(x) = %s\" %sym.latex(hp))), print('')\n",
        "display(Math(\"f'g' = %s\"  %sym.latex(fp*gp)))"
      ],
      "metadata": {
        "id": "NSz7wyASdXxw"
      },
      "execution_count": null,
      "outputs": []
    },
    {
      "cell_type": "code",
      "source": [],
      "metadata": {
        "id": "n3mr6qZ6dYAg"
      },
      "execution_count": null,
      "outputs": []
    },
    {
      "cell_type": "markdown",
      "source": [
        "# Exercise 7.2: Confirm the product rule"
      ],
      "metadata": {
        "id": "0wmPBqRsjvkt"
      }
    },
    {
      "cell_type": "code",
      "source": [
        "# create symbolic variable\n",
        "x = sym.symbols('x')\n",
        "\n",
        "# create functions\n",
        "f = x**2\n",
        "g = sym.cos(x)\n",
        "\n",
        "# and their derivatives\n",
        "df = sym.diff(f)\n",
        "dg = sym.diff(g)\n",
        "\n",
        "# their combination\n",
        "fg = f*g\n",
        "dfg = sym.diff(fg)\n",
        "\n",
        "# \"manual\" product rule\n",
        "man_dfg = df*g + f*dg\n",
        "\n",
        "\n",
        "# print them out\n",
        "display(Math('f(x) = %s' %sym.latex(f))), print('')\n",
        "display(Math('g(x) = %s' %sym.latex(g))), print('')\n",
        "display(Math('f\\\\times g = %s' %sym.latex(fg))), print('')\n",
        "display(Math(\"\\\\left[\\,f\\\\times g\\,\\\\right]' = %s\" %sym.latex(dfg))), print('')\n",
        "display(Math(\"f'g + fg' = %s\" %sym.latex(man_dfg)))"
      ],
      "metadata": {
        "id": "b_KV4kkPjvmx"
      },
      "execution_count": null,
      "outputs": []
    },
    {
      "cell_type": "code",
      "source": [],
      "metadata": {
        "id": "z-brBZ57tZkT"
      },
      "execution_count": null,
      "outputs": []
    },
    {
      "cell_type": "markdown",
      "source": [
        "# Exercise 7.3: Confirm the quotient rule"
      ],
      "metadata": {
        "id": "nP35isZ5tZnI"
      }
    },
    {
      "cell_type": "code",
      "source": [
        "# using the functions defined earlier\n",
        "\n",
        "# their combination\n",
        "fg = f/g\n",
        "dfg = sym.diff(fg)\n",
        "\n",
        "# \"manual\" quotient rule\n",
        "man_dfg = (df*g - f*dg) / g**2\n",
        "\n",
        "\n",
        "# display(Math('f(x) = %s' %sym.latex(f))), print('')\n",
        "# display(Math('g(x) = %s' %sym.latex(g))), print('')\n",
        "display(Math('\\\\frac{f}{g} = %s' %sym.latex(fg))), print('')\n",
        "display(Math(\"\\\\left[\\,\\\\frac{f}{g}\\,\\\\right]' = %s\" %sym.latex(dfg))), print('')\n",
        "display(Math(\"\\\\frac{f'g-fg'}{g^2} = %s\" %sym.latex(man_dfg)))"
      ],
      "metadata": {
        "id": "OHOMZmpFtZqA"
      },
      "execution_count": null,
      "outputs": []
    },
    {
      "cell_type": "code",
      "source": [
        "# hmm...\n",
        "sym.simplify(man_dfg)"
      ],
      "metadata": {
        "id": "FskLkIjBtZvj"
      },
      "execution_count": null,
      "outputs": []
    },
    {
      "cell_type": "code",
      "source": [],
      "metadata": {
        "id": "PdLP7ZnCtZ3S"
      },
      "execution_count": null,
      "outputs": []
    },
    {
      "cell_type": "markdown",
      "source": [
        "# Exercise 7.4: Chain rule with two and three functions"
      ],
      "metadata": {
        "id": "t8HAiQFHILhq"
      }
    },
    {
      "cell_type": "code",
      "source": [
        "x = sym.symbols('x',real=True)\n",
        "\n",
        "# individual functions\n",
        "f = 3*x**2\n",
        "g = x**3 + sym.log(x)\n",
        "h = sym.cos(x)\n",
        "\n",
        "# individual function derivatives\n",
        "df = sym.diff(f)\n",
        "dg = sym.diff(g)\n",
        "dh = sym.diff(h)\n",
        "\n",
        "# composite functions\n",
        "fg  = f.subs(x,g)\n",
        "fgh = f.subs(x, g.subs(x,h) )\n",
        "\n",
        "# \"manual\" chain rule\n",
        "man_dfg  = df.subs(x,g) * dg\n",
        "man_dfgh = df.subs(x,g.subs(x,h)) * dg.subs(x,h) * dh"
      ],
      "metadata": {
        "id": "2vrs-7fjILkn"
      },
      "execution_count": null,
      "outputs": []
    },
    {
      "cell_type": "code",
      "source": [
        "# print the 2-function composite and its derivative\n",
        "display(Math('f(x) = %s' %sym.latex(f))), print('')\n",
        "display(Math('g(x) = %s' %sym.latex(g))), print('')\n",
        "display(Math('h(x) = %s' %sym.latex(h))), print('\\n')\n",
        "\n",
        "display(Math('f(g(x)) = %s' %sym.latex(fg))), print('')\n",
        "display(Math(\"\\\\left[\\, f(g(x))\\, \\\\right]' = %s\" %sym.latex(sym.diff(fg)))), print('\\n')\n",
        "display(Math(\"f(g)'\\,g' = %s\" %sym.latex(man_dfg))), print('\\n')\n",
        "\n",
        "display(Math('f(g(h(x))) = %s' %sym.latex(fgh))), print('')\n",
        "display(Math(\"\\\\left[\\, f(g(h(x)))\\, \\\\right]' = %s\" %sym.latex(sym.diff(fgh)))), print('')\n",
        "display(Math(\"f(g(h))'\\,g(h)'\\,h' = %s\" %sym.latex(man_dfgh)))"
      ],
      "metadata": {
        "id": "Hc1paHNyJkkT"
      },
      "execution_count": null,
      "outputs": []
    },
    {
      "cell_type": "code",
      "source": [],
      "metadata": {
        "id": "8MgYlAaQkrDU"
      },
      "execution_count": null,
      "outputs": []
    },
    {
      "cell_type": "code",
      "source": [
        "## Not part of the exercise, but I was curious to see what these composed functions looked like.\n",
        "# Please continue to explore visualizations of these wacky-looking functions!\n",
        "\n",
        "xx = np.linspace(-np.pi/2,5*np.pi/2,4001)\n",
        "\n",
        "# lambdify some functions\n",
        "fgh_l = sym.lambdify(x,fgh)\n",
        "dfgh_l = sym.lambdify(x,sym.diff(fgh))\n",
        "\n",
        "# and visualize\n",
        "plt.figure(figsize=(10,4))\n",
        "plt.plot(xx,fgh_l(xx),'k',label='$f(g(h(x)))$')\n",
        "plt.plot(xx,dfgh_l(xx),'--',color=[.7,.7,.7],label=r\"$\\left[\\, f(g(h(x))) \\,\\right]'$\")\n",
        "plt.legend()\n",
        "\n",
        "plt.gca().set(xlim=xx[[0,-1]],ylim=[-50,100],xlabel='$x$',\n",
        "              xticks=np.arange(-np.pi/2,5*np.pi/2+.1,np.pi),xticklabels=['$-\\pi/2$','$\\pi/2$','$3\\pi/2$','$5\\pi/2$'])\n",
        "plt.show()"
      ],
      "metadata": {
        "id": "GTtiTiHSkrAf"
      },
      "execution_count": null,
      "outputs": []
    },
    {
      "cell_type": "code",
      "source": [],
      "metadata": {
        "id": "FkQPTaRgdYDI"
      },
      "execution_count": null,
      "outputs": []
    },
    {
      "cell_type": "markdown",
      "source": [
        "# Exercise 7.5: Explicit plots of implicit functions"
      ],
      "metadata": {
        "id": "VyytfcbkdYE8"
      }
    },
    {
      "cell_type": "code",
      "source": [
        "from sympy.abc import x,y\n",
        "\n",
        "# the expression in implicit form\n",
        "expr_im = x**3*y**2 - 5*x**4\n",
        "\n",
        "# solve for y via sympy (multiple solutions; each one is a separate list item)\n",
        "expr_ex = sym.solve(expr_im,y)\n",
        "\n",
        "# print out the functions\n",
        "display(Math('\\\\text{In implicit form: } 0 = %s' %sym.latex(expr_im)))\n",
        "print('')\n",
        "display(Math('\\\\text{In explicit form (1 of 2): } f(x) = %s' %sym.latex(expr_ex[0])))\n",
        "display(Math('\\\\text{In explicit form (2 of 2): } f(x) = %s' %sym.latex(expr_ex[1])))"
      ],
      "metadata": {
        "id": "mvK4OxeH8Tj1"
      },
      "execution_count": null,
      "outputs": []
    },
    {
      "cell_type": "code",
      "source": [
        "# differentiate explicit forms\n",
        "explicit_df0 = sym.diff(expr_ex[0],x)\n",
        "explicit_df1 = sym.diff(expr_ex[1],x)\n",
        "\n",
        "# differentiate implicit form\n",
        "implicit_df = sym.idiff(expr_im,y,x)\n",
        "\n",
        "# print\n",
        "display(Math(\"\\\\text{In implicit form: } y' = %s\" %sym.latex(implicit_df)))\n",
        "print('')\n",
        "display(Math(\"\\\\text{In explicit form (1 of 2): } f'(x) = %s\" %sym.latex(explicit_df0)))\n",
        "print('')\n",
        "display(Math(\"\\\\text{In explicit form (2 of 2): } f'(x) = %s\" %sym.latex(explicit_df1)))"
      ],
      "metadata": {
        "id": "PL_A3uKVUtHj"
      },
      "execution_count": null,
      "outputs": []
    },
    {
      "cell_type": "code",
      "source": [
        "# substitute the explicit form of y if it's available\n",
        "implicit_df.subs(y,expr_ex[0])"
      ],
      "metadata": {
        "id": "q6hk01ojBbKT"
      },
      "execution_count": null,
      "outputs": []
    },
    {
      "cell_type": "code",
      "source": [
        "# x-axis grid\n",
        "xx = np.linspace(.001,5,413)\n",
        "\n",
        "# margin figure\n",
        "plt.figure(figsize=(4,6))\n",
        "\n",
        "# plot the functions\n",
        "plt.plot(xx,[ expr_ex[0].subs(x,xi) for xi in xx ],'k',label=r'$f^-$')\n",
        "plt.plot(xx,[ expr_ex[1].subs(x,xi) for xi in xx ],'k--',label=r'$f^+$')\n",
        "\n",
        "# plot the derivatives\n",
        "plt.plot(xx,[ explicit_df0.subs(x,xi) for xi in xx ],'-',color=[.6,.6,.6],label=r\"$f\\,'^-$\")\n",
        "plt.plot(xx,[ explicit_df1.subs(x,xi) for xi in xx ],'--',color=[.6,.6,.6],label=r\"$f\\,'^+$\")\n",
        "\n",
        "plt.legend()\n",
        "plt.gca().set(xlim=xx[[0,-1]],ylim=[-6,6],xlabel='x',ylabel=r\"$y=f(x)$ or $y\\,'=f\\,'(x)$\")\n",
        "\n",
        "plt.tight_layout()\n",
        "plt.savefig('diffRules_ex5b.png')\n",
        "plt.show()"
      ],
      "metadata": {
        "id": "GNCH5gayUtEj"
      },
      "execution_count": null,
      "outputs": []
    },
    {
      "cell_type": "code",
      "source": [],
      "metadata": {
        "id": "GZ4OA5bX_UnW"
      },
      "execution_count": null,
      "outputs": []
    },
    {
      "cell_type": "markdown",
      "source": [
        "# Exercise 7.6: Embedded exponential"
      ],
      "metadata": {
        "id": "MDbEKJaADgqN"
      }
    },
    {
      "cell_type": "code",
      "source": [
        "# Define the symbols\n",
        "x = sym.symbols('x')\n",
        "y = sym.Function('y')(x)\n",
        "\n",
        "# the expression\n",
        "expr = sym.exp(x**2+y**2) - x - y\n",
        "\n",
        "# its derivative\n",
        "Dexpr = sym.idiff(expr,y,x)\n",
        "\n",
        "# explicit solution for y?\n",
        "sym.solve(expr,y)"
      ],
      "metadata": {
        "id": "jL1_9xEMDgmn"
      },
      "execution_count": null,
      "outputs": []
    },
    {
      "cell_type": "code",
      "source": [
        "display(Math('f(x) = %s' %sym.latex(expr)))\n",
        "print('')\n",
        "display(Math(\"f'(x) = %s\" %sym.latex(Dexpr)))"
      ],
      "metadata": {
        "id": "SzjPlF9CbsLb"
      },
      "execution_count": null,
      "outputs": []
    },
    {
      "cell_type": "code",
      "source": [
        "# create a mesh grid for x and y values\n",
        "plotbndX = .5\n",
        "plotbndY = 2\n",
        "x_vals = np.linspace(-plotbndX,plotbndX,1000)\n",
        "y_vals = np.linspace(-plotbndY,plotbndY,1000)\n",
        "X,Y    = np.meshgrid(x_vals,y_vals)\n",
        "\n",
        "# functions to evaluate the implicit functions\n",
        "expr_lam  = sym.lambdify((x,y),expr)\n",
        "Dexpr_lam = sym.lambdify((x,y),Dexpr) # derivative\n",
        "\n",
        "# evaluate the function on the grid\n",
        "Z  = expr_lam(X,Y)\n",
        "# find coordinates where the function is \"close\" to zero\n",
        "tolerance = .001\n",
        "approxZero = np.where(np.abs(Z) < tolerance)\n",
        "\n",
        "# and get those coordinates\n",
        "x_coords = X[approxZero]\n",
        "y_coords = Y[approxZero]\n",
        "\n",
        "\n",
        "# repeat for the derivative\n",
        "DZ = Dexpr_lam(X,Y)\n",
        "approxZero = np.where(np.abs(DZ) < tolerance)\n",
        "Dx_coords = X[approxZero]\n",
        "Dy_coords = Y[approxZero]\n",
        "\n",
        "\n",
        "# plot the extracted points\n",
        "plt.figure(figsize=(8,6))\n",
        "plt.plot(x_coords,y_coords,'k.',markersize=5,label='Function')\n",
        "plt.plot(Dx_coords,Dy_coords,'+',color=[.7,.7,.7],markersize=5,label='Derivative')\n",
        "\n",
        "plt.gca().set(xlabel='x',ylabel='y',xlim=[-plotbndX,plotbndX],ylim=[-plotbndY,plotbndY])\n",
        "plt.title(r'Points that satisfy $%s\\approx 0$' %sym.latex(expr),loc='center')\n",
        "plt.legend(bbox_to_anchor=[1,.55],markerscale=2)\n",
        "\n",
        "plt.tight_layout()\n",
        "plt.savefig('diffRules_ex6.png')\n",
        "plt.show()"
      ],
      "metadata": {
        "id": "Lxoxjb86Dgjy"
      },
      "execution_count": null,
      "outputs": []
    },
    {
      "cell_type": "code",
      "source": [],
      "metadata": {
        "id": "ci1bOXvY6vKZ"
      },
      "execution_count": null,
      "outputs": []
    },
    {
      "cell_type": "markdown",
      "source": [
        "# Exercise 7.7: Imaging the solutions"
      ],
      "metadata": {
        "id": "U2bzMZoB6vB2"
      }
    },
    {
      "cell_type": "code",
      "source": [
        "fig,axs = plt.subplots(1,2,figsize=(12,5))\n",
        "\n",
        "# image the function output\n",
        "h = axs[0].imshow(-np.log(abs(Z)),vmin=2,vmax=5,aspect='auto',cmap='gray',\n",
        "           extent=[-plotbndX,plotbndX,-plotbndY,plotbndY],origin='lower')\n",
        "axs[0].set(xlabel='x',ylabel='y',title=r'$\\bf{A}$)  Function')\n",
        "fig.colorbar(h,ax=axs[0],label=r'$-\\ln(|Z|)$')\n",
        "\n",
        "# image the derivative output\n",
        "h = axs[1].imshow(-np.log(abs(DZ)),vmin=2,vmax=5,aspect='auto',cmap='gray',\n",
        "           extent=[-plotbndX,plotbndX,-plotbndY,plotbndY],origin='lower')\n",
        "axs[1].set(xlabel='x',ylabel='y',title=r'$\\bf{B}$)  Derivative')\n",
        "fig.colorbar(h,ax=axs[1],label=r'$-\\ln(|Z|)$')\n",
        "\n",
        "\n",
        "plt.tight_layout()\n",
        "plt.savefig('diffRules_ex7.png')\n",
        "plt.show()"
      ],
      "metadata": {
        "id": "qshvweSUDgg1"
      },
      "execution_count": null,
      "outputs": []
    },
    {
      "cell_type": "code",
      "source": [],
      "metadata": {
        "id": "cq5eHJq4aORP"
      },
      "execution_count": null,
      "outputs": []
    },
    {
      "cell_type": "markdown",
      "source": [
        "# Exercise 7.8: L'Hôpital's rule"
      ],
      "metadata": {
        "id": "PbX0FskvDgeO"
      }
    },
    {
      "cell_type": "code",
      "source": [
        "# function and its components\n",
        "x = sym.symbols('x')\n",
        "fx = x**2 * sym.log(x)\n",
        "\n",
        "f_num = sym.log(x)\n",
        "f_den = x**(-2)\n",
        "\n",
        "# test the limit\n",
        "sym.limit(fx,x,0,'+') # strangely also works for coming from the left..."
      ],
      "metadata": {
        "id": "tLaHLhMuSk8b"
      },
      "execution_count": null,
      "outputs": []
    },
    {
      "cell_type": "code",
      "source": [
        "# derivatives\n",
        "df = sym.diff(fx)\n",
        "df_num = sym.diff(f_num)\n",
        "df_den = sym.diff(f_den)\n",
        "\n",
        "# show that (f/g)' is not f'/g'\n",
        "display(Math(\"dx\\\\left[\\,\\\\frac{%s}{%s} \\,\\\\right] = %s\" %(sym.latex(f_num),sym.latex(f_den),sym.latex(df)))), print('')\n",
        "display(Math(\"\\\\frac{d/dx [%s]}{d/dx[%s]} = \\\\frac{%s}{%s}\" %(sym.latex(f_num),sym.latex(f_den),sym.latex(df_num),sym.latex(df_den))))"
      ],
      "metadata": {
        "id": "9IZAs_cRDgbh"
      },
      "execution_count": null,
      "outputs": []
    },
    {
      "cell_type": "code",
      "source": [
        "# find the critical point\n",
        "cp = sym.solve(df)\n",
        "print(cp)\n",
        "\n",
        "minX = sym.N(cp[0])\n",
        "minY = fx.subs(x,cp[0])\n",
        "minX,minY"
      ],
      "metadata": {
        "id": "PxuW7p9nWthk"
      },
      "execution_count": null,
      "outputs": []
    },
    {
      "cell_type": "code",
      "source": [
        "# plot\n",
        "xx = np.linspace(.00001,1,987)\n",
        "\n",
        "plt.figure(figsize=(10,4))\n",
        "plt.plot(xx,[ fx.subs(x,xi) for xi in xx ],'k',label=r'$f(x)=%s$' %sym.latex(fx))\n",
        "plt.plot(minX,minY,'ko',markersize=9,label=f'Min: ({minX:.2f}, {minY:.2f})')\n",
        "\n",
        "plt.legend()\n",
        "plt.gca().set(xlim=xx[[0,-1]],xlabel='$x$',ylabel='$y$')\n",
        "\n",
        "plt.tight_layout()\n",
        "plt.savefig('diffRules_ex8.png')\n",
        "plt.show()"
      ],
      "metadata": {
        "id": "_bAX_rC0DgY_"
      },
      "execution_count": null,
      "outputs": []
    },
    {
      "cell_type": "code",
      "source": [],
      "metadata": {
        "id": "42pxLtu5DgWW"
      },
      "execution_count": null,
      "outputs": []
    },
    {
      "cell_type": "markdown",
      "source": [
        "# Exercise 7.9: Racing functions!"
      ],
      "metadata": {
        "id": "EyCOumxGDgTq"
      }
    },
    {
      "cell_type": "code",
      "source": [
        "### Notes about the solution:\n",
        "# 1) Applying L'Hôpital's rule to get f'/g' yields e^x/2x, which is still oo/oo (indeterminate). So you need to run L'Hôpital's\n",
        "#    rule again, and then you'll get e^x/2, the limit of which is oo/2 = oo. This proves the e^x increases faster than x^2.\n",
        "# 2) Swapping f(x) and g(x) (thus, the limit of x^2/e^x, which is 2/oo = 0) leads to the same conclusion.\n",
        "#"
      ],
      "metadata": {
        "id": "KzIaiJVQnzVe"
      },
      "execution_count": null,
      "outputs": []
    },
    {
      "cell_type": "code",
      "source": [
        "xx = np.linspace(-2,3,541)\n",
        "\n",
        "# the functions\n",
        "fx = np.exp(xx)\n",
        "gx = xx**2\n",
        "\n",
        "# the plot\n",
        "plt.figure(figsize=(10,4))\n",
        "plt.plot(xx,fx,label=r'$f(x) = e^x$')\n",
        "plt.plot(xx,gx,label=r'$f(x) = x^2$')\n",
        "plt.gca().set(xlim=xx[[0,-1]],xlabel='x',ylabel=r'$y = f(x)$ or $g(x)$')\n",
        "plt.legend()\n",
        "plt.show()\n",
        "\n",
        "\n",
        "# An alternative option is to plot the ratio f/g. That ratio will climb upwards if f>g,\n",
        "# or will asymptote to zero if f<g. This ratio blows up around x=0 because the denominator gets tiny\n",
        "plt.figure(figsize=(10,4))\n",
        "plt.plot(xx,fx/gx)\n",
        "plt.gca().set(xlim=xx[[0,-1]],ylim=[0,10],xlabel='x',ylabel=r'$y = f(x)\\,/\\,g(x)$')\n",
        "plt.show()"
      ],
      "metadata": {
        "id": "kGZRaf4dmjti"
      },
      "execution_count": null,
      "outputs": []
    },
    {
      "cell_type": "code",
      "source": [
        "### Discussion:\n",
        "# 1) Try changing the upper bound of xx to, e.g., 20; x^2 looks like a flat line!\n",
        "# 2) You can run this experiment for any positive integer n in x^n; keep differentiating\n",
        "#    and you'll eventually arrive at e^x/c. Thus, e^x climbs faster than *every* non-infinitely differentiable function.\n",
        "#    That's another one of the myriad amazing features of e^x.\n",
        "# 3) A general point in math: Examining the behavior of the ratio of functions is often a good way to compare them."
      ],
      "metadata": {
        "id": "BCuqM8osmjwv"
      },
      "execution_count": null,
      "outputs": []
    },
    {
      "cell_type": "code",
      "source": [],
      "metadata": {
        "id": "Z_MXAcdJkmVq"
      },
      "execution_count": null,
      "outputs": []
    }
  ]
}