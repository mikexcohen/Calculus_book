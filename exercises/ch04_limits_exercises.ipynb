{
  "nbformat": 4,
  "nbformat_minor": 0,
  "metadata": {
    "colab": {
      "private_outputs": true,
      "provenance": [],
      "authorship_tag": "ABX9TyNtP1udMpdvuBN/wUQ7vfzN"
    },
    "kernelspec": {
      "name": "python3",
      "display_name": "Python 3"
    },
    "language_info": {
      "name": "python"
    }
  },
  "cells": [
    {
      "cell_type": "markdown",
      "metadata": {
        "id": "view-in-github"
      },
      "source": [
        "<a href=\"https://colab.research.google.com/github/mikexcohen/Calculus_book/blob/main/exercises/ch04_limits_exercises.ipynb\" target=\"_parent\"><img src=\"https://colab.research.google.com/assets/colab-badge.svg\" alt=\"Open In Colab\"/></a>"
      ]
    },
    {
      "cell_type": "markdown",
      "source": [
        "# **Calculus unraveled: Intuition, Proofs, and Python**\n",
        "### Mike X Cohen (sincxpress.com)\n",
        "#### https://github.com/mikexcohen/calculus_book\n",
        "#### Code for Chapter 4 (Limits)\n",
        "\n",
        "---\n",
        "\n",
        "# About this code file:\n",
        "\n",
        "### This notebook contains full code solutions to the exercises in this book chapter. There are many correct ways to solve the exercises; this notebook provides *a* solution, not *THE* solution. Please use this code as a starting point to continue exploring and experimenting with calculus concepts and visualizations.\n",
        "\n",
        "## **Using the code without the book may lead to confusion or errors.**\n",
        "\n",
        "#### This code was written in google-colab. The notebook may require some modifications if you use a different IDE."
      ],
      "metadata": {
        "id": "yeVh6hm2ezCO"
      }
    },
    {
      "cell_type": "code",
      "source": [],
      "metadata": {
        "id": "6XAFEkuRhI_k"
      },
      "execution_count": null,
      "outputs": []
    },
    {
      "cell_type": "code",
      "execution_count": null,
      "metadata": {
        "id": "oYWhHwGQ9OdD"
      },
      "outputs": [],
      "source": [
        "# import libraries and define global settings\n",
        "import numpy as np\n",
        "import sympy as sym\n",
        "import matplotlib.pyplot as plt\n",
        "from IPython.display import Math\n",
        "\n",
        "# define global figure properties used for publication\n",
        "import matplotlib_inline.backend_inline\n",
        "matplotlib_inline.backend_inline.set_matplotlib_formats('svg') # display figures in vector format\n",
        "plt.rcParams.update({'font.size':14,             # font size\n",
        "                     'savefig.dpi':300,          # output resolution\n",
        "                     'axes.titlelocation':'left',# title location\n",
        "                     'axes.spines.right':False,  # remove axis bounding box\n",
        "                     'axes.spines.top':False,    # remove axis bounding box\n",
        "                     'lines.linewidth':2         # increase default line thickness\n",
        "                     })"
      ]
    },
    {
      "cell_type": "code",
      "source": [],
      "metadata": {
        "id": "bPediC9r7nQE"
      },
      "execution_count": null,
      "outputs": []
    },
    {
      "cell_type": "markdown",
      "source": [
        "# Exercise 4.1: Zeno's limits"
      ],
      "metadata": {
        "id": "wgAAVwDY7nS4"
      }
    },
    {
      "cell_type": "code",
      "source": [
        "# a function for the function\n",
        "fx = lambda u : np.cos(u**2)**2 + np.pi\n",
        "xx = np.linspace(-2.1,2.1,201)\n",
        "\n",
        "# plot it\n",
        "plt.figure(figsize=(4,4))\n",
        "plt.plot(xx,fx(xx),'k')\n",
        "\n",
        "# make it look nicer\n",
        "plt.xlabel('x')\n",
        "plt.xlim(xx[[0,-1]])\n",
        "plt.ylabel('f(x)')\n",
        "plt.title(r'$f(x) = \\cos^2(x^2) + \\pi$',loc='center')\n",
        "plt.grid(color=[.9,.9,.9])\n",
        "\n",
        "plt.tight_layout()\n",
        "plt.savefig('limits_ex1a.png')\n",
        "plt.show()"
      ],
      "metadata": {
        "id": "rY-c-OOF7nV0"
      },
      "execution_count": null,
      "outputs": []
    },
    {
      "cell_type": "code",
      "source": [
        "# target value (limit)\n",
        "a = 1\n",
        "\n",
        "# starting x-axis values\n",
        "x0 = np.array([a-1,a+1])\n",
        "\n",
        "\n",
        "# initialize\n",
        "iterations = 10\n",
        "limitvals = np.zeros((iterations,2))\n",
        "xAxisvals = np.zeros((iterations,2))\n",
        "\n",
        "\n",
        "# run the zeno's limit method in a for-loop\n",
        "for i in range(iterations):\n",
        "\n",
        "  # compute and store x0,y=f(x0)\n",
        "  limitvals[i,:] = fx(x0)\n",
        "  xAxisvals[i,:] = x0\n",
        "\n",
        "  # update x-values (could this line be above the previous?)\n",
        "  x0 = (x0+a)/2"
      ],
      "metadata": {
        "id": "t8GXKlzw7nYI"
      },
      "execution_count": null,
      "outputs": []
    },
    {
      "cell_type": "code",
      "source": [
        "# print out in a table\n",
        "print('Limit from the left:')\n",
        "print(np.vstack((xAxisvals[:,0],limitvals[:,0])).T)\n",
        "\n",
        "print(' ')\n",
        "print('Limit from the right:')\n",
        "print(np.vstack((xAxisvals[:,1],limitvals[:,1])).T)\n",
        "\n",
        "print(' ')\n",
        "print(f'Function value at x={a}:')\n",
        "print(fx(a))"
      ],
      "metadata": {
        "id": "Y5KaDWZYVaNk"
      },
      "execution_count": null,
      "outputs": []
    },
    {
      "cell_type": "code",
      "source": [
        "# plot it\n",
        "plt.figure(figsize=(8,4))\n",
        "plt.plot(xx,fx(xx),'k')\n",
        "plt.plot([a,a],[np.pi,1+np.pi],'k--',linewidth=1)\n",
        "plt.plot(xAxisvals,limitvals,'o',markerfacecolor='w',markersize=9)\n",
        "\n",
        "# make it look nicer\n",
        "plt.xlabel('x')\n",
        "plt.xlim(xx[[0,-1]])\n",
        "plt.ylabel('f(x)')\n",
        "plt.title(f'f({a}) = {fx(a)}',loc='center')\n",
        "plt.grid(color=[.9,.9,.9])\n",
        "\n",
        "# optional zoom in\n",
        "#plt.xlim([a-1,a+1])\n",
        "\n",
        "\n",
        "plt.tight_layout()\n",
        "plt.savefig('limits_ex1b.png')\n",
        "plt.show()"
      ],
      "metadata": {
        "id": "czIRRa621LKf"
      },
      "execution_count": null,
      "outputs": []
    },
    {
      "cell_type": "code",
      "source": [],
      "metadata": {
        "id": "GCeBct6DVaHX"
      },
      "execution_count": null,
      "outputs": []
    },
    {
      "cell_type": "markdown",
      "source": [
        "# Exercise 4.2: Analytic limits in sympy"
      ],
      "metadata": {
        "id": "nFAmax4VUXBa"
      }
    },
    {
      "cell_type": "code",
      "source": [
        "# create symbolic variable\n",
        "from sympy.abc import x\n",
        "\n",
        "# define function\n",
        "sfx = sym.cos(x**2)**2 + sym.pi\n",
        "\n",
        "# limit value\n",
        "a = 1\n",
        "\n",
        "# function value at x=a\n",
        "display(Math('f(x) = %s' %sym.latex(sfx)))\n",
        "print('')\n",
        "display(Math('f(%s) = %s' %(a,sym.latex(sfx.subs(x,a)))))"
      ],
      "metadata": {
        "id": "7kJ1PV9V7QE6"
      },
      "execution_count": null,
      "outputs": []
    },
    {
      "cell_type": "code",
      "source": [
        "print(f'Limit as x approaches {a} from the left:')\n",
        "display( sym.limit(sfx,x,a,dir='-') ) # as symbolic number\n",
        "print( sym.N(sym.limit(sfx,x,a,dir='-')) ) # as variable-precision number (vpa)\n",
        "\n",
        "print(f'\\nLimit as x approaches {a} from the right:')\n",
        "print( sym.N(sym.limit(sfx,x,a,dir='+')) )\n",
        "\n",
        "print(f'\\nTwo-sided limit as x approaches {a}:')\n",
        "print( sym.N(sym.limit(sfx,x,a,dir='+-')) )\n",
        "\n",
        "print('\\nFunction value at limit (numpy):')\n",
        "print(fx(a)) # fx() was defined in exercise 1"
      ],
      "metadata": {
        "id": "zfSEzYdR7QHx"
      },
      "execution_count": null,
      "outputs": []
    },
    {
      "cell_type": "code",
      "source": [],
      "metadata": {
        "id": "z36OrUsY3FJl"
      },
      "execution_count": null,
      "outputs": []
    },
    {
      "cell_type": "markdown",
      "source": [
        "# Exercise 4.3: Infinite limits"
      ],
      "metadata": {
        "id": "riWGbG5H7QNg"
      }
    },
    {
      "cell_type": "code",
      "source": [
        "# create the function as a sympy expression\n",
        "fun2 = 1/( (x-2)**2 )\n",
        "\n",
        "# convert to lambda object\n",
        "fun2_numpy = sym.lambdify(x,fun2)\n",
        "\n",
        "# plot using matplotlib\n",
        "xx = np.linspace(0,4,1001) # why no warning with 1000?\n",
        "\n",
        "plt.figure(figsize=(4,4))\n",
        "plt.plot(xx,fun2_numpy(xx),'k')\n",
        "plt.plot([2,2],[0,100],'--',color=[.6,.6,.6])\n",
        "plt.gca().set(ylim=[0,100],xlim=xx[[0,-1]],xlabel='$x$',ylabel='$y$')\n",
        "\n",
        "plt.tight_layout()\n",
        "plt.savefig('limits_ex3.png')\n",
        "plt.show()"
      ],
      "metadata": {
        "id": "_6D8e3sn7QRD"
      },
      "execution_count": null,
      "outputs": []
    },
    {
      "cell_type": "code",
      "source": [
        "print('Limit as x->2 from the left:  ' + str(sym.limit(fun2,x,2,dir='-')))\n",
        "print('Limit as x->2 from the right: ' + str(sym.limit(fun2,x,2,dir='+')))\n",
        "print('Limit as x->2 (two-sided):    ' + str(sym.limit(fun2,x,2,dir='+-')))"
      ],
      "metadata": {
        "id": "4MUO1DPt7QUu"
      },
      "execution_count": null,
      "outputs": []
    },
    {
      "cell_type": "code",
      "source": [],
      "metadata": {
        "id": "92XeltGWM90e"
      },
      "execution_count": null,
      "outputs": []
    },
    {
      "cell_type": "markdown",
      "source": [
        "# Exercise 4.4: Undefined limit"
      ],
      "metadata": {
        "id": "NaaGYm8n7QXy"
      }
    },
    {
      "cell_type": "code",
      "source": [
        "# create the function and visualize it\n",
        "fun = sym.Abs(x-2)/(x-2)\n",
        "\n",
        "sym.plot(fun,(x,-2,4));"
      ],
      "metadata": {
        "id": "l-kX401cIQfb"
      },
      "execution_count": null,
      "outputs": []
    },
    {
      "cell_type": "code",
      "source": [
        "# limits\n",
        "print('Limit as x->2 from the left : ' + str(sym.limit(fun,x,2,dir='-')))\n",
        "print('Limit as x->2 from the right: ' + str(sym.limit(fun,x,2,dir='+')))\n",
        "print('Two-sided limit as x->2: '      + str(sym.limit(fun,x,2,dir='+-')))"
      ],
      "metadata": {
        "id": "3Bq-TYFjIQix"
      },
      "execution_count": null,
      "outputs": []
    },
    {
      "cell_type": "code",
      "source": [
        "# FYI, the limit object on its own\n",
        "limitExp = sym.Limit(fun,x,2)\n",
        "limitExp#.doit()"
      ],
      "metadata": {
        "id": "bdlznSJsIQmI"
      },
      "execution_count": null,
      "outputs": []
    },
    {
      "cell_type": "code",
      "source": [],
      "metadata": {
        "id": "37gFCAQ23FGa"
      },
      "execution_count": null,
      "outputs": []
    },
    {
      "cell_type": "markdown",
      "source": [
        "# Exercise 4.5: lim(c*f) = c*lim(f)"
      ],
      "metadata": {
        "id": "PwQoO5ubT1NQ"
      }
    },
    {
      "cell_type": "code",
      "source": [
        "# define the function and plot\n",
        "fx = x**3/3 + 100*sym.sqrt(sym.Abs(x))\n",
        "\n",
        "p = sym.plot(fx,(x,-10,10),ylim=[-100,500],size=(5,5),\n",
        "             title=r'$f(x)=%s$'%sym.latex(fx),\n",
        "             line_color='k',show=False)\n",
        "p.save('limits_ex5.png')\n",
        "\n",
        "display(Math('f(x) = %s' %sym.latex(fx)))"
      ],
      "metadata": {
        "id": "jc9sJ9uKUFsg"
      },
      "execution_count": null,
      "outputs": []
    },
    {
      "cell_type": "code",
      "source": [
        "# demonstrate the constant-factor property\n",
        "c = np.random.randn()\n",
        "print('   lim(c*fx):')\n",
        "print( sym.N(sym.limit(c*fx,x,5)) )\n",
        "\n",
        "print(' ')\n",
        "print('   c*lim(fx):')\n",
        "print( sym.N(c*sym.limit(fx,x,5)) )"
      ],
      "metadata": {
        "id": "_8FgUr6wUFv3"
      },
      "execution_count": null,
      "outputs": []
    },
    {
      "cell_type": "code",
      "source": [],
      "metadata": {
        "id": "RNuwm8OwUFy9"
      },
      "execution_count": null,
      "outputs": []
    },
    {
      "cell_type": "markdown",
      "source": [
        "# Exercise 4.6: lim(f+g) = lim(f) + lim(g)"
      ],
      "metadata": {
        "id": "XMhgvOs5UF11"
      }
    },
    {
      "cell_type": "code",
      "source": [
        "f = sym.log(x) + x**2\n",
        "g = sym.exp(-x) + x**3\n",
        "\n",
        "print(f'     lim(f+g) = {sym.limit(f+g,x,np.pi)}' )\n",
        "print(f'lim(f)+lim(g) = {sym.limit(f,x,np.pi) + sym.limit(g,x,np.pi)}' )"
      ],
      "metadata": {
        "id": "HZndVL7CWJgw"
      },
      "execution_count": null,
      "outputs": []
    },
    {
      "cell_type": "code",
      "source": [
        "# FYI, using sym.pi\n",
        "sym.limit(f+g,x,sym.pi)"
      ],
      "metadata": {
        "id": "HRJelXeLWJj-"
      },
      "execution_count": null,
      "outputs": []
    },
    {
      "cell_type": "code",
      "source": [],
      "metadata": {
        "id": "Tj3tcanYx_uP"
      },
      "execution_count": null,
      "outputs": []
    },
    {
      "cell_type": "markdown",
      "source": [
        "# Exercise 4.7: lim(f*g) = lim(f)lim(g)"
      ],
      "metadata": {
        "id": "2Nc_wzgZWJnE"
      }
    },
    {
      "cell_type": "code",
      "source": [
        "# use the same functions as above\n",
        "print(f'       lim(f*g) = {sym.limit(f*g,x,np.pi)}' )\n",
        "print(f'lim(f) * lim(g) = {sym.limit(f,x,np.pi) * sym.limit(g,x,np.pi)}' )"
      ],
      "metadata": {
        "id": "Oupwsde_WS3t"
      },
      "execution_count": null,
      "outputs": []
    },
    {
      "cell_type": "code",
      "source": [
        "# also for powers\n",
        "print( sym.limit(f**3,x,np.pi) )\n",
        "print( sym.limit(f,x,np.pi) * sym.limit(f,x,np.pi) * sym.limit(f,x,np.pi) )"
      ],
      "metadata": {
        "id": "cZZKcc3_WS6V"
      },
      "execution_count": null,
      "outputs": []
    },
    {
      "cell_type": "code",
      "source": [],
      "metadata": {
        "id": "lg3MEZV8T1QO"
      },
      "execution_count": null,
      "outputs": []
    },
    {
      "cell_type": "markdown",
      "source": [
        "# Exercise 4.8: lim(f/g) = lim(f)/lim(g)"
      ],
      "metadata": {
        "id": "0Vo-j55rX8u5"
      }
    },
    {
      "cell_type": "code",
      "source": [
        "# use the same functions as above\n",
        "print( sym.limit( f/g ,x,np.pi) )\n",
        "print( sym.limit(f,x,np.pi) / sym.limit(g,x,np.pi) )"
      ],
      "metadata": {
        "id": "JyN4Rq2gX8u7"
      },
      "execution_count": null,
      "outputs": []
    },
    {
      "cell_type": "code",
      "source": [
        "# but be mindful of ?/0\n",
        "h = x**3 + x**2 + x\n",
        "\n",
        "print( sym.limit( g,x,0) )\n",
        "print( sym.limit( h,x,0) )\n",
        "print( sym.limit( g/h ,x,0) )"
      ],
      "metadata": {
        "id": "NGQg0Z4bT1Tl"
      },
      "execution_count": null,
      "outputs": []
    },
    {
      "cell_type": "code",
      "source": [
        "# it's still a valid function\n",
        "g/h\n",
        "\n",
        "# FYI: sym.factor(g/h)"
      ],
      "metadata": {
        "id": "_IPqJymOT1W-"
      },
      "execution_count": null,
      "outputs": []
    },
    {
      "cell_type": "code",
      "source": [],
      "metadata": {
        "id": "DkYKx0UU3E9m"
      },
      "execution_count": null,
      "outputs": []
    },
    {
      "cell_type": "markdown",
      "source": [
        "# Exercise 4.9: Jump discontinuity in sympy"
      ],
      "metadata": {
        "id": "GGbjl3iNL3Gh"
      }
    },
    {
      "cell_type": "code",
      "source": [
        "x = sym.symbols('x')\n",
        "\n",
        "# list function pieces\n",
        "piece1 = sym.sin(x*sym.pi)\n",
        "piece2 = 1.5\n",
        "piece3 = -(x-2)**2\n",
        "\n",
        "# put them together with conditions\n",
        "fx = sym.Piecewise(\n",
        "      (piece1,x<0),\n",
        "      (piece2,sym.Eq(x,0)),\n",
        "      (piece3,x>0)\n",
        "      )\n",
        "\n",
        "\n",
        "# plot\n",
        "p = sym.plot(fx,(x,-1,2),line_color='k',size=(8,4),show=False)\n",
        "p.save('limits_ex9.png')\n",
        "\n",
        "display(Math('f(x) = %s' %sym.latex(fx)))"
      ],
      "metadata": {
        "id": "Lg-Z-s4pf2z3"
      },
      "execution_count": null,
      "outputs": []
    },
    {
      "cell_type": "code",
      "source": [
        "# test limits\n",
        "a = 0 # limit value\n",
        "\n",
        "print('Limit as x approaches 0 from the left:')\n",
        "print( sym.N(sym.limit(fx,x,a,dir='-')) )\n",
        "\n",
        "print('\\nLimit as x approaches 0 from the right:')\n",
        "print( sym.limit(fx,x,a,dir='+') )\n",
        "\n",
        "print('\\nTwo-sided limit as x approaches 0:')\n",
        "print( sym.limit(fx,x,a) )"
      ],
      "metadata": {
        "id": "o3H6s06Ef23I"
      },
      "execution_count": null,
      "outputs": []
    },
    {
      "cell_type": "code",
      "source": [
        "print('Function value just left of limit:')\n",
        "print(fx.subs(x,a-np.finfo(float).eps))\n",
        "\n",
        "print('\\nFunction value at limit:')\n",
        "print(fx.subs(x,a))\n",
        "\n",
        "print('\\nFunction value just right of limit:')\n",
        "print(fx.subs(x,a+np.finfo(float).eps))"
      ],
      "metadata": {
        "id": "wJENzpeLicrU"
      },
      "execution_count": null,
      "outputs": []
    },
    {
      "cell_type": "code",
      "source": [
        "np.finfo(float).eps"
      ],
      "metadata": {
        "id": "slPbPaLcSZPe"
      },
      "execution_count": null,
      "outputs": []
    },
    {
      "cell_type": "code",
      "source": [],
      "metadata": {
        "id": "5BsscMHHM1C_"
      },
      "execution_count": null,
      "outputs": []
    },
    {
      "cell_type": "markdown",
      "source": [
        "# Exercise 4.10: Oscillating discontinuity"
      ],
      "metadata": {
        "id": "41FXh3iSykRy"
      }
    },
    {
      "cell_type": "code",
      "source": [
        "fx = sym.sin(1/x)\n",
        "p = sym.plot(fx,(x,-1,1),line_color='k',size=(5,5),show=False)\n",
        "p.save('limits_ex10.png')"
      ],
      "metadata": {
        "id": "77chgmZGzeCj"
      },
      "execution_count": null,
      "outputs": []
    },
    {
      "cell_type": "code",
      "source": [
        "# test limits\n",
        "print('Limit as x approaches 0 from the left:')\n",
        "print( sym.N(sym.limit(fx,x,0,dir='-')) )\n",
        "\n",
        "print('\\nLimit as x approaches 0 from the right:')\n",
        "print( sym.limit(fx,x,0,dir='+') )\n",
        "\n",
        "print('\\nTwo-sided limit as x approaches 0:')\n",
        "print( sym.limit(fx,x,0,dir='+-') )"
      ],
      "metadata": {
        "id": "SefOJ1R5zeFo"
      },
      "execution_count": null,
      "outputs": []
    },
    {
      "cell_type": "code",
      "source": [],
      "metadata": {
        "id": "0--NKRdw3E6e"
      },
      "execution_count": null,
      "outputs": []
    },
    {
      "cell_type": "markdown",
      "source": [
        "# Exercise 4.11: Some crazy weirdo function"
      ],
      "metadata": {
        "id": "7vTdHvzN0k4X"
      }
    },
    {
      "cell_type": "code",
      "source": [
        "theta = sym.symbols('theta')\n",
        "\n",
        "# create each part\n",
        "parts = [theta**2 , sym.exp(-theta**2) , sym.log(theta**2) , sym.sin(theta)]\n",
        "\n",
        "# compute f(theta) as their product\n",
        "expr = 1\n",
        "for p in parts:\n",
        "  expr *= p\n",
        "\n",
        "expr"
      ],
      "metadata": {
        "id": "WP3zA3ie7pxT"
      },
      "execution_count": null,
      "outputs": []
    },
    {
      "cell_type": "code",
      "source": [
        "# sympy plotting\n",
        "p = sym.plot(expr,(theta,-2*sym.pi,2*sym.pi),line_color='k',size=(8,4),\n",
        "         title=r'$f(\\theta) = %s$'%sym.latex(expr),ylabel=None,show=False)\n",
        "p.save('limits_ex11.png')"
      ],
      "metadata": {
        "id": "rkcSX0Sj5Onq"
      },
      "execution_count": null,
      "outputs": []
    },
    {
      "cell_type": "code",
      "source": [
        "# print out function value and limit at theta=0\n",
        "display(Math('f(0) = %s' %sym.latex(expr.subs(theta,0) )))\n",
        "\n",
        "display(Math('\\lim_{\\\\theta \\\\to 0} f(\\\\theta) = %s' %sym.latex(sym.limit(expr,theta,0,dir='+-') )))"
      ],
      "metadata": {
        "id": "t6rBjVs-5OqF"
      },
      "execution_count": null,
      "outputs": []
    },
    {
      "cell_type": "code",
      "source": [
        "print('Domain of function:')\n",
        "sym.calculus.util.continuous_domain(expr,theta,sym.Reals)"
      ],
      "metadata": {
        "id": "BNhng77r5Osa"
      },
      "execution_count": null,
      "outputs": []
    },
    {
      "cell_type": "code",
      "source": [
        "# theta value at which to calculate the limit\n",
        "limitLocation = 0\n",
        "\n",
        "\n",
        "# list limit of each part, and compute their product\n",
        "limitsProduct = 1\n",
        "for p in parts:\n",
        "\n",
        "  # display this term's limit\n",
        "  display(Math('\\\\lim_{\\\\theta \\\\to %s} %s = %s'\n",
        "               %(sym.latex(limitLocation),sym.latex(p),sym.latex(sym.limit(p,theta,limitLocation)))))\n",
        "  print('')\n",
        "\n",
        "  # cumulative product of all limit terms\n",
        "  limitsProduct *= sym.limit(p,theta,limitLocation,dir='+-')\n",
        "\n",
        "# print('\\n')\n",
        "display(Math('\\\\text{Product of all limits is } %s' %sym.latex(limitsProduct)))"
      ],
      "metadata": {
        "id": "WxnlbT1stmjK"
      },
      "execution_count": null,
      "outputs": []
    },
    {
      "cell_type": "code",
      "source": [],
      "metadata": {
        "id": "EqBw9S153E0U"
      },
      "execution_count": null,
      "outputs": []
    },
    {
      "cell_type": "markdown",
      "source": [
        "# Exercise 4.12: Confirm trig limits"
      ],
      "metadata": {
        "id": "obFw8vWSAF0Y"
      }
    },
    {
      "cell_type": "code",
      "source": [
        "theta = sym.symbols('theta')\n",
        "\n",
        "function_list = [\n",
        "#          function             limitVal\n",
        "   [ (sym.cos(theta)-1)/theta  ,    0   ],\n",
        "   [  sym.sin(theta)/theta     ,    0   ],\n",
        "   [ theta**2*sym.sin(1/theta) ,    0   ],\n",
        "   [  sym.sin(theta)/theta     , sym.oo ],\n",
        "   [  sym.tan(theta)/theta     ,    0   ],\n",
        "]\n",
        "\n",
        "for triglim in function_list:\n",
        "  display(Math('\\\\lim_{\\\\theta \\\\to %s} \\\\left[ %s \\\\right] = %s'\n",
        "               %(sym.latex(triglim[1]),sym.latex(triglim[0]),sym.latex(sym.limit(triglim[0],theta,triglim[1]))) ))\n",
        "  print('')\n",
        "\n",
        "### IMPORTANT NOTE!\n",
        "# the limit of sin(t)/t was intentionally incorrectly labeled as \"0\" in the text ;)"
      ],
      "metadata": {
        "id": "JEViqhdrAFxU"
      },
      "execution_count": null,
      "outputs": []
    },
    {
      "cell_type": "code",
      "source": [],
      "metadata": {
        "id": "pB1jfDfBAFuY"
      },
      "execution_count": null,
      "outputs": []
    }
  ]
}