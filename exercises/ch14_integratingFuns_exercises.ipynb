{
  "nbformat": 4,
  "nbformat_minor": 0,
  "metadata": {
    "colab": {
      "private_outputs": true,
      "provenance": [],
      "authorship_tag": "ABX9TyPI4jKEEpND8q9lgw4tvUWN"
    },
    "kernelspec": {
      "name": "python3",
      "display_name": "Python 3"
    },
    "language_info": {
      "name": "python"
    }
  },
  "cells": [
    {
      "cell_type": "markdown",
      "metadata": {
        "id": "view-in-github"
      },
      "source": [
        "<a href=\"https://colab.research.google.com/github/mikexcohen/Calculus_book/blob/main/exercises/ch14_integratingFuns_exercises.ipynb\" target=\"_parent\"><img src=\"https://colab.research.google.com/assets/colab-badge.svg\" alt=\"Open In Colab\"/></a>"
      ]
    },
    {
      "cell_type": "markdown",
      "source": [
        "# **Calculus unraveled: Intuition, Proofs, and Python**\n",
        "### Mike X Cohen (sincxpress.com)\n",
        "#### https://github.com/mikexcohen/calculus_book\n",
        "#### Code for Chapter 14 (Integrating functions)\n",
        "\n",
        "---\n",
        "\n",
        "# About this code file:\n",
        "\n",
        "### This notebook contains full code solutions to the exercises in this book chapter. There are many correct ways to solve the exercises; this notebook provides *a* solution, not *THE* solution. Please use this code as a starting point to continue exploring and experimenting with calculus concepts and visualizations.\n",
        "\n",
        "## **Using the code without the book may lead to confusion or errors.**\n",
        "\n",
        "#### This code was written in google-colab. The notebook may require some modifications if you use a different IDE."
      ],
      "metadata": {
        "id": "4KikZVyDDDXR"
      }
    },
    {
      "cell_type": "code",
      "source": [],
      "metadata": {
        "id": "HFXk0J5p--mj"
      },
      "execution_count": null,
      "outputs": []
    },
    {
      "cell_type": "code",
      "execution_count": null,
      "metadata": {
        "id": "oYWhHwGQ9OdD"
      },
      "outputs": [],
      "source": [
        "# import libraries and define global settings\n",
        "import numpy as np\n",
        "import sympy as sym\n",
        "import matplotlib.pyplot as plt\n",
        "import scipy.integrate as spi\n",
        "from IPython.display import Math\n",
        "\n",
        "# define global figure properties used for publication\n",
        "import matplotlib_inline.backend_inline\n",
        "matplotlib_inline.backend_inline.set_matplotlib_formats('svg') # display figures in vector format\n",
        "plt.rcParams.update({'font.size':14,             # font size\n",
        "                     'savefig.dpi':300,          # output resolution\n",
        "                     'axes.titlelocation':'left',# title location\n",
        "                     'axes.spines.right':False,  # remove axis bounding box\n",
        "                     'axes.spines.top':False,    # remove axis bounding box\n",
        "                     'lines.linewidth':2         # increase default line thickness\n",
        "                     })"
      ]
    },
    {
      "cell_type": "code",
      "source": [],
      "metadata": {
        "id": "AMpY7pTpcJSZ"
      },
      "execution_count": null,
      "outputs": []
    },
    {
      "cell_type": "markdown",
      "source": [
        "# Exercise 14.1: Powers and their integrals"
      ],
      "metadata": {
        "id": "YAa70JiKcJPx"
      }
    },
    {
      "cell_type": "code",
      "source": [
        "# symbolic variable\n",
        "xi = sym.symbols('zeta')\n",
        "\n",
        "# numerical grid values\n",
        "xxi = np.linspace(.01,1.4,55)\n",
        "\n",
        "# setup the figure\n",
        "plt.figure(figsize=(8,4))\n",
        "\n",
        "\n",
        "# loop through the functions for different power values\n",
        "for e in range(1,7):\n",
        "\n",
        "  # define the function and its integral\n",
        "  f  = xi**(sym.sympify(e)/2)\n",
        "  fi = sym.integrate(f,xi)\n",
        "\n",
        "  # print\n",
        "  display(Math('f(\\\\zeta) = %s, \\\\quad F(\\\\zeta) = %s' %(sym.latex(f),sym.latex(fi))))\n",
        "  print('')\n",
        "\n",
        "  # discretize\n",
        "  yf = [f.subs(xi,zi) for zi in xxi]\n",
        "  yi = [fi.subs(xi,zi) for zi in xxi]\n",
        "\n",
        "  # draw\n",
        "  plt.plot(xxi,yf,color=[e/8,e/8,e/8],label=r'$f(\\zeta)=%s$'%sym.latex(f))\n",
        "  plt.plot(xxi,yi,'--',color=[e/8,e/8,e/8])\n",
        "\n",
        "\n",
        "plt.legend()\n",
        "plt.gca().set(xlim=xxi[[0,-1]],ylim=[0,2.5],xlabel=r'$\\zeta$',ylabel=r'$f(\\zeta)$ or $F(\\zeta)$')\n",
        "\n",
        "plt.tight_layout()\n",
        "plt.savefig('intFuns_ex1b.png')\n",
        "plt.show()"
      ],
      "metadata": {
        "id": "4tKtCXN4cOFG"
      },
      "execution_count": null,
      "outputs": []
    },
    {
      "cell_type": "code",
      "source": [],
      "metadata": {
        "id": "wOY2FO33T_IK"
      },
      "execution_count": null,
      "outputs": []
    },
    {
      "cell_type": "markdown",
      "source": [
        "# Exercise 14.2: Completing the figure"
      ],
      "metadata": {
        "id": "w8o3p5fcvHLk"
      }
    },
    {
      "cell_type": "code",
      "source": [
        "# note: this code cell is copied exactly from Figure 14.3.\n",
        "from sympy.abc import x\n",
        "\n",
        "# define functions (same but for constant)\n",
        "fxs    = [None]*3\n",
        "fxs_d  = [None]*3\n",
        "fxs_di = [None]*3\n",
        "fxs_i  = [None]*3\n",
        "\n",
        "# loop over constants\n",
        "for i in range(3):\n",
        "\n",
        "  # define the function\n",
        "  fxs[i] = x**2/10 + sym.sin(x) + i\n",
        "\n",
        "  # take its derivative\n",
        "  fxs_d[i] = sym.diff(fxs[i])\n",
        "\n",
        "  # integrate the derivative\n",
        "  fxs_di[i] = sym.integrate(fxs_d[i])\n",
        "\n",
        "  # integrate the function\n",
        "  fxs_i[i] = sym.integrate(fxs[i])"
      ],
      "metadata": {
        "id": "9EmF2ScS_MYi"
      },
      "execution_count": null,
      "outputs": []
    },
    {
      "cell_type": "code",
      "source": [
        "# visualize\n",
        "\n",
        "xx = np.linspace(-2*np.pi,2*np.pi,455)\n",
        "funLet = 'fgh'\n",
        "linestyles = ['-','--',':']\n",
        "\n",
        "_,axs = plt.subplots(2,2,figsize=(12,7))\n",
        "\n",
        "for i in range(3):\n",
        "\n",
        "  # evaluate the function and its derivative\n",
        "  y  = [ fxs[i].subs(x,xi) for xi in xx ]\n",
        "  dy = [ fxs_d[i].subs(x,xi) for xi in xx ]\n",
        "\n",
        "  # integrate the derivative and the original function\n",
        "  y_i  = [ fxs_i[i].subs(x,xi) for xi in xx ]\n",
        "  dy_i = [ fxs_di[i].subs(x,xi) for xi in xx ]\n",
        "\n",
        "\n",
        "  # plot the function and its derivative\n",
        "  axs[0,0].plot(xx,y,color=[i/4,i/4,i/4],linestyle=linestyles[i],\n",
        "              label=r'$%s(x) = %s$' %(funLet[i],sym.latex(fxs[i])))\n",
        "  axs[0,1].plot(xx,dy,color=[i/4,i/4,i/4],linestyle=linestyles[i],\n",
        "              label=r\"$%s\\,'(x) = %s$\" %(funLet[i],sym.latex(fxs_d[i])))\n",
        "\n",
        "  axs[1,0].plot(xx,y_i,color=[i/4,i/4,i/4],linestyle=linestyles[i],\n",
        "              label=r\"$\\int %s(x) \\,dx$\" %funLet[i])\n",
        "  axs[1,1].plot(xx,dy_i,color=[i/4,i/4,i/4],linestyle=linestyles[i],\n",
        "              label=r\"$\\int %s\\,'(x)\\,dx$\" %funLet[i])\n",
        "\n",
        "\n",
        "for a in axs.flatten(): a.legend(fontsize=12)\n",
        "\n",
        "axs[0,0].set(xlim=xx[[0,-1]],xlabel='x',ylabel=r'$y$',title=r'$\\bf{A}$)  Functions')\n",
        "axs[0,1].set(xlim=xx[[0,-1]],xlabel='x',ylabel=r\"$y\\,'$\",title=r'$\\bf{B}$)  Derivatives')\n",
        "axs[1,0].set(xlim=xx[[0,-1]],xlabel='x',ylabel=r\"$Y$\",title=r'$\\bf{C}$)  Integral of functions')\n",
        "axs[1,1].set(xlim=xx[[0,-1]],xlabel='x',ylabel=r\"$Y$\",title=r'$\\bf{D}$)  Integral of derivatives')\n",
        "\n",
        "plt.tight_layout()\n",
        "plt.savefig('intFuns_ex2.png')\n",
        "plt.show()"
      ],
      "metadata": {
        "id": "iXlfQM9nrisR"
      },
      "execution_count": null,
      "outputs": []
    },
    {
      "cell_type": "code",
      "source": [],
      "metadata": {
        "id": "ki9AfRLRT_Cc"
      },
      "execution_count": null,
      "outputs": []
    },
    {
      "cell_type": "markdown",
      "source": [
        "# Exercise 14.3: Definite integrals in sympy and scipy"
      ],
      "metadata": {
        "id": "5QWx-lkzYw8F"
      }
    },
    {
      "cell_type": "code",
      "source": [
        "# the function\n",
        "x = sym.symbols('x')\n",
        "expr = x**3 / (sym.exp(x)-1)\n",
        "\n",
        "xx = np.linspace(-1,3,485)\n",
        "yy = [expr.subs(x,xi) for xi in xx]\n",
        "\n",
        "plt.figure(figsize=(4,5))\n",
        "plt.plot(xx,yy,'k')\n",
        "\n",
        "plt.gca().set(xlim=xx[[0,-1]],xlabel='x',ylabel='y')\n",
        "plt.grid(color=[.9,.9,.9])\n",
        "plt.title(r'$f(x)=%s$' %sym.latex(expr),loc='center')\n",
        "\n",
        "plt.tight_layout()\n",
        "plt.savefig('intFuns_ex3.png')\n",
        "plt.show()"
      ],
      "metadata": {
        "id": "TYgubIIOY52d"
      },
      "execution_count": null,
      "outputs": []
    },
    {
      "cell_type": "code",
      "source": [
        "# Attempt to integrate symbolically\n",
        "\n",
        "# bounds\n",
        "a,b = -1,3\n",
        "\n",
        "int_sympy = sym.integrate(expr,(x,a,b))\n",
        "int_sympy#.evalf()"
      ],
      "metadata": {
        "id": "cO9WV975Y5z0"
      },
      "execution_count": null,
      "outputs": []
    },
    {
      "cell_type": "code",
      "source": [
        "# using scipy\n",
        "\n",
        "# same result as above but converting from sympy\n",
        "fx_lam = sym.lambdify(x,expr,'scipy')\n",
        "int_scipy, error = spi.quad(fx_lam, a,b)\n",
        "\n",
        "# print the results\n",
        "display(Math('\\\\text{Exact integral: } %s' %sym.latex(int_sympy)))\n",
        "display(Math('\\\\text{Numerical integral from scipy: } %.8f' %int_scipy))"
      ],
      "metadata": {
        "id": "SlG-G9a8Y5xJ"
      },
      "execution_count": null,
      "outputs": []
    },
    {
      "cell_type": "code",
      "source": [],
      "metadata": {
        "id": "rTFe2SeqaO40"
      },
      "execution_count": null,
      "outputs": []
    },
    {
      "cell_type": "markdown",
      "source": [
        "# Exercise 14.4: Initial value problem algorithm"
      ],
      "metadata": {
        "id": "3966GJ3YaO2B"
      }
    },
    {
      "cell_type": "code",
      "source": [
        "# symbolic variables\n",
        "x,C = sym.symbols('x,C')\n",
        "\n",
        "# problem givens and constraint\n",
        "df = 2*x + 3\n",
        "initial_vals = [1,2] # first number is x_0, second number is f(x_0)\n",
        "\n",
        "# for follow-up tasks\n",
        "#df = sym.cos(x) + x**(5/2)#sym.Rational(5,2)\n",
        "#df = sym.cos(x) * x**sym.Rational(5,2)\n",
        "#initial_vals = [1,sym.pi]\n",
        "\n",
        "\n",
        "# step 1: integrate to find f(x)\n",
        "fx = sym.integrate(df,x) + C\n",
        "fx # see how it looks"
      ],
      "metadata": {
        "id": "B2eZ2_0SgoWp"
      },
      "execution_count": null,
      "outputs": []
    },
    {
      "cell_type": "code",
      "source": [
        "# step 2: solve for C\n",
        "constant = sym.solve( fx.subs(x,initial_vals[0]) - initial_vals[1] ,C)[0]\n",
        "\n",
        "# print the results!\n",
        "display(Math('\\\\text{PROBLEM:}'))\n",
        "display(Math(\"\\\\text{Given } f'(x) = %s \\\\text{, and } f(%s)=%s\" %(sym.latex(df),sym.latex(initial_vals[0]),sym.latex(initial_vals[1]))))\n",
        "print(' ')\n",
        "display(Math('\\\\text{SOLUTION:}'))\n",
        "display(Math(\"f(x) = \" + sym.latex(fx.subs(C,constant))))"
      ],
      "metadata": {
        "id": "4TzWGhqoTC_4"
      },
      "execution_count": null,
      "outputs": []
    },
    {
      "cell_type": "code",
      "source": [],
      "metadata": {
        "id": "vdxuoQHeaOzj"
      },
      "execution_count": null,
      "outputs": []
    },
    {
      "cell_type": "markdown",
      "source": [
        "# Exercise 14.5: Scalar-multiplication linearity of integration"
      ],
      "metadata": {
        "id": "pUfb51vxaOxN"
      }
    },
    {
      "cell_type": "code",
      "source": [
        "x,C = sym.symbols('x,C')\n",
        "\n",
        "# create a function and scalar\n",
        "f = x**2\n",
        "s = sym.pi\n",
        "\n",
        "# print\n",
        "display(Math('f(x) = %s' %sym.latex(s*f)))"
      ],
      "metadata": {
        "id": "Hvo5rAh0DMHD"
      },
      "execution_count": null,
      "outputs": []
    },
    {
      "cell_type": "code",
      "source": [
        "# integrate the function with scalar inside or outside integrand\n",
        "fs_int = sym.integrate(s*f,x) + C\n",
        "sf_int = s * (sym.integrate(f,x) + C)\n",
        "\n",
        "# print both\n",
        "display(Math('\\int %s dx \\;=\\; %s' %(sym.latex(f*s),sym.latex(fs_int))))\n",
        "print('')\n",
        "display(Math('%s\\int %s dx \\;=\\; %s' %(sym.latex(s),sym.latex(f),sym.latex(sym.expand(sf_int)))))"
      ],
      "metadata": {
        "id": "ny3MKf0DDMB_"
      },
      "execution_count": null,
      "outputs": []
    },
    {
      "cell_type": "code",
      "source": [
        "# limits\n",
        "a = 0\n",
        "b = 3*sym.pi\n",
        "\n",
        "# compute the definite integral with scalar inside or outside integrand\n",
        "fs_defint = sym.integrate(f*s,(x,a,b))\n",
        "sf_defint = s * sym.integrate(f,(x,a,b))\n",
        "\n",
        "# print both results\n",
        "display(Math('%s = %s' %(sym.latex(sym.Integral(f*s,(x,a,b))),sym.latex(fs_defint))))\n",
        "display(Math('%s%s = %s' %(sym.latex(s),sym.latex(sym.Integral(f,(x,a,b))),sym.latex(sf_defint))))"
      ],
      "metadata": {
        "id": "l6W9r7o7LXrm"
      },
      "execution_count": null,
      "outputs": []
    },
    {
      "cell_type": "code",
      "source": [],
      "metadata": {
        "id": "zRU_-EbNUu4Q"
      },
      "execution_count": null,
      "outputs": []
    },
    {
      "cell_type": "markdown",
      "source": [
        "# Exercise 14.6: Additive linearity of integration"
      ],
      "metadata": {
        "id": "Z-CbPxDqUu1a"
      }
    },
    {
      "cell_type": "code",
      "source": [
        "### part 1"
      ],
      "metadata": {
        "id": "-fgi0yTZgrgK"
      },
      "execution_count": null,
      "outputs": []
    },
    {
      "cell_type": "code",
      "source": [
        "# create the two functions and their sum\n",
        "f = x**2\n",
        "g = 10*sym.sin(x)\n",
        "h = f+g\n",
        "\n",
        "# print\n",
        "display(Math('f(x) = %s' %sym.latex(f)))\n",
        "display(Math('g(x) = %s' %sym.latex(g)))\n",
        "display(Math('h(x) = %s' %sym.latex(h)))"
      ],
      "metadata": {
        "id": "-3GxElzKCUcR"
      },
      "execution_count": null,
      "outputs": []
    },
    {
      "cell_type": "code",
      "source": [
        "# integrate all three functions\n",
        "fi = sym.integrate(f) + C\n",
        "gi = sym.integrate(g) + C\n",
        "hi = sym.integrate(h) + C\n",
        "\n",
        "# show the results\n",
        "display(Math('\\quad f:\\quad %s = %s' %(sym.latex(sym.Integral(f)),sym.latex(fi))))\n",
        "display(Math('\\quad g:\\quad %s = %s' %(sym.latex(sym.Integral(g)),sym.latex(gi))))\n",
        "display(Math('f+g:\\quad %s + %s = %s' %(sym.latex(sym.Integral(f)),sym.latex(sym.Integral(g)),sym.latex(fi+gi))))\n",
        "print('')\n",
        "display(Math('\\quad h:\\quad %s = %s' %(sym.latex(sym.Integral(h)),sym.latex(hi))))"
      ],
      "metadata": {
        "id": "8uJaeyrHCUZQ"
      },
      "execution_count": null,
      "outputs": []
    },
    {
      "cell_type": "code",
      "source": [
        "### part 2"
      ],
      "metadata": {
        "id": "-44rWEZ0gtWg"
      },
      "execution_count": null,
      "outputs": []
    },
    {
      "cell_type": "code",
      "source": [
        "# bounds\n",
        "a = 0\n",
        "b = 3*sym.pi\n",
        "\n",
        "# integrate\n",
        "f_defint = sym.integrate(f,(x,a,b))\n",
        "g_defint = sym.integrate(g,(x,a,b))\n",
        "h_defint = sym.integrate(h,(x,a,b))\n",
        "\n",
        "display(Math('\\int_{%s}^{%s}%s \\,dx = %s' %(sym.latex(a),sym.latex(b),sym.latex(f),sym.latex(f_defint))))\n",
        "print('')\n",
        "display(Math('\\int_{%s}^{%s}%s \\,dx = %s' %(sym.latex(a),sym.latex(b),sym.latex(g),sym.latex(g_defint))))\n",
        "print('')\n",
        "display(Math('\\int_{%s}^{%s}%s \\,dx = %s' %(sym.latex(a),sym.latex(b),sym.latex(h),sym.latex(h_defint))))"
      ],
      "metadata": {
        "id": "U4CPb02YGk7I"
      },
      "execution_count": null,
      "outputs": []
    },
    {
      "cell_type": "code",
      "source": [
        "### part 3"
      ],
      "metadata": {
        "id": "k-6f57XCgukd"
      },
      "execution_count": null,
      "outputs": []
    },
    {
      "cell_type": "code",
      "source": [
        "# lambdify all functions\n",
        "f_l = sym.lambdify(x,f)\n",
        "g_l = sym.lambdify(x,g)\n",
        "h_l = sym.lambdify(x,h)\n",
        "\n",
        "# get x-axis grids for visualization (function and integration area)\n",
        "xx = np.linspace(float(a)-np.pi/2,float(b)+np.pi/2,101)\n",
        "x2integrate = np.linspace(float(a),float(b),101)\n",
        "\n",
        "# plot all the lovely things\n",
        "_,axs = plt.subplots(1,3,figsize=(14,4))\n",
        "\n",
        "# f(x)\n",
        "axs[0].plot(xx,f_l(xx),'k',label=r'$f(x)=%s$'%sym.latex(f))\n",
        "axs[0].axhline(0,color='k',linestyle='--',zorder=-4,linewidth=.5)\n",
        "axs[0].fill_between(x2integrate,f_l(x2integrate),alpha=.2,color='k',label=r'Area = $%s$'%sym.latex(f_defint))\n",
        "axs[0].set(xlabel='x',ylabel='f(x)',xlim=xx[[0,-1]],title=r'$\\bf{A}$)  $f(x)$ and area')\n",
        "axs[0].legend()\n",
        "\n",
        "# g(x)\n",
        "axs[1].plot(xx,g_l(xx),'k',label=r'$g(x)=%s$'%sym.latex(g))\n",
        "axs[1].axhline(0,color='k',linestyle='--',zorder=-4,linewidth=.5)\n",
        "axs[1].fill_between(x2integrate,g_l(x2integrate),alpha=.2,color='k',label=r'Area = $%s$'%sym.latex(g_defint))\n",
        "axs[1].set(xlabel='x',ylabel='g(x)',xlim=xx[[0,-1]],ylim=[-15,11],title=r'$\\bf{B}$)  $g(x)$ and area')\n",
        "axs[1].legend(loc='lower center')\n",
        "\n",
        "# h(x) = f+g\n",
        "axs[2].plot(xx,h_l(xx),'k',label=r'$h(x)=%s$'%sym.latex(h))\n",
        "axs[2].axhline(0,color='k',linestyle='--',zorder=-4,linewidth=.5)\n",
        "axs[2].fill_between(x2integrate,h_l(x2integrate),alpha=.2,color='k',label=r'Area = $%s$'%sym.latex(h_defint))\n",
        "axs[2].set(xlabel='x',ylabel='h(x)',xlim=xx[[0,-1]],title=r'$\\bf{C}$)  $h(x)=f(x)+g(x)$ and area')\n",
        "axs[2].legend()\n",
        "\n",
        "plt.tight_layout()\n",
        "plt.savefig('intFuns_linearityAddition.png')\n",
        "plt.show()"
      ],
      "metadata": {
        "id": "Pwx-lcICCUQq"
      },
      "execution_count": null,
      "outputs": []
    },
    {
      "cell_type": "code",
      "source": [],
      "metadata": {
        "id": "hnZaYmaGaOuE"
      },
      "execution_count": null,
      "outputs": []
    },
    {
      "cell_type": "markdown",
      "source": [
        "# Exercise 14.7: Indefinite integral via scipy"
      ],
      "metadata": {
        "id": "Fe-_IVoXY5uj"
      }
    },
    {
      "cell_type": "code",
      "source": [
        "x = sym.symbols('x')\n",
        "\n",
        "# symbolic function and its antiderivative\n",
        "fx_sym = (2*x**2 - 3*x) / sym.sqrt(x**2-x+1)\n",
        "fx_sym_int = sym.integrate(fx_sym)"
      ],
      "metadata": {
        "id": "3zvGmnumT-_y"
      },
      "execution_count": null,
      "outputs": []
    },
    {
      "cell_type": "code",
      "source": [
        "# plot\n",
        "xx = np.linspace(-2,5,901)\n",
        "\n",
        "fx_np = np.array([fx_sym.subs(x,xi) for xi in xx],dtype=float)\n",
        "fx_np_int = np.array([fx_sym_int.subs(x,xi) for xi in xx],dtype=float)\n",
        "\n",
        "plt.figure(figsize=(10,4))\n",
        "plt.plot(xx,fx_np,'--',color=[.6,.6,.6],label=rf'$f(x) = %s$' %sym.latex(fx_sym))\n",
        "plt.plot(xx,fx_np_int,'k',label=rf'$F(x) = %s$' %sym.latex(fx_sym_int))\n",
        "\n",
        "plt.legend()\n",
        "plt.gca().set(xlim=xx[[0,-1]],ylim=[-5,10],xlabel='x',ylabel=r'$f(x)$ or $F(x)$')\n",
        "plt.grid(linestyle=':',color=[.9,.9,.9])\n",
        "\n",
        "plt.tight_layout()\n",
        "plt.savefig('intFuns_ex7a.png')\n",
        "plt.show()"
      ],
      "metadata": {
        "id": "qrQs6Zb4T-8-"
      },
      "execution_count": null,
      "outputs": []
    },
    {
      "cell_type": "code",
      "source": [
        "# now for the numerical integration\n",
        "\n",
        "# initialize\n",
        "fx_sp_int = np.zeros(len(fx_np_int))\n",
        "\n",
        "# and numerically integration\n",
        "for idx,xi in enumerate(xx):\n",
        "  fx_sp_int[idx] = spi.trapezoid(fx_np[:idx],dx=xx[1]-xx[0])"
      ],
      "metadata": {
        "id": "4hHoBiK9T-6O"
      },
      "execution_count": null,
      "outputs": []
    },
    {
      "cell_type": "code",
      "source": [
        "## using cumulative_trap\n",
        "# fx_sp_int = spi.cumulative_trapezoid(fx_np,x=xx)\n",
        "# print(len(fx_sp_int),len(xx)) # note the array sizes\n",
        "# fx_sp_int = np.append(fx_sp_int,fx_sp_int[-1])"
      ],
      "metadata": {
        "id": "8loNLDNnnnA1"
      },
      "execution_count": null,
      "outputs": []
    },
    {
      "cell_type": "code",
      "source": [
        "plt.figure(figsize=(10,4))\n",
        "plt.plot(xx,fx_np,'--',color=[.6,.6,.6],label=rf'$f(x) = %s$' %sym.latex(fx_sym))\n",
        "plt.plot(xx,fx_np_int,'k',label=rf'$F(x) = %s$' %sym.latex(fx_sym_int))\n",
        "plt.plot(xx[::15],fx_sp_int[::15]-6.1,'ks',markerfacecolor='w',label='Numerical (spi.trapezoid)')\n",
        "\n",
        "plt.legend()\n",
        "plt.gca().set(xlim=xx[[0,-1]],ylim=[-5,10],xlabel='x',ylabel=r'$f(x)$ or $F(x)$')\n",
        "plt.grid(linestyle=':',color=[.9,.9,.9])\n",
        "\n",
        "plt.tight_layout()\n",
        "plt.savefig('intFuns_ex7b.png')\n",
        "plt.show()"
      ],
      "metadata": {
        "id": "RGGK62QYW8rg"
      },
      "execution_count": null,
      "outputs": []
    },
    {
      "cell_type": "code",
      "source": [],
      "metadata": {
        "id": "Obo_g8FeW8ou"
      },
      "execution_count": null,
      "outputs": []
    },
    {
      "cell_type": "markdown",
      "source": [
        "# Exercise 14.8"
      ],
      "metadata": {
        "id": "KBtT9sQ-vHB9"
      }
    },
    {
      "cell_type": "code",
      "source": [
        "x = sym.symbols('x')\n",
        "\n",
        "# function and its integral\n",
        "fun = sym.exp(-x**2) / sym.exp(x+1)\n",
        "funi = sym.integrate(fun)\n",
        "\n",
        "display(Math('f(x) = %s' %sym.latex(fun)))\n",
        "display(Math('F(x) = \\int %s\\,dx = %s' %(sym.latex(fun),sym.latex(funi))))"
      ],
      "metadata": {
        "id": "N0xqFycavSCS"
      },
      "execution_count": null,
      "outputs": []
    },
    {
      "cell_type": "code",
      "source": [
        "# still no luck...\n",
        "sym.integrate(fun,(x,0,1))#.evalf()"
      ],
      "metadata": {
        "id": "OGay_EooxZdG"
      },
      "execution_count": null,
      "outputs": []
    },
    {
      "cell_type": "code",
      "source": [
        "# also can't substitute specific values\n",
        "y_funi = [ funi.subs(x,xi) for xi in xx ]\n",
        "y_funi"
      ],
      "metadata": {
        "id": "04V4ndnuvUzV"
      },
      "execution_count": null,
      "outputs": []
    },
    {
      "cell_type": "code",
      "source": [
        "# numerical evaluation/approximation\n",
        "xx = np.linspace(-3,2,109)\n",
        "y_fun  = [ fun.subs(x,xi) for xi in xx ]\n",
        "y_funi = spi.cumulative_trapezoid(y_fun,dx=xx[1]-xx[0])\n",
        "\n",
        "# plot them\n",
        "plt.figure(figsize=(10,4))\n",
        "plt.plot(xx,y_fun,'k',label=r'$f(x) = %s$' %sym.latex(fun))\n",
        "plt.plot(xx[1:],y_funi,'--',color=[.6,.6,.6],label=r'$F(x) = %s$' %sym.latex(funi))\n",
        "\n",
        "plt.gca().set(xlim=xx[[0,-1]],xlabel='x',ylabel='y or Y')\n",
        "plt.legend()\n",
        "\n",
        "plt.tight_layout()\n",
        "plt.savefig('intFuns_ex8.png')\n",
        "plt.show()\n",
        "# print(y_funi[-1]) # printing the final value of F(x) might help you understand the dx question."
      ],
      "metadata": {
        "id": "D9_M6uj1vG_J"
      },
      "execution_count": null,
      "outputs": []
    },
    {
      "cell_type": "code",
      "source": [],
      "metadata": {
        "id": "6VyoU8GuW8mB"
      },
      "execution_count": null,
      "outputs": []
    },
    {
      "cell_type": "markdown",
      "source": [
        "# Exercise 14.9"
      ],
      "metadata": {
        "id": "Tfg_a4_s91qd"
      }
    },
    {
      "cell_type": "code",
      "source": [
        "x  = np.linspace(-3,2,1901)\n",
        "dx = x[1]-x[0]\n",
        "\n",
        "# functions\n",
        "px = 2*x**3 - x**2 + 4*x\n",
        "qx = 7*x**3 + 4*x**2 - 1\n",
        "fx = np.exp( px/qx )\n",
        "\n",
        "# remove vertical line to infinity\n",
        "fInfPnt = np.argmax(fx)-1\n",
        "fx[fInfPnt] = np.nan\n",
        "px[fInfPnt] = np.nan\n",
        "\n",
        "# indefinite integral\n",
        "fint = spi.cumulative_simpson(fx,dx=dx,initial=0)\n",
        "fint[fInfPnt+int(.1/dx):] = spi.cumulative_simpson(fx[fInfPnt+int(.1/dx):],dx=dx,initial=0)\n",
        "fint[fInfPnt+int(.1/dx):] += fint[fInfPnt-2]\n",
        "\n",
        "# normalization\n",
        "fint = fint - fint[np.argmin(abs(x--3))] + fx[np.argmin(abs(x--3))]\n",
        "\n",
        "\n",
        "# plot\n",
        "_,axs = plt.subplots(1,2,figsize=(12,4))\n",
        "axs[0].plot(x,px/qx,'k',label='$p(x) / q(x)$')\n",
        "axs[0].set(ylim=[-3,5],xlim=x[[0,-1]],xlabel='$x$',ylabel='$y$',title=r'$\\bf{A}$)  Rational inside exponential')\n",
        "axs[0].legend()\n",
        "\n",
        "axs[1].plot(x,fx,'k',label='$f(x)$')\n",
        "axs[1].plot(x,fint,linestyle='--',color=[.7,.7,.7],label='$F(x)$')\n",
        "axs[1].set(xlim=x[[0,-1]],ylim=[0,30],xlabel='$x$',ylabel='$f(x)$ or $F(x)$',title=r'$\\bf{B}$)  Function and its integral')\n",
        "axs[1].legend()\n",
        "\n",
        "plt.tight_layout()\n",
        "plt.savefig('intFuns_ex9.png')\n",
        "plt.show()"
      ],
      "metadata": {
        "id": "KeXl_uMOggr5"
      },
      "execution_count": null,
      "outputs": []
    },
    {
      "cell_type": "code",
      "source": [
        "# the exact discontinuity value\n",
        "b = sym.symbols('b')\n",
        "sym.solve(7*b**3 + 4*b**2 - 1)#[2].evalf()"
      ],
      "metadata": {
        "id": "FW8HJKKD23NP"
      },
      "execution_count": null,
      "outputs": []
    },
    {
      "cell_type": "code",
      "source": [],
      "metadata": {
        "id": "viV8BZFf91SS"
      },
      "execution_count": null,
      "outputs": []
    },
    {
      "cell_type": "markdown",
      "source": [
        "# Exercise 14.10: Irregular sampling"
      ],
      "metadata": {
        "id": "qz7JBjZSW8gg"
      }
    },
    {
      "cell_type": "code",
      "source": [
        "# x-axis values\n",
        "a,b = -2, 4\n",
        "N = 555\n",
        "xrand = np.random.uniform(low=a,high=b,size=N)\n",
        "xrand.sort()\n",
        "\n",
        "xreg = np.linspace(a,b,N)\n",
        "dxreg = xreg[1]-xreg[0]\n",
        "\n",
        "\n",
        "# the function\n",
        "x = sym.symbols('x')\n",
        "f = x**2 + sym.cos(x) + x\n",
        "f_lam = sym.lambdify(x,f)\n",
        "f_lam_rand = f_lam(xrand)\n",
        "f_lam_reg = f_lam(xreg)\n",
        "\n",
        "\n",
        "_,axs = plt.subplots(1,3,figsize=(12,3))\n",
        "\n",
        "axs[0].plot(xrand,'ko',label='Random x')\n",
        "axs[0].plot(xreg,'.',color=[.7,.7,.7],label='Regular x')\n",
        "axs[0].set(xlabel='Sample index',ylabel='x-axis value',title=r'$\\bf{A}$)  x-axis points')\n",
        "axs[0].legend()\n",
        "\n",
        "axs[1].plot(np.diff(xrand),'k.',label='Random x')\n",
        "axs[1].axhline(dxreg,color=[.7,.7,.7],linewidth=3,label='Regular x')\n",
        "axs[1].set(xlabel='Sample index',ylabel='dx',title=r'$\\bf{B}$)  dx values')\n",
        "axs[1].legend()\n",
        "\n",
        "axs[2].plot(xrand,f_lam_rand,'k',label='Random x')\n",
        "axs[2].plot(xreg[::50],f_lam_reg[::50],'o',color=[.7,.7,.7],label='Regular x')\n",
        "axs[2].legend()\n",
        "axs[2].set(xlabel='x',ylabel='y',title=r'$\\bf{C}$)  Function')\n",
        "\n",
        "plt.tight_layout()\n",
        "plt.savefig('intFuns_ex10.png')\n",
        "plt.show()"
      ],
      "metadata": {
        "id": "f6XO4zeGggcI"
      },
      "execution_count": null,
      "outputs": []
    },
    {
      "cell_type": "code",
      "source": [
        "# four integratation methods\n",
        "sym_int = sym.integrate(f,(x,a,b))\n",
        "rand_int = spi.simpson(f_lam_rand,x=xrand)\n",
        "reg_int_x = spi.simpson(f_lam_reg,x=xreg)\n",
        "reg_int_dx = spi.simpson(f_lam_reg,dx=dxreg)\n",
        "\n",
        "# and print the results\n",
        "print(f'sympy     : {sym_int.evalf():.8f}')\n",
        "print(f'x-reg (x) : {reg_int_x:.8f}')\n",
        "print(f'x-reg (dx): {reg_int_dx:.8f}')\n",
        "print(f'x-rand    : {rand_int:.8f}')"
      ],
      "metadata": {
        "id": "jlq9UWfXgglt"
      },
      "execution_count": null,
      "outputs": []
    },
    {
      "cell_type": "code",
      "source": [],
      "metadata": {
        "id": "sjfDTawmW8dY"
      },
      "execution_count": null,
      "outputs": []
    }
  ]
}